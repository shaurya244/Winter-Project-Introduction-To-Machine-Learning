{
 "cells": [
  {
   "cell_type": "code",
   "execution_count": 44,
   "id": "5499a779-729a-49ef-b614-fd93c9269d83",
   "metadata": {},
   "outputs": [],
   "source": [
    "import numpy as np\n",
    "import pandas as pd\n",
    "import matplotlib as mp\n",
    "import matplotlib.pyplot as plt"
   ]
  },
  {
   "cell_type": "code",
   "execution_count": 45,
   "id": "49480889-cd1a-4530-8097-b704e80241b3",
   "metadata": {},
   "outputs": [],
   "source": [
    "#Question 1"
   ]
  },
  {
   "cell_type": "code",
   "execution_count": 48,
   "id": "df62ce20-a4ff-47d3-81d0-acc2906f9c35",
   "metadata": {},
   "outputs": [],
   "source": [
    "arr = np.random.randint(1,100,(4,4,4))"
   ]
  },
  {
   "cell_type": "code",
   "execution_count": 50,
   "id": "b57fd950-63fb-4df1-be17-97c60aa00f2e",
   "metadata": {},
   "outputs": [
    {
     "name": "stdout",
     "output_type": "stream",
     "text": [
      "[[[99 26 12 52]\n",
      "  [49 64 11 54]\n",
      "  [23  9 62 22]\n",
      "  [67 28 23 63]]\n",
      "\n",
      " [[81 65 20 70]\n",
      "  [80 37  4 89]\n",
      "  [ 3 29 42 62]\n",
      "  [83 39 84 55]]\n",
      "\n",
      " [[ 1 39 96 25]\n",
      "  [54 25 15 25]\n",
      "  [43 37 44  5]\n",
      "  [29 56 53 70]]\n",
      "\n",
      " [[ 7 71 57 17]\n",
      "  [64 55 52 59]\n",
      "  [11 22 57 91]\n",
      "  [11 82 57 42]]]\n"
     ]
    }
   ],
   "source": [
    "print (arr)"
   ]
  },
  {
   "cell_type": "code",
   "execution_count": 52,
   "id": "ed8e6fbc-9f2d-4cec-ac72-3bbacc42340b",
   "metadata": {},
   "outputs": [],
   "source": [
    "z_scores = (arr - arr.mean()) / (arr.std())"
   ]
  },
  {
   "cell_type": "code",
   "execution_count": 54,
   "id": "a0545af0-ca6f-4ebf-838a-176a850e74d2",
   "metadata": {},
   "outputs": [
    {
     "name": "stdout",
     "output_type": "stream",
     "text": [
      "[[[ 2.07558234 -0.72948584 -1.26744412  0.26957954]\n",
      "  [ 0.15430277  0.73068664 -1.30586971  0.34643072]\n",
      "  [-0.84476261 -1.38272089  0.65383546 -0.8831882 ]\n",
      "  [ 0.84596341 -0.65263466 -0.84476261  0.69226105]]\n",
      "\n",
      " [[ 1.38392169  0.76911223 -0.96003939  0.96124019]\n",
      "  [ 1.3454961  -0.30680433 -1.57484885  1.69132643]\n",
      "  [-1.61327444 -0.61420906 -0.11467637  0.65383546]\n",
      "  [ 1.46077288 -0.22995315  1.49919847  0.38485631]]\n",
      "\n",
      " [[-1.69012563 -0.22995315  1.96030557 -0.76791143]\n",
      "  [ 0.34643072 -0.76791143 -1.15216735 -0.76791143]\n",
      "  [-0.07625078 -0.30680433 -0.03782519 -1.53642326]\n",
      "  [-0.61420906  0.42328191  0.30800513  0.96124019]]\n",
      "\n",
      " [[-1.45957208  0.99966578  0.4617075  -1.07531616]\n",
      "  [ 0.73068664  0.38485631  0.26957954  0.53855868]\n",
      "  [-1.30586971 -0.8831882   0.4617075   1.76817761]\n",
      "  [-1.30586971  1.42234729  0.4617075  -0.11467637]]]\n"
     ]
    }
   ],
   "source": [
    "print(z_scores)"
   ]
  },
  {
   "cell_type": "code",
   "execution_count": 56,
   "id": "0a47ecf6-9cc9-4560-be9c-e6e1ed7b4866",
   "metadata": {},
   "outputs": [],
   "source": [
    "#Question 2"
   ]
  },
  {
   "cell_type": "code",
   "execution_count": 58,
   "id": "8d08988c-dcc7-46bb-94b0-cb42148fa6f2",
   "metadata": {},
   "outputs": [],
   "source": [
    "from sklearn.datasets import load_iris"
   ]
  },
  {
   "cell_type": "code",
   "execution_count": 60,
   "id": "e08b2130-40e9-4383-ba0e-ae32b8395ba5",
   "metadata": {},
   "outputs": [],
   "source": [
    "df=load_iris()"
   ]
  },
  {
   "cell_type": "code",
   "execution_count": 62,
   "id": "d7911feb-fd2e-4644-b42f-047e2bebc39f",
   "metadata": {},
   "outputs": [],
   "source": [
    "dataset=pd.DataFrame(df.data)\n",
    "dataset.columns= df.feature_names"
   ]
  },
  {
   "cell_type": "code",
   "execution_count": 64,
   "id": "f60240b2-00ed-4aff-a45a-06cf7285f0e4",
   "metadata": {},
   "outputs": [
    {
     "data": {
      "text/html": [
       "<div>\n",
       "<style scoped>\n",
       "    .dataframe tbody tr th:only-of-type {\n",
       "        vertical-align: middle;\n",
       "    }\n",
       "\n",
       "    .dataframe tbody tr th {\n",
       "        vertical-align: top;\n",
       "    }\n",
       "\n",
       "    .dataframe thead th {\n",
       "        text-align: right;\n",
       "    }\n",
       "</style>\n",
       "<table border=\"1\" class=\"dataframe\">\n",
       "  <thead>\n",
       "    <tr style=\"text-align: right;\">\n",
       "      <th></th>\n",
       "      <th>sepal length (cm)</th>\n",
       "      <th>sepal width (cm)</th>\n",
       "      <th>petal length (cm)</th>\n",
       "      <th>petal width (cm)</th>\n",
       "    </tr>\n",
       "  </thead>\n",
       "  <tbody>\n",
       "    <tr>\n",
       "      <th>0</th>\n",
       "      <td>5.1</td>\n",
       "      <td>3.5</td>\n",
       "      <td>1.4</td>\n",
       "      <td>0.2</td>\n",
       "    </tr>\n",
       "    <tr>\n",
       "      <th>1</th>\n",
       "      <td>4.9</td>\n",
       "      <td>3.0</td>\n",
       "      <td>1.4</td>\n",
       "      <td>0.2</td>\n",
       "    </tr>\n",
       "    <tr>\n",
       "      <th>2</th>\n",
       "      <td>4.7</td>\n",
       "      <td>3.2</td>\n",
       "      <td>1.3</td>\n",
       "      <td>0.2</td>\n",
       "    </tr>\n",
       "    <tr>\n",
       "      <th>3</th>\n",
       "      <td>4.6</td>\n",
       "      <td>3.1</td>\n",
       "      <td>1.5</td>\n",
       "      <td>0.2</td>\n",
       "    </tr>\n",
       "    <tr>\n",
       "      <th>4</th>\n",
       "      <td>5.0</td>\n",
       "      <td>3.6</td>\n",
       "      <td>1.4</td>\n",
       "      <td>0.2</td>\n",
       "    </tr>\n",
       "    <tr>\n",
       "      <th>...</th>\n",
       "      <td>...</td>\n",
       "      <td>...</td>\n",
       "      <td>...</td>\n",
       "      <td>...</td>\n",
       "    </tr>\n",
       "    <tr>\n",
       "      <th>145</th>\n",
       "      <td>6.7</td>\n",
       "      <td>3.0</td>\n",
       "      <td>5.2</td>\n",
       "      <td>2.3</td>\n",
       "    </tr>\n",
       "    <tr>\n",
       "      <th>146</th>\n",
       "      <td>6.3</td>\n",
       "      <td>2.5</td>\n",
       "      <td>5.0</td>\n",
       "      <td>1.9</td>\n",
       "    </tr>\n",
       "    <tr>\n",
       "      <th>147</th>\n",
       "      <td>6.5</td>\n",
       "      <td>3.0</td>\n",
       "      <td>5.2</td>\n",
       "      <td>2.0</td>\n",
       "    </tr>\n",
       "    <tr>\n",
       "      <th>148</th>\n",
       "      <td>6.2</td>\n",
       "      <td>3.4</td>\n",
       "      <td>5.4</td>\n",
       "      <td>2.3</td>\n",
       "    </tr>\n",
       "    <tr>\n",
       "      <th>149</th>\n",
       "      <td>5.9</td>\n",
       "      <td>3.0</td>\n",
       "      <td>5.1</td>\n",
       "      <td>1.8</td>\n",
       "    </tr>\n",
       "  </tbody>\n",
       "</table>\n",
       "<p>150 rows × 4 columns</p>\n",
       "</div>"
      ],
      "text/plain": [
       "     sepal length (cm)  sepal width (cm)  petal length (cm)  petal width (cm)\n",
       "0                  5.1               3.5                1.4               0.2\n",
       "1                  4.9               3.0                1.4               0.2\n",
       "2                  4.7               3.2                1.3               0.2\n",
       "3                  4.6               3.1                1.5               0.2\n",
       "4                  5.0               3.6                1.4               0.2\n",
       "..                 ...               ...                ...               ...\n",
       "145                6.7               3.0                5.2               2.3\n",
       "146                6.3               2.5                5.0               1.9\n",
       "147                6.5               3.0                5.2               2.0\n",
       "148                6.2               3.4                5.4               2.3\n",
       "149                5.9               3.0                5.1               1.8\n",
       "\n",
       "[150 rows x 4 columns]"
      ]
     },
     "execution_count": 64,
     "metadata": {},
     "output_type": "execute_result"
    }
   ],
   "source": [
    "dataset"
   ]
  },
  {
   "cell_type": "code",
   "execution_count": 66,
   "id": "277775d9-478b-431d-a6ba-2165980a7541",
   "metadata": {},
   "outputs": [
    {
     "data": {
      "text/html": [
       "<div>\n",
       "<style scoped>\n",
       "    .dataframe tbody tr th:only-of-type {\n",
       "        vertical-align: middle;\n",
       "    }\n",
       "\n",
       "    .dataframe tbody tr th {\n",
       "        vertical-align: top;\n",
       "    }\n",
       "\n",
       "    .dataframe thead th {\n",
       "        text-align: right;\n",
       "    }\n",
       "</style>\n",
       "<table border=\"1\" class=\"dataframe\">\n",
       "  <thead>\n",
       "    <tr style=\"text-align: right;\">\n",
       "      <th></th>\n",
       "      <th>sepal length (cm)</th>\n",
       "      <th>sepal width (cm)</th>\n",
       "      <th>petal length (cm)</th>\n",
       "      <th>petal width (cm)</th>\n",
       "    </tr>\n",
       "  </thead>\n",
       "  <tbody>\n",
       "    <tr>\n",
       "      <th>50</th>\n",
       "      <td>7.0</td>\n",
       "      <td>3.2</td>\n",
       "      <td>4.7</td>\n",
       "      <td>1.4</td>\n",
       "    </tr>\n",
       "    <tr>\n",
       "      <th>51</th>\n",
       "      <td>6.4</td>\n",
       "      <td>3.2</td>\n",
       "      <td>4.5</td>\n",
       "      <td>1.5</td>\n",
       "    </tr>\n",
       "    <tr>\n",
       "      <th>52</th>\n",
       "      <td>6.9</td>\n",
       "      <td>3.1</td>\n",
       "      <td>4.9</td>\n",
       "      <td>1.5</td>\n",
       "    </tr>\n",
       "    <tr>\n",
       "      <th>53</th>\n",
       "      <td>5.5</td>\n",
       "      <td>2.3</td>\n",
       "      <td>4.0</td>\n",
       "      <td>1.3</td>\n",
       "    </tr>\n",
       "    <tr>\n",
       "      <th>54</th>\n",
       "      <td>6.5</td>\n",
       "      <td>2.8</td>\n",
       "      <td>4.6</td>\n",
       "      <td>1.5</td>\n",
       "    </tr>\n",
       "    <tr>\n",
       "      <th>...</th>\n",
       "      <td>...</td>\n",
       "      <td>...</td>\n",
       "      <td>...</td>\n",
       "      <td>...</td>\n",
       "    </tr>\n",
       "    <tr>\n",
       "      <th>145</th>\n",
       "      <td>6.7</td>\n",
       "      <td>3.0</td>\n",
       "      <td>5.2</td>\n",
       "      <td>2.3</td>\n",
       "    </tr>\n",
       "    <tr>\n",
       "      <th>146</th>\n",
       "      <td>6.3</td>\n",
       "      <td>2.5</td>\n",
       "      <td>5.0</td>\n",
       "      <td>1.9</td>\n",
       "    </tr>\n",
       "    <tr>\n",
       "      <th>147</th>\n",
       "      <td>6.5</td>\n",
       "      <td>3.0</td>\n",
       "      <td>5.2</td>\n",
       "      <td>2.0</td>\n",
       "    </tr>\n",
       "    <tr>\n",
       "      <th>148</th>\n",
       "      <td>6.2</td>\n",
       "      <td>3.4</td>\n",
       "      <td>5.4</td>\n",
       "      <td>2.3</td>\n",
       "    </tr>\n",
       "    <tr>\n",
       "      <th>149</th>\n",
       "      <td>5.9</td>\n",
       "      <td>3.0</td>\n",
       "      <td>5.1</td>\n",
       "      <td>1.8</td>\n",
       "    </tr>\n",
       "  </tbody>\n",
       "</table>\n",
       "<p>99 rows × 4 columns</p>\n",
       "</div>"
      ],
      "text/plain": [
       "     sepal length (cm)  sepal width (cm)  petal length (cm)  petal width (cm)\n",
       "50                 7.0               3.2                4.7               1.4\n",
       "51                 6.4               3.2                4.5               1.5\n",
       "52                 6.9               3.1                4.9               1.5\n",
       "53                 5.5               2.3                4.0               1.3\n",
       "54                 6.5               2.8                4.6               1.5\n",
       "..                 ...               ...                ...               ...\n",
       "145                6.7               3.0                5.2               2.3\n",
       "146                6.3               2.5                5.0               1.9\n",
       "147                6.5               3.0                5.2               2.0\n",
       "148                6.2               3.4                5.4               2.3\n",
       "149                5.9               3.0                5.1               1.8\n",
       "\n",
       "[99 rows x 4 columns]"
      ]
     },
     "execution_count": 66,
     "metadata": {},
     "output_type": "execute_result"
    }
   ],
   "source": [
    "dataset.loc[dataset['petal length (cm)']>3.0 , ['sepal length (cm)', 'sepal width (cm)', 'petal length (cm)', 'petal width (cm)']]"
   ]
  },
  {
   "cell_type": "code",
   "execution_count": 82,
   "id": "99d99384-5960-478a-a070-4082a77797be",
   "metadata": {},
   "outputs": [],
   "source": [
    "#Question 3"
   ]
  },
  {
   "cell_type": "code",
   "execution_count": 134,
   "id": "1f3dc436-45df-40cf-b36e-6afecac23707",
   "metadata": {},
   "outputs": [],
   "source": [
    "x = np.arange(1, 11)  # X-axis values (1 to 10)\n",
    "y1 = [2, 3, 5, 7, 11, 13, 17, 19, 23, 29]  # Y-axis values for line 1\n",
    "y2 = [1, 4, 6, 8, 10, 12, 14, 16, 18, 20]  # Y-axis values for line 2"
   ]
  },
  {
   "cell_type": "code",
   "execution_count": 136,
   "id": "719b26c6-98f9-4c6a-98c3-c6baa9c7e6fa",
   "metadata": {},
   "outputs": [
    {
     "data": {
      "text/plain": [
       "<Figure size 1000x600 with 0 Axes>"
      ]
     },
     "execution_count": 136,
     "metadata": {},
     "output_type": "execute_result"
    },
    {
     "data": {
      "text/plain": [
       "<Figure size 1000x600 with 0 Axes>"
      ]
     },
     "metadata": {},
     "output_type": "display_data"
    }
   ],
   "source": [
    "plt.figure(figsize=(10, 6))"
   ]
  },
  {
   "cell_type": "code",
   "execution_count": 158,
   "id": "79d327e6-5e41-4ec4-8bd4-a6d303521b39",
   "metadata": {},
   "outputs": [
    {
     "data": {
      "image/png": "[encoded data removed]",
      "text/plain": [
       "<Figure size 640x480 with 1 Axes>"
      ]
     },
     "metadata": {},
     "output_type": "display_data"
    }
   ],
   "source": [
    "line1, = plt.plot(x, y1, label='Prime Numbers', color='blue', linestyle='-', marker='o')\n",
    "line2, = plt.plot(x, y2, label='Even Numbers', color='green', linestyle='--', marker='x')\n",
    "plt.title('Trend of Numerical Dataset', fontsize=16)\n",
    "plt.xlabel('Index', fontsize=12)\n",
    "plt.ylabel('Values', fontsize=12)\n",
    "plt.legend(handles=[line1, line2], loc='upper left')\n",
    "plt.grid(True, linestyle='--')\n",
    "plt.show()"
   ]
  },
  {
   "cell_type": "code",
   "execution_count": 160,
   "id": "82c40648-f770-4604-993d-e523e57610c7",
   "metadata": {},
   "outputs": [],
   "source": [
    "#Question 4"
   ]
  },
  {
   "cell_type": "code",
   "execution_count": 180,
   "id": "4fc05136-e046-4e9f-9e8e-2192051a271e",
   "metadata": {},
   "outputs": [],
   "source": [
    "np.random.seed(42)\n",
    "data = {\n",
    "    'A': np.random.randint(1, 20, 5),\n",
    "    'B': np.random.randint(1, 20, 5),\n",
    "    'C': np.random.randint(1, 20, 5)\n",
    "}\n",
    "df=pd.DataFrame(data)"
   ]
  },
  {
   "cell_type": "code",
   "execution_count": 182,
   "id": "cc06eefc-62ed-4cd6-bb92-c3984c221859",
   "metadata": {},
   "outputs": [
    {
     "data": {
      "text/html": [
       "<div>\n",
       "<style scoped>\n",
       "    .dataframe tbody tr th:only-of-type {\n",
       "        vertical-align: middle;\n",
       "    }\n",
       "\n",
       "    .dataframe tbody tr th {\n",
       "        vertical-align: top;\n",
       "    }\n",
       "\n",
       "    .dataframe thead th {\n",
       "        text-align: right;\n",
       "    }\n",
       "</style>\n",
       "<table border=\"1\" class=\"dataframe\">\n",
       "  <thead>\n",
       "    <tr style=\"text-align: right;\">\n",
       "      <th></th>\n",
       "      <th>A</th>\n",
       "      <th>B</th>\n",
       "      <th>C</th>\n",
       "    </tr>\n",
       "  </thead>\n",
       "  <tbody>\n",
       "    <tr>\n",
       "      <th>0</th>\n",
       "      <td>7</td>\n",
       "      <td>19</td>\n",
       "      <td>3</td>\n",
       "    </tr>\n",
       "    <tr>\n",
       "      <th>1</th>\n",
       "      <td>15</td>\n",
       "      <td>11</td>\n",
       "      <td>2</td>\n",
       "    </tr>\n",
       "    <tr>\n",
       "      <th>2</th>\n",
       "      <td>11</td>\n",
       "      <td>11</td>\n",
       "      <td>12</td>\n",
       "    </tr>\n",
       "    <tr>\n",
       "      <th>3</th>\n",
       "      <td>8</td>\n",
       "      <td>4</td>\n",
       "      <td>6</td>\n",
       "    </tr>\n",
       "    <tr>\n",
       "      <th>4</th>\n",
       "      <td>7</td>\n",
       "      <td>8</td>\n",
       "      <td>2</td>\n",
       "    </tr>\n",
       "  </tbody>\n",
       "</table>\n",
       "</div>"
      ],
      "text/plain": [
       "    A   B   C\n",
       "0   7  19   3\n",
       "1  15  11   2\n",
       "2  11  11  12\n",
       "3   8   4   6\n",
       "4   7   8   2"
      ]
     },
     "execution_count": 182,
     "metadata": {},
     "output_type": "execute_result"
    }
   ],
   "source": [
    "df"
   ]
  },
  {
   "cell_type": "code",
   "execution_count": 184,
   "id": "3940bba9-0861-4f8d-8251-63887d2b037b",
   "metadata": {},
   "outputs": [
    {
     "data": {
      "text/html": [
       "<div>\n",
       "<style scoped>\n",
       "    .dataframe tbody tr th:only-of-type {\n",
       "        vertical-align: middle;\n",
       "    }\n",
       "\n",
       "    .dataframe tbody tr th {\n",
       "        vertical-align: top;\n",
       "    }\n",
       "\n",
       "    .dataframe thead th {\n",
       "        text-align: right;\n",
       "    }\n",
       "</style>\n",
       "<table border=\"1\" class=\"dataframe\">\n",
       "  <thead>\n",
       "    <tr style=\"text-align: right;\">\n",
       "      <th></th>\n",
       "      <th>A</th>\n",
       "      <th>B</th>\n",
       "      <th>C</th>\n",
       "    </tr>\n",
       "  </thead>\n",
       "  <tbody>\n",
       "    <tr>\n",
       "      <th>0</th>\n",
       "      <td>7.0</td>\n",
       "      <td>19.0</td>\n",
       "      <td>NaN</td>\n",
       "    </tr>\n",
       "    <tr>\n",
       "      <th>1</th>\n",
       "      <td>15.0</td>\n",
       "      <td>11.0</td>\n",
       "      <td>2.0</td>\n",
       "    </tr>\n",
       "    <tr>\n",
       "      <th>2</th>\n",
       "      <td>NaN</td>\n",
       "      <td>11.0</td>\n",
       "      <td>12.0</td>\n",
       "    </tr>\n",
       "    <tr>\n",
       "      <th>3</th>\n",
       "      <td>8.0</td>\n",
       "      <td>NaN</td>\n",
       "      <td>6.0</td>\n",
       "    </tr>\n",
       "    <tr>\n",
       "      <th>4</th>\n",
       "      <td>7.0</td>\n",
       "      <td>8.0</td>\n",
       "      <td>2.0</td>\n",
       "    </tr>\n",
       "  </tbody>\n",
       "</table>\n",
       "</div>"
      ],
      "text/plain": [
       "      A     B     C\n",
       "0   7.0  19.0   NaN\n",
       "1  15.0  11.0   2.0\n",
       "2   NaN  11.0  12.0\n",
       "3   8.0   NaN   6.0\n",
       "4   7.0   8.0   2.0"
      ]
     },
     "execution_count": 184,
     "metadata": {},
     "output_type": "execute_result"
    }
   ],
   "source": [
    "df.loc[2, 'A'] = np.nan\n",
    "df.loc[3, 'B'] = np.nan\n",
    "df.loc[0, 'C'] = np.nan\n",
    "df"
   ]
  },
  {
   "cell_type": "code",
   "execution_count": 186,
   "id": "ee0cfe28-22aa-425f-9c5d-99171bb9e3c6",
   "metadata": {},
   "outputs": [
    {
     "data": {
      "text/html": [
       "<div>\n",
       "<style scoped>\n",
       "    .dataframe tbody tr th:only-of-type {\n",
       "        vertical-align: middle;\n",
       "    }\n",
       "\n",
       "    .dataframe tbody tr th {\n",
       "        vertical-align: top;\n",
       "    }\n",
       "\n",
       "    .dataframe thead th {\n",
       "        text-align: right;\n",
       "    }\n",
       "</style>\n",
       "<table border=\"1\" class=\"dataframe\">\n",
       "  <thead>\n",
       "    <tr style=\"text-align: right;\">\n",
       "      <th></th>\n",
       "      <th>A</th>\n",
       "      <th>B</th>\n",
       "      <th>C</th>\n",
       "    </tr>\n",
       "  </thead>\n",
       "  <tbody>\n",
       "    <tr>\n",
       "      <th>0</th>\n",
       "      <td>7.00</td>\n",
       "      <td>19.00</td>\n",
       "      <td>5.5</td>\n",
       "    </tr>\n",
       "    <tr>\n",
       "      <th>1</th>\n",
       "      <td>15.00</td>\n",
       "      <td>11.00</td>\n",
       "      <td>2.0</td>\n",
       "    </tr>\n",
       "    <tr>\n",
       "      <th>2</th>\n",
       "      <td>9.25</td>\n",
       "      <td>11.00</td>\n",
       "      <td>12.0</td>\n",
       "    </tr>\n",
       "    <tr>\n",
       "      <th>3</th>\n",
       "      <td>8.00</td>\n",
       "      <td>12.25</td>\n",
       "      <td>6.0</td>\n",
       "    </tr>\n",
       "    <tr>\n",
       "      <th>4</th>\n",
       "      <td>7.00</td>\n",
       "      <td>8.00</td>\n",
       "      <td>2.0</td>\n",
       "    </tr>\n",
       "  </tbody>\n",
       "</table>\n",
       "</div>"
      ],
      "text/plain": [
       "       A      B     C\n",
       "0   7.00  19.00   5.5\n",
       "1  15.00  11.00   2.0\n",
       "2   9.25  11.00  12.0\n",
       "3   8.00  12.25   6.0\n",
       "4   7.00   8.00   2.0"
      ]
     },
     "execution_count": 186,
     "metadata": {},
     "output_type": "execute_result"
    }
   ],
   "source": [
    "df.fillna(df.mean(numeric_only=True), inplace=True)\n",
    "df"
   ]
  },
  {
   "cell_type": "code",
   "execution_count": 188,
   "id": "ff9770e8-8064-492f-ba96-6053965c566f",
   "metadata": {},
   "outputs": [
    {
     "data": {
      "text/html": [
       "<div>\n",
       "<style scoped>\n",
       "    .dataframe tbody tr th:only-of-type {\n",
       "        vertical-align: middle;\n",
       "    }\n",
       "\n",
       "    .dataframe tbody tr th {\n",
       "        vertical-align: top;\n",
       "    }\n",
       "\n",
       "    .dataframe thead th {\n",
       "        text-align: right;\n",
       "    }\n",
       "</style>\n",
       "<table border=\"1\" class=\"dataframe\">\n",
       "  <thead>\n",
       "    <tr style=\"text-align: right;\">\n",
       "      <th></th>\n",
       "      <th>A</th>\n",
       "      <th>B</th>\n",
       "      <th>C</th>\n",
       "    </tr>\n",
       "  </thead>\n",
       "  <tbody>\n",
       "    <tr>\n",
       "      <th>0</th>\n",
       "      <td>7.00</td>\n",
       "      <td>19.00</td>\n",
       "      <td>5.5</td>\n",
       "    </tr>\n",
       "    <tr>\n",
       "      <th>1</th>\n",
       "      <td>15.00</td>\n",
       "      <td>11.00</td>\n",
       "      <td>2.0</td>\n",
       "    </tr>\n",
       "    <tr>\n",
       "      <th>2</th>\n",
       "      <td>9.25</td>\n",
       "      <td>11.00</td>\n",
       "      <td>12.0</td>\n",
       "    </tr>\n",
       "    <tr>\n",
       "      <th>3</th>\n",
       "      <td>8.00</td>\n",
       "      <td>12.25</td>\n",
       "      <td>6.0</td>\n",
       "    </tr>\n",
       "    <tr>\n",
       "      <th>4</th>\n",
       "      <td>7.00</td>\n",
       "      <td>8.00</td>\n",
       "      <td>2.0</td>\n",
       "    </tr>\n",
       "  </tbody>\n",
       "</table>\n",
       "</div>"
      ],
      "text/plain": [
       "       A      B     C\n",
       "0   7.00  19.00   5.5\n",
       "1  15.00  11.00   2.0\n",
       "2   9.25  11.00  12.0\n",
       "3   8.00  12.25   6.0\n",
       "4   7.00   8.00   2.0"
      ]
     },
     "execution_count": 188,
     "metadata": {},
     "output_type": "execute_result"
    }
   ],
   "source": [
    "df_sorted = df.sort_values(by=['A', 'B'])\n",
    "df"
   ]
  },
  {
   "cell_type": "code",
   "execution_count": 190,
   "id": "88c1b270-34e6-42da-b2ed-5281df8a0dff",
   "metadata": {},
   "outputs": [],
   "source": [
    "#Question 5"
   ]
  },
  {
   "cell_type": "code",
   "execution_count": 198,
   "id": "bcb172bc-5837-4526-87ea-d8b2d35f974b",
   "metadata": {},
   "outputs": [],
   "source": [
    "matrix1 = np.array([[1, 2, 3],\n",
    "                    [4, 5, 6],\n",
    "                    [7, 8, 9]])\n",
    "\n",
    "matrix2 = np.array([[9, 8, 7],\n",
    "                    [6, 5, 4],\n",
    "                    [3, 2, 1]])\n",
    "matrix1 = np.array(matrix1, dtype=np.float64)\n",
    "matrix2 = np.array(matrix2, dtype=np.float64)"
   ]
  },
  {
   "cell_type": "code",
   "execution_count": 200,
   "id": "43264ff5-5aa6-4db9-8c3b-3f9c5d9d4226",
   "metadata": {},
   "outputs": [
    {
     "name": "stdout",
     "output_type": "stream",
     "text": [
      "[[ 30.  24.  18.]\n",
      " [ 84.  69.  54.]\n",
      " [138. 114.  90.]]\n"
     ]
    }
   ],
   "source": [
    "dot_product = np.dot(matrix1, matrix2)\n",
    "print(dot_product)"
   ]
  },
  {
   "cell_type": "code",
   "execution_count": 202,
   "id": "785f18a9-5ec9-45d1-be88-bb59b5faad39",
   "metadata": {},
   "outputs": [
    {
     "name": "stdout",
     "output_type": "stream",
     "text": [
      "-6.245438948613098e-13\n"
     ]
    }
   ],
   "source": [
    "determinant = np.linalg.det(dot_product)\n",
    "print(determinant)"
   ]
  },
  {
   "cell_type": "code",
   "execution_count": 204,
   "id": "82ff5369-1d51-4f82-9862-2a8e8c214a0f",
   "metadata": {},
   "outputs": [],
   "source": [
    "#Question 6"
   ]
  },
  {
   "cell_type": "code",
   "execution_count": 206,
   "id": "58a9f90c-db29-49c1-8e6a-26fca5e3d107",
   "metadata": {},
   "outputs": [
    {
     "data": {
      "text/html": [
       "<div>\n",
       "<style scoped>\n",
       "    .dataframe tbody tr th:only-of-type {\n",
       "        vertical-align: middle;\n",
       "    }\n",
       "\n",
       "    .dataframe tbody tr th {\n",
       "        vertical-align: top;\n",
       "    }\n",
       "\n",
       "    .dataframe thead th {\n",
       "        text-align: right;\n",
       "    }\n",
       "</style>\n",
       "<table border=\"1\" class=\"dataframe\">\n",
       "  <thead>\n",
       "    <tr style=\"text-align: right;\">\n",
       "      <th></th>\n",
       "      <th>Category</th>\n",
       "      <th>Values</th>\n",
       "    </tr>\n",
       "  </thead>\n",
       "  <tbody>\n",
       "    <tr>\n",
       "      <th>0</th>\n",
       "      <td>A</td>\n",
       "      <td>10</td>\n",
       "    </tr>\n",
       "    <tr>\n",
       "      <th>1</th>\n",
       "      <td>B</td>\n",
       "      <td>20</td>\n",
       "    </tr>\n",
       "    <tr>\n",
       "      <th>2</th>\n",
       "      <td>A</td>\n",
       "      <td>30</td>\n",
       "    </tr>\n",
       "    <tr>\n",
       "      <th>3</th>\n",
       "      <td>C</td>\n",
       "      <td>40</td>\n",
       "    </tr>\n",
       "    <tr>\n",
       "      <th>4</th>\n",
       "      <td>B</td>\n",
       "      <td>15</td>\n",
       "    </tr>\n",
       "    <tr>\n",
       "      <th>5</th>\n",
       "      <td>A</td>\n",
       "      <td>25</td>\n",
       "    </tr>\n",
       "    <tr>\n",
       "      <th>6</th>\n",
       "      <td>C</td>\n",
       "      <td>35</td>\n",
       "    </tr>\n",
       "    <tr>\n",
       "      <th>7</th>\n",
       "      <td>C</td>\n",
       "      <td>45</td>\n",
       "    </tr>\n",
       "    <tr>\n",
       "      <th>8</th>\n",
       "      <td>B</td>\n",
       "      <td>25</td>\n",
       "    </tr>\n",
       "    <tr>\n",
       "      <th>9</th>\n",
       "      <td>A</td>\n",
       "      <td>50</td>\n",
       "    </tr>\n",
       "  </tbody>\n",
       "</table>\n",
       "</div>"
      ],
      "text/plain": [
       "  Category  Values\n",
       "0        A      10\n",
       "1        B      20\n",
       "2        A      30\n",
       "3        C      40\n",
       "4        B      15\n",
       "5        A      25\n",
       "6        C      35\n",
       "7        C      45\n",
       "8        B      25\n",
       "9        A      50"
      ]
     },
     "execution_count": 206,
     "metadata": {},
     "output_type": "execute_result"
    }
   ],
   "source": [
    "data = {\n",
    "    'Category': ['A', 'B', 'A', 'C', 'B', 'A', 'C', 'C', 'B', 'A'],\n",
    "    'Values': [10, 20, 30, 40, 15, 25, 35, 45, 25, 50]\n",
    "}\n",
    "\n",
    "df = pd.DataFrame(data)\n",
    "df"
   ]
  },
  {
   "cell_type": "code",
   "execution_count": 208,
   "id": "514b9bde-9895-487e-add7-9d7a62990740",
   "metadata": {},
   "outputs": [],
   "source": [
    "grouped_sum = df.groupby('Category')['Values'].sum()"
   ]
  },
  {
   "cell_type": "code",
   "execution_count": 210,
   "id": "a00f075a-bba4-4f68-a223-ed75c0f521b2",
   "metadata": {},
   "outputs": [
    {
     "name": "stdout",
     "output_type": "stream",
     "text": [
      "Category\n",
      "A    115\n",
      "B     60\n",
      "C    120\n",
      "Name: Values, dtype: int64\n"
     ]
    }
   ],
   "source": [
    "print(grouped_sum)"
   ]
  },
  {
   "cell_type": "code",
   "execution_count": 212,
   "id": "d2a5697a-387f-40f3-aa14-a0bc1d55de5c",
   "metadata": {},
   "outputs": [],
   "source": [
    "#Question 7"
   ]
  },
  {
   "cell_type": "code",
   "execution_count": 218,
   "id": "2a1ee846-2839-4a5b-8ab8-6e2418549f25",
   "metadata": {},
   "outputs": [
    {
     "data": {
      "text/plain": [
       "array([33.92440136, 42.37275221, 42.3085765 , 40.60096899, 58.29474842,\n",
       "       48.06173861, 47.35485159, 29.96137636, 56.3541803 , 37.60741605,\n",
       "       50.5993263 , 52.77376938, 63.60658596, 36.91179601, 19.80487844,\n",
       "       51.83849545, 68.00511182, 62.38946353, 52.09659415, 45.08363814,\n",
       "       58.07122597, 40.264538  , 54.76357769, 55.05470159, 60.60209907,\n",
       "       77.59660039, 53.92415967, 44.91036374, 49.74425688, 32.30924095,\n",
       "       43.05286869, 45.90717562, 44.75911602, 51.52354872, 41.77580068,\n",
       "       61.21030667, 50.00207065, 49.90699679, 46.72105283, 51.55190684,\n",
       "       58.25098265, 41.32869784, 43.41883511, 46.96273971, 36.54129077,\n",
       "       41.8074214 , 45.23779126, 58.74389181, 52.62561329, 51.93589911,\n",
       "       58.50897962, 48.62628212, 53.9046485 , 48.96778247, 52.65362349,\n",
       "       44.17241342, 25.61182842, 48.65720838, 64.22748136, 59.26215402,\n",
       "       59.65397485, 62.36130722, 50.88657591, 51.97315707, 43.82348105,\n",
       "       46.83927144, 56.1577115 , 62.03884437, 48.60553724, 45.49810735,\n",
       "       50.00527959, 56.01206749, 35.56145184, 27.03819047, 44.49463151,\n",
       "       37.79287574, 44.91859802, 48.52219681, 45.46751591, 64.52467534,\n",
       "       53.26744765, 53.0047436 , 56.22207144, 38.61166882, 60.39111787,\n",
       "       49.24235713, 56.70480617, 39.28142767, 34.46241234, 58.17889658,\n",
       "       53.76409526, 40.97948446, 41.30336919, 61.25434784, 38.10588107,\n",
       "       66.42672953, 40.99379265, 56.38391926, 46.71381524, 56.03187431,\n",
       "       44.55885998, 48.37207094, 50.40919175, 39.97812544, 57.40824345,\n",
       "       44.86786434, 47.71400085, 40.05650625, 24.37666341, 48.08972237,\n",
       "       74.12615422, 57.84604288, 49.8073962 , 47.37109171, 50.22465893,\n",
       "       55.47119115, 38.19187185, 61.14321695, 57.15381315, 57.18185726,\n",
       "       54.38475739, 50.19616658, 56.72861236, 55.91814134, 46.45959289,\n",
       "       44.26398227, 51.01856295, 65.49020151, 37.60892924, 35.32474734,\n",
       "       51.64760841, 50.50887702, 51.73341664, 52.43953198, 47.76797745,\n",
       "       64.89863439, 33.99096022, 41.71502975, 48.9674524 , 33.56811189,\n",
       "       48.24145596, 66.61470166, 50.20886488, 52.30700906, 37.39835235,\n",
       "       43.83638592, 46.2480362 , 46.82284903, 62.81643795, 55.57691061,\n",
       "       38.88542043, 52.46504778, 54.98221748, 61.40149039, 65.80540687,\n",
       "       39.84905808, 41.89142489, 37.42422141, 47.65980141, 54.66358374,\n",
       "       59.87334517, 49.24048976, 46.80152477, 51.51757992, 41.64857098,\n",
       "       70.89538722, 33.92338973, 51.84740579, 70.23606219, 50.06799845,\n",
       "       48.09960965, 46.42554577, 48.19608318, 63.72848475, 27.88138089,\n",
       "       65.33433701, 35.76042848, 47.33347671, 45.7075558 , 55.8855327 ,\n",
       "       34.01875648, 54.62172666, 70.24309623, 36.36825995, 51.89706168,\n",
       "       43.38017822, 54.25887206, 50.19147777, 43.58513091, 54.87872285,\n",
       "       68.0434811 , 48.09096208, 57.19757942, 37.06727042, 40.43563623,\n",
       "       54.72406278, 64.84116029, 53.55613349, 46.86941969, 49.99291405,\n",
       "       37.49592266, 56.04515326, 58.82333062, 45.47909667, 45.29957852,\n",
       "       52.6587823 , 45.63280264, 49.33867385, 70.99721789, 47.52974299,\n",
       "       46.41659848, 43.52458194, 57.44191971, 48.18775827, 43.50626962,\n",
       "       63.21304032, 64.19603005, 43.99576434, 31.33460049, 60.0751369 ,\n",
       "       43.15370174, 57.90625599, 30.29896182, 58.92597338, 37.88828071,\n",
       "       57.30764119, 50.14273068, 40.46060581, 45.92963687, 56.86318457,\n",
       "       51.05894453, 55.8441298 , 69.76440585, 34.35758388, 66.17212575,\n",
       "       51.04355938, 41.01215952, 36.69686374, 48.10879609, 59.21650112,\n",
       "       48.7245088 , 65.1115493 , 35.4882431 , 49.87911052, 37.47606556,\n",
       "       53.63631883, 58.8688739 , 45.79238206, 23.95786143, 51.98948147,\n",
       "       54.36738552, 54.04294755, 62.35782192, 39.2894632 , 56.80216105,\n",
       "       61.92507512, 32.21412416, 53.19651826, 44.95820169, 49.18477327,\n",
       "       53.47676484, 45.12771436, 43.24291921, 50.34152417, 39.12754061,\n",
       "       39.14174871, 56.79373283, 38.51205965, 56.66312501, 54.62591293,\n",
       "       32.74193271, 43.22435348, 61.94109403, 40.18834469, 45.35595738,\n",
       "       54.62060893, 57.83390509, 47.48461114, 44.02489805, 64.22369862,\n",
       "       67.38899664, 59.78858051, 50.85318143, 41.91734278, 41.69555593,\n",
       "       55.22514105, 54.18398221, 64.01598593, 56.50450093, 34.96919698,\n",
       "       60.51947618, 40.01939373, 46.16028728, 52.50200206, 69.9566749 ,\n",
       "       81.09918556, 56.06723059, 48.16803381, 55.34505648, 58.87655426,\n",
       "       46.79332374, 67.95211356, 52.30070759, 54.97743089, 56.65924252,\n",
       "       54.21586611, 58.389405  , 43.82746813, 44.41698246, 38.99845767,\n",
       "       54.39501231, 57.78936504, 54.57772866, 66.74492433, 49.94403981,\n",
       "       56.68741656, 39.08299124, 46.12900298, 56.95537758, 58.49102111,\n",
       "       47.06033052, 49.28400748, 34.82126253, 46.42970799, 58.90383164,\n",
       "       55.75205016, 55.00665721, 50.49773687, 50.07063159, 43.39678861,\n",
       "       56.9882842 , 54.20972944, 54.92018848, 44.73965157, 28.4665708 ,\n",
       "       60.97152712, 45.21162544, 41.37224236, 56.93478912, 46.0798736 ,\n",
       "       60.59936384, 56.1700595 , 56.83569323, 36.34044289, 62.11943985,\n",
       "       52.61250531, 46.30722861, 51.43388467, 32.23764767, 54.08652811,\n",
       "       39.70628492, 36.47329714, 34.77640814, 61.12688375, 43.70736606,\n",
       "       65.3372771 , 44.64198537, 32.92642042, 38.8347556 , 62.3581162 ,\n",
       "       48.44101822, 44.51712704, 51.60018226, 55.01782736, 61.17398816,\n",
       "       64.4849923 , 46.40231354, 36.73952314, 45.86534839, 52.60280507,\n",
       "       40.36241074, 40.42849085, 53.43787882, 49.51347648, 50.32796995,\n",
       "       42.41504665, 47.69599286, 40.75766856, 58.90198411, 60.35249335,\n",
       "       31.53812138, 40.7048914 , 35.03470745, 43.49976066, 49.1656203 ,\n",
       "       35.5035478 , 40.78140187, 39.96042628, 52.07267329, 50.69344337,\n",
       "       42.78262447, 51.76820872, 44.53319915, 47.2834489 , 66.7345209 ,\n",
       "       63.40461052, 37.00418763, 58.29732418, 58.11396554, 38.51736711,\n",
       "       58.18777644, 65.37931918, 38.77455194, 40.82497179, 60.17661467,\n",
       "       52.71495311, 55.51476275, 53.40589216, 53.90695921, 36.73527872,\n",
       "       60.47317707, 61.69589992, 47.70609256, 49.5652305 , 34.68892497,\n",
       "       55.14254756, 55.72057442, 49.37808983, 61.2435336 , 46.65922769,\n",
       "       55.64605926, 39.80335661, 49.76447849, 48.25645742, 52.25307922,\n",
       "       46.30473071, 48.68527404, 58.26047171, 45.63235763, 33.93422899,\n",
       "       67.49583904, 63.81454079, 37.07737305, 56.89707805, 44.97025229,\n",
       "       52.63487215, 52.94224129, 47.655922  , 42.16234334, 43.09458948,\n",
       "       40.83808085, 41.68177792, 49.3282171 , 42.84240011, 56.82052066,\n",
       "       64.87246155, 44.19946759, 52.39404501, 54.9968511 , 54.72002271,\n",
       "       50.75955268, 57.42682418, 54.82248953, 37.62337578, 58.69156064,\n",
       "       58.87290837, 42.36713896, 50.37937835, 56.83328993, 47.9068618 ,\n",
       "       60.72978048, 73.63872495, 42.14013967, 36.18955397, 53.03818596,\n",
       "       57.21562505, 47.69133626, 64.53260663, 36.613942  , 56.92918623,\n",
       "       43.94139179, 67.19377906, 69.92515353, 42.33343412, 44.50442864,\n",
       "       58.59587887, 46.1286935 , 49.54588782, 50.25388421, 30.80326844,\n",
       "       49.86162254, 43.10272226, 45.06877178, 64.43632003, 37.43493106,\n",
       "       58.13205187, 47.2103707 , 47.20239832, 57.90371896, 53.40051295,\n",
       "       55.70612997, 59.68184661, 46.68691617, 43.87763265, 39.14849473,\n",
       "       41.7458947 , 79.49094425, 62.44679581, 36.48925634, 36.77542043,\n",
       "       54.81866062, 55.47264797, 55.48883835, 47.45044206, 48.7454574 ,\n",
       "       53.27879524, 50.85893006, 27.80699627, 47.70200369, 41.48593566,\n",
       "       51.75211419, 79.85259003, 53.67481665, 46.86470314, 59.21801502,\n",
       "       54.82687887, 54.2009449 , 56.06850593, 70.56543565, 38.69111565,\n",
       "       54.73632077, 40.7361887 , 55.55512646, 40.81313489, 45.82633186,\n",
       "       47.04910086, 59.75816719, 59.18454444, 37.54282624, 50.54934111,\n",
       "       42.90420145, 37.41495089, 47.8298295 , 46.91517212, 74.26716486,\n",
       "       54.32959825, 36.22382499, 44.35225996, 60.21383295, 70.88442773,\n",
       "       34.14016688, 31.20075615, 68.70965175, 53.89614177, 41.31707268,\n",
       "       55.34629086, 23.64252261, 50.03375507, 53.27821173, 59.2427014 ,\n",
       "       39.86104048, 50.85687161, 40.74575374, 52.55383756, 41.04653678,\n",
       "       45.91899161, 40.04184605, 56.51136242, 58.58451117, 47.6537943 ,\n",
       "       50.38237995, 35.51408585, 47.00323352, 49.49795383, 76.20793091,\n",
       "       38.88032974, 64.64177239, 59.96858773, 52.80636404, 67.58620484,\n",
       "       53.72105473, 53.89159196, 49.46879347, 62.23568882, 60.96469234,\n",
       "       43.74322713, 36.80752805, 47.97019363, 41.99961436, 49.36475425,\n",
       "       62.37438135, 45.42698345, 49.57176619, 50.58022735, 58.48430882,\n",
       "       27.53110666, 43.93299705, 52.11283692, 62.00078956, 45.08097552,\n",
       "       31.23447294, 56.19711446, 43.64637611, 38.10333341, 43.7565461 ,\n",
       "       48.15474642, 43.95255335, 27.94433943, 58.97066197, 62.74875041,\n",
       "       56.51521991, 38.6231433 , 47.98508466, 49.93478685, 55.9879439 ,\n",
       "       56.68340489, 42.65826201, 50.81995556, 54.57280405, 64.55822322,\n",
       "       57.0450654 , 57.89056687, 50.83826628, 64.10459145, 54.09762796,\n",
       "       41.3891209 , 64.0336997 , 56.97903273, 45.56955979, 45.20507033,\n",
       "       52.96575545, 54.63184795, 51.97292266, 53.11308673, 66.99957375,\n",
       "       60.71543152, 51.90635591, 59.41310581, 39.67476096, 53.9792705 ,\n",
       "       68.0930635 , 47.81954105, 41.52366071, 43.47911111, 39.10366963,\n",
       "       42.15238092, 46.29491901, 35.94432981, 50.15618334, 59.02277174,\n",
       "       40.9224382 , 65.19283924, 55.10792089, 60.30580586, 43.42165446,\n",
       "       58.54525227, 39.080661  , 58.90247501, 51.7183934 , 55.5325122 ,\n",
       "       38.24405394, 41.04930158, 55.97228218, 40.51651996, 54.63206292,\n",
       "       36.32862194, 58.48174213, 37.67476685, 55.52299938, 56.25630934,\n",
       "       43.03228182, 55.82026567, 52.60442263, 44.61158144, 39.91445316,\n",
       "       30.37374308, 53.49650047, 34.35197229, 50.95344199, 47.36551784,\n",
       "       56.79142775, 46.97954501, 46.70552214, 57.31870704, 53.35058029,\n",
       "       53.16155957, 54.6926759 , 34.64427877, 57.5678868 , 56.12468794,\n",
       "       39.83316871, 47.55919526, 49.60692712, 48.65503216, 53.33859967,\n",
       "       64.31366782, 60.81766728, 36.87780807, 56.2206999 , 63.2893332 ,\n",
       "       53.86808521, 60.90980425, 70.12270446, 60.23709546, 52.49308596,\n",
       "       60.45088474, 51.44887833, 50.23903043, 46.48585764, 65.63413359,\n",
       "       41.81571334, 65.32367725, 54.99864124, 36.00693825, 53.67649293,\n",
       "       28.99973492, 56.25508017, 58.85231483, 44.07644044, 51.23547696,\n",
       "       69.54157434, 44.94253296, 39.41092413, 64.81663402, 69.62587191,\n",
       "       50.03695672, 60.11463035, 63.41475916, 42.57515767, 45.14694165,\n",
       "       62.30874513, 66.85014279, 55.6288086 , 41.20185646, 69.87061112,\n",
       "       44.69029102, 46.64862219, 53.42337834, 65.54160421, 58.53975977,\n",
       "       54.148655  , 54.6328853 , 50.43514669, 55.58139515, 24.70439922,\n",
       "       47.03392541, 52.41321935, 38.48985916, 53.86323318, 47.95528779,\n",
       "       67.55475698, 65.73019725, 45.34194431, 48.49162288, 49.26052434,\n",
       "       45.48340524, 51.95024984, 42.41717931, 38.69384665, 56.22711224,\n",
       "       56.29529584, 41.9568424 , 58.95355431, 43.68422271, 52.53165238,\n",
       "       58.20344013, 49.66387435, 54.54740912, 44.83570356, 48.03533417,\n",
       "       47.94140569, 42.53421653, 48.23225837, 34.51381701, 45.08846253,\n",
       "       47.15124507, 47.43820248, 47.58502554, 49.382358  , 54.79441518,\n",
       "       58.74517074, 43.50234773, 37.96799145, 39.57955588, 45.12797079,\n",
       "       46.48078682, 42.30003934, 37.03883336, 45.43879173, 51.8142662 ,\n",
       "       55.95029466, 44.42576947, 45.87002178, 40.73301691, 49.6856083 ,\n",
       "       41.51571366, 55.73127813, 32.14133508, 46.40370328, 53.01107339,\n",
       "       51.83834516, 76.93033664, 53.49800025, 39.95945403, 49.04535753,\n",
       "       32.23753667, 49.19400251, 41.66943943, 59.15390276, 44.50459725,\n",
       "       48.83234084, 43.64442159, 67.38851352, 46.78757234, 68.32557043,\n",
       "       58.14151762, 54.82066727, 53.68733147, 53.93797298, 30.72327421,\n",
       "       47.21116606, 58.45157971, 49.51102817, 35.94810153, 49.47595549,\n",
       "       67.04105516, 62.46891716, 49.37995991, 59.51449277, 46.3349298 ,\n",
       "       32.96128413, 40.75534012, 65.62888769, 47.26006918, 47.56616021,\n",
       "       47.00161804, 69.0413659 , 66.25958915, 72.18780233, 48.4095479 ,\n",
       "       52.95624489, 34.83357451, 64.76934426, 38.32220449, 52.16775564,\n",
       "       39.02697472, 44.11133173, 41.62737569, 43.92124739, 44.60877297,\n",
       "       44.51731205, 58.33333912, 38.95137207, 52.20541427, 62.17959152,\n",
       "       44.86803635, 42.82081109, 47.69475375, 61.79725208, 51.94107631,\n",
       "       44.68785705, 54.83876651, 38.9770785 , 56.8135951 , 54.08607308,\n",
       "       46.92191529, 41.61414202, 41.13319078, 55.34817336, 62.28980502,\n",
       "       43.62692253, 54.58386704, 29.12972981, 44.15382269, 49.68941067,\n",
       "       40.90316583, 40.63493625, 43.32220444, 52.92192728, 48.12670982,\n",
       "       27.61768767, 28.79299847, 43.93134822, 54.57686586, 22.52495157,\n",
       "       45.00269824, 44.73752143, 63.88337778, 46.14978188, 53.82988985,\n",
       "       51.4125714 , 28.6943352 , 57.68207217, 52.15396505, 55.0826864 ,\n",
       "       89.26237706, 29.15887061, 67.2469665 , 47.12552481, 52.87328904,\n",
       "       49.54487755, 45.75763667, 44.30167072, 53.29508736, 34.82826303,\n",
       "       57.50579168, 45.83805595, 38.69930661, 45.49987142, 62.57149217,\n",
       "       44.64664913, 53.58453618, 42.69043724, 57.5792185 , 56.85507739,\n",
       "       68.48608833, 48.24436055, 56.68654805, 50.9806754 , 62.95871782,\n",
       "       42.81167612, 57.45005313, 48.05302704, 49.35811823, 50.91752484,\n",
       "       52.52240396, 48.83770957, 52.14713183, 65.78118058, 59.85449686,\n",
       "       58.69154592, 45.44460474, 41.10759172, 59.55300558, 58.76046793,\n",
       "       64.72670676, 43.96019374, 47.70451345, 33.60515837, 46.07528894,\n",
       "       59.96570511, 45.33504621, 56.40479795, 48.09496894, 53.24057028,\n",
       "       38.5230861 , 50.8520945 , 20.08864029, 48.13103842, 33.69526756,\n",
       "       62.05994517, 57.77407353, 54.66670982, 65.21006227, 40.51083479,\n",
       "       67.47363198, 59.32191564, 47.63444713, 61.35620147, 38.93706488,\n",
       "       41.75485838, 43.91410277, 44.71022292, 39.43442357, 62.23083067,\n",
       "       47.411456  , 53.52504968, 44.29648634, 31.79396699, 52.70057358,\n",
       "       30.87745025, 49.31365954, 36.31684961, 69.87275999, 59.11362722,\n",
       "       51.05753791, 62.63706678, 41.53684023, 55.43479379, 51.99810434,\n",
       "       52.64020081, 62.723535  , 57.32492103, 52.88723663, 33.45112564,\n",
       "       40.39953705, 48.77291066, 50.93372374, 38.69796275, 74.11676676,\n",
       "       65.16394055, 56.0211832 , 50.72036861, 47.8779103 , 40.4808154 ,\n",
       "       50.77480519, 52.5775254 , 37.58239425, 53.34176417, 48.44740951,\n",
       "       30.92192442, 41.39614989, 45.86394467, 68.87687657, 55.56553125,\n",
       "       36.64518431, 54.86036289, 34.52696011, 60.82691054, 45.28875348])"
      ]
     },
     "execution_count": 218,
     "metadata": {},
     "output_type": "execute_result"
    }
   ],
   "source": [
    "data = np.random.normal(loc=50, scale=10, size=1000)  # Mean=50, Std Dev=10, Size=1000\n",
    "data"
   ]
  },
  {
   "cell_type": "code",
   "execution_count": 220,
   "id": "5c0a2e8c-9be5-457f-bf6a-24f251fdedb7",
   "metadata": {},
   "outputs": [
    {
     "data": {
      "text/plain": [
       "(array([  3.,   5.,  13.,  23.,  50.,  75., 105., 132., 138., 118., 132.,\n",
       "         86.,  53.,  37.,  18.,   5.,   3.,   3.,   0.,   1.]),\n",
       " array([19.80487844, 23.27775337, 26.7506283 , 30.22350324, 33.69637817,\n",
       "        37.1692531 , 40.64212803, 44.11500296, 47.58787789, 51.06075282,\n",
       "        54.53362775, 58.00650268, 61.47937762, 64.95225255, 68.42512748,\n",
       "        71.89800241, 75.37087734, 78.84375227, 82.3166272 , 85.78950213,\n",
       "        89.26237706]),\n",
       " <BarContainer object of 20 artists>)"
      ]
     },
     "execution_count": 220,
     "metadata": {},
     "output_type": "execute_result"
    },
    {
     "data": {
      "image/png": "[encoded data removed]",
      "text/plain": [
       "<Figure size 640x480 with 1 Axes>"
      ]
     },
     "metadata": {},
     "output_type": "display_data"
    }
   ],
   "source": [
    "plt.hist(data, bins=20, color='skyblue', edgecolor='black', alpha=0.7)"
   ]
  },
  {
   "cell_type": "code",
   "execution_count": 226,
   "id": "58286014-ba63-4fc9-bd77-73b29cb88a24",
   "metadata": {},
   "outputs": [
    {
     "data": {
      "image/png": "[encoded data removed]",
      "text/plain": [
       "<Figure size 640x480 with 1 Axes>"
      ]
     },
     "metadata": {},
     "output_type": "display_data"
    }
   ],
   "source": [
    "plt.hist(data, bins=20, color='skyblue', edgecolor='black', alpha=0.7)\n",
    "plt.title(\"Distribution of Numerical Dataset\", fontsize=16)\n",
    "plt.xlabel(\"Value Range\", fontsize=12)\n",
    "plt.ylabel(\"Frequency\", fontsize=12)\n",
    "plt.grid(True, linestyle='--', alpha=0.6)\n",
    "plt.show()"
   ]
  },
  {
   "cell_type": "code",
   "execution_count": 228,
   "id": "14b13605-d53f-46d7-8745-d6446348cccf",
   "metadata": {},
   "outputs": [],
   "source": [
    "#Question 8"
   ]
  },
  {
   "cell_type": "code",
   "execution_count": 232,
   "id": "b19fe7ca-8264-4d81-acfc-fe04425ca352",
   "metadata": {},
   "outputs": [
    {
     "data": {
      "text/plain": [
       "array([[ 1,  2,  3,  4],\n",
       "       [ 5,  6,  7,  8],\n",
       "       [ 9, 10, 11, 12],\n",
       "       [13, 14, 15, 16]])"
      ]
     },
     "execution_count": 232,
     "metadata": {},
     "output_type": "execute_result"
    }
   ],
   "source": [
    "array_2d = np.arange(1, 17).reshape(4, 4)\n",
    "array_2d"
   ]
  },
  {
   "cell_type": "code",
   "execution_count": 236,
   "id": "d137b1aa-8de6-4ec0-b278-16f8ae5ecd74",
   "metadata": {},
   "outputs": [
    {
     "data": {
      "text/plain": [
       "array([[ 7,  8],\n",
       "       [11, 12]])"
      ]
     },
     "execution_count": 236,
     "metadata": {},
     "output_type": "execute_result"
    }
   ],
   "source": [
    "sub_array = array_2d[1:3, 2:4]\n",
    "sub_array"
   ]
  },
  {
   "cell_type": "code",
   "execution_count": 238,
   "id": "3af21675-dca2-49e0-8585-36afefa78b6b",
   "metadata": {},
   "outputs": [],
   "source": [
    "#Question 9"
   ]
  },
  {
   "cell_type": "code",
   "execution_count": 240,
   "id": "c6471d30-41fa-42dc-9309-72ae39ffe69e",
   "metadata": {},
   "outputs": [],
   "source": [
    "df1 = pd.DataFrame({\n",
    "    'ID': [1, 2, 3, 4],\n",
    "    'Name': ['Alice', 'Bob', 'Charlie', 'David'],\n",
    "    'Score': [85, 90, 78, 88]\n",
    "})\n",
    "df2 = pd.DataFrame({\n",
    "    'ID': [3, 4, 5, 6],\n",
    "    'Subject': ['Math', 'Science', 'History', 'English'],\n",
    "    'Grade': ['B', 'A', 'C', 'B+']\n",
    "})"
   ]
  },
  {
   "cell_type": "code",
   "execution_count": 242,
   "id": "db27db94-380e-40e5-8bbd-75a887381512",
   "metadata": {},
   "outputs": [
    {
     "data": {
      "text/html": [
       "<div>\n",
       "<style scoped>\n",
       "    .dataframe tbody tr th:only-of-type {\n",
       "        vertical-align: middle;\n",
       "    }\n",
       "\n",
       "    .dataframe tbody tr th {\n",
       "        vertical-align: top;\n",
       "    }\n",
       "\n",
       "    .dataframe thead th {\n",
       "        text-align: right;\n",
       "    }\n",
       "</style>\n",
       "<table border=\"1\" class=\"dataframe\">\n",
       "  <thead>\n",
       "    <tr style=\"text-align: right;\">\n",
       "      <th></th>\n",
       "      <th>ID</th>\n",
       "      <th>Name</th>\n",
       "      <th>Score</th>\n",
       "      <th>Subject</th>\n",
       "      <th>Grade</th>\n",
       "    </tr>\n",
       "  </thead>\n",
       "  <tbody>\n",
       "    <tr>\n",
       "      <th>0</th>\n",
       "      <td>3</td>\n",
       "      <td>Charlie</td>\n",
       "      <td>78</td>\n",
       "      <td>Math</td>\n",
       "      <td>B</td>\n",
       "    </tr>\n",
       "    <tr>\n",
       "      <th>1</th>\n",
       "      <td>4</td>\n",
       "      <td>David</td>\n",
       "      <td>88</td>\n",
       "      <td>Science</td>\n",
       "      <td>A</td>\n",
       "    </tr>\n",
       "  </tbody>\n",
       "</table>\n",
       "</div>"
      ],
      "text/plain": [
       "   ID     Name  Score  Subject Grade\n",
       "0   3  Charlie     78     Math     B\n",
       "1   4    David     88  Science     A"
      ]
     },
     "execution_count": 242,
     "metadata": {},
     "output_type": "execute_result"
    }
   ],
   "source": [
    "merged_df = pd.merge(df1, df2, on='ID', how='inner')\n",
    "merged_df"
   ]
  },
  {
   "cell_type": "code",
   "execution_count": 244,
   "id": "6d32ede7-f743-4c3b-a94f-dd438bfd7a95",
   "metadata": {},
   "outputs": [],
   "source": [
    "#Question 10"
   ]
  },
  {
   "cell_type": "code",
   "execution_count": 246,
   "id": "a93555ca-8a51-4ce6-a659-9d255dbffe58",
   "metadata": {},
   "outputs": [],
   "source": [
    "np.random.seed(42)\n",
    "x = np.random.rand(50) * 100\n",
    "y = np.random.rand(50) * 50"
   ]
  },
  {
   "cell_type": "code",
   "execution_count": 248,
   "id": "76159c19-c2b7-468a-9597-1052f91855bb",
   "metadata": {},
   "outputs": [
    {
     "data": {
      "text/plain": [
       "<matplotlib.collections.PathCollection at 0x1c3800801a0>"
      ]
     },
     "execution_count": 248,
     "metadata": {},
     "output_type": "execute_result"
    },
    {
     "data": {
      "image/png": "[encoded data removed]",
      "text/plain": [
       "<Figure size 800x600 with 1 Axes>"
      ]
     },
     "metadata": {},
     "output_type": "display_data"
    }
   ],
   "source": [
    "plt.figure(figsize=(8, 6))\n",
    "plt.scatter(x, y, c='purple', marker='s', edgecolors='black', s=100, alpha=0.7, label='Data Points')"
   ]
  },
  {
   "cell_type": "code",
   "execution_count": 252,
   "id": "fe23f63d-467d-401d-98d1-4700de61fad9",
   "metadata": {},
   "outputs": [
    {
     "data": {
      "image/png": "[encoded data removed]",
      "text/plain": [
       "<Figure size 800x600 with 1 Axes>"
      ]
     },
     "metadata": {},
     "output_type": "display_data"
    }
   ],
   "source": [
    "plt.figure(figsize=(8, 6))\n",
    "plt.scatter(x, y, c='blue', marker='o', label='points', s=100, edgecolors='black')\n",
    "plt.title('Scatter Plot Comparing Two Variables', fontsize=16)\n",
    "plt.xlabel('Variable 1', fontsize=12)\n",
    "plt.ylabel('Variable 2', fontsize=12)\n",
    "plt.legend(loc='upper left')\n",
    "plt.grid(True, linestyle='--', alpha=0.6)\n",
    "plt.show()"
   ]
  },
  {
   "cell_type": "code",
   "execution_count": null,
   "id": "0b05171b-17fe-4a46-8229-7c79fef2f32b",
   "metadata": {},
   "outputs": [],
   "source": []
  }
 ],
 "metadata": {
  "kernelspec": {
   "display_name": "Python 3 (ipykernel)",
   "language": "python",
   "name": "python3"
  },
  "language_info": {
   "codemirror_mode": {
    "name": "ipython",
    "version": 3
   },
   "file_extension": ".py",
   "mimetype": "text/x-python",
   "name": "python",
   "nbconvert_exporter": "python",
   "pygments_lexer": "ipython3",
   "version": "3.12.4"
  }
 },
 "nbformat": 4,
 "nbformat_minor": 5
}
