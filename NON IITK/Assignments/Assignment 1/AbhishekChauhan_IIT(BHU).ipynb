{
 "cells": [
  {
   "cell_type": "markdown",
   "id": "a7d0d077-dfe4-4db4-b632-ae5eba739f21",
   "metadata": {},
   "source": [
    "<center> <h1>Assignment 1</h1> </center>"
   ]
  },
  {
   "cell_type": "code",
   "execution_count": 1,
   "id": "a466d7ce-7958-4d74-af51-13d481c997c9",
   "metadata": {},
   "outputs": [],
   "source": [
    "import numpy as np\n",
    "import pandas as pd\n",
    "\n",
    "import matplotlib as mp\n",
    "import matplotlib.pyplot as plt\n",
    "\n",
    "%matplotlib inline"
   ]
  },
  {
   "cell_type": "markdown",
   "id": "b4a6ae2b-9f43-4d1b-a866-2f27985529be",
   "metadata": {},
   "source": [
    "## Q1) Using NumPy, create a 3D array of shape (4, 4, 4) filled with random numbers between 1 and 100. \n",
    "## Find the z score normalisation of each element of the array.\n"
   ]
  },
  {
   "cell_type": "code",
   "execution_count": 26,
   "id": "e38c74d5-3150-47e0-984a-d1153bfaa6c6",
   "metadata": {},
   "outputs": [
    {
     "name": "stdout",
     "output_type": "stream",
     "text": [
      "[[[15 74  3 79]\n",
      "  [ 6 28 26  6]\n",
      "  [10 72 98 21]\n",
      "  [17 99  1 68]]\n",
      "\n",
      " [[14 80 14 11]\n",
      "  [16 14 42 73]\n",
      "  [62 34  4 30]\n",
      "  [11 21 94 77]]\n",
      "\n",
      " [[ 5 86 58 32]\n",
      "  [87 46 58 57]\n",
      "  [54 42 15 10]\n",
      "  [33 47 29 45]]\n",
      "\n",
      " [[ 8 60 70  3]\n",
      "  [44  2 29 74]\n",
      "  [40 10  9 72]\n",
      "  [21 29 24  1]]]\n",
      "----------------------------------------------------------------------\n",
      "Z score normalization is\n",
      "\n",
      "\n",
      "[[[-0.79534666  1.2616595  -1.2137208   1.43598206]\n",
      "  [-1.10912726 -0.34210802 -0.41183704 -1.10912726]\n",
      "  [-0.96966922  1.19193048  2.09840777 -0.5861596 ]\n",
      "  [-0.72561764  2.13327228 -1.28344982  1.05247243]]\n",
      "\n",
      " [[-0.83021117  1.47084657 -0.83021117 -0.93480471]\n",
      "  [-0.76048215 -0.83021117  0.14599514  1.22679499]\n",
      "  [ 0.84328537 -0.13292095 -1.17885629 -0.27237899]\n",
      "  [-0.93480471 -0.5861596   1.95894973  1.36625304]]\n",
      "\n",
      " [[-1.14399178  1.68003364  0.70382732 -0.20264997]\n",
      "  [ 1.71489815  0.28545319  0.70382732  0.66896281]\n",
      "  [ 0.56436928  0.14599514 -0.79534666 -0.96966922]\n",
      "  [-0.16778546  0.3203177  -0.30724351  0.25058867]]\n",
      "\n",
      " [[-1.03939824  0.77355634  1.12220146 -1.2137208 ]\n",
      "  [ 0.21572416 -1.24858531 -0.30724351  1.2616595 ]\n",
      "  [ 0.07626612 -0.96966922 -1.00453373  1.19193048]\n",
      "  [-0.5861596  -0.30724351 -0.48156606 -1.28344982]]]\n"
     ]
    }
   ],
   "source": [
    "arr=np.random.randint(1,100,(4,4,4))\n",
    "print(arr)\n",
    "print('-'*70)\n",
    "\n",
    "# z score normalization formula is (data-mean)/standard_deviation\n",
    "mean=np.mean(arr)\n",
    "stddev=np.std(arr)\n",
    "z=(arr-mean)/stddev\n",
    "print(\"Z score normalization is\")\n",
    "print(\"\\n\")\n",
    "print(z)\n",
    "\n"
   ]
  },
  {
   "cell_type": "markdown",
   "id": "c7b476b5-6145-4d5a-a6bf-837d3311de62",
   "metadata": {},
   "source": [
    "## Q2) Using Pandas, filter the rows in the Iris dataset where the petal length is greater than 3.0, and display the filtered data "
   ]
  },
  {
   "cell_type": "code",
   "execution_count": 44,
   "id": "30e93846-3a21-4e67-9de7-fc73583bcb9e",
   "metadata": {},
   "outputs": [
    {
     "name": "stdout",
     "output_type": "stream",
     "text": [
      "data with petal length greater than 3 cm are\n",
      "\n"
     ]
    },
    {
     "data": {
      "text/html": [
       "<div>\n",
       "<style scoped>\n",
       "    .dataframe tbody tr th:only-of-type {\n",
       "        vertical-align: middle;\n",
       "    }\n",
       "\n",
       "    .dataframe tbody tr th {\n",
       "        vertical-align: top;\n",
       "    }\n",
       "\n",
       "    .dataframe thead th {\n",
       "        text-align: right;\n",
       "    }\n",
       "</style>\n",
       "<table border=\"1\" class=\"dataframe\">\n",
       "  <thead>\n",
       "    <tr style=\"text-align: right;\">\n",
       "      <th></th>\n",
       "      <th>sepal length (cm)</th>\n",
       "      <th>sepal width (cm)</th>\n",
       "      <th>petal length (cm)</th>\n",
       "      <th>petal width (cm)</th>\n",
       "    </tr>\n",
       "  </thead>\n",
       "  <tbody>\n",
       "    <tr>\n",
       "      <th>50</th>\n",
       "      <td>7.0</td>\n",
       "      <td>3.2</td>\n",
       "      <td>4.7</td>\n",
       "      <td>1.4</td>\n",
       "    </tr>\n",
       "    <tr>\n",
       "      <th>51</th>\n",
       "      <td>6.4</td>\n",
       "      <td>3.2</td>\n",
       "      <td>4.5</td>\n",
       "      <td>1.5</td>\n",
       "    </tr>\n",
       "    <tr>\n",
       "      <th>52</th>\n",
       "      <td>6.9</td>\n",
       "      <td>3.1</td>\n",
       "      <td>4.9</td>\n",
       "      <td>1.5</td>\n",
       "    </tr>\n",
       "    <tr>\n",
       "      <th>53</th>\n",
       "      <td>5.5</td>\n",
       "      <td>2.3</td>\n",
       "      <td>4.0</td>\n",
       "      <td>1.3</td>\n",
       "    </tr>\n",
       "    <tr>\n",
       "      <th>54</th>\n",
       "      <td>6.5</td>\n",
       "      <td>2.8</td>\n",
       "      <td>4.6</td>\n",
       "      <td>1.5</td>\n",
       "    </tr>\n",
       "    <tr>\n",
       "      <th>...</th>\n",
       "      <td>...</td>\n",
       "      <td>...</td>\n",
       "      <td>...</td>\n",
       "      <td>...</td>\n",
       "    </tr>\n",
       "    <tr>\n",
       "      <th>145</th>\n",
       "      <td>6.7</td>\n",
       "      <td>3.0</td>\n",
       "      <td>5.2</td>\n",
       "      <td>2.3</td>\n",
       "    </tr>\n",
       "    <tr>\n",
       "      <th>146</th>\n",
       "      <td>6.3</td>\n",
       "      <td>2.5</td>\n",
       "      <td>5.0</td>\n",
       "      <td>1.9</td>\n",
       "    </tr>\n",
       "    <tr>\n",
       "      <th>147</th>\n",
       "      <td>6.5</td>\n",
       "      <td>3.0</td>\n",
       "      <td>5.2</td>\n",
       "      <td>2.0</td>\n",
       "    </tr>\n",
       "    <tr>\n",
       "      <th>148</th>\n",
       "      <td>6.2</td>\n",
       "      <td>3.4</td>\n",
       "      <td>5.4</td>\n",
       "      <td>2.3</td>\n",
       "    </tr>\n",
       "    <tr>\n",
       "      <th>149</th>\n",
       "      <td>5.9</td>\n",
       "      <td>3.0</td>\n",
       "      <td>5.1</td>\n",
       "      <td>1.8</td>\n",
       "    </tr>\n",
       "  </tbody>\n",
       "</table>\n",
       "<p>99 rows × 4 columns</p>\n",
       "</div>"
      ],
      "text/plain": [
       "     sepal length (cm)  sepal width (cm)  petal length (cm)  petal width (cm)\n",
       "50                 7.0               3.2                4.7               1.4\n",
       "51                 6.4               3.2                4.5               1.5\n",
       "52                 6.9               3.1                4.9               1.5\n",
       "53                 5.5               2.3                4.0               1.3\n",
       "54                 6.5               2.8                4.6               1.5\n",
       "..                 ...               ...                ...               ...\n",
       "145                6.7               3.0                5.2               2.3\n",
       "146                6.3               2.5                5.0               1.9\n",
       "147                6.5               3.0                5.2               2.0\n",
       "148                6.2               3.4                5.4               2.3\n",
       "149                5.9               3.0                5.1               1.8\n",
       "\n",
       "[99 rows x 4 columns]"
      ]
     },
     "execution_count": 44,
     "metadata": {},
     "output_type": "execute_result"
    }
   ],
   "source": [
    "from sklearn.datasets import load_iris\n",
    "iris = load_iris()\n",
    "df=pd.DataFrame(data=iris.data,columns=iris.feature_names)\n",
    "df\n",
    "print(\"data with petal length greater than 3 cm are\\n\")\n",
    "df.loc[df['petal length (cm)']>3]"
   ]
  },
  {
   "cell_type": "markdown",
   "id": "a9494f7f-77e7-4b63-ae88-482c90033328",
   "metadata": {},
   "source": [
    "## Q3) Using Matplotlib, plot a line graph showing the trend of a numerical dataset. Customize the plot with title, axis labels, and a legend."
   ]
  },
  {
   "cell_type": "code",
   "execution_count": 8,
   "id": "e9369b5f-0e25-46c8-8068-46c9e452b902",
   "metadata": {},
   "outputs": [
    {
     "data": {
      "image/png": "[encoded data removed]",
      "text/plain": [
       "<Figure size 640x480 with 1 Axes>"
      ]
     },
     "metadata": {},
     "output_type": "display_data"
    }
   ],
   "source": [
    "Month = ['Jan','Feb','Mar', 'Apr', 'May', 'Jun', 'Jul', 'Aug', 'Sept', 'Oct', 'Nov', 'Dec']\n",
    "Sales = [120, 150, 170, 200, 220, 260, 300, 280, 310, 350, 380, 400]\n",
    "\n",
    "plt.plot(Month, Sales, label='Monthly Sales')\n",
    "plt.legend(loc='upper left')\n",
    "plt.title('Sales')\n",
    "plt.xlabel('Month')\n",
    "plt.ylabel('Monthly Sale')\n",
    "\n",
    "plt.show()\n"
   ]
  },
  {
   "cell_type": "markdown",
   "id": "9ae6ee72-f015-4268-8961-09c3890a509f",
   "metadata": {},
   "source": [
    "## Q4) Create a Pandas DataFrame with random values with at least 3 columns and perform the following operations: \n",
    "### (i) Replace NaN values with the mean of the column. \n",
    "### (ii) Sort the DataFrame based on any two columns."
   ]
  },
  {
   "cell_type": "code",
   "execution_count": 99,
   "id": "2c153a75-d27a-4cba-abc9-8ddfa7849fcc",
   "metadata": {},
   "outputs": [
    {
     "name": "stdout",
     "output_type": "stream",
     "text": [
      "     one    two  three   four\n",
      "0   12.0  166.0  106.0    NaN\n",
      "1    NaN   20.0    2.0   20.0\n",
      "2  243.0   34.0    NaN  303.0\n",
      "3   44.0    NaN   92.0   54.0\n",
      "4   65.0  550.0  450.0   44.0\n",
      "5    NaN   16.0    5.0   67.0\n",
      "6   72.0   70.0   78.0  120.0\n",
      "7    8.0   11.0    NaN  230.0\n",
      "8   90.0    9.0   98.0    8.0\n",
      "9  150.0  100.0   12.0    NaN\n",
      "--------------------------------------------------\n",
      "Mean of 1st column is : 85.5\n",
      "Mean of 2nd column is : 108.44444444444444\n",
      "Mean of 3rd column is : 105.375\n",
      "Mean of 4th column is : 105.75\n",
      "\n",
      "\n",
      "The Dataframe with NaN replaced with mean is\n"
     ]
    },
    {
     "data": {
      "text/html": [
       "<div>\n",
       "<style scoped>\n",
       "    .dataframe tbody tr th:only-of-type {\n",
       "        vertical-align: middle;\n",
       "    }\n",
       "\n",
       "    .dataframe tbody tr th {\n",
       "        vertical-align: top;\n",
       "    }\n",
       "\n",
       "    .dataframe thead th {\n",
       "        text-align: right;\n",
       "    }\n",
       "</style>\n",
       "<table border=\"1\" class=\"dataframe\">\n",
       "  <thead>\n",
       "    <tr style=\"text-align: right;\">\n",
       "      <th></th>\n",
       "      <th>one</th>\n",
       "      <th>two</th>\n",
       "      <th>three</th>\n",
       "      <th>four</th>\n",
       "    </tr>\n",
       "  </thead>\n",
       "  <tbody>\n",
       "    <tr>\n",
       "      <th>0</th>\n",
       "      <td>12.0</td>\n",
       "      <td>166.000000</td>\n",
       "      <td>106.000</td>\n",
       "      <td>105.75</td>\n",
       "    </tr>\n",
       "    <tr>\n",
       "      <th>1</th>\n",
       "      <td>85.5</td>\n",
       "      <td>20.000000</td>\n",
       "      <td>2.000</td>\n",
       "      <td>20.00</td>\n",
       "    </tr>\n",
       "    <tr>\n",
       "      <th>2</th>\n",
       "      <td>243.0</td>\n",
       "      <td>34.000000</td>\n",
       "      <td>105.375</td>\n",
       "      <td>303.00</td>\n",
       "    </tr>\n",
       "    <tr>\n",
       "      <th>3</th>\n",
       "      <td>44.0</td>\n",
       "      <td>108.444444</td>\n",
       "      <td>92.000</td>\n",
       "      <td>54.00</td>\n",
       "    </tr>\n",
       "    <tr>\n",
       "      <th>4</th>\n",
       "      <td>65.0</td>\n",
       "      <td>550.000000</td>\n",
       "      <td>450.000</td>\n",
       "      <td>44.00</td>\n",
       "    </tr>\n",
       "    <tr>\n",
       "      <th>5</th>\n",
       "      <td>85.5</td>\n",
       "      <td>16.000000</td>\n",
       "      <td>5.000</td>\n",
       "      <td>67.00</td>\n",
       "    </tr>\n",
       "    <tr>\n",
       "      <th>6</th>\n",
       "      <td>72.0</td>\n",
       "      <td>70.000000</td>\n",
       "      <td>78.000</td>\n",
       "      <td>120.00</td>\n",
       "    </tr>\n",
       "    <tr>\n",
       "      <th>7</th>\n",
       "      <td>8.0</td>\n",
       "      <td>11.000000</td>\n",
       "      <td>105.375</td>\n",
       "      <td>230.00</td>\n",
       "    </tr>\n",
       "    <tr>\n",
       "      <th>8</th>\n",
       "      <td>90.0</td>\n",
       "      <td>9.000000</td>\n",
       "      <td>98.000</td>\n",
       "      <td>8.00</td>\n",
       "    </tr>\n",
       "    <tr>\n",
       "      <th>9</th>\n",
       "      <td>150.0</td>\n",
       "      <td>100.000000</td>\n",
       "      <td>12.000</td>\n",
       "      <td>105.75</td>\n",
       "    </tr>\n",
       "  </tbody>\n",
       "</table>\n",
       "</div>"
      ],
      "text/plain": [
       "     one         two    three    four\n",
       "0   12.0  166.000000  106.000  105.75\n",
       "1   85.5   20.000000    2.000   20.00\n",
       "2  243.0   34.000000  105.375  303.00\n",
       "3   44.0  108.444444   92.000   54.00\n",
       "4   65.0  550.000000  450.000   44.00\n",
       "5   85.5   16.000000    5.000   67.00\n",
       "6   72.0   70.000000   78.000  120.00\n",
       "7    8.0   11.000000  105.375  230.00\n",
       "8   90.0    9.000000   98.000    8.00\n",
       "9  150.0  100.000000   12.000  105.75"
      ]
     },
     "execution_count": 99,
     "metadata": {},
     "output_type": "execute_result"
    }
   ],
   "source": [
    "data = { 'one'   : pd.Series([12, np.nan, 243, 44, 65, np.nan, 72, 8, 90, 150]),\n",
    "         'two'   : pd.Series([166, 20, 34, np.nan, 550, 16, 70, 11, 9, 100]),\n",
    "         'three' : pd.Series([106, 2, np.nan, 92, 450, 5, 78, np.nan, 98, 12]),\n",
    "         'four'  : pd.Series([np.nan, 20, 303, 54, 44, 67, 120, 230, 8, np.nan])}\n",
    "#We have taken random values and will create a DataFrame with it\n",
    "df=pd.DataFrame(data)\n",
    "print(df)\n",
    "print('-'*50)\n",
    "\n",
    "print(\"Mean of 1st column is :\", df['one'].mean())\n",
    "print(\"Mean of 2nd column is :\", df['two'].mean())\n",
    "print(\"Mean of 3rd column is :\", df['three'].mean())\n",
    "print(\"Mean of 4th column is :\", df['four'].mean())\n",
    "print(\"\\n\")\n",
    "print(\"The Dataframe with NaN replaced with mean is\")\n",
    "\n",
    "df['one']=df['one'].fillna(df['one'].mean())\n",
    "df['two']=df['two'].fillna(df['two'].mean())\n",
    "df['three']=df['three'].fillna(df['three'].mean())\n",
    "df['four']=df['four'].fillna(df['four'].mean())\n",
    "\n",
    "df\n",
    "\n"
   ]
  },
  {
   "cell_type": "code",
   "execution_count": 107,
   "id": "c8324008-9e23-4ec9-8f71-ff14915d5bf6",
   "metadata": {},
   "outputs": [
    {
     "data": {
      "text/html": [
       "<div>\n",
       "<style scoped>\n",
       "    .dataframe tbody tr th:only-of-type {\n",
       "        vertical-align: middle;\n",
       "    }\n",
       "\n",
       "    .dataframe tbody tr th {\n",
       "        vertical-align: top;\n",
       "    }\n",
       "\n",
       "    .dataframe thead th {\n",
       "        text-align: right;\n",
       "    }\n",
       "</style>\n",
       "<table border=\"1\" class=\"dataframe\">\n",
       "  <thead>\n",
       "    <tr style=\"text-align: right;\">\n",
       "      <th></th>\n",
       "      <th>one</th>\n",
       "      <th>two</th>\n",
       "      <th>three</th>\n",
       "      <th>four</th>\n",
       "    </tr>\n",
       "  </thead>\n",
       "  <tbody>\n",
       "    <tr>\n",
       "      <th>8</th>\n",
       "      <td>90.0</td>\n",
       "      <td>9.000000</td>\n",
       "      <td>98.000</td>\n",
       "      <td>8.00</td>\n",
       "    </tr>\n",
       "    <tr>\n",
       "      <th>7</th>\n",
       "      <td>8.0</td>\n",
       "      <td>11.000000</td>\n",
       "      <td>105.375</td>\n",
       "      <td>230.00</td>\n",
       "    </tr>\n",
       "    <tr>\n",
       "      <th>5</th>\n",
       "      <td>85.5</td>\n",
       "      <td>16.000000</td>\n",
       "      <td>5.000</td>\n",
       "      <td>67.00</td>\n",
       "    </tr>\n",
       "    <tr>\n",
       "      <th>1</th>\n",
       "      <td>85.5</td>\n",
       "      <td>20.000000</td>\n",
       "      <td>2.000</td>\n",
       "      <td>20.00</td>\n",
       "    </tr>\n",
       "    <tr>\n",
       "      <th>2</th>\n",
       "      <td>243.0</td>\n",
       "      <td>34.000000</td>\n",
       "      <td>105.375</td>\n",
       "      <td>303.00</td>\n",
       "    </tr>\n",
       "    <tr>\n",
       "      <th>6</th>\n",
       "      <td>72.0</td>\n",
       "      <td>70.000000</td>\n",
       "      <td>78.000</td>\n",
       "      <td>120.00</td>\n",
       "    </tr>\n",
       "    <tr>\n",
       "      <th>9</th>\n",
       "      <td>150.0</td>\n",
       "      <td>100.000000</td>\n",
       "      <td>12.000</td>\n",
       "      <td>105.75</td>\n",
       "    </tr>\n",
       "    <tr>\n",
       "      <th>3</th>\n",
       "      <td>44.0</td>\n",
       "      <td>108.444444</td>\n",
       "      <td>92.000</td>\n",
       "      <td>54.00</td>\n",
       "    </tr>\n",
       "    <tr>\n",
       "      <th>0</th>\n",
       "      <td>12.0</td>\n",
       "      <td>166.000000</td>\n",
       "      <td>106.000</td>\n",
       "      <td>105.75</td>\n",
       "    </tr>\n",
       "    <tr>\n",
       "      <th>4</th>\n",
       "      <td>65.0</td>\n",
       "      <td>550.000000</td>\n",
       "      <td>450.000</td>\n",
       "      <td>44.00</td>\n",
       "    </tr>\n",
       "  </tbody>\n",
       "</table>\n",
       "</div>"
      ],
      "text/plain": [
       "     one         two    three    four\n",
       "8   90.0    9.000000   98.000    8.00\n",
       "7    8.0   11.000000  105.375  230.00\n",
       "5   85.5   16.000000    5.000   67.00\n",
       "1   85.5   20.000000    2.000   20.00\n",
       "2  243.0   34.000000  105.375  303.00\n",
       "6   72.0   70.000000   78.000  120.00\n",
       "9  150.0  100.000000   12.000  105.75\n",
       "3   44.0  108.444444   92.000   54.00\n",
       "0   12.0  166.000000  106.000  105.75\n",
       "4   65.0  550.000000  450.000   44.00"
      ]
     },
     "execution_count": 107,
     "metadata": {},
     "output_type": "execute_result"
    }
   ],
   "source": [
    "#Sorting the dataframes on the basis of 2 columns\n",
    "\n",
    "#lets sort by 'two' and 'three'\n",
    "df.sort_values(by = ['two','three'])"
   ]
  },
  {
   "cell_type": "markdown",
   "id": "9d4bdcb7-c0bf-49ef-8a3b-e427ca5324cc",
   "metadata": {},
   "source": [
    "## Q5) Using NumPy, calculate the dot product of two matrices and find the determinant of the resulting matrix."
   ]
  },
  {
   "cell_type": "code",
   "execution_count": 41,
   "id": "cd314d35-817e-4659-9472-1f5c1569e323",
   "metadata": {},
   "outputs": [
    {
     "name": "stdout",
     "output_type": "stream",
     "text": [
      "Arr1 is:\n",
      "[[7 6 7]\n",
      " [1 2 4]\n",
      " [5 7 7]]\n",
      "Arr2 is:\n",
      "[[2 4 6]\n",
      " [3 9 2]\n",
      " [4 2 3]]\n",
      "Dot product is is:\n",
      "[[60 96 75]\n",
      " [24 30 22]\n",
      " [59 97 65]]\n",
      "Determinant of dotp is : 5658.000000000003\n"
     ]
    }
   ],
   "source": [
    "arr1=np.random.randint(1,10,(3,3))\n",
    "arr2=np.random.randint(1,10,(3,3))\n",
    "print(\"Arr1 is:\")\n",
    "print(arr1)\n",
    "print(\"Arr2 is:\")\n",
    "print(arr2)\n",
    "\n",
    "print(\"Dot product is is:\")\n",
    "dotp=np.dot(arr1,arr2)\n",
    "print(dotp)\n",
    "\n",
    "#dotp is the dot product of the two matrices\n",
    "\n",
    "determinant = np.linalg.det(dotp)\n",
    "print(\"Determinant of dotp is :\", determinant)"
   ]
  },
  {
   "cell_type": "markdown",
   "id": "cd3ad20d-8e40-474a-9cef-2f543955f4de",
   "metadata": {},
   "source": [
    "## Q6) With Pandas, group a DataFrame by a categorical column and calculate the sum of another numerical column for each group."
   ]
  },
  {
   "cell_type": "code",
   "execution_count": 121,
   "id": "caa1d2a7-7777-4cc4-8c4d-52902735b749",
   "metadata": {},
   "outputs": [
    {
     "data": {
      "text/plain": [
       "{'Australia': [2, 3], 'India': [0, 1, 11], 'New Zealand': [8, 9, 10], 'South Africa': [4, 5, 6, 7]}"
      ]
     },
     "execution_count": 121,
     "metadata": {},
     "output_type": "execute_result"
    }
   ],
   "source": [
    "#Taken a cricket data set\n",
    "cricket = {'Team'   : ['India', 'India', 'Australia', 'Australia', 'South Africa', 'South Africa', 'South Africa', 'South Africa', \n",
    "                       'New Zealand', 'New Zealand', 'New Zealand', 'India'],\n",
    "           'Rank'   : [2,3,1,2,3,4,1,1,2,4,1,2],\n",
    "           'Year'   : [2014,2015,2014,2015,2014,2015,2016,2017,2016,2014,2015,2017],\n",
    "           'Points' : [876,801,891,815,776,784,834,824,758,691,883,782]}\n",
    "df=pd.DataFrame(cricket)\n",
    "df.groupby('Team').groups\n",
    "\n"
   ]
  },
  {
   "cell_type": "code",
   "execution_count": 122,
   "id": "2f45aecd-d3aa-4479-97a1-f15d5504264e",
   "metadata": {},
   "outputs": [
    {
     "data": {
      "text/plain": [
       "Team\n",
       "Australia       1706\n",
       "India           2459\n",
       "New Zealand     2332\n",
       "South Africa    3218\n",
       "Name: Points, dtype: int64"
      ]
     },
     "execution_count": 122,
     "metadata": {},
     "output_type": "execute_result"
    }
   ],
   "source": [
    "#Sum by column Points\n",
    "df.groupby('Team').sum()['Points']"
   ]
  },
  {
   "cell_type": "markdown",
   "id": "1c91feb2-2c41-4ecf-b584-3f3164cb3144",
   "metadata": {},
   "source": [
    "## Q7) Using Matplotlib, create a histogram to show the distribution of a numerical dataset. Customize the number of bins and add grid lines for better readability."
   ]
  },
  {
   "cell_type": "code",
   "execution_count": 29,
   "id": "f10078cc-fe4d-4cc0-b442-79a1f8c27880",
   "metadata": {},
   "outputs": [
    {
     "data": {
      "image/png": "[encoded data removed]",
      "text/plain": [
       "<Figure size 640x480 with 1 Axes>"
      ]
     },
     "metadata": {},
     "output_type": "display_data"
    }
   ],
   "source": [
    "#Randomly created dataset\n",
    "data = np.random.randn(100000)\n",
    "plt.grid()\n",
    "\n",
    "plt.hist(data, bins=50, color='green' )\n",
    "plt.show()"
   ]
  },
  {
   "cell_type": "code",
   "execution_count": 32,
   "id": "12fdb24a-76db-4260-8ac0-1da37d30bf06",
   "metadata": {},
   "outputs": [
    {
     "data": {
      "image/png": "[encoded data removed]",
      "text/plain": [
       "<Figure size 640x480 with 1 Axes>"
      ]
     },
     "metadata": {},
     "output_type": "display_data"
    }
   ],
   "source": [
    "#Using iris data set from scikit-learn\n",
    "from sklearn.datasets import load_iris\n",
    "iris=load_iris()\n",
    "datas = iris.data\n",
    "plt.grid()\n",
    "\n",
    "plt.hist(datas, bins =50)\n",
    "\n",
    "\n",
    "plt.show()"
   ]
  },
  {
   "cell_type": "markdown",
   "id": "c2c90be1-d4b9-46d0-99ae-41fb7291787e",
   "metadata": {},
   "source": [
    "## Q8) Using NumPy, create a 2D array and perform a slicing operation to extract a specific sub-array."
   ]
  },
  {
   "cell_type": "code",
   "execution_count": 42,
   "id": "b6490e40-7bf0-4745-92f2-337aba895cb1",
   "metadata": {},
   "outputs": [
    {
     "name": "stdout",
     "output_type": "stream",
     "text": [
      "[[ 9 25 31  6  2]\n",
      " [40 22 24  5 29]\n",
      " [43 22 19 16 47]\n",
      " [26 27 14 46 48]]\n",
      "----------------------------------------------------------------------\n"
     ]
    },
    {
     "data": {
      "text/plain": [
       "array([[22, 24,  5],\n",
       "       [22, 19, 16]], dtype=int32)"
      ]
     },
     "execution_count": 42,
     "metadata": {},
     "output_type": "execute_result"
    }
   ],
   "source": [
    "arr = np.random.randint(1,50,(4,5))\n",
    "print(arr)\n",
    "print('-'*70)\n",
    "\n",
    "#slicing row 2-3 and column 2-4\n",
    "arr[1:3,1:4]\n",
    "                        "
   ]
  },
  {
   "cell_type": "markdown",
   "id": "c0109d4f-9056-4a58-a2dd-2bba53af8df7",
   "metadata": {},
   "source": [
    "## Q9) Using Pandas, perform a merge operation between two DataFrames based on a common column for dataset of your choice."
   ]
  },
  {
   "cell_type": "code",
   "execution_count": 131,
   "id": "ea14fea9-8048-4d7b-8359-f1559bce4739",
   "metadata": {},
   "outputs": [
    {
     "name": "stdout",
     "output_type": "stream",
     "text": [
      "   a  b   c\n",
      "0  1  2   3\n",
      "1  3  4  45\n",
      "--------------------\n",
      "   c  d\n",
      "0  5  6\n",
      "1  7  8\n",
      "--------------------\n"
     ]
    },
    {
     "data": {
      "text/html": [
       "<div>\n",
       "<style scoped>\n",
       "    .dataframe tbody tr th:only-of-type {\n",
       "        vertical-align: middle;\n",
       "    }\n",
       "\n",
       "    .dataframe tbody tr th {\n",
       "        vertical-align: top;\n",
       "    }\n",
       "\n",
       "    .dataframe thead th {\n",
       "        text-align: right;\n",
       "    }\n",
       "</style>\n",
       "<table border=\"1\" class=\"dataframe\">\n",
       "  <thead>\n",
       "    <tr style=\"text-align: right;\">\n",
       "      <th></th>\n",
       "      <th>a</th>\n",
       "      <th>b</th>\n",
       "      <th>c</th>\n",
       "      <th>d</th>\n",
       "    </tr>\n",
       "  </thead>\n",
       "  <tbody>\n",
       "    <tr>\n",
       "      <th>0</th>\n",
       "      <td>1.0</td>\n",
       "      <td>2.0</td>\n",
       "      <td>3</td>\n",
       "      <td>NaN</td>\n",
       "    </tr>\n",
       "    <tr>\n",
       "      <th>1</th>\n",
       "      <td>3.0</td>\n",
       "      <td>4.0</td>\n",
       "      <td>45</td>\n",
       "      <td>NaN</td>\n",
       "    </tr>\n",
       "    <tr>\n",
       "      <th>2</th>\n",
       "      <td>NaN</td>\n",
       "      <td>NaN</td>\n",
       "      <td>5</td>\n",
       "      <td>6.0</td>\n",
       "    </tr>\n",
       "    <tr>\n",
       "      <th>3</th>\n",
       "      <td>NaN</td>\n",
       "      <td>NaN</td>\n",
       "      <td>7</td>\n",
       "      <td>8.0</td>\n",
       "    </tr>\n",
       "  </tbody>\n",
       "</table>\n",
       "</div>"
      ],
      "text/plain": [
       "     a    b   c    d\n",
       "0  1.0  2.0   3  NaN\n",
       "1  3.0  4.0  45  NaN\n",
       "2  NaN  NaN   5  6.0\n",
       "3  NaN  NaN   7  8.0"
      ]
     },
     "execution_count": 131,
     "metadata": {},
     "output_type": "execute_result"
    }
   ],
   "source": [
    "df_1 = pd.DataFrame([[1, 2, 3], [3, 4, 45]], columns=['a', 'b', 'c'])\n",
    "df_2 = pd.DataFrame([[5, 6], [7, 8]], columns=['c', 'd'])\n",
    "df_3 = pd.concat([df_1,df_2], ignore_index=True)\n",
    "print(df_1)\n",
    "print('-'*20)\n",
    "print(df_2)\n",
    "print('-'*20)\n",
    "df_3"
   ]
  },
  {
   "cell_type": "markdown",
   "id": "f664996f-f649-4e80-8b42-2f98940b3e51",
   "metadata": {},
   "source": [
    "## Q10) Using Matplotlib, create a scatter plot comparing two numerical variables in the dataset of your choice. Customize the plot by changing the color and shape of the data points."
   ]
  },
  {
   "cell_type": "code",
   "execution_count": 40,
   "id": "bb991547-d985-4eac-9c39-8d0c48ca2386",
   "metadata": {},
   "outputs": [
    {
     "data": {
      "image/png": "[encoded data removed]",
      "text/plain": [
       "<Figure size 640x480 with 1 Axes>"
      ]
     },
     "metadata": {},
     "output_type": "display_data"
    }
   ],
   "source": [
    "#Taken random data sets with 200 values\n",
    "x = np.random.randn(200)\n",
    "y = np.random.randn(200)\n",
    "\n",
    "plt.scatter(x, y, c='blue', alpha = 0.6, s=30)\n",
    "\n",
    "plt.show()\n",
    "            "
   ]
  },
  {
   "cell_type": "code",
   "execution_count": null,
   "id": "b996b9cb-a1ae-47f5-956e-117295b6a235",
   "metadata": {},
   "outputs": [],
   "source": []
  }
 ],
 "metadata": {
  "kernelspec": {
   "display_name": "Python 3 (ipykernel)",
   "language": "python",
   "name": "python3"
  },
  "language_info": {
   "codemirror_mode": {
    "name": "ipython",
    "version": 3
   },
   "file_extension": ".py",
   "mimetype": "text/x-python",
   "name": "python",
   "nbconvert_exporter": "python",
   "pygments_lexer": "ipython3",
   "version": "3.13.1"
  }
 },
 "nbformat": 4,
 "nbformat_minor": 5
}
