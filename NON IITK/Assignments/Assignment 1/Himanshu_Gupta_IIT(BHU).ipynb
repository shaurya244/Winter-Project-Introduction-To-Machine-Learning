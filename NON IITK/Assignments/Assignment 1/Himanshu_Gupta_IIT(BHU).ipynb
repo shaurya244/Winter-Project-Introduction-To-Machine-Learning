{
 "cells": [
  {
   "cell_type": "code",
   "execution_count": 5,
   "id": "4fbd773d-6462-49ea-b1a4-b063d17614d9",
   "metadata": {},
   "outputs": [],
   "source": [
    "import numpy as np\n",
    "import pandas as pd\n",
    "import matplotlib as mp\n",
    "import matplotlib.pyplot as plt"
   ]
  },
  {
   "cell_type": "markdown",
   "id": "a8bde9cc-61f4-4725-a46c-89613eebde24",
   "metadata": {},
   "source": [
    "QUESTION 1"
   ]
  },
  {
   "cell_type": "code",
   "execution_count": 8,
   "id": "0baf354d-c71e-43f9-b534-508475bdd5c8",
   "metadata": {},
   "outputs": [
    {
     "name": "stdout",
     "output_type": "stream",
     "text": [
      "[[[78 74 12  1]\n",
      "  [25  5 24 43]\n",
      "  [52 78 37 32]\n",
      "  [ 8 83 12 65]]\n",
      "\n",
      " [[ 1 50 53 48]\n",
      "  [25 66  8 26]\n",
      "  [22 69 38 33]\n",
      "  [21 89 35 54]]\n",
      "\n",
      " [[15 86 41 79]\n",
      "  [17 16 89 19]\n",
      "  [12 74 27 94]\n",
      "  [88  6 58 81]]\n",
      "\n",
      " [[94 20 35 70]\n",
      "  [72 79 33 67]\n",
      "  [52 80 86 59]\n",
      "  [ 5 62 56 86]]]\n"
     ]
    }
   ],
   "source": [
    "arr = np.random.randint(1,100,(4,4,4))\n",
    "print(arr)"
   ]
  },
  {
   "cell_type": "code",
   "execution_count": 10,
   "id": "6a84f673-d9d7-4506-8989-b2348eb0a9dc",
   "metadata": {},
   "outputs": [
    {
     "name": "stdout",
     "output_type": "stream",
     "text": [
      "[[[ 1.07899619  0.93856761 -1.23807545 -1.62425406]\n",
      "  [-0.78168255 -1.48382547 -0.8167897  -0.14975392]\n",
      "  [ 0.16621039  1.07899619 -0.3603968  -0.53593253]\n",
      "  [-1.37850403  1.25453192 -1.23807545  0.62260329]]\n",
      "\n",
      " [[-1.62425406  0.0959961   0.20131754  0.02578181]\n",
      "  [-0.78168255  0.65771044 -1.37850403 -0.7465754 ]\n",
      "  [-0.88700399  0.76303188 -0.32528965 -0.50082538]\n",
      "  [-0.92211113  1.4651748  -0.43061109  0.23642469]]\n",
      "\n",
      " [[-1.13275401  1.35985336 -0.21996821  1.11410334]\n",
      "  [-1.06253972 -1.09764687  1.4651748  -0.99232543]\n",
      "  [-1.23807545  0.93856761 -0.71146826  1.64071053]\n",
      "  [ 1.43006766 -1.44871833  0.37685327  1.18431763]]\n",
      "\n",
      " [[ 1.64071053 -0.95721828 -0.43061109  0.79813903]\n",
      "  [ 0.86835332  1.11410334 -0.50082538  0.69281759]\n",
      "  [ 0.16621039  1.14921049  1.35985336  0.41196042]\n",
      "  [-1.48382547  0.51728186  0.30663898  1.35985336]]]\n"
     ]
    }
   ],
   "source": [
    "z_scores = (arr - arr.mean()) / (arr.std())\n",
    "print(z_scores)"
   ]
  },
  {
   "cell_type": "markdown",
   "id": "e5d9349f-9969-4865-a2e7-99d7f608f562",
   "metadata": {},
   "source": [
    "QUESTION 2"
   ]
  },
  {
   "cell_type": "code",
   "execution_count": 13,
   "id": "42ec2fb3-173a-436d-bf63-bfa89f4daca6",
   "metadata": {},
   "outputs": [
    {
     "data": {
      "text/html": [
       "<div>\n",
       "<style scoped>\n",
       "    .dataframe tbody tr th:only-of-type {\n",
       "        vertical-align: middle;\n",
       "    }\n",
       "\n",
       "    .dataframe tbody tr th {\n",
       "        vertical-align: top;\n",
       "    }\n",
       "\n",
       "    .dataframe thead th {\n",
       "        text-align: right;\n",
       "    }\n",
       "</style>\n",
       "<table border=\"1\" class=\"dataframe\">\n",
       "  <thead>\n",
       "    <tr style=\"text-align: right;\">\n",
       "      <th></th>\n",
       "      <th>sepal length (cm)</th>\n",
       "      <th>sepal width (cm)</th>\n",
       "      <th>petal length (cm)</th>\n",
       "      <th>petal width (cm)</th>\n",
       "    </tr>\n",
       "  </thead>\n",
       "  <tbody>\n",
       "    <tr>\n",
       "      <th>0</th>\n",
       "      <td>5.1</td>\n",
       "      <td>3.5</td>\n",
       "      <td>1.4</td>\n",
       "      <td>0.2</td>\n",
       "    </tr>\n",
       "    <tr>\n",
       "      <th>1</th>\n",
       "      <td>4.9</td>\n",
       "      <td>3.0</td>\n",
       "      <td>1.4</td>\n",
       "      <td>0.2</td>\n",
       "    </tr>\n",
       "    <tr>\n",
       "      <th>2</th>\n",
       "      <td>4.7</td>\n",
       "      <td>3.2</td>\n",
       "      <td>1.3</td>\n",
       "      <td>0.2</td>\n",
       "    </tr>\n",
       "    <tr>\n",
       "      <th>3</th>\n",
       "      <td>4.6</td>\n",
       "      <td>3.1</td>\n",
       "      <td>1.5</td>\n",
       "      <td>0.2</td>\n",
       "    </tr>\n",
       "    <tr>\n",
       "      <th>4</th>\n",
       "      <td>5.0</td>\n",
       "      <td>3.6</td>\n",
       "      <td>1.4</td>\n",
       "      <td>0.2</td>\n",
       "    </tr>\n",
       "    <tr>\n",
       "      <th>...</th>\n",
       "      <td>...</td>\n",
       "      <td>...</td>\n",
       "      <td>...</td>\n",
       "      <td>...</td>\n",
       "    </tr>\n",
       "    <tr>\n",
       "      <th>145</th>\n",
       "      <td>6.7</td>\n",
       "      <td>3.0</td>\n",
       "      <td>5.2</td>\n",
       "      <td>2.3</td>\n",
       "    </tr>\n",
       "    <tr>\n",
       "      <th>146</th>\n",
       "      <td>6.3</td>\n",
       "      <td>2.5</td>\n",
       "      <td>5.0</td>\n",
       "      <td>1.9</td>\n",
       "    </tr>\n",
       "    <tr>\n",
       "      <th>147</th>\n",
       "      <td>6.5</td>\n",
       "      <td>3.0</td>\n",
       "      <td>5.2</td>\n",
       "      <td>2.0</td>\n",
       "    </tr>\n",
       "    <tr>\n",
       "      <th>148</th>\n",
       "      <td>6.2</td>\n",
       "      <td>3.4</td>\n",
       "      <td>5.4</td>\n",
       "      <td>2.3</td>\n",
       "    </tr>\n",
       "    <tr>\n",
       "      <th>149</th>\n",
       "      <td>5.9</td>\n",
       "      <td>3.0</td>\n",
       "      <td>5.1</td>\n",
       "      <td>1.8</td>\n",
       "    </tr>\n",
       "  </tbody>\n",
       "</table>\n",
       "<p>150 rows × 4 columns</p>\n",
       "</div>"
      ],
      "text/plain": [
       "     sepal length (cm)  sepal width (cm)  petal length (cm)  petal width (cm)\n",
       "0                  5.1               3.5                1.4               0.2\n",
       "1                  4.9               3.0                1.4               0.2\n",
       "2                  4.7               3.2                1.3               0.2\n",
       "3                  4.6               3.1                1.5               0.2\n",
       "4                  5.0               3.6                1.4               0.2\n",
       "..                 ...               ...                ...               ...\n",
       "145                6.7               3.0                5.2               2.3\n",
       "146                6.3               2.5                5.0               1.9\n",
       "147                6.5               3.0                5.2               2.0\n",
       "148                6.2               3.4                5.4               2.3\n",
       "149                5.9               3.0                5.1               1.8\n",
       "\n",
       "[150 rows x 4 columns]"
      ]
     },
     "execution_count": 13,
     "metadata": {},
     "output_type": "execute_result"
    }
   ],
   "source": [
    "from sklearn.datasets import load_iris\n",
    "df=load_iris()\n",
    "dataset=pd.DataFrame(df.data)\n",
    "dataset.columns= df.feature_names\n",
    "dataset"
   ]
  },
  {
   "cell_type": "code",
   "execution_count": 15,
   "id": "8ab6927c-4d69-4a27-aa1a-fbb1d1090621",
   "metadata": {},
   "outputs": [
    {
     "data": {
      "text/html": [
       "<div>\n",
       "<style scoped>\n",
       "    .dataframe tbody tr th:only-of-type {\n",
       "        vertical-align: middle;\n",
       "    }\n",
       "\n",
       "    .dataframe tbody tr th {\n",
       "        vertical-align: top;\n",
       "    }\n",
       "\n",
       "    .dataframe thead th {\n",
       "        text-align: right;\n",
       "    }\n",
       "</style>\n",
       "<table border=\"1\" class=\"dataframe\">\n",
       "  <thead>\n",
       "    <tr style=\"text-align: right;\">\n",
       "      <th></th>\n",
       "      <th>sepal length (cm)</th>\n",
       "      <th>sepal width (cm)</th>\n",
       "      <th>petal length (cm)</th>\n",
       "      <th>petal width (cm)</th>\n",
       "    </tr>\n",
       "  </thead>\n",
       "  <tbody>\n",
       "    <tr>\n",
       "      <th>50</th>\n",
       "      <td>7.0</td>\n",
       "      <td>3.2</td>\n",
       "      <td>4.7</td>\n",
       "      <td>1.4</td>\n",
       "    </tr>\n",
       "    <tr>\n",
       "      <th>51</th>\n",
       "      <td>6.4</td>\n",
       "      <td>3.2</td>\n",
       "      <td>4.5</td>\n",
       "      <td>1.5</td>\n",
       "    </tr>\n",
       "    <tr>\n",
       "      <th>52</th>\n",
       "      <td>6.9</td>\n",
       "      <td>3.1</td>\n",
       "      <td>4.9</td>\n",
       "      <td>1.5</td>\n",
       "    </tr>\n",
       "    <tr>\n",
       "      <th>53</th>\n",
       "      <td>5.5</td>\n",
       "      <td>2.3</td>\n",
       "      <td>4.0</td>\n",
       "      <td>1.3</td>\n",
       "    </tr>\n",
       "    <tr>\n",
       "      <th>54</th>\n",
       "      <td>6.5</td>\n",
       "      <td>2.8</td>\n",
       "      <td>4.6</td>\n",
       "      <td>1.5</td>\n",
       "    </tr>\n",
       "    <tr>\n",
       "      <th>...</th>\n",
       "      <td>...</td>\n",
       "      <td>...</td>\n",
       "      <td>...</td>\n",
       "      <td>...</td>\n",
       "    </tr>\n",
       "    <tr>\n",
       "      <th>145</th>\n",
       "      <td>6.7</td>\n",
       "      <td>3.0</td>\n",
       "      <td>5.2</td>\n",
       "      <td>2.3</td>\n",
       "    </tr>\n",
       "    <tr>\n",
       "      <th>146</th>\n",
       "      <td>6.3</td>\n",
       "      <td>2.5</td>\n",
       "      <td>5.0</td>\n",
       "      <td>1.9</td>\n",
       "    </tr>\n",
       "    <tr>\n",
       "      <th>147</th>\n",
       "      <td>6.5</td>\n",
       "      <td>3.0</td>\n",
       "      <td>5.2</td>\n",
       "      <td>2.0</td>\n",
       "    </tr>\n",
       "    <tr>\n",
       "      <th>148</th>\n",
       "      <td>6.2</td>\n",
       "      <td>3.4</td>\n",
       "      <td>5.4</td>\n",
       "      <td>2.3</td>\n",
       "    </tr>\n",
       "    <tr>\n",
       "      <th>149</th>\n",
       "      <td>5.9</td>\n",
       "      <td>3.0</td>\n",
       "      <td>5.1</td>\n",
       "      <td>1.8</td>\n",
       "    </tr>\n",
       "  </tbody>\n",
       "</table>\n",
       "<p>99 rows × 4 columns</p>\n",
       "</div>"
      ],
      "text/plain": [
       "     sepal length (cm)  sepal width (cm)  petal length (cm)  petal width (cm)\n",
       "50                 7.0               3.2                4.7               1.4\n",
       "51                 6.4               3.2                4.5               1.5\n",
       "52                 6.9               3.1                4.9               1.5\n",
       "53                 5.5               2.3                4.0               1.3\n",
       "54                 6.5               2.8                4.6               1.5\n",
       "..                 ...               ...                ...               ...\n",
       "145                6.7               3.0                5.2               2.3\n",
       "146                6.3               2.5                5.0               1.9\n",
       "147                6.5               3.0                5.2               2.0\n",
       "148                6.2               3.4                5.4               2.3\n",
       "149                5.9               3.0                5.1               1.8\n",
       "\n",
       "[99 rows x 4 columns]"
      ]
     },
     "execution_count": 15,
     "metadata": {},
     "output_type": "execute_result"
    }
   ],
   "source": [
    "dataset.loc[dataset['petal length (cm)']>3.0 , ['sepal length (cm)', 'sepal width (cm)', 'petal length (cm)', 'petal width (cm)']]"
   ]
  },
  {
   "cell_type": "markdown",
   "id": "18cddb12-0990-4941-9703-7852cbdb1714",
   "metadata": {},
   "source": [
    "QUESTION 3"
   ]
  },
  {
   "cell_type": "code",
   "execution_count": 20,
   "id": "566ae816-7e94-4fd8-a78d-b7fd809b1349",
   "metadata": {},
   "outputs": [
    {
     "data": {
      "text/plain": [
       "<Figure size 1000x600 with 0 Axes>"
      ]
     },
     "execution_count": 20,
     "metadata": {},
     "output_type": "execute_result"
    },
    {
     "data": {
      "text/plain": [
       "<Figure size 1000x600 with 0 Axes>"
      ]
     },
     "metadata": {},
     "output_type": "display_data"
    }
   ],
   "source": [
    "x = np.arange(1, 11)  # X-axis values (1 to 10)\n",
    "y1 = [2, 3, 5, 7, 11, 13, 17, 19, 23, 29]  # Y-axis values for line 1\n",
    "y2 = [1, 4, 6, 8, 10, 12, 14, 16, 18, 20]  # Y-axis values for line 2\n",
    "plt.figure(figsize=(10, 6))"
   ]
  },
  {
   "cell_type": "code",
   "execution_count": 22,
   "id": "fc68ede2-ddbf-431f-bdd4-ae9bdac35384",
   "metadata": {},
   "outputs": [
    {
     "data": {
      "image/png": "[encoded data removed]",
      "text/plain": [
       "<Figure size 640x480 with 1 Axes>"
      ]
     },
     "metadata": {},
     "output_type": "display_data"
    }
   ],
   "source": [
    "line1, = plt.plot(x, y1, label='Prime Numbers', color='blue', linestyle='-', marker='o')\n",
    "line2, = plt.plot(x, y2, label='Even Numbers', color='green', linestyle='--', marker='x')\n",
    "plt.title('Trend of Numerical Dataset', fontsize=16)\n",
    "plt.xlabel('Index', fontsize=12)\n",
    "plt.ylabel('Values', fontsize=12)\n",
    "plt.legend(handles=[line1, line2], loc='upper left')\n",
    "plt.grid(True, linestyle='--')\n",
    "plt.show()"
   ]
  },
  {
   "cell_type": "markdown",
   "id": "b31f4629-480f-46f0-bf82-6c023514b95b",
   "metadata": {},
   "source": [
    "QUESTION 4"
   ]
  },
  {
   "cell_type": "code",
   "execution_count": 25,
   "id": "70c9a246-9215-4de7-a26c-f37e9aff0944",
   "metadata": {},
   "outputs": [],
   "source": [
    "np.random.seed(42)\n",
    "data = {\n",
    "    'A': np.random.randint(1, 20, 5),\n",
    "    'B': np.random.randint(1, 20, 5),\n",
    "    'C': np.random.randint(1, 20, 5)\n",
    "}\n",
    "df=pd.DataFrame(data)\n"
   ]
  },
  {
   "cell_type": "code",
   "execution_count": 27,
   "id": "4f49e532-b6b5-40a2-a5f4-1a878ee7ba4c",
   "metadata": {},
   "outputs": [
    {
     "data": {
      "text/html": [
       "<div>\n",
       "<style scoped>\n",
       "    .dataframe tbody tr th:only-of-type {\n",
       "        vertical-align: middle;\n",
       "    }\n",
       "\n",
       "    .dataframe tbody tr th {\n",
       "        vertical-align: top;\n",
       "    }\n",
       "\n",
       "    .dataframe thead th {\n",
       "        text-align: right;\n",
       "    }\n",
       "</style>\n",
       "<table border=\"1\" class=\"dataframe\">\n",
       "  <thead>\n",
       "    <tr style=\"text-align: right;\">\n",
       "      <th></th>\n",
       "      <th>A</th>\n",
       "      <th>B</th>\n",
       "      <th>C</th>\n",
       "    </tr>\n",
       "  </thead>\n",
       "  <tbody>\n",
       "    <tr>\n",
       "      <th>0</th>\n",
       "      <td>7</td>\n",
       "      <td>19</td>\n",
       "      <td>3</td>\n",
       "    </tr>\n",
       "    <tr>\n",
       "      <th>1</th>\n",
       "      <td>15</td>\n",
       "      <td>11</td>\n",
       "      <td>2</td>\n",
       "    </tr>\n",
       "    <tr>\n",
       "      <th>2</th>\n",
       "      <td>11</td>\n",
       "      <td>11</td>\n",
       "      <td>12</td>\n",
       "    </tr>\n",
       "    <tr>\n",
       "      <th>3</th>\n",
       "      <td>8</td>\n",
       "      <td>4</td>\n",
       "      <td>6</td>\n",
       "    </tr>\n",
       "    <tr>\n",
       "      <th>4</th>\n",
       "      <td>7</td>\n",
       "      <td>8</td>\n",
       "      <td>2</td>\n",
       "    </tr>\n",
       "  </tbody>\n",
       "</table>\n",
       "</div>"
      ],
      "text/plain": [
       "    A   B   C\n",
       "0   7  19   3\n",
       "1  15  11   2\n",
       "2  11  11  12\n",
       "3   8   4   6\n",
       "4   7   8   2"
      ]
     },
     "execution_count": 27,
     "metadata": {},
     "output_type": "execute_result"
    }
   ],
   "source": [
    "df"
   ]
  },
  {
   "cell_type": "code",
   "execution_count": 29,
   "id": "7438d6df-c717-498b-b9e0-e745d85498bf",
   "metadata": {},
   "outputs": [
    {
     "data": {
      "text/html": [
       "<div>\n",
       "<style scoped>\n",
       "    .dataframe tbody tr th:only-of-type {\n",
       "        vertical-align: middle;\n",
       "    }\n",
       "\n",
       "    .dataframe tbody tr th {\n",
       "        vertical-align: top;\n",
       "    }\n",
       "\n",
       "    .dataframe thead th {\n",
       "        text-align: right;\n",
       "    }\n",
       "</style>\n",
       "<table border=\"1\" class=\"dataframe\">\n",
       "  <thead>\n",
       "    <tr style=\"text-align: right;\">\n",
       "      <th></th>\n",
       "      <th>A</th>\n",
       "      <th>B</th>\n",
       "      <th>C</th>\n",
       "    </tr>\n",
       "  </thead>\n",
       "  <tbody>\n",
       "    <tr>\n",
       "      <th>0</th>\n",
       "      <td>7.0</td>\n",
       "      <td>19.0</td>\n",
       "      <td>NaN</td>\n",
       "    </tr>\n",
       "    <tr>\n",
       "      <th>1</th>\n",
       "      <td>15.0</td>\n",
       "      <td>11.0</td>\n",
       "      <td>2.0</td>\n",
       "    </tr>\n",
       "    <tr>\n",
       "      <th>2</th>\n",
       "      <td>NaN</td>\n",
       "      <td>11.0</td>\n",
       "      <td>12.0</td>\n",
       "    </tr>\n",
       "    <tr>\n",
       "      <th>3</th>\n",
       "      <td>8.0</td>\n",
       "      <td>NaN</td>\n",
       "      <td>6.0</td>\n",
       "    </tr>\n",
       "    <tr>\n",
       "      <th>4</th>\n",
       "      <td>7.0</td>\n",
       "      <td>8.0</td>\n",
       "      <td>2.0</td>\n",
       "    </tr>\n",
       "  </tbody>\n",
       "</table>\n",
       "</div>"
      ],
      "text/plain": [
       "      A     B     C\n",
       "0   7.0  19.0   NaN\n",
       "1  15.0  11.0   2.0\n",
       "2   NaN  11.0  12.0\n",
       "3   8.0   NaN   6.0\n",
       "4   7.0   8.0   2.0"
      ]
     },
     "execution_count": 29,
     "metadata": {},
     "output_type": "execute_result"
    }
   ],
   "source": [
    "df.loc[2, 'A'] = np.nan\n",
    "df.loc[3, 'B'] = np.nan\n",
    "df.loc[0, 'C'] = np.nan\n",
    "df"
   ]
  },
  {
   "cell_type": "code",
   "execution_count": 31,
   "id": "440232e8-e6ea-4fdf-97dc-4b5534e9f7f8",
   "metadata": {},
   "outputs": [
    {
     "data": {
      "text/html": [
       "<div>\n",
       "<style scoped>\n",
       "    .dataframe tbody tr th:only-of-type {\n",
       "        vertical-align: middle;\n",
       "    }\n",
       "\n",
       "    .dataframe tbody tr th {\n",
       "        vertical-align: top;\n",
       "    }\n",
       "\n",
       "    .dataframe thead th {\n",
       "        text-align: right;\n",
       "    }\n",
       "</style>\n",
       "<table border=\"1\" class=\"dataframe\">\n",
       "  <thead>\n",
       "    <tr style=\"text-align: right;\">\n",
       "      <th></th>\n",
       "      <th>A</th>\n",
       "      <th>B</th>\n",
       "      <th>C</th>\n",
       "    </tr>\n",
       "  </thead>\n",
       "  <tbody>\n",
       "    <tr>\n",
       "      <th>0</th>\n",
       "      <td>7.00</td>\n",
       "      <td>19.00</td>\n",
       "      <td>5.5</td>\n",
       "    </tr>\n",
       "    <tr>\n",
       "      <th>1</th>\n",
       "      <td>15.00</td>\n",
       "      <td>11.00</td>\n",
       "      <td>2.0</td>\n",
       "    </tr>\n",
       "    <tr>\n",
       "      <th>2</th>\n",
       "      <td>9.25</td>\n",
       "      <td>11.00</td>\n",
       "      <td>12.0</td>\n",
       "    </tr>\n",
       "    <tr>\n",
       "      <th>3</th>\n",
       "      <td>8.00</td>\n",
       "      <td>12.25</td>\n",
       "      <td>6.0</td>\n",
       "    </tr>\n",
       "    <tr>\n",
       "      <th>4</th>\n",
       "      <td>7.00</td>\n",
       "      <td>8.00</td>\n",
       "      <td>2.0</td>\n",
       "    </tr>\n",
       "  </tbody>\n",
       "</table>\n",
       "</div>"
      ],
      "text/plain": [
       "       A      B     C\n",
       "0   7.00  19.00   5.5\n",
       "1  15.00  11.00   2.0\n",
       "2   9.25  11.00  12.0\n",
       "3   8.00  12.25   6.0\n",
       "4   7.00   8.00   2.0"
      ]
     },
     "execution_count": 31,
     "metadata": {},
     "output_type": "execute_result"
    }
   ],
   "source": [
    "df.fillna(df.mean(numeric_only=True), inplace=True)\n",
    "df"
   ]
  },
  {
   "cell_type": "code",
   "execution_count": 33,
   "id": "cd1863bc-77d7-4a28-bb6f-98b2806543a3",
   "metadata": {},
   "outputs": [
    {
     "data": {
      "text/html": [
       "<div>\n",
       "<style scoped>\n",
       "    .dataframe tbody tr th:only-of-type {\n",
       "        vertical-align: middle;\n",
       "    }\n",
       "\n",
       "    .dataframe tbody tr th {\n",
       "        vertical-align: top;\n",
       "    }\n",
       "\n",
       "    .dataframe thead th {\n",
       "        text-align: right;\n",
       "    }\n",
       "</style>\n",
       "<table border=\"1\" class=\"dataframe\">\n",
       "  <thead>\n",
       "    <tr style=\"text-align: right;\">\n",
       "      <th></th>\n",
       "      <th>A</th>\n",
       "      <th>B</th>\n",
       "      <th>C</th>\n",
       "    </tr>\n",
       "  </thead>\n",
       "  <tbody>\n",
       "    <tr>\n",
       "      <th>0</th>\n",
       "      <td>7.00</td>\n",
       "      <td>19.00</td>\n",
       "      <td>5.5</td>\n",
       "    </tr>\n",
       "    <tr>\n",
       "      <th>1</th>\n",
       "      <td>15.00</td>\n",
       "      <td>11.00</td>\n",
       "      <td>2.0</td>\n",
       "    </tr>\n",
       "    <tr>\n",
       "      <th>2</th>\n",
       "      <td>9.25</td>\n",
       "      <td>11.00</td>\n",
       "      <td>12.0</td>\n",
       "    </tr>\n",
       "    <tr>\n",
       "      <th>3</th>\n",
       "      <td>8.00</td>\n",
       "      <td>12.25</td>\n",
       "      <td>6.0</td>\n",
       "    </tr>\n",
       "    <tr>\n",
       "      <th>4</th>\n",
       "      <td>7.00</td>\n",
       "      <td>8.00</td>\n",
       "      <td>2.0</td>\n",
       "    </tr>\n",
       "  </tbody>\n",
       "</table>\n",
       "</div>"
      ],
      "text/plain": [
       "       A      B     C\n",
       "0   7.00  19.00   5.5\n",
       "1  15.00  11.00   2.0\n",
       "2   9.25  11.00  12.0\n",
       "3   8.00  12.25   6.0\n",
       "4   7.00   8.00   2.0"
      ]
     },
     "execution_count": 33,
     "metadata": {},
     "output_type": "execute_result"
    }
   ],
   "source": [
    "df_sorted = df.sort_values(by=['A', 'B'])\n",
    "df"
   ]
  },
  {
   "cell_type": "markdown",
   "id": "7f414a40-1744-4c52-ae5f-47a41fcc40f5",
   "metadata": {},
   "source": [
    "QUESTION 5"
   ]
  },
  {
   "cell_type": "code",
   "execution_count": 36,
   "id": "0ff0d224-4670-498d-8ffa-3b5a98a18ad6",
   "metadata": {},
   "outputs": [],
   "source": [
    "matrix1 = np.array([[1, 2, 3],\n",
    "                    [4, 5, 6],\n",
    "                    [7, 8, 9]])\n",
    "\n",
    "matrix2 = np.array([[9, 8, 7],\n",
    "                    [6, 5, 4],\n",
    "                    [3, 2, 1]])\n",
    "matrix1 = np.array(matrix1, dtype=np.float64)\n",
    "matrix2 = np.array(matrix2, dtype=np.float64)"
   ]
  },
  {
   "cell_type": "code",
   "execution_count": 38,
   "id": "c5b52b79-8969-4c51-b205-f941f25dedf4",
   "metadata": {},
   "outputs": [
    {
     "name": "stdout",
     "output_type": "stream",
     "text": [
      "[[ 30.  24.  18.]\n",
      " [ 84.  69.  54.]\n",
      " [138. 114.  90.]]\n"
     ]
    }
   ],
   "source": [
    "dot_product = np.dot(matrix1, matrix2)\n",
    "print(dot_product)"
   ]
  },
  {
   "cell_type": "code",
   "execution_count": 40,
   "id": "59f943a4-668c-4e61-8894-0c652055edc1",
   "metadata": {},
   "outputs": [
    {
     "name": "stdout",
     "output_type": "stream",
     "text": [
      "-9.59232693276129e-13\n"
     ]
    }
   ],
   "source": [
    "determinant = np.linalg.det(dot_product)\n",
    "print(determinant)"
   ]
  },
  {
   "cell_type": "markdown",
   "id": "c0908ea9-4848-44b6-9893-09f55f997e06",
   "metadata": {},
   "source": [
    "QUESTION 6"
   ]
  },
  {
   "cell_type": "code",
   "execution_count": 43,
   "id": "29cb577b-18e2-49d5-96c9-1fcd39be5029",
   "metadata": {},
   "outputs": [
    {
     "data": {
      "text/html": [
       "<div>\n",
       "<style scoped>\n",
       "    .dataframe tbody tr th:only-of-type {\n",
       "        vertical-align: middle;\n",
       "    }\n",
       "\n",
       "    .dataframe tbody tr th {\n",
       "        vertical-align: top;\n",
       "    }\n",
       "\n",
       "    .dataframe thead th {\n",
       "        text-align: right;\n",
       "    }\n",
       "</style>\n",
       "<table border=\"1\" class=\"dataframe\">\n",
       "  <thead>\n",
       "    <tr style=\"text-align: right;\">\n",
       "      <th></th>\n",
       "      <th>Category</th>\n",
       "      <th>Values</th>\n",
       "    </tr>\n",
       "  </thead>\n",
       "  <tbody>\n",
       "    <tr>\n",
       "      <th>0</th>\n",
       "      <td>A</td>\n",
       "      <td>10</td>\n",
       "    </tr>\n",
       "    <tr>\n",
       "      <th>1</th>\n",
       "      <td>B</td>\n",
       "      <td>20</td>\n",
       "    </tr>\n",
       "    <tr>\n",
       "      <th>2</th>\n",
       "      <td>A</td>\n",
       "      <td>30</td>\n",
       "    </tr>\n",
       "    <tr>\n",
       "      <th>3</th>\n",
       "      <td>C</td>\n",
       "      <td>40</td>\n",
       "    </tr>\n",
       "    <tr>\n",
       "      <th>4</th>\n",
       "      <td>B</td>\n",
       "      <td>15</td>\n",
       "    </tr>\n",
       "    <tr>\n",
       "      <th>5</th>\n",
       "      <td>A</td>\n",
       "      <td>25</td>\n",
       "    </tr>\n",
       "    <tr>\n",
       "      <th>6</th>\n",
       "      <td>C</td>\n",
       "      <td>35</td>\n",
       "    </tr>\n",
       "    <tr>\n",
       "      <th>7</th>\n",
       "      <td>C</td>\n",
       "      <td>45</td>\n",
       "    </tr>\n",
       "    <tr>\n",
       "      <th>8</th>\n",
       "      <td>B</td>\n",
       "      <td>25</td>\n",
       "    </tr>\n",
       "    <tr>\n",
       "      <th>9</th>\n",
       "      <td>A</td>\n",
       "      <td>50</td>\n",
       "    </tr>\n",
       "  </tbody>\n",
       "</table>\n",
       "</div>"
      ],
      "text/plain": [
       "  Category  Values\n",
       "0        A      10\n",
       "1        B      20\n",
       "2        A      30\n",
       "3        C      40\n",
       "4        B      15\n",
       "5        A      25\n",
       "6        C      35\n",
       "7        C      45\n",
       "8        B      25\n",
       "9        A      50"
      ]
     },
     "execution_count": 43,
     "metadata": {},
     "output_type": "execute_result"
    }
   ],
   "source": [
    "data = {\n",
    "    'Category': ['A', 'B', 'A', 'C', 'B', 'A', 'C', 'C', 'B', 'A'],\n",
    "    'Values': [10, 20, 30, 40, 15, 25, 35, 45, 25, 50]\n",
    "}\n",
    "\n",
    "df = pd.DataFrame(data)\n",
    "df"
   ]
  },
  {
   "cell_type": "code",
   "execution_count": 45,
   "id": "c543d040-795d-48c8-b588-83cf9e8a1a60",
   "metadata": {},
   "outputs": [
    {
     "name": "stdout",
     "output_type": "stream",
     "text": [
      "Category\n",
      "A    115\n",
      "B     60\n",
      "C    120\n",
      "Name: Values, dtype: int64\n"
     ]
    }
   ],
   "source": [
    "grouped_sum = df.groupby('Category')['Values'].sum()\n",
    "print(grouped_sum)"
   ]
  },
  {
   "cell_type": "markdown",
   "id": "cc3f2dbe-8ef0-43e0-94e2-0c05dde1ba46",
   "metadata": {},
   "source": [
    "QUESTION 7"
   ]
  },
  {
   "cell_type": "code",
   "execution_count": 50,
   "id": "eac95c98-2356-4eec-8bf9-d913522a68b9",
   "metadata": {},
   "outputs": [
    {
     "data": {
      "text/plain": [
       "array([45.36582307, 45.34270246, 52.41962272, 30.86719755, 32.75082167,\n",
       "       44.37712471, 39.8716888 , 53.14247333, 40.91975924, 35.87696299,\n",
       "       64.65648769, 47.742237  , 50.67528205, 35.75251814, 44.55617275,\n",
       "       51.1092259 , 38.49006423, 53.75698018, 43.9936131 , 47.0830625 ,\n",
       "       43.98293388, 68.52278185, 49.86502775, 39.42289071, 58.22544912,\n",
       "       37.7915635 , 52.08863595, 30.40329876, 36.71813951, 51.96861236,\n",
       "       57.3846658 , 51.71368281, 48.84351718, 46.98896304, 35.2147801 ,\n",
       "       42.80155792, 45.39361229, 60.57122226, 53.4361829 , 32.36959845,\n",
       "       53.24083969, 46.1491772 , 43.23078   , 56.11676289, 60.30999522,\n",
       "       59.31280119, 41.60782477, 46.90787624, 53.31263431, 59.75545127,\n",
       "       45.20825762, 48.14341023, 38.93665026, 38.03793376, 58.12525822,\n",
       "       63.56240029, 49.27989878, 60.03532898, 53.61636025, 43.54880245,\n",
       "       53.61395606, 65.38036566, 49.64173961, 65.64643656, 23.80254896,\n",
       "       58.21902504, 50.87047068, 47.0099265 , 50.91760777, 30.12431085,\n",
       "       47.80328112, 53.57112572, 64.77894045, 44.81729782, 41.91506397,\n",
       "       44.98242956, 59.15402118, 53.2875111 , 44.70239796, 55.13267433,\n",
       "       50.97077549, 59.68644991, 42.97946906, 46.72337853, 46.07891847,\n",
       "       35.36485052, 52.96120277, 52.61055272, 50.05113457, 47.65412867,\n",
       "       35.84629258, 45.79354677, 46.57285483, 41.97722731, 48.38714288,\n",
       "       54.04050857, 68.86185901, 51.74577813, 52.57550391, 49.25554084,\n",
       "       30.81228785, 49.73486125, 50.6023021 , 74.63242112, 48.07639035,\n",
       "       53.01547342, 49.6528823 , 38.31321962, 61.42822815, 57.51933033,\n",
       "       57.91031947, 40.90612545, 64.02794311, 35.98148937, 55.86857094,\n",
       "       71.90455626, 40.09463675, 44.3370227 , 50.99651365, 44.96524346,\n",
       "       34.49336569, 50.68562975, 39.37696286, 54.73592431, 40.80575766,\n",
       "       65.49934405, 42.16746708, 46.77938484, 58.13517217, 37.69135684,\n",
       "       52.27459935, 63.07142754, 33.92516765, 51.84633859, 52.59882794,\n",
       "       57.81822872, 37.63049289, 36.79543387, 55.21941566, 52.96984673,\n",
       "       52.5049285 , 53.46448209, 43.19975278, 52.32253697, 52.93072473,\n",
       "       42.85648582, 68.65774511, 54.73832921, 38.08696503, 56.56553609,\n",
       "       40.2531833 , 57.87084604, 61.58595579, 41.79317682, 59.63376129,\n",
       "       54.12780927, 58.2206016 , 68.96792983, 47.54611884, 42.46263836,\n",
       "       41.1048557 , 41.84189715, 49.22898291, 53.41151975, 52.76690799,\n",
       "       58.27183249, 50.13001892, 64.53534077, 47.35343167, 77.20169167,\n",
       "       56.25667348, 41.42842444, 39.29107502, 54.82472415, 47.76537215,\n",
       "       57.14000494, 54.73237625, 49.27171087, 41.53206282, 34.85152775,\n",
       "       45.53485048, 58.56398794, 52.14093744, 37.54261221, 51.73180926,\n",
       "       53.8531738 , 41.16142564, 51.53725106, 50.58208718, 38.57029702,\n",
       "       53.5778736 , 55.60784526, 60.83051243, 60.53802052, 36.22330632,\n",
       "       40.6217496 , 55.15035267, 55.13785951, 55.15047686, 88.52731491,\n",
       "       55.70890511, 61.3556564 , 59.54001763, 56.51391251, 46.84730755,\n",
       "       57.5896922 , 42.27174785, 47.63181393, 45.14636452, 50.81874139,\n",
       "       73.14658567, 31.32734807, 56.8626019 , 33.87284129, 45.28068134,\n",
       "       60.88950597, 50.64280019, 39.22255222, 42.84696291, 56.79597749,\n",
       "       42.69633368, 52.1645859 , 50.4557184 , 43.48399652, 71.43944089,\n",
       "       56.33919022, 29.74857413, 51.86454315, 43.38213535, 58.52433335,\n",
       "       42.07479262, 48.85263559, 55.04987279, 58.65755194, 37.99703593,\n",
       "       46.65498764, 45.25054689, 43.46670767, 67.6545424 , 54.04981711,\n",
       "       37.39116046, 59.17861947, 71.22156197, 60.32465261, 34.80630034,\n",
       "       45.15765927, 62.66911149, 42.92330534, 54.43819428, 57.74634053,\n",
       "       40.73069528, 49.40474644, 17.5873266 , 39.75612359, 47.47431849,\n",
       "       37.52216818, 66.32411304, 35.69858622, 45.59955513, 51.30740577,\n",
       "       64.41273289, 35.64137849, 61.63163752, 50.10233061, 40.18491349,\n",
       "       54.62103474, 51.99059696, 43.99783123, 50.69802085, 46.14686403,\n",
       "       51.13517345, 56.62130675, 65.86016816, 37.62184501, 71.33033375,\n",
       "       30.479122  , 48.48214905, 55.88317206, 52.80991868, 43.7730048 ,\n",
       "       47.9187775 , 45.06999065, 44.10635243, 58.49602097, 53.57015486,\n",
       "       43.07090405, 58.99599875, 53.07299521, 58.12862119, 56.29628842,\n",
       "       41.71004989, 44.3981896 , 57.47293605, 56.10370265, 49.79098406,\n",
       "       51.17327383, 62.77664896, 44.08428611, 55.47097381, 47.97807348,\n",
       "       47.82318797, 60.98776852, 58.25416349, 58.13509636, 63.05478807,\n",
       "       50.21003842, 56.81952971, 46.89733243, 53.24166352, 48.69856946,\n",
       "       50.96995965, 55.95157025, 41.81779317, 70.92387276, 39.93982619,\n",
       "       37.85811387, 61.58110874, 57.91662694, 56.24119817, 56.28345509,\n",
       "       49.87753227, 41.02745629, 50.75804558, 43.22838288, 59.75119733,\n",
       "       48.52942618, 41.74502803, 46.78614158, 54.12931454, 44.36275447,\n",
       "       41.77779604, 52.43687211, 52.44966571, 44.93056825, 45.28961694,\n",
       "       52.32049937, 35.51915659, 35.92536226, 42.81555779, 47.86552848,\n",
       "       53.10907566, 64.75356217, 58.57659623, 48.4006147 , 49.80983792,\n",
       "       39.97470635, 49.81486864, 47.11341361, 53.2271856 , 41.72769056,\n",
       "       55.19346514, 65.32738913, 48.91239852, 54.01711722, 56.90143992,\n",
       "       45.98779528, 52.24092482, 50.12592401, 50.97676099, 42.26990216,\n",
       "       50.24510174, 54.97998291, 64.51143608, 59.59270826, 71.53182458,\n",
       "       42.32652437, 58.72320637, 51.83342006, 71.89802933, 41.91701715,\n",
       "       41.60278158, 44.00607355, 28.76104276, 44.74244978, 42.40867338,\n",
       "       51.50393786, 53.41755976, 68.76170839, 59.50423838, 44.23096344,\n",
       "       41.01585329, 54.91919172, 36.79766793, 68.31458766, 61.79440121,\n",
       "       45.30824348, 32.86865471, 63.53872374, 48.85460155, 62.37816312,\n",
       "       34.05572341, 44.00624977, 50.052437  , 50.46980594, 45.49934529,\n",
       "       56.22849932, 39.32379571, 48.57620515, 51.20295632, 55.14438834,\n",
       "       57.11614878, 38.75357908, 34.65885829, 62.77676822, 53.32314012,\n",
       "       42.51513463, 65.51151976, 51.15674634, 61.79297184, 50.67518481,\n",
       "       70.60747925, 67.55340842, 47.51035852, 59.71570951, 56.4537595 ,\n",
       "       63.68631558, 40.35076539, 56.8605146 , 60.58424487, 32.41260514,\n",
       "       38.16741487, 29.60767822, 47.30593166, 57.17542256, 65.02357052,\n",
       "       50.7409478 , 66.28615546, 36.19898542, 32.96617561, 49.44452301,\n",
       "       53.84065449, 49.67305252, 29.325579  , 49.1087996 , 36.95530499,\n",
       "       56.69672549, 53.66598246, 40.60120214, 44.86133083, 39.40786478,\n",
       "       49.37320903, 59.55142321, 40.14273954, 55.04046516, 44.69742382,\n",
       "       42.07127168, 48.9296964 , 39.64757678, 44.46350695, 38.02122107,\n",
       "       69.64725133, 50.35263552, 43.00274492, 52.13979911, 48.8767195 ,\n",
       "       47.790304  , 56.141667  , 57.5750771 , 44.69498852, 44.24181759,\n",
       "       47.24948303, 26.98078835, 34.84808938, 63.66874267, 66.44967714,\n",
       "       47.5096396 , 55.76556963, 53.11250155, 80.78880808, 61.19574911,\n",
       "       48.72082409, 40.44459559, 33.9355368 , 52.03463636, 42.43649255,\n",
       "       35.7774629 , 43.53427116, 39.18451996, 66.87141635, 58.81639757,\n",
       "       49.92027359, 64.79944139, 50.77368308, 41.38715799, 65.23124077,\n",
       "       55.38910044, 39.62753846, 48.09661322, 41.24381747, 36.17200269,\n",
       "       59.26177548, 69.0941664 , 36.01432426, 55.62969237, 43.49357431,\n",
       "       45.12874616, 44.07606076, 41.3600923 , 50.48521628, 41.69049884,\n",
       "       52.70456826, 49.49761891, 47.61051953, 40.92436338, 44.23228669,\n",
       "       57.55391226, 55.00917188, 40.22444755, 50.99332305, 57.51387123,\n",
       "       33.30594719, 55.43360192, 43.37376241, 55.70598669, 42.36740843,\n",
       "       31.95117899, 33.72457562, 50.48084947, 52.59722502, 40.95683375,\n",
       "       56.38592459, 33.38479938, 49.33920201, 37.889838  , 43.48163892,\n",
       "       50.47398671, 41.39586635, 46.15444456, 60.06292809, 44.2310813 ,\n",
       "       58.35692112, 38.70293145, 55.29804178, 64.41568621, 25.283555  ,\n",
       "       42.03104745, 55.77072127, 47.96954614, 53.71145873, 43.96014813,\n",
       "       50.86589787, 48.44322765, 61.67782062, 52.54420843, 53.37602662,\n",
       "       45.88123034, 45.12393776, 45.67441812, 53.94452142, 45.79015519,\n",
       "       52.89774857, 70.75400799, 58.71124703, 46.73976468, 62.01213922,\n",
       "       45.91924627, 29.61875465, 39.91913689, 31.29208079, 46.48486516,\n",
       "       50.18418379, 66.76437312, 53.26927374, 47.80899471, 58.29405581,\n",
       "       27.88864691, 52.35614558, 57.70865194, 35.21413754, 61.43754043,\n",
       "       53.38496407, 45.84712086, 56.32781866, 72.70692858, 51.81866255,\n",
       "       52.48220586, 45.406391  , 41.50155631, 58.30335817, 41.43916174,\n",
       "       50.71566237, 45.22342553, 54.78979826, 53.33662105, 60.37539944,\n",
       "       44.89983601, 47.30125065, 40.21236284, 45.5570674 , 53.77300493,\n",
       "       57.56988617, 40.77834676, 58.6960592 , 63.55637859, 54.13434903,\n",
       "       68.76795813, 42.26210801, 37.55345297, 32.21279751, 64.96044311,\n",
       "       56.54365656, 49.44415329, 52.79968626, 38.74510953, 74.4575198 ,\n",
       "       51.29221182, 51.09394795, 57.25766624, 54.81009232, 52.23884024,\n",
       "       42.09525545, 54.71468357, 68.82024496, 63.45420046, 65.93186627,\n",
       "       44.88784324, 40.1039518 , 48.7421308 , 50.55724912, 60.94191518,\n",
       "       33.0753537 , 65.29550319, 48.41992101, 45.7311893 , 39.87895625,\n",
       "       33.45143328, 58.23170584, 50.73317967, 37.100391  , 37.04921228,\n",
       "       46.64215301, 66.69021525, 47.40408649, 34.96857047, 47.54256936,\n",
       "       47.2727643 , 23.03113357, 49.45705133, 47.6906547 , 56.96206365,\n",
       "       68.48956095, 61.2656503 , 47.31111309, 38.93474091, 75.73359803,\n",
       "       50.59218434, 50.13929292, 49.75874913, 51.98084761, 48.55639588,\n",
       "       44.26337993, 44.53141059, 49.6724673 , 44.56575229, 42.87154217,\n",
       "       51.06430228, 47.45022783, 65.03992989, 23.49030192, 60.91506852,\n",
       "       62.46085192, 29.26609768, 46.57312406, 46.28559134, 35.92488305,\n",
       "       42.22183312, 38.89424155, 67.52270443, 59.35678393, 62.71555095,\n",
       "       57.21672064, 38.70948229, 44.75479734, 54.89374561, 37.77872191,\n",
       "       57.1299843 , 47.59674602, 46.25179192, 57.10959968, 54.44263311,\n",
       "       46.39033834, 61.59329803, 39.18936672, 56.15935607, 55.93101258,\n",
       "       46.90453561, 53.26133022, 37.48886424, 59.24027019, 48.15097864,\n",
       "       44.77276979, 60.49009226, 42.95656309, 35.91538704, 34.43370826,\n",
       "       56.06009951, 37.19570648, 67.54794182, 29.18070592, 66.96456368,\n",
       "       52.11017467, 49.03286888, 44.55080913, 53.99136114, 49.62365298,\n",
       "       61.03301882, 51.14227649, 51.50301761, 46.36387788, 49.43054376,\n",
       "       53.07801769, 32.89831607, 36.51814578, 57.43264094, 51.70865438,\n",
       "       48.16016664, 50.18433933, 53.47581705, 44.6024032 , 42.21695275,\n",
       "       51.95845255, 40.21627222, 54.08252756, 32.97416396, 60.29155637,\n",
       "       54.72597482, 52.56029734, 59.82690984, 66.65474444, 60.14370065,\n",
       "       31.59125769, 37.20423033, 43.75181422, 50.2609105 , 55.1765902 ,\n",
       "       42.74256187, 51.86766764, 42.44617068, 43.88482197, 35.93338903,\n",
       "       40.76766754, 36.48315394, 40.24126747, 60.53641797, 40.50601111,\n",
       "       76.32382065, 54.93317901, 51.84836124, 41.4164222 , 57.00309879,\n",
       "       44.24362174, 51.22009815, 75.60084538, 49.039401  , 61.49273326,\n",
       "       42.96823575, 49.6501151 , 67.70800636, 43.73032942, 68.12448558,\n",
       "       57.07751935, 44.37533224, 56.32407739, 59.7255445 , 56.21809962,\n",
       "       34.2977528 , 42.72862824, 47.52481364, 49.25566571, 56.20672098,\n",
       "       51.77701001, 36.64655641, 53.80197851, 56.10585745, 55.59790448,\n",
       "       60.80780726, 58.33922155, 54.59180079, 49.29834289, 33.39039066,\n",
       "       54.29618219, 52.07687687, 52.71578837, 37.23251424, 39.1894346 ,\n",
       "       60.53152853, 49.60444846, 56.81500697, 50.28318376, 50.29756139,\n",
       "       59.38283806, 44.83955272, 50.96120777, 45.37724711, 45.65503773,\n",
       "       46.90827877, 52.22133772, 45.21251378, 62.55756126, 41.05392698,\n",
       "       48.13128356, 45.60268942, 64.46977884, 51.96554777, 60.31844539,\n",
       "       35.14439627, 52.67050266, 58.89630796, 50.82283989, 60.65480375,\n",
       "       44.8271155 , 64.0934744 , 72.98898124, 46.3716144 , 45.54497479,\n",
       "       64.53384477, 65.79572146, 44.77139973, 45.79813183, 47.18215391,\n",
       "       36.55549489, 40.81348054, 39.95859233, 42.32202435, 49.65315113,\n",
       "       52.34214733, 65.50500493, 40.01645959, 59.84322398, 47.86011156,\n",
       "       49.5053629 , 56.74819492, 38.77277978, 53.82409746, 51.66452208,\n",
       "       54.92451264, 52.89168644, 74.5530014 , 43.62260016, 44.69003045,\n",
       "       43.76859474, 44.44522881, 43.62612873, 61.89016531, 64.20504248,\n",
       "       44.29253706, 41.67644427, 54.71415556, 44.47776956, 56.32931818,\n",
       "       52.02923021, 34.84255885, 65.47505201, 67.95877673, 43.8721131 ,\n",
       "       46.1229844 , 52.85865391, 53.3445679 , 56.58544273, 70.10204539,\n",
       "       48.23052773, 42.01702755, 36.20680772, 42.6906996 , 49.66873027,\n",
       "       67.94557864, 44.82388701, 52.23787952, 49.83577104, 61.88393273,\n",
       "       75.26932426, 44.69131227, 45.10560557, 60.44160877, 56.8189149 ,\n",
       "       68.46707326, 55.83928185, 46.40707909, 55.90654831, 61.08703581,\n",
       "       58.20482181, 55.07274031, 60.6667469 , 61.6929559 , 63.82158991,\n",
       "       56.48709888, 48.3288192 , 51.46713686, 62.06508967, 41.83064329,\n",
       "       53.68673309, 46.06661188, 50.28744823, 62.78451863, 51.91099068,\n",
       "       50.46436548, 36.40143859, 57.46253566, 56.45484181, 71.63254723,\n",
       "       46.92221765, 52.19150328, 52.49383684, 65.7745328 , 49.04704468,\n",
       "       52.79021526, 56.0789651 , 51.86609123, 45.53566385, 51.94089993,\n",
       "       60.7363175 , 39.73484701, 51.32969674, 42.99879185, 61.95046629,\n",
       "       34.76813095, 44.41078153, 53.77211875, 65.65524029, 49.34249739,\n",
       "       44.44800473, 68.81157069, 35.519861  , 28.01194043, 54.4001445 ,\n",
       "       44.97945776, 39.78767183, 57.08356447, 52.43800714, 44.35921369,\n",
       "       37.19695601, 58.72457328, 56.50201178, 49.00824136, 68.46636996,\n",
       "       39.29915234, 34.74474829, 43.0809193 , 49.54413984, 52.43339449,\n",
       "       47.58763942, 53.52055397, 37.48460576, 64.43764604, 49.17848822,\n",
       "       61.17295832, 53.42725346, 54.56753219, 55.6976728 , 54.4770856 ,\n",
       "       56.4272276 , 63.2915253 , 51.9652117 , 57.09003758, 49.10264306,\n",
       "       64.40117215, 43.23607698, 68.00940433, 49.59842049, 35.69224898,\n",
       "       51.28104415, 43.18948343, 58.40643549, 43.47376021, 45.53816567,\n",
       "       31.10459269, 45.47693681, 25.76120673, 34.16097177, 57.60414656,\n",
       "       57.85800159, 54.25457562, 40.33023857, 49.52288644, 49.96397461,\n",
       "       38.41635311, 65.03398302, 58.77362291, 47.79035826, 50.26885839,\n",
       "       52.08382808, 29.58265132, 47.52822617, 43.18015752, 39.9837999 ,\n",
       "       47.18899707, 67.97686527, 56.40842861, 44.2882101 , 55.72582781,\n",
       "       63.99355437, 59.24633683, 50.5963037 , 43.53063222, 56.98223314,\n",
       "       53.93485385, 58.9519322 , 56.35171802, 60.49552715, 44.64764788])"
      ]
     },
     "execution_count": 50,
     "metadata": {},
     "output_type": "execute_result"
    }
   ],
   "source": [
    "data = np.random.normal(loc=50, scale=10, size=1000)  # Mean=50, Std Dev=10, Size=1000\n",
    "data"
   ]
  },
  {
   "cell_type": "code",
   "execution_count": 52,
   "id": "443b6f36-707f-4f71-9c52-dd454e094105",
   "metadata": {},
   "outputs": [
    {
     "data": {
      "text/plain": [
       "(array([  1.,   3.,   5.,  17.,  34.,  62.,  94., 135., 115., 155., 133.,\n",
       "         94.,  61.,  43.,  27.,  11.,   8.,   1.,   0.,   1.]),\n",
       " array([17.5873266 , 21.13432601, 24.68132543, 28.22832485, 31.77532426,\n",
       "        35.32232368, 38.86932309, 42.41632251, 45.96332192, 49.51032134,\n",
       "        53.05732075, 56.60432017, 60.15131958, 63.698319  , 67.24531841,\n",
       "        70.79231783, 74.33931725, 77.88631666, 81.43331608, 84.98031549,\n",
       "        88.52731491]),\n",
       " <BarContainer object of 20 artists>)"
      ]
     },
     "execution_count": 52,
     "metadata": {},
     "output_type": "execute_result"
    },
    {
     "data": {
      "image/png": "[encoded data removed]",
      "text/plain": [
       "<Figure size 640x480 with 1 Axes>"
      ]
     },
     "metadata": {},
     "output_type": "display_data"
    }
   ],
   "source": [
    "plt.hist(data, bins=20, color='skyblue', edgecolor='black', alpha=0.7)"
   ]
  },
  {
   "cell_type": "code",
   "execution_count": 54,
   "id": "f2c2189c-cf5c-452f-935d-99e0e39d2c44",
   "metadata": {},
   "outputs": [
    {
     "data": {
      "image/png": "[encoded data removed]",
      "text/plain": [
       "<Figure size 640x480 with 1 Axes>"
      ]
     },
     "metadata": {},
     "output_type": "display_data"
    }
   ],
   "source": [
    "plt.hist(data, bins=20, color='skyblue', edgecolor='black', alpha=0.7)\n",
    "plt.title(\"Distribution of Numerical Dataset\", fontsize=16)\n",
    "plt.xlabel(\"Value Range\", fontsize=12)\n",
    "plt.ylabel(\"Frequency\", fontsize=12)\n",
    "plt.grid(True, linestyle='--', alpha=0.6)\n",
    "plt.show()"
   ]
  },
  {
   "cell_type": "markdown",
   "id": "400cd807-c3dc-4271-88ec-5b0aa78ad581",
   "metadata": {},
   "source": [
    "QUESTION 8"
   ]
  },
  {
   "cell_type": "code",
   "execution_count": 57,
   "id": "f5028f7d-a1ab-48f7-ba35-61ab5bf29c3b",
   "metadata": {},
   "outputs": [
    {
     "data": {
      "text/plain": [
       "array([[ 1,  2,  3,  4],\n",
       "       [ 5,  6,  7,  8],\n",
       "       [ 9, 10, 11, 12],\n",
       "       [13, 14, 15, 16]])"
      ]
     },
     "execution_count": 57,
     "metadata": {},
     "output_type": "execute_result"
    }
   ],
   "source": [
    "array_2d = np.arange(1, 17).reshape(4, 4)\n",
    "array_2d"
   ]
  },
  {
   "cell_type": "code",
   "execution_count": 59,
   "id": "13e08fb9-f722-4225-b1e3-26ed72f6ae33",
   "metadata": {},
   "outputs": [
    {
     "data": {
      "text/plain": [
       "array([[ 7,  8],\n",
       "       [11, 12]])"
      ]
     },
     "execution_count": 59,
     "metadata": {},
     "output_type": "execute_result"
    }
   ],
   "source": [
    "sub_array = array_2d[1:3, 2:4]\n",
    "sub_array"
   ]
  },
  {
   "cell_type": "markdown",
   "id": "f5fe68e9-1b0f-4f31-9dfb-906b6ff6fc20",
   "metadata": {},
   "source": [
    "QUESTION 9"
   ]
  },
  {
   "cell_type": "code",
   "execution_count": 62,
   "id": "c8b53294-d31f-4b6b-bfb2-f2df5f906228",
   "metadata": {},
   "outputs": [
    {
     "data": {
      "text/html": [
       "<div>\n",
       "<style scoped>\n",
       "    .dataframe tbody tr th:only-of-type {\n",
       "        vertical-align: middle;\n",
       "    }\n",
       "\n",
       "    .dataframe tbody tr th {\n",
       "        vertical-align: top;\n",
       "    }\n",
       "\n",
       "    .dataframe thead th {\n",
       "        text-align: right;\n",
       "    }\n",
       "</style>\n",
       "<table border=\"1\" class=\"dataframe\">\n",
       "  <thead>\n",
       "    <tr style=\"text-align: right;\">\n",
       "      <th></th>\n",
       "      <th>ID</th>\n",
       "      <th>Name</th>\n",
       "      <th>Score</th>\n",
       "      <th>Subject</th>\n",
       "      <th>Grade</th>\n",
       "    </tr>\n",
       "  </thead>\n",
       "  <tbody>\n",
       "    <tr>\n",
       "      <th>0</th>\n",
       "      <td>3</td>\n",
       "      <td>Charlie</td>\n",
       "      <td>78</td>\n",
       "      <td>Math</td>\n",
       "      <td>B</td>\n",
       "    </tr>\n",
       "    <tr>\n",
       "      <th>1</th>\n",
       "      <td>4</td>\n",
       "      <td>David</td>\n",
       "      <td>88</td>\n",
       "      <td>Science</td>\n",
       "      <td>A</td>\n",
       "    </tr>\n",
       "  </tbody>\n",
       "</table>\n",
       "</div>"
      ],
      "text/plain": [
       "   ID     Name  Score  Subject Grade\n",
       "0   3  Charlie     78     Math     B\n",
       "1   4    David     88  Science     A"
      ]
     },
     "execution_count": 62,
     "metadata": {},
     "output_type": "execute_result"
    }
   ],
   "source": [
    "df1 = pd.DataFrame({\n",
    "    'ID': [1, 2, 3, 4],\n",
    "    'Name': ['Alice', 'Bob', 'Charlie', 'David'],\n",
    "    'Score': [85, 90, 78, 88]\n",
    "})\n",
    "df2 = pd.DataFrame({\n",
    "    'ID': [3, 4, 5, 6],\n",
    "    'Subject': ['Math', 'Science', 'History', 'English'],\n",
    "    'Grade': ['B', 'A', 'C', 'B+']\n",
    "})\n",
    "merged_df = pd.merge(df1, df2, on='ID', how='inner')\n",
    "merged_df"
   ]
  },
  {
   "cell_type": "markdown",
   "id": "e1883515-1f2c-454f-9e3b-c49642d2b07c",
   "metadata": {},
   "source": [
    "QUESTION 10\n"
   ]
  },
  {
   "cell_type": "code",
   "execution_count": 65,
   "id": "0bb1f944-fcb1-4d8b-a6dc-27d11d423b6b",
   "metadata": {},
   "outputs": [
    {
     "data": {
      "text/plain": [
       "<matplotlib.collections.PathCollection at 0x238dcd4bad0>"
      ]
     },
     "execution_count": 65,
     "metadata": {},
     "output_type": "execute_result"
    },
    {
     "data": {
      "image/png": "[encoded data removed]",
      "text/plain": [
       "<Figure size 800x600 with 1 Axes>"
      ]
     },
     "metadata": {},
     "output_type": "display_data"
    }
   ],
   "source": [
    "np.random.seed(42)\n",
    "x = np.random.rand(50) * 100\n",
    "y = np.random.rand(50) * 50\n",
    "plt.figure(figsize=(8, 6))\n",
    "plt.scatter(x, y, c='purple', marker='s', edgecolors='black', s=100, alpha=0.7, label='Data Points')"
   ]
  },
  {
   "cell_type": "code",
   "execution_count": 67,
   "id": "a641b986-b578-410a-9af3-bb7632bd65ea",
   "metadata": {
    "scrolled": true
   },
   "outputs": [
    {
     "data": {
      "image/png": "[encoded data removed]",
      "text/plain": [
       "<Figure size 800x600 with 1 Axes>"
      ]
     },
     "metadata": {},
     "output_type": "display_data"
    }
   ],
   "source": [
    "plt.figure(figsize=(8, 6))\n",
    "plt.scatter(x, y, c='blue', marker='o', label='points', s=100, edgecolors='black')\n",
    "plt.title('Scatter Plot Comparing Two Variables', fontsize=16)\n",
    "plt.xlabel('Variable 1', fontsize=12)\n",
    "plt.ylabel('Variable 2', fontsize=12)\n",
    "plt.legend(loc='upper left')\n",
    "plt.grid(True, linestyle='--', alpha=0.6)\n",
    "plt.show()"
   ]
  },
  {
   "cell_type": "code",
   "execution_count": null,
   "id": "eb816c5d-bd5c-4d5d-8da2-c24f442530e2",
   "metadata": {},
   "outputs": [],
   "source": []
  }
 ],
 "metadata": {
  "kernelspec": {
   "display_name": "Python 3 (ipykernel)",
   "language": "python",
   "name": "python3"
  },
  "language_info": {
   "codemirror_mode": {
    "name": "ipython",
    "version": 3
   },
   "file_extension": ".py",
   "mimetype": "text/x-python",
   "name": "python",
   "nbconvert_exporter": "python",
   "pygments_lexer": "ipython3",
   "version": "3.11.7"
  }
 },
 "nbformat": 4,
 "nbformat_minor": 5
}
