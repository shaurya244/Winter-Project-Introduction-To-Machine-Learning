{
 "cells": [
  {
   "cell_type": "markdown",
   "id": "65629f42",
   "metadata": {},
   "source": [
    "# <center>ASSIGNMENT 1</center>"
   ]
  },
  {
   "cell_type": "markdown",
   "id": "8d16cb88",
   "metadata": {},
   "source": [
    "## 1. Using NumPy, create a 3D array of shape (4, 4, 4) filled with random numbers between 1 and 100. Find the z score normalisation of each element of the array."
   ]
  },
  {
   "cell_type": "code",
   "execution_count": 6,
   "id": "262b6c69",
   "metadata": {},
   "outputs": [
    {
     "name": "stdout",
     "output_type": "stream",
     "text": [
      "array : \n",
      " [[[  5  63  81  60]\n",
      "  [ 84  68  31  86]\n",
      "  [ 62  33  15  35]\n",
      "  [  1  63  38  16]]\n",
      "\n",
      " [[  3  29  83  16]\n",
      "  [ 72  25  11  39]\n",
      "  [  7  54  89  79]\n",
      "  [ 41  17 100  46]]\n",
      "\n",
      " [[ 55  86  69  89]\n",
      "  [ 20  61  18  21]\n",
      "  [ 54  44  62  98]\n",
      "  [ 56  76  50  54]]\n",
      "\n",
      " [[ 99  77  10  21]\n",
      "  [ 68  76  51  89]\n",
      "  [ 52  22  17  20]\n",
      "  [ 44  14  92  46]]]\n",
      "----------------------------------------------------------------------------------------------------\n",
      "z score : \n",
      " [[[-1.57391075  0.48108633  1.11884405  0.37479338]\n",
      "  [ 1.225137    0.65824125 -0.65270516  1.29599897]\n",
      "  [ 0.44565535 -0.58184319 -1.21960091 -0.51098123]\n",
      "  [-1.71563469  0.48108633 -0.40468827 -1.18416993]]\n",
      "\n",
      " [[-1.64477272 -0.72356713  1.18970602 -1.18416993]\n",
      "  [ 0.79996519 -0.86529107 -1.36132485 -0.36925729]\n",
      "  [-1.50304878  0.16220747  1.40229192  1.04798208]\n",
      "  [-0.29839532 -1.14873894  1.79203275 -0.1212404 ]]\n",
      "\n",
      " [[ 0.19763846  1.29599897  0.69367224  1.40229192]\n",
      "  [-1.04244599  0.41022436 -1.11330796 -1.007015  ]\n",
      "  [ 0.16220747 -0.19210237  0.44565535  1.72117078]\n",
      "  [ 0.23306944  0.94168913  0.02048354  0.16220747]]\n",
      "\n",
      " [[ 1.75660176  0.97712011 -1.39675583 -1.007015  ]\n",
      "  [ 0.65824125  0.94168913  0.05591452  1.40229192]\n",
      "  [ 0.09134551 -0.97158402 -1.14873894 -1.04244599]\n",
      "  [-0.19210237 -1.25503189  1.50858487 -0.1212404 ]]]\n"
     ]
    }
   ],
   "source": [
    "import numpy as np\n",
    "\n",
    "arr = np.random.randint(low=1, high=101, size = (4,4,4))\n",
    "\n",
    "mean = np.mean(arr)\n",
    "std_dev = np.std(arr)\n",
    "\n",
    "z_score =  (arr - mean)/std_dev\n",
    "\n",
    "print('array : \\n', arr)\n",
    "print('-'*100)\n",
    "print('z score : \\n', z_score)"
   ]
  },
  {
   "cell_type": "markdown",
   "id": "dc60ef3c",
   "metadata": {},
   "source": [
    "## 2. Using Pandas, filter the rows in the Iris dataset where the petal length is greater than 3.0, and display the filtered data"
   ]
  },
  {
   "cell_type": "code",
   "execution_count": 38,
   "id": "fc36fa6d",
   "metadata": {},
   "outputs": [
    {
     "data": {
      "text/html": [
       "<div>\n",
       "<style scoped>\n",
       "    .dataframe tbody tr th:only-of-type {\n",
       "        vertical-align: middle;\n",
       "    }\n",
       "\n",
       "    .dataframe tbody tr th {\n",
       "        vertical-align: top;\n",
       "    }\n",
       "\n",
       "    .dataframe thead th {\n",
       "        text-align: right;\n",
       "    }\n",
       "</style>\n",
       "<table border=\"1\" class=\"dataframe\">\n",
       "  <thead>\n",
       "    <tr style=\"text-align: right;\">\n",
       "      <th></th>\n",
       "      <th>sepal length (cm)</th>\n",
       "      <th>sepal width (cm)</th>\n",
       "      <th>petal length (cm)</th>\n",
       "      <th>petal width (cm)</th>\n",
       "    </tr>\n",
       "  </thead>\n",
       "  <tbody>\n",
       "    <tr>\n",
       "      <th>50</th>\n",
       "      <td>7.0</td>\n",
       "      <td>3.2</td>\n",
       "      <td>4.7</td>\n",
       "      <td>1.4</td>\n",
       "    </tr>\n",
       "    <tr>\n",
       "      <th>51</th>\n",
       "      <td>6.4</td>\n",
       "      <td>3.2</td>\n",
       "      <td>4.5</td>\n",
       "      <td>1.5</td>\n",
       "    </tr>\n",
       "    <tr>\n",
       "      <th>52</th>\n",
       "      <td>6.9</td>\n",
       "      <td>3.1</td>\n",
       "      <td>4.9</td>\n",
       "      <td>1.5</td>\n",
       "    </tr>\n",
       "    <tr>\n",
       "      <th>53</th>\n",
       "      <td>5.5</td>\n",
       "      <td>2.3</td>\n",
       "      <td>4.0</td>\n",
       "      <td>1.3</td>\n",
       "    </tr>\n",
       "    <tr>\n",
       "      <th>54</th>\n",
       "      <td>6.5</td>\n",
       "      <td>2.8</td>\n",
       "      <td>4.6</td>\n",
       "      <td>1.5</td>\n",
       "    </tr>\n",
       "  </tbody>\n",
       "</table>\n",
       "</div>"
      ],
      "text/plain": [
       "    sepal length (cm)  sepal width (cm)  petal length (cm)  petal width (cm)\n",
       "50                7.0               3.2                4.7               1.4\n",
       "51                6.4               3.2                4.5               1.5\n",
       "52                6.9               3.1                4.9               1.5\n",
       "53                5.5               2.3                4.0               1.3\n",
       "54                6.5               2.8                4.6               1.5"
      ]
     },
     "execution_count": 38,
     "metadata": {},
     "output_type": "execute_result"
    }
   ],
   "source": [
    "from sklearn import datasets\n",
    "\n",
    "iris = datasets.load_iris()\n",
    "\n",
    "import pandas as pd\n",
    "\n",
    "\n",
    "df = pd.DataFrame(data=iris.data, columns = iris.feature_names)\n",
    "df.head()\n",
    "\n",
    "filter_data = df[df[\"petal length (cm)\"] > 3.0]\n",
    "\n",
    "filter_data.head()"
   ]
  },
  {
   "cell_type": "markdown",
   "id": "751ae772",
   "metadata": {},
   "source": [
    "## 3. Using Matplotlib, plot a line graph showing the trend of a numerical dataset. Customize the plot with title, axis labels, and a legend."
   ]
  },
  {
   "cell_type": "code",
   "execution_count": 78,
   "id": "1fbb38aa",
   "metadata": {},
   "outputs": [
    {
     "data": {
      "image/png": "[encoded data removed]",
      "text/plain": [
       "<Figure size 640x480 with 1 Axes>"
      ]
     },
     "metadata": {},
     "output_type": "display_data"
    }
   ],
   "source": [
    "import numpy as np\n",
    "import matplotlib.pyplot as plt\n",
    "\n",
    "x_data = np.linspace(1, 10, 10)\n",
    "y_data = 2.7182818284**x_data\n",
    "\n",
    "plt.plot(x_data, y_data, label = 'y=e^x')\n",
    "plt.xlabel('x-axis')\n",
    "plt.ylabel('y-axis')\n",
    "\n",
    "plt.title('Exponential function')\n",
    "plt.legend(loc = 'lower right')\n",
    "plt.show()\n",
    "\n"
   ]
  },
  {
   "cell_type": "markdown",
   "id": "b0777df2",
   "metadata": {},
   "source": [
    "## 4. Create a Pandas DataFrame with random values with at least 3 columns and perform the following operations: (i) Replace NaN values with the mean of the column. (ii) Sort the DataFrame based on any two columns."
   ]
  },
  {
   "cell_type": "code",
   "execution_count": 60,
   "id": "6b872a2c",
   "metadata": {},
   "outputs": [
    {
     "name": "stdout",
     "output_type": "stream",
     "text": [
      "      A     B     C\n",
      "0  53.0   NaN   NaN\n",
      "1   NaN   NaN  94.0\n",
      "2  20.0  88.0   NaN\n",
      "3   NaN   NaN  41.0\n",
      "4   NaN   NaN   NaN\n",
      "5  60.0  85.0  16.0\n",
      "6  57.0  42.0  10.0\n",
      "7  45.0   3.0  59.0\n",
      "8   NaN  34.0  98.0\n",
      "9  99.0   3.0   NaN\n",
      "--------------------------------------------------\n",
      "           A     B     C\n",
      "0  53.000000  42.5  53.0\n",
      "1  55.666667  42.5  94.0\n",
      "2  20.000000  88.0  53.0\n",
      "3  55.666667  42.5  41.0\n",
      "4  55.666667  42.5  53.0\n",
      "5  60.000000  85.0  16.0\n",
      "6  57.000000  42.0  10.0\n",
      "7  45.000000   3.0  59.0\n",
      "8  55.666667  34.0  98.0\n",
      "9  99.000000   3.0  53.0\n",
      "--------------------------------------------------\n",
      "           A     B     C\n",
      "9  99.000000   3.0  53.0\n",
      "7  45.000000   3.0  59.0\n",
      "8  55.666667  34.0  98.0\n",
      "6  57.000000  42.0  10.0\n",
      "3  55.666667  42.5  41.0\n",
      "0  53.000000  42.5  53.0\n",
      "4  55.666667  42.5  53.0\n",
      "1  55.666667  42.5  94.0\n",
      "5  60.000000  85.0  16.0\n",
      "2  20.000000  88.0  53.0\n"
     ]
    }
   ],
   "source": [
    "import pandas as pd\n",
    "import numpy as np\n",
    "\n",
    "data = np.random.randint(1, 100, (10,3))\n",
    "df = pd.DataFrame(data = data, columns = [\"A\", \"B\", \"C\"])\n",
    "\n",
    "nan_inds1 = np.random.choice(df.index, size=4, replace=False)\n",
    "nan_inds2 = np.random.choice(df.index, size=4, replace=False)\n",
    "nan_inds3 = np.random.choice(df.index, size=4, replace=False)\n",
    "\n",
    "df.loc[nan_inds1, \"A\"] = np.nan\n",
    "df.loc[nan_inds2, \"B\"] = np.nan\n",
    "df.loc[nan_inds3, \"C\"] = np.nan\n",
    "\n",
    "print(df)\n",
    "\n",
    "df.fillna(df.mean(), inplace = True)\n",
    "\n",
    "print('-'*50)\n",
    "\n",
    "print(df)\n",
    "print('-'*50)\n",
    "\n",
    "\n",
    "#ii\n",
    "\n",
    "sort_df = df.sort_values(by=[\"B\", \"C\"])\n",
    "\n",
    "print(sort_df)\n"
   ]
  },
  {
   "cell_type": "markdown",
   "id": "54f2ebcd",
   "metadata": {},
   "source": [
    "## 5. Using NumPy, calculate the dot product of two matrices and find the determinant of the resulting matrix.\n"
   ]
  },
  {
   "cell_type": "code",
   "execution_count": 15,
   "id": "84005caf",
   "metadata": {},
   "outputs": [
    {
     "name": "stdout",
     "output_type": "stream",
     "text": [
      "array1 :\n",
      " [[4 4 9]\n",
      " [2 6 6]\n",
      " [6 6 9]]\n",
      "----------------------------------------------------------------------------------------------------\n",
      " array2 :\n",
      " [[2 4 5]\n",
      " [5 5 3]\n",
      " [4 9 8]]\n",
      "----------------------------------------------------------------------------------------------------\n",
      " resultant :\n",
      " [[ 64 117 104]\n",
      " [ 58  92  76]\n",
      " [ 78 135 120]]\n",
      "----------------------------------------------------------------------------------------------------\n",
      " determinant :  -2808.0000000000023\n"
     ]
    }
   ],
   "source": [
    "import numpy as np\n",
    "\n",
    "arr1 = np.random.randint(1, 11, size = (3,3))\n",
    "arr2 = np.random.randint(1, 11, size = (3,3))\n",
    "res_arr = arr1.dot(arr2)\n",
    "\n",
    "print('array1 :\\n', arr1)\n",
    "print('-'*100)\n",
    "print(' array2 :\\n', arr2)\n",
    "print('-'*100)\n",
    "print(' resultant :\\n', res_arr)\n",
    "print('-'*100)\n",
    "\n",
    "\n",
    "# det = np.det(res_arr) ->> wrong\n",
    "\n",
    "det  = np.linalg.det( res_arr)\n",
    "print(' determinant : ',det)"
   ]
  },
  {
   "cell_type": "markdown",
   "id": "0903e551",
   "metadata": {},
   "source": [
    "## 6. With Pandas, group a DataFrame by a categorical column and calculate the sum of another numerical column for each group."
   ]
  },
  {
   "cell_type": "code",
   "execution_count": 66,
   "id": "e9a75dfe",
   "metadata": {},
   "outputs": [
    {
     "name": "stdout",
     "output_type": "stream",
     "text": [
      "  Category  Num\n",
      "0        A   10\n",
      "1        B   20\n",
      "2        A   30\n",
      "3        C   40\n",
      "4        C   50\n",
      "5        B   60\n",
      "6        A   70\n",
      "7        C   80\n",
      "8        B   90\n",
      "9        A  100\n",
      "--------------------------------------------------\n",
      "Category\n",
      "A    210\n",
      "B    170\n",
      "C    170\n",
      "Name: Num, dtype: int64\n"
     ]
    }
   ],
   "source": [
    "import pandas as pd\n",
    "\n",
    "data = {'Category': ['A', 'B', 'A','C', 'C','B', 'A','C', 'B', 'A'],\n",
    "        'Num': [10, 20, 30, 40, 50, 60, 70, 80, 90, 100]}\n",
    "\n",
    "df = pd.DataFrame(data)\n",
    "print(df)\n",
    "\n",
    "grouped = df.groupby('Category')['Num'].sum()\n",
    "\n",
    "print('-'*50)\n",
    "\n",
    "print(grouped)\n",
    "\n"
   ]
  },
  {
   "cell_type": "markdown",
   "id": "e6e3c31d",
   "metadata": {},
   "source": [
    "## 7. Using Matplotlib, create a histogram to show the distribution of a numerical dataset. Customize the number of bins and add grid lines for better readability."
   ]
  },
  {
   "cell_type": "code",
   "execution_count": 83,
   "id": "1cdf9dd5",
   "metadata": {},
   "outputs": [
    {
     "data": {
      "image/png": "[encoded data removed]",
      "text/plain": [
       "<Figure size 1200x1000 with 1 Axes>"
      ]
     },
     "metadata": {},
     "output_type": "display_data"
    }
   ],
   "source": [
    "import numpy as np\n",
    "import matplotlib.pyplot as plt\n",
    "\n",
    "data = np.random.randn(500)\n",
    "plt.figure(figsize=(12, 10))\n",
    "plt.hist(data, bins=25, color='purple', edgecolor = 'black', alpha=.5)\n",
    "plt.grid(True)\n",
    "plt.title('Histogram of Random Data')\n",
    "plt.xlabel('Values')\n",
    "plt.ylabel('Frequency')\n",
    "plt.show()"
   ]
  },
  {
   "cell_type": "markdown",
   "id": "78947216",
   "metadata": {},
   "source": [
    "## 8. Using NumPy, create a 2D array and perform a slicing operation to extract a specific sub-array."
   ]
  },
  {
   "cell_type": "code",
   "execution_count": 20,
   "id": "016752b9",
   "metadata": {},
   "outputs": [
    {
     "name": "stdout",
     "output_type": "stream",
     "text": [
      "actual array : [87 53 64 20  9 74 10  9 16 81]\n",
      "--------------------------------------------------\n",
      "sliced array : [64 20  9 74 10  9]\n"
     ]
    }
   ],
   "source": [
    "import numpy as np\n",
    "\n",
    "array = np.random.randint(1, 100, 10)\n",
    "\n",
    "sliced_arr = array[2 : 8 : 1]\n",
    "\n",
    "print('actual array :', array)\n",
    "print('-'*50)\n",
    "print('sliced array :', sliced_arr)"
   ]
  },
  {
   "cell_type": "markdown",
   "id": "98c0692e",
   "metadata": {},
   "source": [
    "## 9. Using Pandas, perform a merge operation between two DataFrames based on a common column for dataset of your choice."
   ]
  },
  {
   "cell_type": "code",
   "execution_count": 70,
   "id": "92700820",
   "metadata": {},
   "outputs": [
    {
     "name": "stdout",
     "output_type": "stream",
     "text": [
      "  Name  Roll no  Marks\n",
      "1    A        1     76\n",
      "2    B        2     87\n",
      "3    C        3     69\n",
      "4    D        4     92\n",
      "5    E        5     83\n",
      "6    F        6     77\n"
     ]
    }
   ],
   "source": [
    "import pandas as pd\n",
    "data1 = {\n",
    "    \n",
    "    'Name': ['A', 'B', 'C', 'D', 'E', 'F'],\n",
    "    'Roll no': [1,2,3,4,5,6]\n",
    "}\n",
    "df1 = pd.DataFrame(data1)\n",
    "\n",
    "data2 = {\n",
    "    'Roll no': [1,2,3,4,5,6],\n",
    "    'Marks': [76, 87, 69, 92, 83, 77]\n",
    "}\n",
    "df2 = pd.DataFrame(data2)\n",
    "\n",
    "merged_df = pd.merge(df1, df2, on='Roll no')\n",
    "merged_df.index = range(1, 7) \n",
    "print(merged_df)\n"
   ]
  },
  {
   "cell_type": "markdown",
   "id": "1a10ba1f",
   "metadata": {},
   "source": [
    "## 10. Using Matplotlib, create a scatter plot comparing two numerical variables in the dataset of your choice. Customize the plot by changing the color and shape of the data points."
   ]
  },
  {
   "cell_type": "code",
   "execution_count": 84,
   "id": "ae3cd329",
   "metadata": {},
   "outputs": [
    {
     "data": {
      "image/png": "[encoded data removed]",
      "text/plain": [
       "<Figure size 1200x1000 with 1 Axes>"
      ]
     },
     "metadata": {},
     "output_type": "display_data"
    }
   ],
   "source": [
    "import matplotlib.pyplot as plt\n",
    "import pandas as pd\n",
    "from sklearn import datasets\n",
    "\n",
    "iris = datasets.load_iris()\n",
    "\n",
    "df = pd.DataFrame(data=iris.data, columns=iris.feature_names)\n",
    "\n",
    "\n",
    "plt.figure(figsize=(12,10))\n",
    "\n",
    "plt.scatter(df['sepal length (cm)'], df['sepal width (cm)'], color='green', marker='o', edgecolor='black', alpha=0.7)\n",
    "\n",
    "plt.title('Sepal Length vs Sepal Width')\n",
    "plt.xlabel('Sepal Length (cm)')\n",
    "plt.ylabel('Sepal Width (cm)')\n",
    "\n",
    "plt.grid(True)\n",
    "plt.show()\n"
   ]
  },
  {
   "cell_type": "code",
   "execution_count": null,
   "id": "7adacf33",
   "metadata": {},
   "outputs": [],
   "source": []
  }
 ],
 "metadata": {
  "kernelspec": {
   "display_name": "Python 3 (ipykernel)",
   "language": "python",
   "name": "python3"
  },
  "language_info": {
   "codemirror_mode": {
    "name": "ipython",
    "version": 3
   },
   "file_extension": ".py",
   "mimetype": "text/x-python",
   "name": "python",
   "nbconvert_exporter": "python",
   "pygments_lexer": "ipython3",
   "version": "3.11.5"
  }
 },
 "nbformat": 4,
 "nbformat_minor": 5
}
