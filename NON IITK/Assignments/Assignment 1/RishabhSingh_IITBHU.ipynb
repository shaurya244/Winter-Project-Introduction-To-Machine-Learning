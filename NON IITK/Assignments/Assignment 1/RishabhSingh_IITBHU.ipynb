{
 "cells": [
  {
   "cell_type": "markdown",
   "id": "01c4216a-b702-4a45-80ed-91c698fefffc",
   "metadata": {},
   "source": [
    "Q1. Using NumPy, create a 3D array of shape (4, 4, 4) filled with random numbers between 1 and 100. Find the z score normalisation of each element of the array"
   ]
  },
  {
   "cell_type": "code",
   "execution_count": 1,
   "id": "92d4cf57-7535-4e36-a722-059f830beb79",
   "metadata": {},
   "outputs": [
    {
     "data": {
      "text/plain": [
       "array([[[-1.49652239,  0.32364927, -0.25880566, -0.11319193],\n",
       "        [ 0.72408704,  0.97891107, -1.46011896, -0.51362969],\n",
       "        [-0.22240222,  0.32364927, -1.42371552,  0.32364927],\n",
       "        [-1.42371552, -1.31450522, -0.47722626, -0.47722626]],\n",
       "\n",
       "       [[-0.47722626,  1.7797866 , -0.29520909, -0.47722626],\n",
       "        [ 1.27013854,  0.06882524,  0.06882524, -0.29520909],\n",
       "        [-0.11319193,  1.561366  ,  0.50566644,  1.19733167],\n",
       "        [ 1.41575227,  1.74338317, -1.31450522, -1.64213612]],\n",
       "\n",
       "       [[ 0.28724584, -1.35090866, -0.65924342, -1.46011896],\n",
       "        [-0.04038506,  0.10522867, -0.95047089,  0.28724584],\n",
       "        [ 0.97891107, -0.84126059, -0.73205029, -0.91406746],\n",
       "        [ 0.65128017,  0.68768361, -0.87766402,  0.21443897]],\n",
       "\n",
       "       [[ 0.10522867,  1.3429454 ,  1.7797866 ,  1.48855914],\n",
       "        [-0.51362969, -0.62283999, -1.71494299, -0.00398163],\n",
       "        [ 1.37934884, -0.04038506,  1.52496257,  0.10522867],\n",
       "        [ 1.561366  , -0.98687432, -0.91406746,  1.63417287]]])"
      ]
     },
     "execution_count": 1,
     "metadata": {},
     "output_type": "execute_result"
    }
   ],
   "source": [
    "\n",
    "import numpy as np\n",
    "aray=np.random.randint(low=1, high=100, size=(4,4,4))\n",
    "mean=np.mean(aray)\n",
    "std_dev=np.std(aray)\n",
    "z=(aray-mean)/std_dev\n",
    "z\n"
   ]
  },
  {
   "cell_type": "markdown",
   "id": "50f550e6-0d7b-4c9d-b83b-c441296364ba",
   "metadata": {},
   "source": [
    "Q2. Using Pandas, filter the rows in the Iris dataset where the petal length is greater than 3.0, and display the filtered data"
   ]
  },
  {
   "cell_type": "code",
   "execution_count": 2,
   "id": "be711766-ee88-4b30-9f03-9fe9c039ff81",
   "metadata": {},
   "outputs": [
    {
     "name": "stdout",
     "output_type": "stream",
     "text": [
      "     sepal length (cm)  sepal width (cm)  petal length (cm)  petal width (cm)  \\\n",
      "50                 7.0               3.2                4.7               1.4   \n",
      "51                 6.4               3.2                4.5               1.5   \n",
      "52                 6.9               3.1                4.9               1.5   \n",
      "53                 5.5               2.3                4.0               1.3   \n",
      "54                 6.5               2.8                4.6               1.5   \n",
      "..                 ...               ...                ...               ...   \n",
      "145                6.7               3.0                5.2               2.3   \n",
      "146                6.3               2.5                5.0               1.9   \n",
      "147                6.5               3.0                5.2               2.0   \n",
      "148                6.2               3.4                5.4               2.3   \n",
      "149                5.9               3.0                5.1               1.8   \n",
      "\n",
      "     species  \n",
      "50         1  \n",
      "51         1  \n",
      "52         1  \n",
      "53         1  \n",
      "54         1  \n",
      "..       ...  \n",
      "145        2  \n",
      "146        2  \n",
      "147        2  \n",
      "148        2  \n",
      "149        2  \n",
      "\n",
      "[99 rows x 5 columns]\n"
     ]
    }
   ],
   "source": [
    "import pandas as pd\n",
    "from sklearn.datasets import load_iris\n",
    "\n",
    "iris = load_iris()\n",
    "df = pd.DataFrame(iris.data, columns=iris.feature_names)\n",
    "\n",
    "df['species'] = iris.target\n",
    "\n",
    "filtered_df = df[df['petal length (cm)'] > 3.0]\n",
    "\n",
    "print(filtered_df)"
   ]
  },
  {
   "cell_type": "markdown",
   "id": "6d116490-ce8d-4b5d-a905-23fe5420ca64",
   "metadata": {},
   "source": [
    "Q3. Using Matplotlib, plot a line graph showing the trend of a numerical dataset. Customize the plot with title, axis labels, and a legend."
   ]
  },
  {
   "cell_type": "code",
   "execution_count": 3,
   "id": "ac38059c-b35e-44c4-bf3f-3f77394ca3ad",
   "metadata": {},
   "outputs": [
    {
     "data": {
      "image/png": "[encoded data removed]",
      "text/plain": [
       "<Figure size 640x480 with 1 Axes>"
      ]
     },
     "metadata": {},
     "output_type": "display_data"
    }
   ],
   "source": [
    "import matplotlib.pyplot as plt\n",
    "import numpy as np\n",
    "\n",
    "x = np.arange(0, 10, 1)  \n",
    "y = np.array([1, 2, 4, 8, 16, 32, 64, 128, 256, 512]) \n",
    "\n",
    "plt.plot(x, y, label='Exponential Growth', color='b', marker='o')\n",
    "\n",
    "plt.title('Trend of Numerical Data') \n",
    "plt.xlabel('Time (arbitrary units)') \n",
    "plt.ylabel('Value')  \n",
    "\n",
    "plt.legend()\n",
    "\n",
    "plt.show()\n"
   ]
  },
  {
   "cell_type": "markdown",
   "id": "d5329d5a-2bc2-47fa-97d2-75acf10a9807",
   "metadata": {},
   "source": [
    "Q4.Create a Pandas DataFrame with random values with at least 3 columns and perform the following operations: (i) Replace NaN values with the mean of the column. (ii) Sort the DataFrame based on any two columns."
   ]
  },
  {
   "cell_type": "code",
   "execution_count": 4,
   "id": "55a62d22-e864-40ef-bf6e-ac7f592a081c",
   "metadata": {},
   "outputs": [
    {
     "name": "stdout",
     "output_type": "stream",
     "text": [
      "Original DataFrame with NaN values:\n",
      "           A          B          C\n",
      "0  37.454012  95.071431  73.199394\n",
      "1  59.865848  15.601864  15.599452\n",
      "2        NaN  86.617615  60.111501\n",
      "3  70.807258   2.058449  96.990985\n",
      "4  83.244264  21.233911  18.182497\n",
      "5  18.340451        NaN  52.475643\n",
      "6  43.194502  29.122914  61.185289\n",
      "7  13.949386  29.214465        NaN\n",
      "8  45.606998  78.517596  19.967378\n",
      "9  51.423444  59.241457   4.645041\n",
      "\n",
      "DataFrame after replacing NaN values with column means:\n",
      "           A          B          C\n",
      "0  37.454012  95.071431  73.199394\n",
      "1  59.865848  15.601864  15.599452\n",
      "2  47.098463  86.617615  60.111501\n",
      "3  70.807258   2.058449  96.990985\n",
      "4  83.244264  21.233911  18.182497\n",
      "5  18.340451  46.297745  52.475643\n",
      "6  43.194502  29.122914  61.185289\n",
      "7  13.949386  29.214465  44.706353\n",
      "8  45.606998  78.517596  19.967378\n",
      "9  51.423444  59.241457   4.645041\n",
      "\n",
      "Sorted DataFrame based on columns 'A' and 'B':\n",
      "           A          B          C\n",
      "7  13.949386  29.214465  44.706353\n",
      "5  18.340451  46.297745  52.475643\n",
      "0  37.454012  95.071431  73.199394\n",
      "6  43.194502  29.122914  61.185289\n",
      "8  45.606998  78.517596  19.967378\n",
      "2  47.098463  86.617615  60.111501\n",
      "9  51.423444  59.241457   4.645041\n",
      "1  59.865848  15.601864  15.599452\n",
      "3  70.807258   2.058449  96.990985\n",
      "4  83.244264  21.233911  18.182497\n"
     ]
    }
   ],
   "source": [
    "import pandas as pd\n",
    "import numpy as np\n",
    "\n",
    "np.random.seed(42) \n",
    "data = np.random.rand(10, 3) * 100 \n",
    "df = pd.DataFrame(data, columns=['A', 'B', 'C'])\n",
    "\n",
    "df.loc[2, 'A'] = np.nan\n",
    "df.loc[5, 'B'] = np.nan\n",
    "df.loc[7, 'C'] = np.nan\n",
    "\n",
    "print(\"Original DataFrame with NaN values:\")\n",
    "print(df)\n",
    "\n",
    "df_filled = df.apply(lambda col: col.fillna(col.mean()), axis=0)\n",
    "\n",
    "print(\"\\nDataFrame after replacing NaN values with column means:\")\n",
    "print(df_filled)\n",
    "\n",
    "df_sorted = df_filled.sort_values(by=['A', 'B'])\n",
    "\n",
    "print(\"\\nSorted DataFrame based on columns 'A' and 'B':\")\n",
    "print(df_sorted)"
   ]
  },
  {
   "cell_type": "markdown",
   "id": "fb782d84-5494-4abd-80bd-f387de469e36",
   "metadata": {},
   "source": [
    "Q5. Using NumPy, calculate the dot product of two matrices and find the determinant of the resulting matrix."
   ]
  },
  {
   "cell_type": "code",
   "execution_count": 5,
   "id": "b3a15fd0-5bdf-44c1-a217-948b0a4ff77d",
   "metadata": {},
   "outputs": [
    {
     "name": "stdout",
     "output_type": "stream",
     "text": [
      "Matrix A:\n",
      "[[1 0 0]\n",
      " [0 1 0]\n",
      " [0 0 1]]\n",
      "\n",
      "Matrix B:\n",
      "[[9 8 7]\n",
      " [6 5 4]\n",
      " [3 2 1]]\n",
      "\n",
      "Dot Product of A and B (Matrix C):\n",
      "[[9 8 7]\n",
      " [6 5 4]\n",
      " [3 2 1]]\n",
      "\n",
      "Determinant of the resulting matrix C:\n",
      "-8.881784197001244e-16\n"
     ]
    }
   ],
   "source": [
    "import numpy as np\n",
    "\n",
    "A = np.array([[1, 0, 0],\n",
    "              [0, 1, 0],\n",
    "              [0, 0, 1]])\n",
    "\n",
    "B = np.array([[9, 8, 7],\n",
    "              [6, 5, 4],\n",
    "              [3, 2, 1]])\n",
    "\n",
    "C = np.dot(A, B)\n",
    "\n",
    "det_C = np.linalg.det(C)\n",
    "\n",
    "print(\"Matrix A:\")\n",
    "print(A)\n",
    "\n",
    "print(\"\\nMatrix B:\")\n",
    "print(B)\n",
    "\n",
    "print(\"\\nDot Product of A and B (Matrix C):\")\n",
    "print(C)\n",
    "\n",
    "print(\"\\nDeterminant of the resulting matrix C:\")\n",
    "print(det_C)\n"
   ]
  },
  {
   "cell_type": "markdown",
   "id": "2c1fe1a9-3aca-4180-a4f0-e4a44c03393d",
   "metadata": {},
   "source": [
    "Q6. With Pandas, group a DataFrame by a categorical column and calculate the sum of another numerical column for each group."
   ]
  },
  {
   "cell_type": "code",
   "execution_count": 6,
   "id": "c1cd1e4e-d573-47fd-adf2-8fc29abb23a3",
   "metadata": {},
   "outputs": [
    {
     "name": "stdout",
     "output_type": "stream",
     "text": [
      "Name\n",
      "Divyansh    140\n",
      "Rishabh      90\n",
      "Shaurya     130\n",
      "Name: Marks, dtype: int64\n"
     ]
    }
   ],
   "source": [
    "import pandas as pd\n",
    "data = {\n",
    "    'Name': ['Rishabh', 'Shaurya', 'Rishabh', 'Shaurya', 'Rishabh', 'Divyansh', 'Shaurya', 'Divyansh'],\n",
    "    'Marks': [10, 20, 30, 40, 50, 60, 70, 80]\n",
    "}\n",
    "df = pd.DataFrame(data)\n",
    "grouped = df.groupby('Name')['Marks'].sum()\n",
    "print(grouped)"
   ]
  },
  {
   "cell_type": "markdown",
   "id": "6bb9fb17-42d1-4a09-85a0-cb97036e1a3c",
   "metadata": {},
   "source": [
    "Q7. Using Matplotlib, create a histogram to show the distribution of a numerical dataset. Customize the number of bins and add grid lines for better readability."
   ]
  },
  {
   "cell_type": "code",
   "execution_count": 7,
   "id": "d6975198-1f61-44b8-b217-5edb06103b3e",
   "metadata": {},
   "outputs": [
    {
     "data": {
      "image/png": "[encoded data removed]",
      "text/plain": [
       "<Figure size 640x480 with 1 Axes>"
      ]
     },
     "metadata": {},
     "output_type": "display_data"
    }
   ],
   "source": [
    "import matplotlib.pyplot as plt\n",
    "import numpy as np\n",
    "%matplotlib inline\n",
    "data=np.random.randn(1000)\n",
    "plt.grid(True)\n",
    "plt.hist(data, bins=100)\n",
    "plt.show()\n"
   ]
  },
  {
   "cell_type": "markdown",
   "id": "0e4aee97-7a5a-4f29-b1a7-e6aae9ad1e95",
   "metadata": {},
   "source": [
    "Q8. Using NumPy, create a 2D array and perform a slicing operation to extract a specific sub-array."
   ]
  },
  {
   "cell_type": "code",
   "execution_count": 8,
   "id": "4176afb8-11d5-427f-a3a1-a64df714ee2f",
   "metadata": {},
   "outputs": [
    {
     "data": {
      "text/plain": [
       "array([[4]])"
      ]
     },
     "execution_count": 8,
     "metadata": {},
     "output_type": "execute_result"
    }
   ],
   "source": [
    "import numpy as np\n",
    "%matplotlib inline\n",
    "array=np.array([[1,2,3],[3,4,5]])\n",
    "array[1:2,1:2]\n"
   ]
  },
  {
   "cell_type": "markdown",
   "id": "0c0bbfb5-bcee-4905-8bb8-d8a542d44e23",
   "metadata": {},
   "source": [
    "Q9. Using Pandas, perform a merge operation between two DataFrames based on a common column for dataset of your choice."
   ]
  },
  {
   "cell_type": "code",
   "execution_count": 9,
   "id": "8678a32c-d8ce-431c-809b-25893b460f5f",
   "metadata": {},
   "outputs": [
    {
     "name": "stdout",
     "output_type": "stream",
     "text": [
      "   EmployeeID      Name  DepartmentID  Salary DepartmentName  Location\n",
      "0           1   Rishabh           101   70000             HR  Varanasi\n",
      "1           2        Om           102   80000        Finance   Mathura\n",
      "2           3   Shaurya           101   60000             HR  Varanasi\n",
      "3           4  Divyansh           103   75000             IT     Delhi\n",
      "4           5    Aditya           102   90000        Finance   Mathura\n"
     ]
    }
   ],
   "source": [
    "import pandas as pd\n",
    "\n",
    "data1 = {\n",
    "    'EmployeeID': [1, 2, 3, 4, 5],\n",
    "    'Name': ['Rishabh', 'Om', 'Shaurya', 'Divyansh', 'Aditya'],\n",
    "    'DepartmentID': [101, 102, 101, 103, 102],\n",
    "    'Salary': [70000, 80000, 60000, 75000, 90000]\n",
    "}\n",
    "df1 = pd.DataFrame(data1)\n",
    "data2 = {\n",
    "    'DepartmentID': [101, 102, 103],\n",
    "    'DepartmentName': ['HR', 'Finance', 'IT'],\n",
    "    'Location': ['Varanasi', 'Mathura', 'Delhi']\n",
    "}\n",
    "df2 = pd.DataFrame(data2)\n",
    "merged_df = pd.merge(df1, df2, on='DepartmentID', how='inner')\n",
    "print(merged_df)"
   ]
  },
  {
   "cell_type": "markdown",
   "id": "2dd5414b-4c26-4a5c-9d8a-8385061c0e9a",
   "metadata": {},
   "source": [
    "Q10. Using Matplotlib, create a scatter plot comparing two numerical variables in the dataset of your choice. Customize the plot by changing the color and shape of the data points."
   ]
  },
  {
   "cell_type": "code",
   "execution_count": 10,
   "id": "379995a1-9258-4beb-835f-d9b25950988d",
   "metadata": {},
   "outputs": [
    {
     "name": "stderr",
     "output_type": "stream",
     "text": [
      "/var/folders/d8/pj1qx90s68x3nskhvk8q5b140000gn/T/ipykernel_48424/306107863.py:7: UserWarning: You passed a edgecolor/edgecolors ('black') for an unfilled marker ('x').  Matplotlib is ignoring the edgecolor in favor of the facecolor.  This behavior may change in the future.\n",
      "  plt.scatter(x, y, c='purple', marker='x', edgecolor='black', s=100)\n"
     ]
    },
    {
     "data": {
      "image/png": "[encoded data removed]",
      "text/plain": [
       "<Figure size 800x600 with 1 Axes>"
      ]
     },
     "metadata": {},
     "output_type": "display_data"
    }
   ],
   "source": [
    "import matplotlib.pyplot as plt\n",
    "import numpy as np\n",
    "np.random.seed(0)\n",
    "x = np.random.rand(100) * 10  \n",
    "y = 2 * x + np.random.randn(100) * 2  \n",
    "plt.figure(figsize=(8, 6))\n",
    "plt.scatter(x, y, c='purple', marker='x', edgecolor='black', s=100)\n",
    "plt.title('Variable 1 vs Variable 2', fontsize=16)\n",
    "plt.xlabel('Variable 1', fontsize=12)\n",
    "plt.ylabel('Variable 2', fontsize=12)\n",
    "plt.grid(True)\n",
    "plt.show()"
   ]
  }
 ],
 "metadata": {
  "kernelspec": {
   "display_name": "Python 3 (ipykernel)",
   "language": "python",
   "name": "python3"
  },
  "language_info": {
   "codemirror_mode": {
    "name": "ipython",
    "version": 3
   },
   "file_extension": ".py",
   "mimetype": "text/x-python",
   "name": "python",
   "nbconvert_exporter": "python",
   "pygments_lexer": "ipython3",
   "version": "3.12.4"
  }
 },
 "nbformat": 4,
 "nbformat_minor": 5
}
