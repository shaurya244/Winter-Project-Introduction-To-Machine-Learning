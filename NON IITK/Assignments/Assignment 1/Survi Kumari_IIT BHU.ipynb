{
 "cells": [
  {
   "cell_type": "markdown",
   "id": "8d637847-a645-48ff-aade-779429d4789c",
   "metadata": {},
   "source": [
    "## Q1. Using NumPy, create a 3D array of shape (4, 4, 4) filled with random numbers between 1 and 100. Find the z score normalisation of each element of the array."
   ]
  },
  {
   "cell_type": "code",
   "execution_count": 2,
   "id": "3847b99a-7873-40e9-a764-a441f3fc4aba",
   "metadata": {},
   "outputs": [
    {
     "name": "stdout",
     "output_type": "stream",
     "text": [
      "Original Array:\n",
      "[[[ 76  28  83  30]\n",
      "  [ 92  36  34  41]\n",
      "  [ 44  89  16  26]\n",
      "  [ 79  50  88  12]]\n",
      "\n",
      " [[ 42  69  28  72]\n",
      "  [ 21  32 100   2]\n",
      "  [ 75  90  46 100]\n",
      "  [ 53   3   1  77]]\n",
      "\n",
      " [[ 85  26  11  83]\n",
      "  [ 41  72  70  73]\n",
      "  [ 55  22  70  38]\n",
      "  [ 26   8  41  69]]\n",
      "\n",
      " [[ 36  59  35  51]\n",
      "  [ 76  64  83  57]\n",
      "  [ 46  79  83  64]\n",
      "  [ 20   5  50  21]]]\n",
      "\n",
      "Z-Score Normalized Array:\n",
      "[[[ 0.92020314 -0.83561304  1.17625967 -0.76245403]\n",
      "  [ 1.5054752  -0.54297701 -0.61613602 -0.36007949]\n",
      "  [-0.25034098  1.39573669 -1.27456709 -0.90877205]\n",
      "  [ 1.02994165 -0.03086396  1.35915719 -1.4208851 ]]\n",
      "\n",
      " [[-0.32349999  0.66414662 -0.83561304  0.77388513]\n",
      "  [-1.09166957 -0.68929503  1.79811124 -1.78668014]\n",
      "  [ 0.88362364  1.4323162  -0.17718197  1.79811124]\n",
      "  [ 0.07887456 -1.75010064 -1.82325964  0.95678265]]\n",
      "\n",
      " [[ 1.24941868 -0.90877205 -1.45746461  1.17625967]\n",
      "  [-0.36007949  0.77388513  0.70072612  0.81046463]\n",
      "  [ 0.15203356 -1.05509006  0.70072612 -0.469818  ]\n",
      "  [-0.90877205 -1.56720312 -0.36007949  0.66414662]]\n",
      "\n",
      " [[-0.54297701  0.29835158 -0.57955651  0.00571555]\n",
      "  [ 0.92020314  0.4812491   1.17625967  0.22519257]\n",
      "  [-0.17718197  1.02994165  1.17625967  0.4812491 ]\n",
      "  [-1.12824907 -1.67694163 -0.03086396 -1.09166957]]]\n"
     ]
    }
   ],
   "source": [
    "import numpy as np\n",
    "\n",
    "random_array = np.random.randint(1, 101, (4, 4, 4))\n",
    "mean = random_array.mean()\n",
    "std_dev = random_array.std()\n",
    "z_score_normalized_array = (random_array - mean) / std_dev\n",
    "\n",
    "print(\"Original Array:\")\n",
    "print(random_array)\n",
    "print(\"\\nZ-Score Normalized Array:\")\n",
    "print(z_score_normalized_array)"
   ]
  },
  {
   "cell_type": "markdown",
   "id": "82b8fab8-d687-4e95-b274-9cd73cb518a1",
   "metadata": {},
   "source": [
    "## Q2. Using Pandas, filter the rows in the Iris dataset where the petal length is greater than 3.0, and display the filtered data "
   ]
  },
  {
   "cell_type": "code",
   "execution_count": 5,
   "id": "77e790d9-5833-40e9-9683-c6a5943a8a91",
   "metadata": {},
   "outputs": [
    {
     "name": "stdout",
     "output_type": "stream",
     "text": [
      "Defaulting to user installation because normal site-packages is not writeable\n",
      "Requirement already satisfied: scikit-learn in c:\\users\\survi\\appdata\\roaming\\python\\python312\\site-packages (1.6.0)\n",
      "Requirement already satisfied: numpy>=1.19.5 in c:\\users\\survi\\appdata\\roaming\\python\\python312\\site-packages (from scikit-learn) (2.2.0)\n",
      "Requirement already satisfied: scipy>=1.6.0 in c:\\users\\survi\\appdata\\roaming\\python\\python312\\site-packages (from scikit-learn) (1.14.1)\n",
      "Requirement already satisfied: joblib>=1.2.0 in c:\\users\\survi\\appdata\\roaming\\python\\python312\\site-packages (from scikit-learn) (1.4.2)\n",
      "Requirement already satisfied: threadpoolctl>=3.1.0 in c:\\users\\survi\\appdata\\roaming\\python\\python312\\site-packages (from scikit-learn) (3.5.0)\n"
     ]
    },
    {
     "name": "stderr",
     "output_type": "stream",
     "text": [
      "\n",
      "[notice] A new release of pip is available: 24.2 -> 24.3.1\n",
      "[notice] To update, run: python.exe -m pip install --upgrade pip\n"
     ]
    }
   ],
   "source": [
    "!pip install scikit-learn\n"
   ]
  },
  {
   "cell_type": "code",
   "execution_count": 6,
   "id": "32b791aa-e7aa-4ec5-a7c1-1089bf4e354b",
   "metadata": {},
   "outputs": [
    {
     "name": "stdout",
     "output_type": "stream",
     "text": [
      "     sepal length (cm)  sepal width (cm)  petal length (cm)  petal width (cm)  \\\n",
      "50                 7.0               3.2                4.7               1.4   \n",
      "51                 6.4               3.2                4.5               1.5   \n",
      "52                 6.9               3.1                4.9               1.5   \n",
      "53                 5.5               2.3                4.0               1.3   \n",
      "54                 6.5               2.8                4.6               1.5   \n",
      "..                 ...               ...                ...               ...   \n",
      "145                6.7               3.0                5.2               2.3   \n",
      "146                6.3               2.5                5.0               1.9   \n",
      "147                6.5               3.0                5.2               2.0   \n",
      "148                6.2               3.4                5.4               2.3   \n",
      "149                5.9               3.0                5.1               1.8   \n",
      "\n",
      "     species  \n",
      "50         1  \n",
      "51         1  \n",
      "52         1  \n",
      "53         1  \n",
      "54         1  \n",
      "..       ...  \n",
      "145        2  \n",
      "146        2  \n",
      "147        2  \n",
      "148        2  \n",
      "149        2  \n",
      "\n",
      "[99 rows x 5 columns]\n"
     ]
    }
   ],
   "source": [
    "from sklearn.datasets import load_iris\n",
    "import pandas as pd\n",
    "\n",
    "iris_sklearn = load_iris()\n",
    "iris = pd.DataFrame(data=iris_sklearn.data, columns=iris_sklearn.feature_names)\n",
    "iris['species'] = iris_sklearn.target\n",
    "filtered_data = iris[iris[iris.columns[2]] > 3.0]\n",
    "\n",
    "print(filtered_data)"
   ]
  },
  {
   "cell_type": "markdown",
   "id": "ad61e568-3902-4f26-9039-d7e62ee8d115",
   "metadata": {},
   "source": [
    "## Q3. Using Matplotlib, plot a line graph showing the trend of a numerical dataset. Customize the plot with title, axis labels, and a legend."
   ]
  },
  {
   "cell_type": "code",
   "execution_count": 7,
   "id": "99cc400c-d2e9-4442-842d-317f85d1d1e3",
   "metadata": {},
   "outputs": [
    {
     "name": "stdout",
     "output_type": "stream",
     "text": [
      "Defaulting to user installation because normal site-packages is not writeable\n",
      "Collecting matplotlib\n",
      "  Downloading matplotlib-3.9.3-cp312-cp312-win_amd64.whl.metadata (11 kB)\n",
      "Collecting contourpy>=1.0.1 (from matplotlib)\n",
      "  Downloading contourpy-1.3.1-cp312-cp312-win_amd64.whl.metadata (5.4 kB)\n",
      "Collecting cycler>=0.10 (from matplotlib)\n",
      "  Downloading cycler-0.12.1-py3-none-any.whl.metadata (3.8 kB)\n",
      "Collecting fonttools>=4.22.0 (from matplotlib)\n",
      "  Downloading fonttools-4.55.2-cp312-cp312-win_amd64.whl.metadata (168 kB)\n",
      "Collecting kiwisolver>=1.3.1 (from matplotlib)\n",
      "  Downloading kiwisolver-1.4.7-cp312-cp312-win_amd64.whl.metadata (6.4 kB)\n",
      "Requirement already satisfied: numpy>=1.23 in c:\\users\\survi\\appdata\\roaming\\python\\python312\\site-packages (from matplotlib) (2.2.0)\n",
      "Requirement already satisfied: packaging>=20.0 in c:\\users\\survi\\appdata\\roaming\\python\\python312\\site-packages (from matplotlib) (24.2)\n",
      "Collecting pillow>=8 (from matplotlib)\n",
      "  Downloading pillow-11.0.0-cp312-cp312-win_amd64.whl.metadata (9.3 kB)\n",
      "Collecting pyparsing>=2.3.1 (from matplotlib)\n",
      "  Downloading pyparsing-3.2.0-py3-none-any.whl.metadata (5.0 kB)\n",
      "Requirement already satisfied: python-dateutil>=2.7 in c:\\users\\survi\\appdata\\roaming\\python\\python312\\site-packages (from matplotlib) (2.9.0.post0)\n",
      "Requirement already satisfied: six>=1.5 in c:\\users\\survi\\appdata\\roaming\\python\\python312\\site-packages (from python-dateutil>=2.7->matplotlib) (1.17.0)\n",
      "Downloading matplotlib-3.9.3-cp312-cp312-win_amd64.whl (7.8 MB)\n",
      "   ---------------------------------------- 0.0/7.8 MB ? eta -:--:--\n",
      "   - -------------------------------------- 0.3/7.8 MB ? eta -:--:--\n",
      "   - -------------------------------------- 0.3/7.8 MB ? eta -:--:--\n",
      "   ---- ----------------------------------- 0.8/7.8 MB 1.1 MB/s eta 0:00:07\n",
      "   ------ --------------------------------- 1.3/7.8 MB 1.5 MB/s eta 0:00:05\n",
      "   -------- ------------------------------- 1.6/7.8 MB 1.6 MB/s eta 0:00:04\n",
      "   --------- ------------------------------ 1.8/7.8 MB 1.7 MB/s eta 0:00:04\n",
      "   ------------ --------------------------- 2.4/7.8 MB 1.7 MB/s eta 0:00:04\n",
      "   -------------- ------------------------- 2.9/7.8 MB 1.7 MB/s eta 0:00:03\n",
      "   ---------------- ----------------------- 3.1/7.8 MB 1.7 MB/s eta 0:00:03\n",
      "   ------------------ --------------------- 3.7/7.8 MB 1.8 MB/s eta 0:00:03\n",
      "   -------------------- ------------------- 3.9/7.8 MB 1.7 MB/s eta 0:00:03\n",
      "   -------------------- ------------------- 3.9/7.8 MB 1.7 MB/s eta 0:00:03\n",
      "   ---------------------- ----------------- 4.5/7.8 MB 1.7 MB/s eta 0:00:02\n",
      "   ------------------------ --------------- 4.7/7.8 MB 1.7 MB/s eta 0:00:02\n",
      "   ------------------------- -------------- 5.0/7.8 MB 1.7 MB/s eta 0:00:02\n",
      "   ------------------------- -------------- 5.0/7.8 MB 1.7 MB/s eta 0:00:02\n",
      "   ---------------------------- ----------- 5.5/7.8 MB 1.6 MB/s eta 0:00:02\n",
      "   ----------------------------- ---------- 5.8/7.8 MB 1.5 MB/s eta 0:00:02\n",
      "   ----------------------------- ---------- 5.8/7.8 MB 1.5 MB/s eta 0:00:02\n",
      "   ------------------------------ --------- 6.0/7.8 MB 1.5 MB/s eta 0:00:02\n",
      "   -------------------------------- ------- 6.3/7.8 MB 1.5 MB/s eta 0:00:02\n",
      "   --------------------------------- ------ 6.6/7.8 MB 1.4 MB/s eta 0:00:01\n",
      "   ---------------------------------- ----- 6.8/7.8 MB 1.4 MB/s eta 0:00:01\n",
      "   ------------------------------------ --- 7.1/7.8 MB 1.4 MB/s eta 0:00:01\n",
      "   -------------------------------------- - 7.6/7.8 MB 1.4 MB/s eta 0:00:01\n",
      "   ---------------------------------------- 7.8/7.8 MB 1.4 MB/s eta 0:00:00\n",
      "Downloading contourpy-1.3.1-cp312-cp312-win_amd64.whl (220 kB)\n",
      "Downloading cycler-0.12.1-py3-none-any.whl (8.3 kB)\n",
      "Downloading fonttools-4.55.2-cp312-cp312-win_amd64.whl (2.2 MB)\n",
      "   ---------------------------------------- 0.0/2.2 MB ? eta -:--:--\n",
      "   ---- ----------------------------------- 0.3/2.2 MB ? eta -:--:--\n",
      "   --------- ------------------------------ 0.5/2.2 MB 1.9 MB/s eta 0:00:01\n",
      "   ------------------- -------------------- 1.0/2.2 MB 1.7 MB/s eta 0:00:01\n",
      "   ------------------- -------------------- 1.0/2.2 MB 1.7 MB/s eta 0:00:01\n",
      "   ---------------------------- ----------- 1.6/2.2 MB 1.4 MB/s eta 0:00:01\n",
      "   ---------------------------- ----------- 1.6/2.2 MB 1.4 MB/s eta 0:00:01\n",
      "   -------------------------------------- - 2.1/2.2 MB 1.4 MB/s eta 0:00:01\n",
      "   ---------------------------------------- 2.2/2.2 MB 1.3 MB/s eta 0:00:00\n",
      "Downloading kiwisolver-1.4.7-cp312-cp312-win_amd64.whl (55 kB)\n",
      "Downloading pillow-11.0.0-cp312-cp312-win_amd64.whl (2.6 MB)\n",
      "   ---------------------------------------- 0.0/2.6 MB ? eta -:--:--\n",
      "   ---------------------------------------- 0.0/2.6 MB ? eta -:--:--\n",
      "   -------- ------------------------------- 0.5/2.6 MB 1.5 MB/s eta 0:00:02\n",
      "   ------------ --------------------------- 0.8/2.6 MB 1.5 MB/s eta 0:00:02\n",
      "   ---------------- ----------------------- 1.0/2.6 MB 1.5 MB/s eta 0:00:01\n",
      "   -------------------- ------------------- 1.3/2.6 MB 1.4 MB/s eta 0:00:01\n",
      "   -------------------- ------------------- 1.3/2.6 MB 1.4 MB/s eta 0:00:01\n",
      "   ------------------------ --------------- 1.6/2.6 MB 1.3 MB/s eta 0:00:01\n",
      "   -------------------------------- ------- 2.1/2.6 MB 1.3 MB/s eta 0:00:01\n",
      "   ------------------------------------ --- 2.4/2.6 MB 1.3 MB/s eta 0:00:01\n",
      "   ---------------------------------------- 2.6/2.6 MB 1.3 MB/s eta 0:00:00\n",
      "Downloading pyparsing-3.2.0-py3-none-any.whl (106 kB)\n",
      "Installing collected packages: pyparsing, pillow, kiwisolver, fonttools, cycler, contourpy, matplotlib\n",
      "Successfully installed contourpy-1.3.1 cycler-0.12.1 fonttools-4.55.2 kiwisolver-1.4.7 matplotlib-3.9.3 pillow-11.0.0 pyparsing-3.2.0\n"
     ]
    },
    {
     "name": "stderr",
     "output_type": "stream",
     "text": [
      "\n",
      "[notice] A new release of pip is available: 24.2 -> 24.3.1\n",
      "[notice] To update, run: python.exe -m pip install --upgrade pip\n"
     ]
    }
   ],
   "source": [
    "!pip install matplotlib"
   ]
  },
  {
   "cell_type": "code",
   "execution_count": 8,
   "id": "20b8f7f7-1845-4424-85f8-c2c7adc3372f",
   "metadata": {},
   "outputs": [
    {
     "data": {
      "image/png": "[encoded data removed]",
      "text/plain": [
       "<Figure size 640x480 with 1 Axes>"
      ]
     },
     "metadata": {},
     "output_type": "display_data"
    }
   ],
   "source": [
    "import matplotlib.pyplot as plt\n",
    "\n",
    "x = [1, 2, 3, 4, 5]\n",
    "y = [2, 3, 5, 7, 11]\n",
    "\n",
    "plt.plot(x, y, label='Trend Line', color='b', marker='o')\n",
    "plt.title('Trend of Numerical Dataset')\n",
    "plt.xlabel('X-axis')\n",
    "plt.ylabel('Y-axis')\n",
    "plt.legend()\n",
    "\n",
    "plt.show()\n"
   ]
  },
  {
   "cell_type": "markdown",
   "id": "704858cc-7102-40a3-8b86-e71c0d204388",
   "metadata": {},
   "source": [
    "## Q4.Create a Pandas DataFrame with random values with at least 3 columns and perform the following operations: (i) Replace NaN values with the mean of the column. (ii) Sort the DataFrame based on any two columns."
   ]
  },
  {
   "cell_type": "code",
   "execution_count": 9,
   "id": "43a3f0e0-8ef8-4cac-8c43-3f7d4e861b0d",
   "metadata": {},
   "outputs": [
    {
     "name": "stdout",
     "output_type": "stream",
     "text": [
      "           A     B   C\n",
      "1   1.000000  96.0  15\n",
      "6   4.000000  76.0  61\n",
      "8   7.000000  56.0  45\n",
      "0   9.000000  76.0  18\n",
      "9  14.000000  77.0  38\n",
      "2  25.000000  23.0  57\n",
      "3  31.111111  43.0  18\n",
      "5  64.000000  81.0  86\n",
      "7  76.000000  65.0  22\n",
      "4  80.000000  57.0  91\n"
     ]
    }
   ],
   "source": [
    "import pandas as pd\n",
    "import numpy as np\n",
    "\n",
    "data = np.random.randint(1, 100, size=(10, 3))\n",
    "df = pd.DataFrame(data, columns=['A', 'B', 'C'])\n",
    "\n",
    "df.loc[3, 'A'] = np.nan\n",
    "df.loc[7, 'B'] = np.nan\n",
    "\n",
    "df.fillna(df.mean(), inplace=True)\n",
    "\n",
    "df_sorted = df.sort_values(by=['A', 'B'])\n",
    "\n",
    "print(df_sorted)\n"
   ]
  },
  {
   "cell_type": "markdown",
   "id": "20ba216e-d0e6-464d-b23a-b2e28e89dbea",
   "metadata": {},
   "source": [
    "## Q5. Using NumPy, calculate the dot product of two matrices and find the determinant of the resulting matrix."
   ]
  },
  {
   "cell_type": "code",
   "execution_count": 10,
   "id": "7dad73ea-872f-4438-b93c-b2fb4274f89a",
   "metadata": {},
   "outputs": [
    {
     "name": "stdout",
     "output_type": "stream",
     "text": [
      "Dot product of A and B:\n",
      "[[19 22]\n",
      " [43 50]]\n",
      "Determinant of the resulting matrix:\n",
      "4.000000000000008\n"
     ]
    }
   ],
   "source": [
    "import numpy as np\n",
    "\n",
    "A = np.array([[1, 2], [3, 4]])\n",
    "B = np.array([[5, 6], [7, 8]])\n",
    "\n",
    "dot_product = np.dot(A, B)\n",
    "determinant = np.linalg.det(dot_product)\n",
    "\n",
    "print(\"Dot product of A and B:\")\n",
    "print(dot_product)\n",
    "\n",
    "print(\"Determinant of the resulting matrix:\")\n",
    "print(determinant)\n"
   ]
  },
  {
   "cell_type": "markdown",
   "id": "d13e3274-6aa4-4eaa-ac5d-b947ac122b41",
   "metadata": {},
   "source": [
    "## Q6. With Pandas, group a DataFrame by a categorical column and calculate the sum of another numerical column for each group."
   ]
  },
  {
   "cell_type": "code",
   "execution_count": 11,
   "id": "b2252de6-501c-4d47-abd1-804c96ade718",
   "metadata": {},
   "outputs": [
    {
     "name": "stdout",
     "output_type": "stream",
     "text": [
      "Category\n",
      "A     90\n",
      "B    120\n",
      "Name: Value, dtype: int64\n"
     ]
    }
   ],
   "source": [
    "import pandas as pd\n",
    "\n",
    "data = {'Category': ['A', 'B', 'A', 'B', 'A', 'B'],\n",
    "        'Value': [10, 20, 30, 40, 50, 60]}\n",
    "\n",
    "df = pd.DataFrame(data)\n",
    "\n",
    "grouped = df.groupby('Category')['Value'].sum()\n",
    "\n",
    "print(grouped)\n"
   ]
  },
  {
   "cell_type": "markdown",
   "id": "b218ea65-74b3-4124-8753-fb312c95dde0",
   "metadata": {},
   "source": [
    "## Q7. Using Matplotlib, create a histogram to show the distribution of a numerical dataset. Customize the number of bins and add grid lines for better readability."
   ]
  },
  {
   "cell_type": "code",
   "execution_count": 12,
   "id": "3df10192-3c0b-4af8-aac0-9dea5bc8d0cf",
   "metadata": {},
   "outputs": [
    {
     "data": {
      "image/png": "[encoded data removed]",
      "text/plain": [
       "<Figure size 640x480 with 1 Axes>"
      ]
     },
     "metadata": {},
     "output_type": "display_data"
    }
   ],
   "source": [
    "import matplotlib.pyplot as plt\n",
    "import numpy as np\n",
    "\n",
    "data = np.random.randn(1000)\n",
    "\n",
    "plt.hist(data, bins=30, color='skyblue', edgecolor='black')\n",
    "plt.title('Histogram of Numerical Data')\n",
    "plt.xlabel('Value')\n",
    "plt.ylabel('Frequency')\n",
    "plt.grid(True)\n",
    "\n",
    "plt.show()\n"
   ]
  },
  {
   "cell_type": "markdown",
   "id": "1503f1a3-9b8f-4927-9e1c-cc1b707c9f29",
   "metadata": {},
   "source": [
    "## Q8. Using NumPy, create a 2D array and perform a slicing operation to extract a specific sub-array."
   ]
  },
  {
   "cell_type": "code",
   "execution_count": 13,
   "id": "893ac28f-f803-44b9-a87f-141be4d85fdc",
   "metadata": {},
   "outputs": [
    {
     "name": "stdout",
     "output_type": "stream",
     "text": [
      "[[68 57 55]\n",
      " [51 83 88]\n",
      " [72 68  6]]\n"
     ]
    }
   ],
   "source": [
    "import numpy as np\n",
    "\n",
    "arr = np.random.randint(1, 100, size=(5, 5))\n",
    "\n",
    "sub_array = arr[1:4, 2:5]\n",
    "\n",
    "print(sub_array)\n"
   ]
  },
  {
   "cell_type": "markdown",
   "id": "3d4c4453-2f7e-4d0b-af82-2e7b1e94f040",
   "metadata": {},
   "source": [
    "## Q9. Using Pandas, perform a merge operation between two DataFrames based on a common column for dataset of your choice."
   ]
  },
  {
   "cell_type": "code",
   "execution_count": 14,
   "id": "536ad07b-67ff-48ca-be1c-c69708bdb837",
   "metadata": {},
   "outputs": [
    {
     "name": "stdout",
     "output_type": "stream",
     "text": [
      "   ID     Name  Age\n",
      "0   3  Charlie   25\n",
      "1   4    David   30\n"
     ]
    }
   ],
   "source": [
    "import pandas as pd\n",
    "\n",
    "data1 = {'ID': [1, 2, 3, 4],\n",
    "         'Name': ['Alice', 'Bob', 'Charlie', 'David']}\n",
    "\n",
    "data2 = {'ID': [3, 4, 5, 6],\n",
    "         'Age': [25, 30, 35, 40]}\n",
    "\n",
    "df1 = pd.DataFrame(data1)\n",
    "df2 = pd.DataFrame(data2)\n",
    "\n",
    "merged_df = pd.merge(df1, df2, on='ID')\n",
    "\n",
    "print(merged_df)\n"
   ]
  },
  {
   "cell_type": "markdown",
   "id": "c8b57c41-2822-4c19-a068-e442e9889e4d",
   "metadata": {},
   "source": [
    "## Q10. Using Matplotlib, create a scatter plot comparing two numerical variables in the dataset of your choice. Customize the plot by changing the color and shape of the data points."
   ]
  },
  {
   "cell_type": "code",
   "execution_count": 15,
   "id": "77c94b3c-4589-4dc3-a715-d7290d5274ed",
   "metadata": {},
   "outputs": [
    {
     "data": {
      "image/png": "[encoded data removed]",
      "text/plain": [
       "<Figure size 640x480 with 1 Axes>"
      ]
     },
     "metadata": {},
     "output_type": "display_data"
    }
   ],
   "source": [
    "import matplotlib.pyplot as plt\n",
    "import numpy as np\n",
    "\n",
    "x = np.random.randn(100)\n",
    "y = np.random.randn(100)\n",
    "\n",
    "plt.scatter(x, y, color='red', marker='^')\n",
    "plt.title('Scatter Plot of Two Numerical Variables')\n",
    "plt.xlabel('X-axis')\n",
    "plt.ylabel('Y-axis')\n",
    "\n",
    "plt.show()\n"
   ]
  },
  {
   "cell_type": "code",
   "execution_count": null,
   "id": "eecb1c22-4b5d-423f-904a-ec64470e5d5a",
   "metadata": {},
   "outputs": [],
   "source": []
  }
 ],
 "metadata": {
  "kernelspec": {
   "display_name": "Python 3 (ipykernel)",
   "language": "python",
   "name": "python3"
  },
  "language_info": {
   "codemirror_mode": {
    "name": "ipython",
    "version": 3
   },
   "file_extension": ".py",
   "mimetype": "text/x-python",
   "name": "python",
   "nbconvert_exporter": "python",
   "pygments_lexer": "ipython3",
   "version": "3.12.6"
  }
 },
 "nbformat": 4,
 "nbformat_minor": 5
}
