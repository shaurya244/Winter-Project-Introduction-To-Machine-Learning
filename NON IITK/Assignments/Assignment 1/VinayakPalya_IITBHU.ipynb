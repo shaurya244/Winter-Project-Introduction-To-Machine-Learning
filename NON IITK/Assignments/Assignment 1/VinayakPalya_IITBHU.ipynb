{
 "cells": [
  {
   "cell_type": "markdown",
   "id": "183bbdb5-55eb-4b59-b601-12ed033d1244",
   "metadata": {},
   "source": [
    "Q1. Using NumPy, create a 3D array of shape (4, 4, 4) filled with random numbers between 1 and 100. Find the z score normalisation of each element of the array."
   ]
  },
  {
   "cell_type": "code",
   "execution_count": 4,
   "id": "6577e577-03b1-46bd-9441-345b9be7fbd1",
   "metadata": {},
   "outputs": [],
   "source": [
    "import numpy as np"
   ]
  },
  {
   "cell_type": "code",
   "execution_count": 30,
   "id": "33e1c925-1cf6-490a-9053-b7ebf9d9df64",
   "metadata": {},
   "outputs": [
    {
     "name": "stdout",
     "output_type": "stream",
     "text": [
      "[[[79.63349701 66.84519904 55.7667299  42.3913977 ]\n",
      "  [67.54059861 51.75849349 46.46887784 92.39147745]\n",
      "  [45.49665048 87.04945766  7.87131386 50.60035825]\n",
      "  [67.80976997 87.6096207  20.07131718 83.43002703]]\n",
      "\n",
      " [[88.47571028 82.84602774 71.43099622 40.6658975 ]\n",
      "  [64.17586239 63.83800184 36.42968172 66.75176466]\n",
      "  [23.17406497 10.44080015 81.11816053 87.14588126]\n",
      "  [ 8.7749274  64.89618731 14.09997137 99.40951087]]\n",
      "\n",
      " [[63.06393128 39.66536811 20.64535175 26.37415069]\n",
      "  [79.50093285 91.66876961  4.36749319 63.6059914 ]\n",
      "  [23.57067735 22.63472659 25.77533162 15.35371807]\n",
      "  [ 4.95145    78.00359849 78.30223573 23.81663501]]\n",
      "\n",
      " [[56.2729851  93.15513068 98.32606572 20.61577774]\n",
      "  [ 4.39644304 19.71823327 53.1394322  11.5262505 ]\n",
      "  [64.65585218 56.72126961 59.76190137 78.59356754]\n",
      "  [ 7.29087656  7.3921879  48.47700528 41.16552913]]]\n"
     ]
    }
   ],
   "source": [
    "arr = np.random.uniform(1, 100, (4, 4, 4))\n",
    "print(arr)"
   ]
  },
  {
   "cell_type": "code",
   "execution_count": 20,
   "id": "d48f9971-5d19-40ea-a4a1-b2a4260f319f",
   "metadata": {},
   "outputs": [
    {
     "name": "stdout",
     "output_type": "stream",
     "text": [
      "Mean of the above array is :  48.825134589960825\n"
     ]
    }
   ],
   "source": [
    "avg = np.mean(arr)\n",
    "print(\"Mean of the above array is : \", avg)"
   ]
  },
  {
   "cell_type": "code",
   "execution_count": 22,
   "id": "99b8f589-084d-45e5-87f4-01d7535dec71",
   "metadata": {},
   "outputs": [
    {
     "name": "stdout",
     "output_type": "stream",
     "text": [
      "Standard Devation of the above array is : 29.091330037118436\n"
     ]
    }
   ],
   "source": [
    "std_Dev = np.std(arr)\n",
    "print(\"Standard Devation of the above array is :\", std_Dev)"
   ]
  },
  {
   "cell_type": "code",
   "execution_count": 26,
   "id": "6bbaf458-4479-4f33-b93d-b9f6b12fd98e",
   "metadata": {},
   "outputs": [],
   "source": [
    "def z_score_normalization(x):\n",
    "    return ((x - avg)/std_Dev)"
   ]
  },
  {
   "cell_type": "code",
   "execution_count": 32,
   "id": "14b37209-c7bd-452f-9b13-0a29f5f12683",
   "metadata": {},
   "outputs": [
    {
     "name": "stdout",
     "output_type": "stream",
     "text": [
      "[[[ 1.05902213  0.61943075  0.23861389 -0.22115651]\n",
      "  [ 0.64333477  0.10083275 -0.08099515  1.49757137]\n",
      "  [-0.11441499  1.31394209 -1.40776722  0.06102243]\n",
      "  [ 0.6525874   1.33319742 -0.98839817  1.18952597]]\n",
      "\n",
      " [[ 1.36296882  1.16945128  0.77706525 -0.28046972]\n",
      "  [ 0.52767363  0.51605984 -0.42608753  0.61621899]\n",
      "  [-0.88174276 -1.3194424   1.1100567   1.31725661]\n",
      "  [-1.37670595  0.55243444 -1.19366021  1.73881277]]\n",
      "\n",
      " [[ 0.48945155 -0.31486242 -0.96866602 -0.7717414 ]\n",
      "  [ 1.05446531  1.47272864 -1.52820931  0.5080846 ]\n",
      "  [-0.86810941 -0.90028225 -0.79232551 -1.15056329]\n",
      "  [-1.50813608  1.00299518  1.01326069 -0.85965473]]\n",
      "\n",
      " [[ 0.25601616  1.52382157  1.70156989 -0.96968261]\n",
      "  [-1.52721417 -1.00053526  0.14830183 -1.28213059]\n",
      "  [ 0.54417304  0.27142571  0.37594592  1.02327508]\n",
      "  [-1.42771946 -1.42423693 -0.01196677 -0.26329513]]]\n"
     ]
    }
   ],
   "source": [
    "vectorized_function = np.vectorize(z_score_normalization)\n",
    "norm_arr = vectorized_function(arr)\n",
    "print(norm_arr)"
   ]
  },
  {
   "cell_type": "code",
   "execution_count": 71,
   "id": "75c02361-139b-48c4-b3c9-313c97cb0cd5",
   "metadata": {},
   "outputs": [],
   "source": [
    "# end"
   ]
  },
  {
   "cell_type": "markdown",
   "id": "67090c1f-b360-41ab-93d5-3f52b781d05c",
   "metadata": {},
   "source": [
    "Q2. Using Pandas, filter the rows in the Iris dataset where the petal length is greater than 3.0, and display the filtered data"
   ]
  },
  {
   "cell_type": "code",
   "execution_count": 13,
   "id": "93fb9aaa-989f-4c98-a92e-0b1a5d5011c4",
   "metadata": {},
   "outputs": [],
   "source": [
    "import pandas as pd "
   ]
  },
  {
   "cell_type": "code",
   "execution_count": 15,
   "id": "f636a634-4124-45ff-8c95-6dc42e0ed898",
   "metadata": {},
   "outputs": [],
   "source": [
    "index_row = ['sepal_length', 'sepal_width', 'petal_length', 'petal_width', 'species']\n",
    "iris = pd.read_csv('https://archive.ics.uci.edu/ml/machine-learning-databases/iris/iris.data', header=None, names=index_row)"
   ]
  },
  {
   "cell_type": "code",
   "execution_count": 17,
   "id": "636fcb21-1d42-4e0f-9b94-c2aafbc83f84",
   "metadata": {},
   "outputs": [
    {
     "data": {
      "text/html": [
       "<div>\n",
       "<style scoped>\n",
       "    .dataframe tbody tr th:only-of-type {\n",
       "        vertical-align: middle;\n",
       "    }\n",
       "\n",
       "    .dataframe tbody tr th {\n",
       "        vertical-align: top;\n",
       "    }\n",
       "\n",
       "    .dataframe thead th {\n",
       "        text-align: right;\n",
       "    }\n",
       "</style>\n",
       "<table border=\"1\" class=\"dataframe\">\n",
       "  <thead>\n",
       "    <tr style=\"text-align: right;\">\n",
       "      <th></th>\n",
       "      <th>sepal_length</th>\n",
       "      <th>sepal_width</th>\n",
       "      <th>petal_length</th>\n",
       "      <th>petal_width</th>\n",
       "      <th>species</th>\n",
       "    </tr>\n",
       "  </thead>\n",
       "  <tbody>\n",
       "    <tr>\n",
       "      <th>0</th>\n",
       "      <td>5.1</td>\n",
       "      <td>3.5</td>\n",
       "      <td>1.4</td>\n",
       "      <td>0.2</td>\n",
       "      <td>Iris-setosa</td>\n",
       "    </tr>\n",
       "    <tr>\n",
       "      <th>1</th>\n",
       "      <td>4.9</td>\n",
       "      <td>3.0</td>\n",
       "      <td>1.4</td>\n",
       "      <td>0.2</td>\n",
       "      <td>Iris-setosa</td>\n",
       "    </tr>\n",
       "    <tr>\n",
       "      <th>2</th>\n",
       "      <td>4.7</td>\n",
       "      <td>3.2</td>\n",
       "      <td>1.3</td>\n",
       "      <td>0.2</td>\n",
       "      <td>Iris-setosa</td>\n",
       "    </tr>\n",
       "    <tr>\n",
       "      <th>3</th>\n",
       "      <td>4.6</td>\n",
       "      <td>3.1</td>\n",
       "      <td>1.5</td>\n",
       "      <td>0.2</td>\n",
       "      <td>Iris-setosa</td>\n",
       "    </tr>\n",
       "    <tr>\n",
       "      <th>4</th>\n",
       "      <td>5.0</td>\n",
       "      <td>3.6</td>\n",
       "      <td>1.4</td>\n",
       "      <td>0.2</td>\n",
       "      <td>Iris-setosa</td>\n",
       "    </tr>\n",
       "  </tbody>\n",
       "</table>\n",
       "</div>"
      ],
      "text/plain": [
       "   sepal_length  sepal_width  petal_length  petal_width      species\n",
       "0           5.1          3.5           1.4          0.2  Iris-setosa\n",
       "1           4.9          3.0           1.4          0.2  Iris-setosa\n",
       "2           4.7          3.2           1.3          0.2  Iris-setosa\n",
       "3           4.6          3.1           1.5          0.2  Iris-setosa\n",
       "4           5.0          3.6           1.4          0.2  Iris-setosa"
      ]
     },
     "execution_count": 17,
     "metadata": {},
     "output_type": "execute_result"
    }
   ],
   "source": [
    "iris.head()"
   ]
  },
  {
   "cell_type": "code",
   "execution_count": 43,
   "id": "59f25a9e-6a84-460d-a11c-cc985968c597",
   "metadata": {},
   "outputs": [
    {
     "data": {
      "text/html": [
       "<div>\n",
       "<style scoped>\n",
       "    .dataframe tbody tr th:only-of-type {\n",
       "        vertical-align: middle;\n",
       "    }\n",
       "\n",
       "    .dataframe tbody tr th {\n",
       "        vertical-align: top;\n",
       "    }\n",
       "\n",
       "    .dataframe thead th {\n",
       "        text-align: right;\n",
       "    }\n",
       "</style>\n",
       "<table border=\"1\" class=\"dataframe\">\n",
       "  <thead>\n",
       "    <tr style=\"text-align: right;\">\n",
       "      <th></th>\n",
       "      <th>sepal_length</th>\n",
       "      <th>sepal_width</th>\n",
       "      <th>petal_length</th>\n",
       "      <th>petal_width</th>\n",
       "      <th>species</th>\n",
       "    </tr>\n",
       "  </thead>\n",
       "  <tbody>\n",
       "    <tr>\n",
       "      <th>93</th>\n",
       "      <td>5.0</td>\n",
       "      <td>2.3</td>\n",
       "      <td>3.3</td>\n",
       "      <td>1.0</td>\n",
       "      <td>Iris-versicolor</td>\n",
       "    </tr>\n",
       "    <tr>\n",
       "      <th>57</th>\n",
       "      <td>4.9</td>\n",
       "      <td>2.4</td>\n",
       "      <td>3.3</td>\n",
       "      <td>1.0</td>\n",
       "      <td>Iris-versicolor</td>\n",
       "    </tr>\n",
       "    <tr>\n",
       "      <th>79</th>\n",
       "      <td>5.7</td>\n",
       "      <td>2.6</td>\n",
       "      <td>3.5</td>\n",
       "      <td>1.0</td>\n",
       "      <td>Iris-versicolor</td>\n",
       "    </tr>\n",
       "    <tr>\n",
       "      <th>60</th>\n",
       "      <td>5.0</td>\n",
       "      <td>2.0</td>\n",
       "      <td>3.5</td>\n",
       "      <td>1.0</td>\n",
       "      <td>Iris-versicolor</td>\n",
       "    </tr>\n",
       "    <tr>\n",
       "      <th>64</th>\n",
       "      <td>5.6</td>\n",
       "      <td>2.9</td>\n",
       "      <td>3.6</td>\n",
       "      <td>1.3</td>\n",
       "      <td>Iris-versicolor</td>\n",
       "    </tr>\n",
       "    <tr>\n",
       "      <th>...</th>\n",
       "      <td>...</td>\n",
       "      <td>...</td>\n",
       "      <td>...</td>\n",
       "      <td>...</td>\n",
       "      <td>...</td>\n",
       "    </tr>\n",
       "    <tr>\n",
       "      <th>131</th>\n",
       "      <td>7.9</td>\n",
       "      <td>3.8</td>\n",
       "      <td>6.4</td>\n",
       "      <td>2.0</td>\n",
       "      <td>Iris-virginica</td>\n",
       "    </tr>\n",
       "    <tr>\n",
       "      <th>105</th>\n",
       "      <td>7.6</td>\n",
       "      <td>3.0</td>\n",
       "      <td>6.6</td>\n",
       "      <td>2.1</td>\n",
       "      <td>Iris-virginica</td>\n",
       "    </tr>\n",
       "    <tr>\n",
       "      <th>122</th>\n",
       "      <td>7.7</td>\n",
       "      <td>2.8</td>\n",
       "      <td>6.7</td>\n",
       "      <td>2.0</td>\n",
       "      <td>Iris-virginica</td>\n",
       "    </tr>\n",
       "    <tr>\n",
       "      <th>117</th>\n",
       "      <td>7.7</td>\n",
       "      <td>3.8</td>\n",
       "      <td>6.7</td>\n",
       "      <td>2.2</td>\n",
       "      <td>Iris-virginica</td>\n",
       "    </tr>\n",
       "    <tr>\n",
       "      <th>118</th>\n",
       "      <td>7.7</td>\n",
       "      <td>2.6</td>\n",
       "      <td>6.9</td>\n",
       "      <td>2.3</td>\n",
       "      <td>Iris-virginica</td>\n",
       "    </tr>\n",
       "  </tbody>\n",
       "</table>\n",
       "<p>99 rows × 5 columns</p>\n",
       "</div>"
      ],
      "text/plain": [
       "     sepal_length  sepal_width  petal_length  petal_width          species\n",
       "93            5.0          2.3           3.3          1.0  Iris-versicolor\n",
       "57            4.9          2.4           3.3          1.0  Iris-versicolor\n",
       "79            5.7          2.6           3.5          1.0  Iris-versicolor\n",
       "60            5.0          2.0           3.5          1.0  Iris-versicolor\n",
       "64            5.6          2.9           3.6          1.3  Iris-versicolor\n",
       "..            ...          ...           ...          ...              ...\n",
       "131           7.9          3.8           6.4          2.0   Iris-virginica\n",
       "105           7.6          3.0           6.6          2.1   Iris-virginica\n",
       "122           7.7          2.8           6.7          2.0   Iris-virginica\n",
       "117           7.7          3.8           6.7          2.2   Iris-virginica\n",
       "118           7.7          2.6           6.9          2.3   Iris-virginica\n",
       "\n",
       "[99 rows x 5 columns]"
      ]
     },
     "execution_count": 43,
     "metadata": {},
     "output_type": "execute_result"
    }
   ],
   "source": [
    "filtered_data = iris[iris['petal_length'] > 3.0]\n",
    "filtered_data = filtered_data.sort_values('petal_length')\n",
    "filtered_data"
   ]
  },
  {
   "cell_type": "code",
   "execution_count": 46,
   "id": "ce94cd31-b503-4d49-8659-0788c824d009",
   "metadata": {},
   "outputs": [],
   "source": [
    "#end"
   ]
  },
  {
   "cell_type": "markdown",
   "id": "65da4536-dac1-4121-80d9-e4e9f5fd19e3",
   "metadata": {},
   "source": [
    "Q3. Using Matplotlib, plot a line graph showing the trend of a numerical dataset. Customize the plot with title, axis labels, and a legend."
   ]
  },
  {
   "cell_type": "code",
   "execution_count": 3,
   "id": "ed7147d0-0f23-49bf-8f07-59888b223982",
   "metadata": {},
   "outputs": [],
   "source": [
    "%matplotlib inline\n",
    "from matplotlib import pyplot as plt\n",
    "import matplotlib.patches as mpatches\n",
    "import pandas as pd\n",
    "import numpy as np"
   ]
  },
  {
   "cell_type": "code",
   "execution_count": 115,
   "id": "c2d16217-a6a5-43f8-9588-cda3fcd55824",
   "metadata": {},
   "outputs": [
    {
     "data": {
      "image/png": "[encoded data removed]",
      "text/plain": [
       "<Figure size 640x480 with 1 Axes>"
      ]
     },
     "metadata": {},
     "output_type": "display_data"
    }
   ],
   "source": [
    "data_set = pd.DataFrame({'Age': [1, 5, 10, 15, 20, 25, 30, 35, 40, 45, 50, 55, 60, 65, 70, 75, 80, 85, 90, 95], \n",
    "                         'Death_Rate': [0.005, 0.001, 0.001, 0.002, 0.003, 0.004, 0.005, 0.007, 0.009, 0.012, 0.015, 0.020, 0.030, 0.040, 0.060, 0.080, 0.100, 0.150, 0.200, 0.300]})\n",
    "data_set\n",
    "plt.plot(data_set['Age'], data_set['Death_Rate'], color = 'gray', marker = 's')\n",
    "plt.xlabel('Age')\n",
    "plt.ylabel('Death Rate')\n",
    "plt.title('Scatter Plot of Age vs Death Rate')\n",
    "plt.grid(True)\n",
    "gray_patch = mpatches.Patch(color='gray', label='death_rate')\n",
    "plt.legend(handles=[gray_patch], loc = 'upper right')\n",
    "plt.show()"
   ]
  },
  {
   "cell_type": "markdown",
   "id": "2b2dfa8b-0394-4313-95fa-96f1f7e9293c",
   "metadata": {},
   "source": [
    "Q4.Create a Pandas DataFrame with random values with at least 3 columns and perform the following operations: (i) Replace NaN values with the mean of the column. (ii) Sort the DataFrame based on any two columns."
   ]
  },
  {
   "cell_type": "code",
   "execution_count": 248,
   "id": "af3c3944-1f55-4fa4-ac9d-c60fbfbd64d7",
   "metadata": {},
   "outputs": [
    {
     "data": {
      "text/html": [
       "<div>\n",
       "<style scoped>\n",
       "    .dataframe tbody tr th:only-of-type {\n",
       "        vertical-align: middle;\n",
       "    }\n",
       "\n",
       "    .dataframe tbody tr th {\n",
       "        vertical-align: top;\n",
       "    }\n",
       "\n",
       "    .dataframe thead th {\n",
       "        text-align: right;\n",
       "    }\n",
       "</style>\n",
       "<table border=\"1\" class=\"dataframe\">\n",
       "  <thead>\n",
       "    <tr style=\"text-align: right;\">\n",
       "      <th></th>\n",
       "      <th>A</th>\n",
       "      <th>B</th>\n",
       "      <th>C</th>\n",
       "      <th>Age</th>\n",
       "    </tr>\n",
       "  </thead>\n",
       "  <tbody>\n",
       "    <tr>\n",
       "      <th>0</th>\n",
       "      <td>0.548814</td>\n",
       "      <td>0.791725</td>\n",
       "      <td>0.978618</td>\n",
       "      <td>55.000000</td>\n",
       "    </tr>\n",
       "    <tr>\n",
       "      <th>1</th>\n",
       "      <td>0.715189</td>\n",
       "      <td>0.528895</td>\n",
       "      <td>0.799159</td>\n",
       "      <td>31.000000</td>\n",
       "    </tr>\n",
       "    <tr>\n",
       "      <th>2</th>\n",
       "      <td>0.617211</td>\n",
       "      <td>0.568045</td>\n",
       "      <td>0.461479</td>\n",
       "      <td>48.000000</td>\n",
       "    </tr>\n",
       "    <tr>\n",
       "      <th>3</th>\n",
       "      <td>0.544883</td>\n",
       "      <td>0.925597</td>\n",
       "      <td>0.780529</td>\n",
       "      <td>54.000000</td>\n",
       "    </tr>\n",
       "    <tr>\n",
       "      <th>4</th>\n",
       "      <td>0.423655</td>\n",
       "      <td>0.071036</td>\n",
       "      <td>0.118274</td>\n",
       "      <td>42.666667</td>\n",
       "    </tr>\n",
       "    <tr>\n",
       "      <th>5</th>\n",
       "      <td>0.645894</td>\n",
       "      <td>0.598478</td>\n",
       "      <td>0.639921</td>\n",
       "      <td>20.000000</td>\n",
       "    </tr>\n",
       "    <tr>\n",
       "      <th>6</th>\n",
       "      <td>0.437587</td>\n",
       "      <td>0.020218</td>\n",
       "      <td>0.143353</td>\n",
       "      <td>56.000000</td>\n",
       "    </tr>\n",
       "    <tr>\n",
       "      <th>7</th>\n",
       "      <td>0.891773</td>\n",
       "      <td>0.832620</td>\n",
       "      <td>0.539760</td>\n",
       "      <td>25.000000</td>\n",
       "    </tr>\n",
       "    <tr>\n",
       "      <th>8</th>\n",
       "      <td>0.963663</td>\n",
       "      <td>0.778157</td>\n",
       "      <td>0.521848</td>\n",
       "      <td>58.000000</td>\n",
       "    </tr>\n",
       "    <tr>\n",
       "      <th>9</th>\n",
       "      <td>0.383442</td>\n",
       "      <td>0.870012</td>\n",
       "      <td>0.414662</td>\n",
       "      <td>37.000000</td>\n",
       "    </tr>\n",
       "  </tbody>\n",
       "</table>\n",
       "</div>"
      ],
      "text/plain": [
       "          A         B         C        Age\n",
       "0  0.548814  0.791725  0.978618  55.000000\n",
       "1  0.715189  0.528895  0.799159  31.000000\n",
       "2  0.617211  0.568045  0.461479  48.000000\n",
       "3  0.544883  0.925597  0.780529  54.000000\n",
       "4  0.423655  0.071036  0.118274  42.666667\n",
       "5  0.645894  0.598478  0.639921  20.000000\n",
       "6  0.437587  0.020218  0.143353  56.000000\n",
       "7  0.891773  0.832620  0.539760  25.000000\n",
       "8  0.963663  0.778157  0.521848  58.000000\n",
       "9  0.383442  0.870012  0.414662  37.000000"
      ]
     },
     "execution_count": 248,
     "metadata": {},
     "output_type": "execute_result"
    }
   ],
   "source": [
    "# (i)\n",
    "import pandas as pd\n",
    "import numpy as np\n",
    "\n",
    "\n",
    "np.random.seed(0)  \n",
    "df = pd.DataFrame({\n",
    "    'A': np.random.rand(10),\n",
    "    'B': np.random.rand(10),\n",
    "    'C': np.random.rand(10),\n",
    "    'Age': np.random.randint(20, 60, size=10)\n",
    "})\n",
    "df.loc[2, 'A'] = np.nan\n",
    "df.loc[5, 'B'] = np.nan\n",
    "df.loc[7, 'C'] = np.nan\n",
    "df.loc[4, 'Age'] = np.nan\n",
    "\n",
    "df = df.apply(lambda x: x.fillna(x.mean()), axis=0)\n",
    "df\n"
   ]
  },
  {
   "cell_type": "code",
   "execution_count": 254,
   "id": "7c106405-73f2-473e-a23a-9065cb3c51be",
   "metadata": {},
   "outputs": [
    {
     "data": {
      "text/html": [
       "<div>\n",
       "<style scoped>\n",
       "    .dataframe tbody tr th:only-of-type {\n",
       "        vertical-align: middle;\n",
       "    }\n",
       "\n",
       "    .dataframe tbody tr th {\n",
       "        vertical-align: top;\n",
       "    }\n",
       "\n",
       "    .dataframe thead th {\n",
       "        text-align: right;\n",
       "    }\n",
       "</style>\n",
       "<table border=\"1\" class=\"dataframe\">\n",
       "  <thead>\n",
       "    <tr style=\"text-align: right;\">\n",
       "      <th></th>\n",
       "      <th>A</th>\n",
       "      <th>B</th>\n",
       "      <th>C</th>\n",
       "      <th>Age</th>\n",
       "    </tr>\n",
       "  </thead>\n",
       "  <tbody>\n",
       "    <tr>\n",
       "      <th>5</th>\n",
       "      <td>0.645894</td>\n",
       "      <td>0.598478</td>\n",
       "      <td>0.639921</td>\n",
       "      <td>20.000000</td>\n",
       "    </tr>\n",
       "    <tr>\n",
       "      <th>7</th>\n",
       "      <td>0.891773</td>\n",
       "      <td>0.832620</td>\n",
       "      <td>0.539760</td>\n",
       "      <td>25.000000</td>\n",
       "    </tr>\n",
       "    <tr>\n",
       "      <th>1</th>\n",
       "      <td>0.715189</td>\n",
       "      <td>0.528895</td>\n",
       "      <td>0.799159</td>\n",
       "      <td>31.000000</td>\n",
       "    </tr>\n",
       "    <tr>\n",
       "      <th>9</th>\n",
       "      <td>0.383442</td>\n",
       "      <td>0.870012</td>\n",
       "      <td>0.414662</td>\n",
       "      <td>37.000000</td>\n",
       "    </tr>\n",
       "    <tr>\n",
       "      <th>4</th>\n",
       "      <td>0.423655</td>\n",
       "      <td>0.071036</td>\n",
       "      <td>0.118274</td>\n",
       "      <td>42.666667</td>\n",
       "    </tr>\n",
       "    <tr>\n",
       "      <th>2</th>\n",
       "      <td>0.617211</td>\n",
       "      <td>0.568045</td>\n",
       "      <td>0.461479</td>\n",
       "      <td>48.000000</td>\n",
       "    </tr>\n",
       "    <tr>\n",
       "      <th>3</th>\n",
       "      <td>0.544883</td>\n",
       "      <td>0.925597</td>\n",
       "      <td>0.780529</td>\n",
       "      <td>54.000000</td>\n",
       "    </tr>\n",
       "    <tr>\n",
       "      <th>0</th>\n",
       "      <td>0.548814</td>\n",
       "      <td>0.791725</td>\n",
       "      <td>0.978618</td>\n",
       "      <td>55.000000</td>\n",
       "    </tr>\n",
       "    <tr>\n",
       "      <th>6</th>\n",
       "      <td>0.437587</td>\n",
       "      <td>0.020218</td>\n",
       "      <td>0.143353</td>\n",
       "      <td>56.000000</td>\n",
       "    </tr>\n",
       "    <tr>\n",
       "      <th>8</th>\n",
       "      <td>0.963663</td>\n",
       "      <td>0.778157</td>\n",
       "      <td>0.521848</td>\n",
       "      <td>58.000000</td>\n",
       "    </tr>\n",
       "  </tbody>\n",
       "</table>\n",
       "</div>"
      ],
      "text/plain": [
       "          A         B         C        Age\n",
       "5  0.645894  0.598478  0.639921  20.000000\n",
       "7  0.891773  0.832620  0.539760  25.000000\n",
       "1  0.715189  0.528895  0.799159  31.000000\n",
       "9  0.383442  0.870012  0.414662  37.000000\n",
       "4  0.423655  0.071036  0.118274  42.666667\n",
       "2  0.617211  0.568045  0.461479  48.000000\n",
       "3  0.544883  0.925597  0.780529  54.000000\n",
       "0  0.548814  0.791725  0.978618  55.000000\n",
       "6  0.437587  0.020218  0.143353  56.000000\n",
       "8  0.963663  0.778157  0.521848  58.000000"
      ]
     },
     "execution_count": 254,
     "metadata": {},
     "output_type": "execute_result"
    }
   ],
   "source": [
    "# (ii)\n",
    "sorted_df = df.sort_values(by=['Age', 'B'])\n",
    "sorted_df"
   ]
  },
  {
   "cell_type": "code",
   "execution_count": 213,
   "id": "4f0ae5d9-96b9-4fd4-83c7-d3772f5ff589",
   "metadata": {},
   "outputs": [],
   "source": [
    "#end"
   ]
  },
  {
   "cell_type": "markdown",
   "id": "0aa75941-2f94-4664-a67a-c3f1a12dd181",
   "metadata": {},
   "source": [
    "Q5. Using NumPy, calculate the dot product of two matrices and find the determinant of the resulting matrix."
   ]
  },
  {
   "cell_type": "code",
   "execution_count": 117,
   "id": "d9b023a7-6a93-49ef-b6ff-47657eac295f",
   "metadata": {},
   "outputs": [
    {
     "name": "stdout",
     "output_type": "stream",
     "text": [
      "167.9999999999985\n"
     ]
    }
   ],
   "source": [
    "import numpy as np\n",
    "arr1 = np.random.randint(0, 10, size = (3, 3))\n",
    "arr2 = np.random.randint(10, 20, size = (3, 3))\n",
    "\n",
    "res = np.dot(arr1, arr2)\n",
    "det_res = np.linalg.det(res)\n",
    "print(det_res)"
   ]
  },
  {
   "cell_type": "code",
   "execution_count": 39,
   "id": "31a7a79c-695b-4a13-aaf6-8541d52cbb65",
   "metadata": {},
   "outputs": [],
   "source": [
    "#end"
   ]
  },
  {
   "cell_type": "markdown",
   "id": "588beb9b-1808-4f83-bb7d-a96e0c3abf9c",
   "metadata": {},
   "source": [
    "Q6. With Pandas, group a DataFrame by a categorical column and calculate the sum of another numerical column for each group."
   ]
  },
  {
   "cell_type": "code",
   "execution_count": 67,
   "id": "5cbeac45-f2b1-4702-95b6-34220438af4e",
   "metadata": {},
   "outputs": [
    {
     "name": "stdout",
     "output_type": "stream",
     "text": [
      "Category\n",
      "A    40\n",
      "B    90\n",
      "C    40\n",
      "Name: Value, dtype: int64\n"
     ]
    }
   ],
   "source": [
    "import pandas as pd\n",
    "df = pd.DataFrame({\n",
    "    'Category': ['A', 'B', 'A', 'B', 'C', 'A', 'C', 'B'], 'Value': [10, 20, 10, 30, 10, 20, 30, 40]\n",
    "})\n",
    "group = df.groupby('Category')\n",
    "sum_num = group['Value'].sum()\n",
    "print(sum_num)"
   ]
  },
  {
   "cell_type": "code",
   "execution_count": 69,
   "id": "4937e089-6b84-458e-8114-675dd16fa7c5",
   "metadata": {},
   "outputs": [],
   "source": [
    "#end"
   ]
  },
  {
   "cell_type": "markdown",
   "id": "b197c7b7-f6b7-4b56-a5e8-bf7365fbe9c1",
   "metadata": {},
   "source": [
    "Q7. Using Matplotlib, create a histogram to show the distribution of a numerical dataset. Customize the number of bins and add grid lines for better readability."
   ]
  },
  {
   "cell_type": "code",
   "execution_count": 284,
   "id": "39bdbbfa-a71f-48cd-a139-bc8ee143cc22",
   "metadata": {},
   "outputs": [
    {
     "data": {
      "image/png": "[encoded data removed]",
      "text/plain": [
       "<Figure size 640x480 with 1 Axes>"
      ]
     },
     "metadata": {},
     "output_type": "display_data"
    }
   ],
   "source": [
    "%matplotlib inline\n",
    "from matplotlib import pyplot as plt\n",
    "import matplotlib.patches as mpatches\n",
    "import pandas as pd\n",
    "import numpy as np\n",
    "np.random.seed(0)  \n",
    "df = pd.DataFrame({\n",
    "    'rand': np.random.rand(10)*100,\n",
    "    'B': np.random.rand(10),\n",
    "    'C': np.random.rand(10),\n",
    "    'Age': np.random.randint(20, 60, size=10)\n",
    "})\n",
    "x = df['Age']\n",
    "y = df['rand']\n",
    "plt.hist(df['Age'],  bins=15, edgecolor='black')\n",
    "plt.title('random age')\n",
    "plt.xlabel('age')\n",
    "plt.ylabel('random number')\n",
    "plt.grid(True)\n",
    "blue_patch = mpatches.Patch(color='blue', label='The blue data')\n",
    "plt.legend(handles=[blue_patch])\n",
    "plt.show()"
   ]
  },
  {
   "cell_type": "markdown",
   "id": "bc6de330-f9ea-4256-a113-8e28183aaab9",
   "metadata": {},
   "source": [
    "Q8. Using NumPy, create a 2D array and perform a slicing operation to extract a specific sub-array."
   ]
  },
  {
   "cell_type": "code",
   "execution_count": 43,
   "id": "7e250a1e-4d40-491f-bcdf-33ea276525de",
   "metadata": {},
   "outputs": [
    {
     "name": "stdout",
     "output_type": "stream",
     "text": [
      "[[42 14 86 28 20 82 68 22]\n",
      " [99 83  7 72 61 13  5  0]\n",
      " [ 8 79 79 53 11  4 39 92]\n",
      " [45 26 74 52 49 91 51 99]\n",
      " [18 34 51 30 53 58 43 55]]\n",
      "[[28 20 82 68]\n",
      " [72 61 13  5]\n",
      " [53 11  4 39]]\n"
     ]
    }
   ],
   "source": [
    "import numpy as np\n",
    "arr = np.random.randint(0, 100, (5, 8))\n",
    "sliced_arr = arr[ 0:3, 3:7 ]\n",
    "print(arr)\n",
    "print(sliced_arr)"
   ]
  },
  {
   "cell_type": "markdown",
   "id": "0da6fe82-2138-4c81-a427-b1cc3a1abbb5",
   "metadata": {},
   "source": [
    "Q9. Using Pandas, perform a merge operation between two DataFrames based on a common column for dataset of your choice."
   ]
  },
  {
   "cell_type": "code",
   "execution_count": 244,
   "id": "410f83a0-6ba6-40ed-ac8e-e07cf2597235",
   "metadata": {},
   "outputs": [
    {
     "data": {
      "text/html": [
       "<div>\n",
       "<style scoped>\n",
       "    .dataframe tbody tr th:only-of-type {\n",
       "        vertical-align: middle;\n",
       "    }\n",
       "\n",
       "    .dataframe tbody tr th {\n",
       "        vertical-align: top;\n",
       "    }\n",
       "\n",
       "    .dataframe thead th {\n",
       "        text-align: right;\n",
       "    }\n",
       "</style>\n",
       "<table border=\"1\" class=\"dataframe\">\n",
       "  <thead>\n",
       "    <tr style=\"text-align: right;\">\n",
       "      <th></th>\n",
       "      <th>EmployeeID</th>\n",
       "      <th>Name</th>\n",
       "      <th>Department</th>\n",
       "      <th>Salary</th>\n",
       "    </tr>\n",
       "  </thead>\n",
       "  <tbody>\n",
       "    <tr>\n",
       "      <th>0</th>\n",
       "      <td>1</td>\n",
       "      <td>Alice</td>\n",
       "      <td>HR</td>\n",
       "      <td>50000</td>\n",
       "    </tr>\n",
       "    <tr>\n",
       "      <th>1</th>\n",
       "      <td>2</td>\n",
       "      <td>Bob</td>\n",
       "      <td>Engineering</td>\n",
       "      <td>60000</td>\n",
       "    </tr>\n",
       "    <tr>\n",
       "      <th>2</th>\n",
       "      <td>3</td>\n",
       "      <td>Charlie</td>\n",
       "      <td>Marketing</td>\n",
       "      <td>55000</td>\n",
       "    </tr>\n",
       "    <tr>\n",
       "      <th>3</th>\n",
       "      <td>4</td>\n",
       "      <td>David</td>\n",
       "      <td>Sales</td>\n",
       "      <td>52000</td>\n",
       "    </tr>\n",
       "    <tr>\n",
       "      <th>4</th>\n",
       "      <td>5</td>\n",
       "      <td>Eve</td>\n",
       "      <td>HR</td>\n",
       "      <td>51000</td>\n",
       "    </tr>\n",
       "    <tr>\n",
       "      <th>5</th>\n",
       "      <td>6</td>\n",
       "      <td>Frank</td>\n",
       "      <td>Engineering</td>\n",
       "      <td>62000</td>\n",
       "    </tr>\n",
       "    <tr>\n",
       "      <th>6</th>\n",
       "      <td>7</td>\n",
       "      <td>Grace</td>\n",
       "      <td>Marketing</td>\n",
       "      <td>57000</td>\n",
       "    </tr>\n",
       "    <tr>\n",
       "      <th>7</th>\n",
       "      <td>8</td>\n",
       "      <td>Hank</td>\n",
       "      <td>Sales</td>\n",
       "      <td>53000</td>\n",
       "    </tr>\n",
       "    <tr>\n",
       "      <th>8</th>\n",
       "      <td>9</td>\n",
       "      <td>Ivy</td>\n",
       "      <td>HR</td>\n",
       "      <td>51500</td>\n",
       "    </tr>\n",
       "    <tr>\n",
       "      <th>9</th>\n",
       "      <td>10</td>\n",
       "      <td>Jack</td>\n",
       "      <td>Engineering</td>\n",
       "      <td>62500</td>\n",
       "    </tr>\n",
       "  </tbody>\n",
       "</table>\n",
       "</div>"
      ],
      "text/plain": [
       "   EmployeeID     Name   Department  Salary\n",
       "0           1    Alice           HR   50000\n",
       "1           2      Bob  Engineering   60000\n",
       "2           3  Charlie    Marketing   55000\n",
       "3           4    David        Sales   52000\n",
       "4           5      Eve           HR   51000\n",
       "5           6    Frank  Engineering   62000\n",
       "6           7    Grace    Marketing   57000\n",
       "7           8     Hank        Sales   53000\n",
       "8           9      Ivy           HR   51500\n",
       "9          10     Jack  Engineering   62500"
      ]
     },
     "execution_count": 244,
     "metadata": {},
     "output_type": "execute_result"
    }
   ],
   "source": [
    "import pandas as pd\n",
    "employee_info = pd.DataFrame({ 'EmployeeID': [1, 2, 3, 4, 5, 6, 7, 8, 9, 10], 'Name': ['Alice', 'Bob', 'Charlie', 'David', 'Eve', 'Frank', 'Grace', 'Hank', 'Ivy', 'Jack'], 'Department': ['HR', 'Engineering', 'Marketing', 'Sales', 'HR', 'Engineering', 'Marketing', 'Sales', 'HR', 'Engineering'] })\n",
    "employee_salaries = pd.DataFrame({ 'EmployeeID': [1, 2, 3, 4, 5, 6, 7, 8, 9, 10], 'Salary': [50000, 60000, 55000, 52000, 51000, 62000, 57000, 53000, 51500, 62500] })\n",
    "employee_info['Salary'] = employee_salaries['Salary']\n",
    "employee_info"
   ]
  },
  {
   "cell_type": "markdown",
   "id": "e0fd5554-9d01-4816-bd85-690652dfc74e",
   "metadata": {},
   "source": [
    "Q10. Using Matplotlib, create a scatter plot comparing two numerical variables in the dataset of your choice. Customize the plot by changing the color and shape of the data points."
   ]
  },
  {
   "cell_type": "code",
   "execution_count": 75,
   "id": "db136c2a-5aac-4463-81d2-0799a3be57ff",
   "metadata": {},
   "outputs": [],
   "source": [
    "import pandas as pd \n",
    "from matplotlib import pyplot as plt\n",
    "%matplotlib inline"
   ]
  },
  {
   "cell_type": "code",
   "execution_count": 107,
   "id": "4a6fdcc3-bfd8-40ca-a936-10cd335080d6",
   "metadata": {},
   "outputs": [
    {
     "data": {
      "image/png": "[encoded data removed]",
      "text/plain": [
       "<Figure size 640x480 with 1 Axes>"
      ]
     },
     "metadata": {},
     "output_type": "display_data"
    }
   ],
   "source": [
    "data_set = pd.DataFrame({'Age': [1, 5, 10, 15, 20, 25, 30, 35, 40, 45, 50, 55, 60, 65, 70, 75, 80, 85, 90, 95], \n",
    "                         'Death_Rate': [0.005, 0.001, 0.001, 0.002, 0.003, 0.004, 0.005, 0.007, 0.009, 0.012, 0.015, 0.020, 0.030, 0.040, 0.060, 0.080, 0.100, 0.150, 0.200, 0.300]})\n",
    "data_set\n",
    "plt.scatter(data_set['Age'], data_set['Death_Rate'], color = 'gray', marker = 's')\n",
    "plt.xlabel('Age')\n",
    "plt.ylabel('Death Rate')\n",
    "plt.title('Scatter Plot of Age vs Death Rate')\n",
    "plt.grid(True)\n",
    "gray_patch = mpatches.Patch(color='gray', label='death_rate')\n",
    "plt.legend(handles=[gray_patch\n",
    "                   ], loc = 'upper right')\n",
    "plt.show()"
   ]
  },
  {
   "cell_type": "code",
   "execution_count": 109,
   "id": "e9c2a085-9db4-4b4e-8557-ea0d9b858c55",
   "metadata": {},
   "outputs": [],
   "source": [
    "#end"
   ]
  }
 ],
 "metadata": {
  "kernelspec": {
   "display_name": "Python 3 (ipykernel)",
   "language": "python",
   "name": "python3"
  },
  "language_info": {
   "codemirror_mode": {
    "name": "ipython",
    "version": 3
   },
   "file_extension": ".py",
   "mimetype": "text/x-python",
   "name": "python",
   "nbconvert_exporter": "python",
   "pygments_lexer": "ipython3",
   "version": "3.12.7"
  }
 },
 "nbformat": 4,
 "nbformat_minor": 5
}
