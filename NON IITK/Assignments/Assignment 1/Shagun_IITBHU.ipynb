{
 "cells": [
  {
   "cell_type": "markdown",
   "id": "83223343",
   "metadata": {},
   "source": [
    "#### Q1. Using NumPy, create a 3D array of shape (4, 4, 4) filled with random numbers between 1 and 100. Find the z score normalisation of each element of the array."
   ]
  },
  {
   "cell_type": "code",
   "execution_count": 1,
   "id": "eb721148",
   "metadata": {},
   "outputs": [
    {
     "name": "stdout",
     "output_type": "stream",
     "text": [
      "[[[ 88  77  67  67]\n",
      "  [ 53  24  88  34]\n",
      "  [ 74  62  32  26]\n",
      "  [ 81  95  21  87]]\n",
      "\n",
      " [[ 92 100   5  65]\n",
      "  [ 96  95  34  73]\n",
      "  [ 87  79  29  88]\n",
      "  [ 36  29  29  31]]\n",
      "\n",
      " [[ 26  83  88   7]\n",
      "  [ 63  18  70  94]\n",
      "  [ 16  49  52  53]\n",
      "  [ 94  48  35  29]]\n",
      "\n",
      " [[ 53  77  52  24]\n",
      "  [ 33   8  57  58]\n",
      "  [ 73  84  97  21]\n",
      "  [  3  22  19   8]]]\n",
      "[[[ 1.16741765  0.78937624  0.44570223  0.44570223]\n",
      "  [-0.03544138 -1.03209601  1.16741765 -0.688422  ]\n",
      "  [ 0.68627404  0.27386523 -0.7571568  -0.96336121]\n",
      "  [ 0.92684585  1.40798946 -1.13519822  1.13305025]]\n",
      "\n",
      " [[ 1.30488726  1.57982647 -1.68507663  0.37696743]\n",
      "  [ 1.44235686  1.40798946 -0.688422    0.65190664]\n",
      "  [ 1.13305025  0.85811105 -0.86025901  1.16741765]\n",
      "  [-0.6196872  -0.86025901 -0.86025901 -0.79152421]]\n",
      "\n",
      " [[-0.96336121  0.99558065  1.16741765 -1.61634183]\n",
      "  [ 0.30823263 -1.23830042  0.54880444  1.37362206]\n",
      "  [-1.30703522 -0.17291099 -0.06980878 -0.03544138]\n",
      "  [ 1.37362206 -0.20727839 -0.6540546  -0.86025901]]\n",
      "\n",
      " [[-0.03544138  0.78937624 -0.06980878 -1.03209601]\n",
      "  [-0.7227894  -1.58197443  0.10202822  0.13639562]\n",
      "  [ 0.65190664  1.02994805  1.47672426 -1.13519822]\n",
      "  [-1.75381144 -1.10083082 -1.20393302 -1.58197443]]]\n"
     ]
    }
   ],
   "source": [
    "import numpy as np\n",
    "\n",
    "arr = np.random.randint(1,101,size=(4,4,4))\n",
    "\n",
    "mu = np.mean(arr)\n",
    "sd = np.std(arr)\n",
    "\n",
    "z_score = (arr - mu)/sd\n",
    "\n",
    "print(arr)\n",
    "print(z_score)"
   ]
  },
  {
   "cell_type": "markdown",
   "id": "b7178551",
   "metadata": {},
   "source": [
    "#### Q2. Using Pandas, filter the rows in the Iris dataset where the petal length is greater than 3.0, and display the filtered data "
   ]
  },
  {
   "cell_type": "code",
   "execution_count": 4,
   "id": "830ce549",
   "metadata": {},
   "outputs": [
    {
     "name": "stdout",
     "output_type": "stream",
     "text": [
      "     sepal_length  sepal_width  petal_length  petal_width     species\n",
      "50            7.0          3.2           4.7          1.4  versicolor\n",
      "51            6.4          3.2           4.5          1.5  versicolor\n",
      "52            6.9          3.1           4.9          1.5  versicolor\n",
      "53            5.5          2.3           4.0          1.3  versicolor\n",
      "54            6.5          2.8           4.6          1.5  versicolor\n",
      "..            ...          ...           ...          ...         ...\n",
      "145           6.7          3.0           5.2          2.3   virginica\n",
      "146           6.3          2.5           5.0          1.9   virginica\n",
      "147           6.5          3.0           5.2          2.0   virginica\n",
      "148           6.2          3.4           5.4          2.3   virginica\n",
      "149           5.9          3.0           5.1          1.8   virginica\n",
      "\n",
      "[99 rows x 5 columns]\n"
     ]
    }
   ],
   "source": [
    "import pandas as pd\n",
    "import seaborn as sns\n",
    "\n",
    "iris = sns.load_dataset('iris')\n",
    "\n",
    "filtered = iris[iris['petal_length']>3.0]\n",
    "print(filtered)"
   ]
  },
  {
   "cell_type": "markdown",
   "id": "d464b422",
   "metadata": {},
   "source": [
    "#### Q3. Using Matplotlib, plot a line graph showing the trend of a numerical dataset. Customize the plot with title, axis labels, and a legend."
   ]
  },
  {
   "cell_type": "code",
   "execution_count": 12,
   "id": "27374336",
   "metadata": {},
   "outputs": [
    {
     "name": "stdout",
     "output_type": "stream",
     "text": [
      "[1, 2, 3, 4, 5]\n",
      "[2, 4, 6, 8, 10]\n"
     ]
    },
    {
     "data": {
      "image/png": "[encoded data removed]",
      "text/plain": [
       "<Figure size 640x480 with 1 Axes>"
      ]
     },
     "metadata": {},
     "output_type": "display_data"
    }
   ],
   "source": [
    "import matplotlib.pyplot as plt\n",
    "\n",
    "#y=2x\n",
    "\n",
    "x = [1, 2, 3, 4, 5]\n",
    "y = [2, 4, 6, 8, 10]\n",
    "\n",
    "plt.plot(x,y, label='Line Graph',linestyle ='-',color = 'blue', marker = 'o')\n",
    "\n",
    "plt.title(\"Trend of Numerical Dataset\")  \n",
    "plt.xlabel(\"X-axis\")  \n",
    "plt.ylabel(\"Y-axis\")\n",
    "plt.legend()\n",
    "plt.grid(True)\n",
    "\n",
    "print(x)\n",
    "print(y)\n",
    "plt.show()"
   ]
  },
  {
   "cell_type": "markdown",
   "id": "351893ed",
   "metadata": {},
   "source": [
    "#### Q4.Create a Pandas DataFrame with random values with at least 3 columns and perform the following operations: (i) Replace NaN values with the mean of the column. (ii) Sort the DataFrame based on any two columns."
   ]
  },
  {
   "cell_type": "code",
   "execution_count": 13,
   "id": "0e8fd50f",
   "metadata": {},
   "outputs": [
    {
     "name": "stdout",
     "output_type": "stream",
     "text": [
      "Original DataFrame:\n",
      "   Column_A  Column_B  Column_C\n",
      "0        77        16        92\n",
      "1        35         1         6\n",
      "2        75        79        17\n",
      "3        93         1        80\n",
      "4        89         3        79\n",
      "5        96        36        55\n",
      "6        26         2        89\n",
      "7        86        15        28\n",
      "8        28        70        16\n",
      "9        13         5         3\n",
      "\n",
      "DataFrame After Replacing NaN Values with Column Mean:\n",
      "   Column_A  Column_B  Column_C\n",
      "0        77        16        92\n",
      "1        35         1         6\n",
      "2        75        79        17\n",
      "3        93         1        80\n",
      "4        89         3        79\n",
      "5        96        36        55\n",
      "6        26         2        89\n",
      "7        86        15        28\n",
      "8        28        70        16\n",
      "9        13         5         3\n",
      "\n",
      "Sorted DataFrame (by 'Column_A' and 'Column_B'):\n",
      "   Column_A  Column_B  Column_C\n",
      "9        13         5         3\n",
      "6        26         2        89\n",
      "8        28        70        16\n",
      "1        35         1         6\n",
      "2        75        79        17\n",
      "0        77        16        92\n",
      "7        86        15        28\n",
      "4        89         3        79\n",
      "3        93         1        80\n",
      "5        96        36        55\n"
     ]
    }
   ],
   "source": [
    "import pandas as pd\n",
    "import numpy as np\n",
    "\n",
    "data = {\n",
    "    'Column_A': np.random.randint(1, 100, 10),\n",
    "    'Column_B': np.random.randint(1, 100, 10),\n",
    "    'Column_C': np.random.randint(1, 100,10)\n",
    "}\n",
    "\n",
    "df = pd.DataFrame(data)\n",
    "\n",
    "print(\"Original DataFrame:\")\n",
    "print(df)\n",
    "\n",
    "\n",
    "df = df.fillna(df.mean(numeric_only=True))\n",
    "\n",
    "print(\"\\nDataFrame After Replacing NaN Values with Column Mean:\")\n",
    "print(df)\n",
    "\n",
    "sorted_df = df.sort_values(by=['Column_A', 'Column_B'], ascending=[True, True])\n",
    "\n",
    "print(\"\\nSorted DataFrame (by 'Column_A' and 'Column_B'):\")\n",
    "print(sorted_df)"
   ]
  },
  {
   "cell_type": "markdown",
   "id": "090e97a0",
   "metadata": {},
   "source": [
    "#### Q5. Using NumPy, calculate the dot product of two matrices and find the determinant of the resulting matrix."
   ]
  },
  {
   "cell_type": "code",
   "execution_count": 14,
   "id": "367846ad",
   "metadata": {},
   "outputs": [
    {
     "name": "stdout",
     "output_type": "stream",
     "text": [
      "Resulting Matrix:\n",
      "[[ 30  24  18]\n",
      " [ 84  69  54]\n",
      " [138 114  90]]\n",
      "\n",
      "Determinant of the Resulting Matrix:\n",
      "-6.245438948613098e-13\n"
     ]
    }
   ],
   "source": [
    "import numpy as np\n",
    "\n",
    "A = np.array([[1, 2, 3],\n",
    "                    [4, 5, 6],\n",
    "                    [7, 8, 9]])\n",
    "\n",
    "B = np.array([[9, 8, 7],\n",
    "                    [6, 5, 4],\n",
    "                    [3, 2, 1]])\n",
    "\n",
    "res = np.dot(A, B)\n",
    "det = np.linalg.det(res)\n",
    "\n",
    "print(\"Resulting Matrix:\")\n",
    "print(res)\n",
    "print(\"\\nDeterminant of the Resulting Matrix:\")\n",
    "print(det)\n"
   ]
  },
  {
   "cell_type": "markdown",
   "id": "73b3cd33",
   "metadata": {},
   "source": [
    "#### Q6. With Pandas, group a DataFrame by a categorical column and calculate the sum of another numerical column for each group."
   ]
  },
  {
   "cell_type": "code",
   "execution_count": 15,
   "id": "97c0e2cd",
   "metadata": {},
   "outputs": [
    {
     "name": "stdout",
     "output_type": "stream",
     "text": [
      "Category\n",
      "A    110\n",
      "B     70\n",
      "C    100\n",
      "Name: Values, dtype: int64\n"
     ]
    }
   ],
   "source": [
    "import pandas as pd\n",
    "\n",
    "data = {\n",
    "    'Category': ['A', 'B', 'A', 'C', 'B', 'C', 'A'],\n",
    "    'Values': [10, 20, 30, 40, 50, 60, 70]\n",
    "}\n",
    "df = pd.DataFrame(data)\n",
    "\n",
    "grouped_sum = df.groupby('Category')['Values'].sum()\n",
    "print(grouped_sum)\n"
   ]
  },
  {
   "cell_type": "markdown",
   "id": "123467fa",
   "metadata": {},
   "source": [
    "#### Q7. Using Matplotlib, create a histogram to show the distribution of a numerical dataset. Customize the number of bins and add grid lines for better readability."
   ]
  },
  {
   "cell_type": "code",
   "execution_count": 16,
   "id": "fa02aa76",
   "metadata": {},
   "outputs": [
    {
     "data": {
      "image/png": "[encoded data removed]",
      "text/plain": [
       "<Figure size 640x480 with 1 Axes>"
      ]
     },
     "metadata": {},
     "output_type": "display_data"
    }
   ],
   "source": [
    "import matplotlib.pyplot as plt\n",
    "import numpy as np\n",
    "\n",
    "data = np.random.randn(1000)\n",
    "\n",
    "plt.hist(data, bins=20, color='skyblue', edgecolor='black')\n",
    "plt.title(\"Histogram of Data Distribution\")\n",
    "plt.xlabel(\"Values\")\n",
    "plt.ylabel(\"Frequency\")\n",
    "plt.grid(True)\n",
    "plt.show()\n"
   ]
  },
  {
   "cell_type": "markdown",
   "id": "51ebf78b",
   "metadata": {},
   "source": [
    "#### Q8. Using NumPy, create a 2D array and perform a slicing operation to extract a specific sub-array."
   ]
  },
  {
   "cell_type": "code",
   "execution_count": 17,
   "id": "94fba6e8",
   "metadata": {},
   "outputs": [
    {
     "name": "stdout",
     "output_type": "stream",
     "text": [
      "[[ 6  7]\n",
      " [10 11]]\n"
     ]
    }
   ],
   "source": [
    "import numpy as np\n",
    "\n",
    "array_2d = np.array([[1, 2, 3, 4],\n",
    "                     [5, 6, 7, 8],\n",
    "                     [9, 10, 11, 12],\n",
    "                     [13, 14, 15, 16]])\n",
    "\n",
    "sub_array = array_2d[1:3, 1:3]\n",
    "print(sub_array)\n"
   ]
  },
  {
   "cell_type": "markdown",
   "id": "b797dbba",
   "metadata": {},
   "source": [
    "#### Q9. Using Pandas, perform a merge operation between two DataFrames based on a common column for dataset of your choice."
   ]
  },
  {
   "cell_type": "code",
   "execution_count": 18,
   "id": "63a001ca",
   "metadata": {},
   "outputs": [
    {
     "name": "stdout",
     "output_type": "stream",
     "text": [
      "   ID   Name  Score\n",
      "0   1  Alice     85\n",
      "1   2    Bob     90\n"
     ]
    }
   ],
   "source": [
    "import pandas as pd\n",
    "\n",
    "df1 = pd.DataFrame({\n",
    "    'ID': [1, 2, 3],\n",
    "    'Name': ['Alice', 'Bob', 'Charlie']\n",
    "})\n",
    "\n",
    "df2 = pd.DataFrame({\n",
    "    'ID': [1, 2, 4],\n",
    "    'Score': [85, 90, 95]\n",
    "})\n",
    "\n",
    "merged_df = pd.merge(df1, df2, on='ID', how='inner')\n",
    "print(merged_df)\n"
   ]
  },
  {
   "cell_type": "markdown",
   "id": "ee952718",
   "metadata": {},
   "source": [
    "#### Q10. Using Matplotlib, create a scatter plot comparing two numerical variables in the dataset of your choice. Customize the plot by changing the color and shape of the data points."
   ]
  },
  {
   "cell_type": "code",
   "execution_count": 19,
   "id": "57b8afa1",
   "metadata": {},
   "outputs": [
    {
     "data": {
      "image/png": "[encoded data removed]",
      "text/plain": [
       "<Figure size 640x480 with 1 Axes>"
      ]
     },
     "metadata": {},
     "output_type": "display_data"
    }
   ],
   "source": [
    "import matplotlib.pyplot as plt\n",
    "\n",
    "x = [10, 20, 30, 40, 50]\n",
    "y = [15, 25, 35, 45, 55]\n",
    "\n",
    "plt.scatter(x, y, color='red', marker='x')\n",
    "plt.title(\"Scatter Plot of X vs Y\")\n",
    "plt.xlabel(\"X-axis\")\n",
    "plt.ylabel(\"Y-axis\")\n",
    "plt.grid(True)\n",
    "plt.show()\n"
   ]
  },
  {
   "cell_type": "code",
   "execution_count": null,
   "id": "cb2491a9",
   "metadata": {},
   "outputs": [],
   "source": []
  }
 ],
 "metadata": {
  "kernelspec": {
   "display_name": "Python 3 (ipykernel)",
   "language": "python",
   "name": "python3"
  },
  "language_info": {
   "codemirror_mode": {
    "name": "ipython",
    "version": 3
   },
   "file_extension": ".py",
   "mimetype": "text/x-python",
   "name": "python",
   "nbconvert_exporter": "python",
   "pygments_lexer": "ipython3",
   "version": "3.11.5"
  }
 },
 "nbformat": 4,
 "nbformat_minor": 5
}
