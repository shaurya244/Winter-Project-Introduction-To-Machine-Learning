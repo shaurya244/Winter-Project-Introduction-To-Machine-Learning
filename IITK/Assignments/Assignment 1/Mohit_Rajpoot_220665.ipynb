{
 "cells": [
  {
   "cell_type": "markdown",
   "id": "7dac7bff",
   "metadata": {},
   "source": [
    "# Assignment-1"
   ]
  },
  {
   "cell_type": "markdown",
   "id": "1028e5b6",
   "metadata": {},
   "source": [
    "## Q1. Create a 3D array and perform z-score normalization\n"
   ]
  },
  {
   "cell_type": "code",
   "execution_count": 5,
   "id": "6ff6c0dd",
   "metadata": {},
   "outputs": [
    {
     "name": "stdout",
     "output_type": "stream",
     "text": [
      "Z-Score Normalized Array: [[[ 0.99141413  1.39748406 -0.60220436  0.98358935]\n",
      "  [-1.13968715  0.49910563  1.60707479 -0.62021011]\n",
      "  [-0.24963159  0.45139889 -1.45502097  0.85817061]\n",
      "  [ 0.58306333  0.4596145   0.65060208 -0.97163608]]\n",
      "\n",
      " [[-0.40845518  1.37691391 -1.06221283  0.15229716]\n",
      "  [-0.17189083 -1.24493817 -1.2319375   0.76169861]\n",
      "  [ 0.73376545  0.40838425 -1.66432493 -0.44586342]\n",
      "  [ 0.73436711  0.65720753 -1.75011581 -1.47021191]]\n",
      "\n",
      " [[ 0.02202437  1.37957755  0.13137768 -0.84911202]\n",
      "  [ 1.50870465  1.42372134  0.66417701 -0.76443926]\n",
      "  [ 0.81725168 -0.57678329  1.54535616  0.98638495]\n",
      "  [-0.52148659  1.37720332 -0.26467454 -0.90392072]]\n",
      "\n",
      " [[ 0.40586679 -0.72576334 -0.42665882 -1.74844189]\n",
      "  [-1.84680727  0.49761595 -0.341474   -1.05479   ]\n",
      "  [-1.37451092 -1.06076117  1.12280906 -0.93809502]\n",
      "  [ 0.31600113 -0.36748705  1.52262037  1.22670335]]]\n"
     ]
    }
   ],
   "source": [
    "\n",
    "import numpy as np\n",
    "\n",
    "# Create a 3D array with random numbers between 1 and 100\n",
    "array_3d = np.random.uniform(1, 100, size=(4, 4, 4))\n",
    "\n",
    "# Z-score normalization function\n",
    "def z_score(arr):\n",
    "    mean = np.mean(arr)\n",
    "    std_dev = np.std(arr)\n",
    "    return (arr - mean) / std_dev\n",
    "\n",
    "z_normalized_array = z_score(array_3d)\n",
    "print(\"Z-Score Normalized Array:\", z_normalized_array)\n"
   ]
  },
  {
   "cell_type": "markdown",
   "id": "8df0fa80",
   "metadata": {},
   "source": [
    "## Q2. Filter rows in the Iris dataset"
   ]
  },
  {
   "cell_type": "code",
   "execution_count": 7,
   "id": "7a3b1213",
   "metadata": {},
   "outputs": [
    {
     "name": "stdout",
     "output_type": "stream",
     "text": [
      "     sepal length (cm)  sepal width (cm)  petal length (cm)  petal width (cm)  \\\n",
      "50                 7.0               3.2                4.7               1.4   \n",
      "51                 6.4               3.2                4.5               1.5   \n",
      "52                 6.9               3.1                4.9               1.5   \n",
      "53                 5.5               2.3                4.0               1.3   \n",
      "54                 6.5               2.8                4.6               1.5   \n",
      "..                 ...               ...                ...               ...   \n",
      "145                6.7               3.0                5.2               2.3   \n",
      "146                6.3               2.5                5.0               1.9   \n",
      "147                6.5               3.0                5.2               2.0   \n",
      "148                6.2               3.4                5.4               2.3   \n",
      "149                5.9               3.0                5.1               1.8   \n",
      "\n",
      "     species  \n",
      "50         1  \n",
      "51         1  \n",
      "52         1  \n",
      "53         1  \n",
      "54         1  \n",
      "..       ...  \n",
      "145        2  \n",
      "146        2  \n",
      "147        2  \n",
      "148        2  \n",
      "149        2  \n",
      "\n",
      "[99 rows x 5 columns]\n"
     ]
    }
   ],
   "source": [
    "import pandas as pd\n",
    "from sklearn.datasets import load_iris\n",
    "\n",
    "# Load the Iris dataset\n",
    "iris = load_iris()\n",
    "iris_df = pd.DataFrame(iris.data, columns=iris.feature_names)\n",
    "iris_df['species'] = iris.target\n",
    "\n",
    "# Filter rows where petal length > 3.0\n",
    "filtered_iris = iris_df[iris_df['petal length (cm)'] > 3.0]\n",
    "print(filtered_iris)"
   ]
  },
  {
   "cell_type": "markdown",
   "id": "65e3cf7a",
   "metadata": {},
   "source": [
    "## Q3. Line graph showing trend"
   ]
  },
  {
   "cell_type": "code",
   "execution_count": 9,
   "id": "748280b5",
   "metadata": {},
   "outputs": [
    {
     "name": "stderr",
     "output_type": "stream",
     "text": [
      "Matplotlib is building the font cache; this may take a moment.\n"
     ]
    },
    {
     "data": {
      "image/png": "[encoded data removed]",
      "text/plain": [
       "<Figure size 640x480 with 1 Axes>"
      ]
     },
     "metadata": {},
     "output_type": "display_data"
    }
   ],
   "source": [
    "import matplotlib.pyplot as plt\n",
    "\n",
    "# Sample dataset for the plot\n",
    "data = [5, 15, 10, 20, 25, 35, 30]\n",
    "x_values = range(1, len(data) + 1)\n",
    "\n",
    "# Create a line graph\n",
    "plt.plot(x_values, data, label=\"Data Trend\", linestyle='--', color='green')\n",
    "plt.title(\"Line Graph of Data Trend\")\n",
    "plt.xlabel(\"Index\")\n",
    "plt.ylabel(\"Value\")\n",
    "plt.legend()\n",
    "plt.show()"
   ]
  },
  {
   "cell_type": "markdown",
   "id": "c7a29844",
   "metadata": {},
   "source": [
    "## Q4. Pandas DataFrame operations"
   ]
  },
  {
   "cell_type": "code",
   "execution_count": 10,
   "id": "63532691",
   "metadata": {},
   "outputs": [
    {
     "name": "stdout",
     "output_type": "stream",
     "text": [
      "    Column1   Column2  Column3\n",
      "8 -0.469474 -0.908024      8.0\n",
      "4 -0.234153 -1.724918      4.0\n",
      "5 -0.234137 -0.562288      5.0\n",
      "1 -0.138264 -0.465730      1.0\n",
      "0  0.496714 -0.463418      4.5\n",
      "9  0.542560 -1.412304      4.5\n",
      "2  0.647689  0.241962      2.0\n",
      "7  0.767435  0.314247      7.0\n",
      "3  1.523030 -1.913280      4.5\n",
      "6  1.579213 -1.012831      4.5\n"
     ]
    }
   ],
   "source": [
    "# Create a DataFrame with NaN and random values\n",
    "np.random.seed(42)\n",
    "data = {\n",
    "    'Column1': np.random.randn(10),\n",
    "    'Column2': np.random.randn(10),\n",
    "    'Column3': [np.nan if i % 3 == 0 else i for i in range(10)]\n",
    "}\n",
    "df = pd.DataFrame(data)\n",
    "\n",
    "# Replace NaN with the mean of the column\n",
    "df['Column3'].fillna(df['Column3'].mean(), inplace=True)\n",
    "\n",
    "# Sort the DataFrame by two columns\n",
    "df_sorted = df.sort_values(by=['Column1', 'Column2'])\n",
    "print(df_sorted)"
   ]
  },
  {
   "cell_type": "markdown",
   "id": "5e0f11c3",
   "metadata": {},
   "source": [
    "## Q5. Dot product and determinant"
   ]
  },
  {
   "cell_type": "code",
   "execution_count": 11,
   "id": "b314ffa2",
   "metadata": {},
   "outputs": [
    {
     "name": "stdout",
     "output_type": "stream",
     "text": [
      "Dot Product Matrix: [[396 572 503 379]\n",
      " [272 472 427 327]\n",
      " [259 508 434 437]\n",
      " [279 508 365 580]]\n",
      "Determinant: 1598960.0000000065\n"
     ]
    }
   ],
   "source": [
    "# Generate random matrices\n",
    "matrix_a = np.random.randint(1, 20, size=(4, 4))\n",
    "matrix_b = np.random.randint(1, 20, size=(4, 4))\n",
    "\n",
    "# Calculate the dot product\n",
    "dot_product_matrix = np.dot(matrix_a, matrix_b)\n",
    "\n",
    "# Find the determinant of the resulting matrix\n",
    "det_result = np.linalg.det(dot_product_matrix)\n",
    "\n",
    "print(\"Dot Product Matrix:\", dot_product_matrix)\n",
    "print(\"Determinant:\", det_result)"
   ]
  },
  {
   "cell_type": "markdown",
   "id": "6d724a8c",
   "metadata": {},
   "source": [
    "## Q6. Grouping and aggregation with Pandas"
   ]
  },
  {
   "cell_type": "code",
   "execution_count": 12,
   "id": "a31ecdff",
   "metadata": {},
   "outputs": [
    {
     "name": "stdout",
     "output_type": "stream",
     "text": [
      "Category\n",
      "X    375\n",
      "Y    450\n",
      "Z    700\n",
      "Name: Amount, dtype: int64\n"
     ]
    }
   ],
   "source": [
    "# Create a sample DataFrame\n",
    "data = {\n",
    "    'Category': ['X', 'Y', 'X', 'Z', 'Y', 'Z', 'X'],\n",
    "    'Amount': [100, 200, 150, 300, 250, 400, 125]\n",
    "}\n",
    "dataframe = pd.DataFrame(data)\n",
    "\n",
    "# Group and calculate sum\n",
    "category_sum = dataframe.groupby('Category')['Amount'].sum()\n",
    "print(category_sum)"
   ]
  },
  {
   "cell_type": "markdown",
   "id": "eb0e28d9",
   "metadata": {},
   "source": [
    "## Q7. Histogram with Matplotlib"
   ]
  },
  {
   "cell_type": "code",
   "execution_count": 13,
   "id": "5337b98b",
   "metadata": {},
   "outputs": [
    {
     "data": {
      "image/png": "[encoded data removed]",
      "text/plain": [
       "<Figure size 640x480 with 1 Axes>"
      ]
     },
     "metadata": {},
     "output_type": "display_data"
    }
   ],
   "source": [
    "# Generate a random dataset for the histogram\n",
    "random_values = np.random.exponential(scale=2, size=1000)\n",
    "\n",
    "# Plot histogram\n",
    "plt.hist(random_values, bins=25, color='purple', edgecolor='black')\n",
    "plt.title(\"Histogram of Random Data\")\n",
    "plt.xlabel(\"Value\")\n",
    "plt.ylabel(\"Frequency\")\n",
    "plt.grid(alpha=0.5)\n",
    "plt.show()"
   ]
  },
  {
   "cell_type": "markdown",
   "id": "64add7be",
   "metadata": {},
   "source": [
    "## Q8. Slicing a 2D NumPy array"
   ]
  },
  {
   "cell_type": "code",
   "execution_count": 14,
   "id": "b9b492b5",
   "metadata": {},
   "outputs": [
    {
     "name": "stdout",
     "output_type": "stream",
     "text": [
      "Sliced Sub-array: [[10 39 12]\n",
      " [27 46 34]\n",
      " [24 33 13]]\n"
     ]
    }
   ],
   "source": [
    "# Create a random 2D array\n",
    "array_2d = np.random.randint(10, 50, size=(6, 6))\n",
    "\n",
    "# Extract rows 2 to 4 and columns 3 to 5\n",
    "sub_array = array_2d[2:5, 3:6]\n",
    "print(\"Sliced Sub-array:\", sub_array)"
   ]
  },
  {
   "cell_type": "markdown",
   "id": "d83a2713",
   "metadata": {},
   "source": [
    "## Q9. Merge two DataFrames"
   ]
  },
  {
   "cell_type": "code",
   "execution_count": 15,
   "id": "dee17b0a",
   "metadata": {},
   "outputs": [
    {
     "name": "stdout",
     "output_type": "stream",
     "text": [
      "   ID   Age  Score\n",
      "0   1  24.0   88.0\n",
      "1   2  27.0   76.0\n",
      "2   3  22.0    NaN\n",
      "3   4   NaN   93.0\n"
     ]
    }
   ],
   "source": [
    "# Sample DataFrames\n",
    "data_a = {'ID': [1, 2, 3], 'Age': [24, 27, 22]}\n",
    "data_b = {'ID': [1, 2, 4], 'Score': [88, 76, 93]}\n",
    "\n",
    "df1 = pd.DataFrame(data_a)\n",
    "df2 = pd.DataFrame(data_b)\n",
    "\n",
    "# Merge operation\n",
    "merged_data = pd.merge(df1, df2, on='ID', how='outer')\n",
    "print(merged_data)"
   ]
  },
  {
   "cell_type": "markdown",
   "id": "db05ab44",
   "metadata": {},
   "source": [
    "\n",
    "## Q10. Scatter plot with customization"
   ]
  },
  {
   "cell_type": "code",
   "execution_count": 16,
   "id": "85e4db1e",
   "metadata": {},
   "outputs": [
    {
     "data": {
      "image/png": "[encoded data removed]",
      "text/plain": [
       "<Figure size 640x480 with 1 Axes>"
      ]
     },
     "metadata": {},
     "output_type": "display_data"
    }
   ],
   "source": [
    "# Generate random data for the scatter plot\n",
    "x_values = np.random.normal(size=100)\n",
    "y_values = np.random.normal(size=100)\n",
    "\n",
    "# Scatter plot\n",
    "plt.scatter(x_values, y_values, c='cyan', marker='^', label=\"Scatter Data\")\n",
    "plt.title(\"Scatter Plot of Two Variables\")\n",
    "plt.xlabel(\"X-Axis\")\n",
    "plt.ylabel(\"Y-Axis\")\n",
    "plt.legend()\n",
    "plt.show()"
   ]
  },
  {
   "cell_type": "code",
   "execution_count": null,
   "id": "72fb1f10",
   "metadata": {},
   "outputs": [],
   "source": []
  },
  {
   "cell_type": "code",
   "execution_count": null,
   "id": "b9c9b8f3",
   "metadata": {},
   "outputs": [],
   "source": []
  }
 ],
 "metadata": {
  "kernelspec": {
   "display_name": "Python 3 (ipykernel)",
   "language": "python",
   "name": "python3"
  },
  "language_info": {
   "codemirror_mode": {
    "name": "ipython",
    "version": 3
   },
   "file_extension": ".py",
   "mimetype": "text/x-python",
   "name": "python",
   "nbconvert_exporter": "python",
   "pygments_lexer": "ipython3",
   "version": "3.11.5"
  }
 },
 "nbformat": 4,
 "nbformat_minor": 5
}
