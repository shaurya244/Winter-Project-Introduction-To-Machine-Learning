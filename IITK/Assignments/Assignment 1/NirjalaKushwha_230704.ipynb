{
 "cells": [
  {
   "cell_type": "markdown",
   "id": "76ef0340",
   "metadata": {},
   "source": [
    "# Assignment 1"
   ]
  },
  {
   "cell_type": "code",
   "execution_count": 4,
   "id": "54fd3752",
   "metadata": {},
   "outputs": [],
   "source": [
    "import numpy as np\n",
    "import pandas as pd \n",
    "import matplotlib.pyplot as plt\n"
   ]
  },
  {
   "cell_type": "markdown",
   "id": "8b55dc76",
   "metadata": {},
   "source": [
    "#  Q1. Using NumPy, create a 3D array of shape (4, 4, 4) filled with random numbers between 1 and 100. Find the z score normalisation of each element of the array."
   ]
  },
  {
   "cell_type": "code",
   "execution_count": 5,
   "id": "0b1eb6a2",
   "metadata": {},
   "outputs": [
    {
     "name": "stdout",
     "output_type": "stream",
     "text": [
      "[[[80  7  6  4]\n",
      "  [43 87 10  6]\n",
      "  [35 95 51 24]\n",
      "  [ 3 53 73 14]]\n",
      "\n",
      " [[70 55 62 36]\n",
      "  [74 73 94 46]\n",
      "  [70  8 92 61]\n",
      "  [35 56 93 51]]\n",
      "\n",
      " [[13 27 82 74]\n",
      "  [22 42 51 45]\n",
      "  [16 11 87 53]\n",
      "  [83  2 73  1]]\n",
      "\n",
      " [[16 68 78  2]\n",
      "  [ 6 95 97 38]\n",
      "  [41 49  7 38]\n",
      "  [24 28 35 39]]]\n"
     ]
    }
   ],
   "source": [
    "arr= np.random.randint(1,100,(4,4,4))\n",
    "print(arr) "
   ]
  },
  {
   "cell_type": "code",
   "execution_count": 66,
   "id": "14c97938",
   "metadata": {},
   "outputs": [
    {
     "name": "stdout",
     "output_type": "stream",
     "text": [
      "[[[ 1.16110446 -1.29350189 -1.32712664 -1.39437612]\n",
      "  [-0.08301109  1.39647767 -1.19262766 -1.32712664]\n",
      "  [-0.35200904  1.66547563  0.18598687 -0.72188123]\n",
      "  [-1.42800087  0.25323636  0.92573125 -1.05812868]]\n",
      "\n",
      " [[ 0.82485701  0.32048585  0.55585906 -0.3183843 ]\n",
      "  [ 0.95935599  0.92573125  1.63185088  0.01786315]\n",
      "  [ 0.82485701 -1.25987715  1.56460139  0.52223431]\n",
      "  [-0.35200904  0.35411059  1.59822614  0.18598687]]\n",
      "\n",
      " [[-1.09175342 -0.621007    1.22835395  0.95935599]\n",
      "  [-0.78913072 -0.11663583  0.18598687 -0.0157616 ]\n",
      "  [-0.99087919 -1.15900291  1.39647767  0.25323636]\n",
      "  [ 1.26197869 -1.46162561  0.92573125 -1.49525036]]\n",
      "\n",
      " [[-0.99087919  0.75760752  1.09385497 -1.46162561]\n",
      "  [-1.32712664  1.66547563  1.73272512 -0.25113481]\n",
      "  [-0.15026058  0.11873738 -1.29350189 -0.25113481]\n",
      "  [-0.72188123 -0.58738226 -0.35200904 -0.21751007]]]\n"
     ]
    }
   ],
   "source": [
    "mean =np.mean(arr)\n",
    "standard_dev=np.std(arr)\n",
    "z_score = (arr-mean)/standard_dev\n",
    "print(z_score)"
   ]
  },
  {
   "cell_type": "markdown",
   "id": "9ba73157",
   "metadata": {},
   "source": [
    "# Q2. Using Pandas, filter the rows in the Iris dataset where the petal length is greater than 3.0, and display the filtered data"
   ]
  },
  {
   "cell_type": "code",
   "execution_count": 11,
   "id": "af09f099",
   "metadata": {},
   "outputs": [],
   "source": [
    "iris_df=pd.read_csv('IRIS.csv')\n"
   ]
  },
  {
   "cell_type": "code",
   "execution_count": 12,
   "id": "3fffabfa",
   "metadata": {},
   "outputs": [
    {
     "data": {
      "text/html": [
       "<div>\n",
       "<style scoped>\n",
       "    .dataframe tbody tr th:only-of-type {\n",
       "        vertical-align: middle;\n",
       "    }\n",
       "\n",
       "    .dataframe tbody tr th {\n",
       "        vertical-align: top;\n",
       "    }\n",
       "\n",
       "    .dataframe thead th {\n",
       "        text-align: right;\n",
       "    }\n",
       "</style>\n",
       "<table border=\"1\" class=\"dataframe\">\n",
       "  <thead>\n",
       "    <tr style=\"text-align: right;\">\n",
       "      <th></th>\n",
       "      <th>sepal_length</th>\n",
       "      <th>sepal_width</th>\n",
       "      <th>petal_length</th>\n",
       "      <th>petal_width</th>\n",
       "      <th>species</th>\n",
       "    </tr>\n",
       "  </thead>\n",
       "  <tbody>\n",
       "    <tr>\n",
       "      <th>0</th>\n",
       "      <td>5.1</td>\n",
       "      <td>3.5</td>\n",
       "      <td>1.4</td>\n",
       "      <td>0.2</td>\n",
       "      <td>Iris-setosa</td>\n",
       "    </tr>\n",
       "    <tr>\n",
       "      <th>1</th>\n",
       "      <td>4.9</td>\n",
       "      <td>3.0</td>\n",
       "      <td>1.4</td>\n",
       "      <td>0.2</td>\n",
       "      <td>Iris-setosa</td>\n",
       "    </tr>\n",
       "    <tr>\n",
       "      <th>2</th>\n",
       "      <td>4.7</td>\n",
       "      <td>3.2</td>\n",
       "      <td>1.3</td>\n",
       "      <td>0.2</td>\n",
       "      <td>Iris-setosa</td>\n",
       "    </tr>\n",
       "    <tr>\n",
       "      <th>3</th>\n",
       "      <td>4.6</td>\n",
       "      <td>3.1</td>\n",
       "      <td>1.5</td>\n",
       "      <td>0.2</td>\n",
       "      <td>Iris-setosa</td>\n",
       "    </tr>\n",
       "    <tr>\n",
       "      <th>4</th>\n",
       "      <td>5.0</td>\n",
       "      <td>3.6</td>\n",
       "      <td>1.4</td>\n",
       "      <td>0.2</td>\n",
       "      <td>Iris-setosa</td>\n",
       "    </tr>\n",
       "    <tr>\n",
       "      <th>5</th>\n",
       "      <td>5.4</td>\n",
       "      <td>3.9</td>\n",
       "      <td>1.7</td>\n",
       "      <td>0.4</td>\n",
       "      <td>Iris-setosa</td>\n",
       "    </tr>\n",
       "    <tr>\n",
       "      <th>6</th>\n",
       "      <td>4.6</td>\n",
       "      <td>3.4</td>\n",
       "      <td>1.4</td>\n",
       "      <td>0.3</td>\n",
       "      <td>Iris-setosa</td>\n",
       "    </tr>\n",
       "    <tr>\n",
       "      <th>7</th>\n",
       "      <td>5.0</td>\n",
       "      <td>3.4</td>\n",
       "      <td>1.5</td>\n",
       "      <td>0.2</td>\n",
       "      <td>Iris-setosa</td>\n",
       "    </tr>\n",
       "    <tr>\n",
       "      <th>8</th>\n",
       "      <td>4.4</td>\n",
       "      <td>2.9</td>\n",
       "      <td>1.4</td>\n",
       "      <td>0.2</td>\n",
       "      <td>Iris-setosa</td>\n",
       "    </tr>\n",
       "    <tr>\n",
       "      <th>9</th>\n",
       "      <td>4.9</td>\n",
       "      <td>3.1</td>\n",
       "      <td>1.5</td>\n",
       "      <td>0.1</td>\n",
       "      <td>Iris-setosa</td>\n",
       "    </tr>\n",
       "  </tbody>\n",
       "</table>\n",
       "</div>"
      ],
      "text/plain": [
       "   sepal_length  sepal_width  petal_length  petal_width      species\n",
       "0           5.1          3.5           1.4          0.2  Iris-setosa\n",
       "1           4.9          3.0           1.4          0.2  Iris-setosa\n",
       "2           4.7          3.2           1.3          0.2  Iris-setosa\n",
       "3           4.6          3.1           1.5          0.2  Iris-setosa\n",
       "4           5.0          3.6           1.4          0.2  Iris-setosa\n",
       "5           5.4          3.9           1.7          0.4  Iris-setosa\n",
       "6           4.6          3.4           1.4          0.3  Iris-setosa\n",
       "7           5.0          3.4           1.5          0.2  Iris-setosa\n",
       "8           4.4          2.9           1.4          0.2  Iris-setosa\n",
       "9           4.9          3.1           1.5          0.1  Iris-setosa"
      ]
     },
     "execution_count": 12,
     "metadata": {},
     "output_type": "execute_result"
    }
   ],
   "source": [
    "iris_df.head(10)"
   ]
  },
  {
   "cell_type": "code",
   "execution_count": 13,
   "id": "529b6c9c",
   "metadata": {},
   "outputs": [
    {
     "name": "stdout",
     "output_type": "stream",
     "text": [
      "     sepal_length  sepal_width  petal_length  petal_width          species\n",
      "50            7.0          3.2           4.7          1.4  Iris-versicolor\n",
      "51            6.4          3.2           4.5          1.5  Iris-versicolor\n",
      "52            6.9          3.1           4.9          1.5  Iris-versicolor\n",
      "53            5.5          2.3           4.0          1.3  Iris-versicolor\n",
      "54            6.5          2.8           4.6          1.5  Iris-versicolor\n",
      "..            ...          ...           ...          ...              ...\n",
      "145           6.7          3.0           5.2          2.3   Iris-virginica\n",
      "146           6.3          2.5           5.0          1.9   Iris-virginica\n",
      "147           6.5          3.0           5.2          2.0   Iris-virginica\n",
      "148           6.2          3.4           5.4          2.3   Iris-virginica\n",
      "149           5.9          3.0           5.1          1.8   Iris-virginica\n",
      "\n",
      "[99 rows x 5 columns]\n"
     ]
    }
   ],
   "source": [
    "Petal_len=iris_df[iris_df['petal_length'] > 3.0]\n",
    "print(Petal_len)"
   ]
  },
  {
   "cell_type": "markdown",
   "id": "3a49926e",
   "metadata": {},
   "source": [
    "# Q3. Using Matplotlib, plot a line graph showing the trend of a numerical dataset. Customize the plot with title, axis labels, and a legend."
   ]
  },
  {
   "cell_type": "code",
   "execution_count": 30,
   "id": "357dcc5e",
   "metadata": {},
   "outputs": [
    {
     "data": {
      "image/png": "[encoded data removed]",
      "text/plain": [
       "<Figure size 600x500 with 1 Axes>"
      ]
     },
     "metadata": {},
     "output_type": "display_data"
    }
   ],
   "source": [
    "x = np.linspace(0,10,500)\n",
    "y = np.sin(x)\n",
    "\n",
    "plt.figure(figsize=(6,5))\n",
    "plt.plot(x,y,label='sin(x)')\n",
    "\n",
    "plt.title('Cosine function')\n",
    "plt.xlabel('X-axis')\n",
    "plt.ylabel('Y-axis')\n",
    "plt.legend(loc='upper right')\n",
    "\n",
    "\n",
    "plt.show()\n"
   ]
  },
  {
   "cell_type": "markdown",
   "id": "a9ecec4f",
   "metadata": {},
   "source": [
    "# Q4.Create a Pandas DataFrame with random values with at least 3 columns and perform the following operations: (i) Replace NaN values with the mean of the column. (ii) Sort the DataFrame based on any two columns."
   ]
  },
  {
   "cell_type": "code",
   "execution_count": 97,
   "id": "efba0f2c",
   "metadata": {},
   "outputs": [
    {
     "name": "stdout",
     "output_type": "stream",
     "text": [
      "   Column1   Column2  Column3\n",
      "0       29  0.053890      NaN\n",
      "1       12  0.960654      5.0\n",
      "2       14  0.980429     10.0\n",
      "3       24  0.521128      NaN\n",
      "4       23  0.636553     20.0\n",
      "5       29  0.764757     25.0\n",
      "6       33  0.764955      NaN\n",
      "7        6  0.417686     40.0\n",
      "8       43  0.768805     50.0\n",
      "9       12  0.423202      NaN\n"
     ]
    }
   ],
   "source": [
    "np.random.seed(52)  \n",
    "data = {\n",
    "    'Column1': np.random.randint(1, 50, 10),\n",
    "    'Column2': np.random.rand(10),\n",
    "    'Column3': [np.nan, 5, 10, np.nan, 20, 25, np.nan, 40, 50, np.nan]\n",
    "}\n",
    "df=pd.DataFrame(data) \n",
    "print(df)"
   ]
  },
  {
   "cell_type": "code",
   "execution_count": 99,
   "id": "0e36a17f",
   "metadata": {},
   "outputs": [
    {
     "name": "stdout",
     "output_type": "stream",
     "text": [
      "   Column1   Column2  Column3\n",
      "0       29  0.053890     25.0\n",
      "1       12  0.960654      5.0\n",
      "2       14  0.980429     10.0\n",
      "3       24  0.521128     25.0\n",
      "4       23  0.636553     20.0\n",
      "5       29  0.764757     25.0\n",
      "6       33  0.764955     25.0\n",
      "7        6  0.417686     40.0\n",
      "8       43  0.768805     50.0\n",
      "9       12  0.423202     25.0\n"
     ]
    }
   ],
   "source": [
    "df['Column3'].fillna(df['Column3'].mean(), inplace=True)\n",
    "print(df)"
   ]
  },
  {
   "cell_type": "code",
   "execution_count": 101,
   "id": "5d25d1cd",
   "metadata": {},
   "outputs": [
    {
     "name": "stdout",
     "output_type": "stream",
     "text": [
      "   Column1   Column2  Column3\n",
      "7        6  0.417686     40.0\n",
      "1       12  0.960654      5.0\n",
      "9       12  0.423202     25.0\n",
      "2       14  0.980429     10.0\n",
      "4       23  0.636553     20.0\n",
      "3       24  0.521128     25.0\n",
      "0       29  0.053890     25.0\n",
      "5       29  0.764757     25.0\n",
      "6       33  0.764955     25.0\n",
      "8       43  0.768805     50.0\n"
     ]
    }
   ],
   "source": [
    "sorted_df = df.sort_values(by=['Column1'], ascending=[True])\n",
    "print(sorted_df)"
   ]
  },
  {
   "cell_type": "markdown",
   "id": "96e9c546",
   "metadata": {},
   "source": [
    "# Q5. Using NumPy, calculate the dot product of two matrices and find the determinant of the resulting matrix."
   ]
  },
  {
   "cell_type": "code",
   "execution_count": 83,
   "id": "0e58c203",
   "metadata": {},
   "outputs": [
    {
     "name": "stdout",
     "output_type": "stream",
     "text": [
      "[[11  6]\n",
      " [35 21]]\n",
      "20.99999999999999\n"
     ]
    }
   ],
   "source": [
    "mat1=[[1,2],[4,5]]\n",
    "mat2=[[5,4],[3,1]]\n",
    "dot_product=np.dot(mat1,mat2)\n",
    "print(dot_product)\n",
    "det=np.linalg.det(dot_product)\n",
    "print(det)"
   ]
  },
  {
   "cell_type": "markdown",
   "id": "f2c8400e",
   "metadata": {},
   "source": [
    "# Q6. With Pandas, group a DataFrame by a categorical column and calculate the sum of another numerical column for each group."
   ]
  },
  {
   "cell_type": "code",
   "execution_count": 5,
   "id": "8e75a424",
   "metadata": {},
   "outputs": [],
   "source": [
    "data = {\n",
    "    'Column1': ['A','A','A','B','A','C','B','C','B','A','C'],\n",
    "    'Column2': [2,3,5,1,7,8,7,8,5,2,1] ,\n",
    "    \n",
    "}\n",
    "df=pd.DataFrame(data) \n"
   ]
  },
  {
   "cell_type": "code",
   "execution_count": 6,
   "id": "f44c8b6d",
   "metadata": {},
   "outputs": [
    {
     "name": "stdout",
     "output_type": "stream",
     "text": [
      "Column1\n",
      "A    19\n",
      "B    13\n",
      "C    17\n",
      "Name: Column2, dtype: int64\n"
     ]
    }
   ],
   "source": [
    "grouped_sum = df.groupby('Column1')['Column2'].sum()\n",
    "print(grouped_sum)"
   ]
  },
  {
   "cell_type": "markdown",
   "id": "b599ff20",
   "metadata": {},
   "source": [
    "# Q7. Using Matplotlib, create a histogram to show the distribution of a numerical dataset. Customize the number of bins and add grid lines for better readability."
   ]
  },
  {
   "cell_type": "code",
   "execution_count": 25,
   "id": "63cab16e",
   "metadata": {},
   "outputs": [
    {
     "data": {
      "image/png": "[encoded data removed]",
      "text/plain": [
       "<Figure size 1000x600 with 1 Axes>"
      ]
     },
     "metadata": {},
     "output_type": "display_data"
    }
   ],
   "source": [
    "\n",
    "plt.figure(figsize=(10, 6)) \n",
    "sepal_length=iris_df['sepal_length']\n",
    "plt.hist(sepal_length,bins=15,color='skyblue')\n",
    "\n",
    "\n",
    "plt.title(\"Histogram of Sepal Length Distribution\")\n",
    "plt.xlabel(\"Sepal Length (cm)\")\n",
    "plt.ylabel(\"Frequency\")\n",
    "\n",
    "\n",
    "plt.grid(axis='y', color='gray', linestyle='--', linewidth=0.5, alpha=0.7)\n",
    "\n",
    "\n",
    "plt.show()\n",
    "\n"
   ]
  },
  {
   "cell_type": "markdown",
   "id": "ca1a7c2f",
   "metadata": {},
   "source": [
    "# Q8. Using NumPy, create a 2D array and perform a slicing operation to extract a specific sub-array."
   ]
  },
  {
   "cell_type": "code",
   "execution_count": 79,
   "id": "8d53e508",
   "metadata": {},
   "outputs": [
    {
     "name": "stdout",
     "output_type": "stream",
     "text": [
      "[[9 1 6 9 3 3 1 3 7 6]\n",
      " [2 7 3 5 9 9 3 1 2 3]]\n",
      "[[1 6 9 3]\n",
      " [7 3 5 9]]\n"
     ]
    }
   ],
   "source": [
    "arr=np.random.randint(1,10,(2,10))\n",
    "print(arr)\n",
    "new=arr[:,1:5]\n",
    "print(new)\n"
   ]
  },
  {
   "cell_type": "markdown",
   "id": "421772fe",
   "metadata": {},
   "source": [
    "# Q9. Using Pandas, perform a merge operation between two DataFrames based on a common column for dataset of your choice."
   ]
  },
  {
   "cell_type": "code",
   "execution_count": 10,
   "id": "25413761",
   "metadata": {},
   "outputs": [
    {
     "name": "stdout",
     "output_type": "stream",
     "text": [
      "   StudentID Name\n",
      "0          1    A\n",
      "1          2    B\n",
      "2          3    C\n",
      "   StudentID   Course Grade\n",
      "0          1     Math     A\n",
      "1          2  Science     B\n",
      "2          3  History     A\n"
     ]
    }
   ],
   "source": [
    "# DataFrame 1\n",
    "students_df = pd.DataFrame({\n",
    "    'StudentID': [1,2,3],\n",
    "    'Name': ['A','B','C'],\n",
    "    \n",
    "})\n",
    "\n",
    "# DataFrame 2\n",
    "courses_df = pd.DataFrame({\n",
    "    'StudentID': [1,2,3],\n",
    "    'Course': ['Math', 'Science', 'History'],\n",
    "    'Grade': ['A', 'B', 'A']\n",
    "})\n",
    "\n",
    "print( students_df)\n",
    "print(courses_df)\n"
   ]
  },
  {
   "cell_type": "code",
   "execution_count": 9,
   "id": "0ce1e7a6",
   "metadata": {},
   "outputs": [
    {
     "name": "stdout",
     "output_type": "stream",
     "text": [
      "   StudentID Name   Course Grade\n",
      "0          1    A     Math     A\n",
      "1          2    B  Science     B\n",
      "2          3    C  History     A\n"
     ]
    }
   ],
   "source": [
    "merged_df = pd.merge(students_df, courses_df, on='StudentID', how='inner')\n",
    "print(merged_df)"
   ]
  },
  {
   "cell_type": "markdown",
   "id": "cc3b996c",
   "metadata": {},
   "source": [
    "# Q10. Using Matplotlib, create a scatter plot comparing two numerical variables in the dataset of your choice. Customize the plot by changing the color and shape of the data points."
   ]
  },
  {
   "cell_type": "code",
   "execution_count": 23,
   "id": "5e88a7aa",
   "metadata": {},
   "outputs": [
    {
     "data": {
      "image/png": "[encoded data removed]",
      "text/plain": [
       "<Figure size 600x600 with 1 Axes>"
      ]
     },
     "metadata": {},
     "output_type": "display_data"
    }
   ],
   "source": [
    "\n",
    "plt.figure(figsize=(6, 6))\n",
    "ir_df=iris_df.head(100)\n",
    "\n",
    "\n",
    "\n",
    "plt.scatter(ir_df['sepal_length'],ir_df['sepal_width'], c='blue',marker='o')                                   \n",
    "\n",
    "\n",
    "\n",
    "plt.title(\"Scatter Plot of Sepal Dimensions\")\n",
    "plt.xlabel(\"Sepal Length (cm)\")\n",
    "plt.ylabel(\"Sepal Width (cm)\")\n",
    "\n",
    "plt.show()\n"
   ]
  }
 ],
 "metadata": {
  "kernelspec": {
   "display_name": "Python 3 (ipykernel)",
   "language": "python",
   "name": "python3"
  },
  "language_info": {
   "codemirror_mode": {
    "name": "ipython",
    "version": 3
   },
   "file_extension": ".py",
   "mimetype": "text/x-python",
   "name": "python",
   "nbconvert_exporter": "python",
   "pygments_lexer": "ipython3",
   "version": "3.11.5"
  }
 },
 "nbformat": 4,
 "nbformat_minor": 5
}
