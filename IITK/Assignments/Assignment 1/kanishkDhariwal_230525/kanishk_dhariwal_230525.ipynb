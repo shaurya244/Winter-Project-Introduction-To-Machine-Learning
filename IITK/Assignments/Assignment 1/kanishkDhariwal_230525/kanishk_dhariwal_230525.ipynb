{
 "cells": [
  {
   "cell_type": "markdown",
   "id": "ba803787-4ea4-4ae9-a759-01f7a2bf60d7",
   "metadata": {},
   "source": [
    "### Q1. Using NumPy, create a 3D array of shape (4, 4, 4) filled with random numbers between 1 and 100. Find the z score normalisation of each element of the array."
   ]
  },
  {
   "cell_type": "code",
   "execution_count": 2,
   "id": "1fcab9db-a411-48d5-8c4a-691aa2f422c3",
   "metadata": {},
   "outputs": [],
   "source": [
    "import numpy as np"
   ]
  },
  {
   "cell_type": "code",
   "execution_count": 3,
   "id": "e210e0d3-c2b9-4b06-bacc-ac5f7c2bf7d1",
   "metadata": {},
   "outputs": [],
   "source": [
    "arr_1 = np.random.randint(1,100,(4,4,4))"
   ]
  },
  {
   "cell_type": "code",
   "execution_count": 4,
   "id": "a0084e3b-3625-48e3-b7db-59778ac7bdb9",
   "metadata": {},
   "outputs": [
    {
     "data": {
      "text/plain": [
       "array([[[19, 51, 72, 76],\n",
       "        [61, 96, 86, 37],\n",
       "        [79, 81, 98, 55],\n",
       "        [79,  9, 86, 64]],\n",
       "\n",
       "       [[42, 51, 82, 13],\n",
       "        [50, 40,  8, 97],\n",
       "        [72, 95, 76, 64],\n",
       "        [39, 10, 50, 11]],\n",
       "\n",
       "       [[ 6, 35, 40, 32],\n",
       "        [30, 29, 91, 66],\n",
       "        [55, 94, 64, 58],\n",
       "        [60, 42, 72, 39]],\n",
       "\n",
       "       [[78, 10, 89, 80],\n",
       "        [27, 18, 83, 60],\n",
       "        [14,  1,  8, 11],\n",
       "        [42, 71, 90, 33]]])"
      ]
     },
     "execution_count": 4,
     "metadata": {},
     "output_type": "execute_result"
    }
   ],
   "source": [
    "arr_1"
   ]
  },
  {
   "cell_type": "code",
   "execution_count": 5,
   "id": "2f68d332-665a-43a1-97ef-2bf24986387f",
   "metadata": {},
   "outputs": [],
   "source": [
    "mean =np.mean(arr_1)\n",
    "std = np.std(arr_1)"
   ]
  },
  {
   "cell_type": "code",
   "execution_count": 6,
   "id": "e0d234fe-8418-481e-9daa-9703bb3f3eba",
   "metadata": {},
   "outputs": [],
   "source": [
    "Z_scr = (arr_1 - mean)/std"
   ]
  },
  {
   "cell_type": "code",
   "execution_count": 7,
   "id": "74668f69-88d9-41ff-8a46-2fd744ece0b3",
   "metadata": {},
   "outputs": [
    {
     "data": {
      "text/plain": [
       "array([[[-1.18560882, -0.0619962 ,  0.67537458,  0.81582615],\n",
       "        [ 0.28913274,  1.51808404,  1.1669551 , -0.55357672],\n",
       "        [ 0.92116484,  0.99139063,  1.58830983,  0.07845537],\n",
       "        [ 0.92116484, -1.53673777,  1.1669551 ,  0.39447142]],\n",
       "\n",
       "       [[-0.37801225, -0.0619962 ,  1.02650352, -1.39628619],\n",
       "        [-0.0971091 , -0.44823804, -1.57185066,  1.55319694],\n",
       "        [ 0.67537458,  1.48297115,  0.81582615,  0.39447142],\n",
       "        [-0.48335094, -1.50162487, -0.0971091 , -1.46651198]],\n",
       "\n",
       "       [[-1.64207645, -0.62380251, -0.44823804, -0.7291412 ],\n",
       "        [-0.79936698, -0.83447988,  1.34251957,  0.46469721],\n",
       "        [ 0.07845537,  1.44785825,  0.39447142,  0.18379406],\n",
       "        [ 0.25401984, -0.37801225,  0.67537458, -0.48335094]],\n",
       "\n",
       "       [[ 0.88605194, -1.50162487,  1.27229378,  0.95627773],\n",
       "        [-0.90470567, -1.22072172,  1.06161641,  0.25401984],\n",
       "        [-1.36117329, -1.81764092, -1.57185066, -1.46651198],\n",
       "        [-0.37801225,  0.64026168,  1.30740667, -0.6940283 ]]])"
      ]
     },
     "execution_count": 7,
     "metadata": {},
     "output_type": "execute_result"
    }
   ],
   "source": [
    "Z_scr"
   ]
  },
  {
   "cell_type": "markdown",
   "id": "47555277-36d2-4a7a-bc68-8b0aa3a07cf0",
   "metadata": {},
   "source": [
    "### Q2. Using Pandas, filter the rows in the Iris dataset where the petal length is greater than 3.0, and display the filtered data"
   ]
  },
  {
   "cell_type": "code",
   "execution_count": 9,
   "id": "673ca092-238c-43e9-934e-a00a710f092a",
   "metadata": {},
   "outputs": [],
   "source": [
    "import pandas as pd\n",
    "data = pd.read_csv('iris[1].csv')"
   ]
  },
  {
   "cell_type": "code",
   "execution_count": 10,
   "id": "b61ca41a-f34b-4bfc-8aef-965f209a0732",
   "metadata": {},
   "outputs": [
    {
     "data": {
      "text/plain": [
       "<bound method NDFrame.head of      sepal_length  sepal_width  petal_length  petal_width    species\n",
       "0             5.1          3.5           1.4          0.2     setosa\n",
       "1             4.9          3.0           1.4          0.2     setosa\n",
       "2             4.7          3.2           1.3          0.2     setosa\n",
       "3             4.6          3.1           1.5          0.2     setosa\n",
       "4             5.0          3.6           1.4          0.2     setosa\n",
       "..            ...          ...           ...          ...        ...\n",
       "145           6.7          3.0           5.2          2.3  virginica\n",
       "146           6.3          2.5           5.0          1.9  virginica\n",
       "147           6.5          3.0           5.2          2.0  virginica\n",
       "148           6.2          3.4           5.4          2.3  virginica\n",
       "149           5.9          3.0           5.1          1.8  virginica\n",
       "\n",
       "[150 rows x 5 columns]>"
      ]
     },
     "execution_count": 10,
     "metadata": {},
     "output_type": "execute_result"
    }
   ],
   "source": [
    "data.head"
   ]
  },
  {
   "cell_type": "code",
   "execution_count": 11,
   "id": "28f65301-bb63-444a-8efc-8cbed869bc73",
   "metadata": {},
   "outputs": [
    {
     "data": {
      "text/html": [
       "<div>\n",
       "<style scoped>\n",
       "    .dataframe tbody tr th:only-of-type {\n",
       "        vertical-align: middle;\n",
       "    }\n",
       "\n",
       "    .dataframe tbody tr th {\n",
       "        vertical-align: top;\n",
       "    }\n",
       "\n",
       "    .dataframe thead th {\n",
       "        text-align: right;\n",
       "    }\n",
       "</style>\n",
       "<table border=\"1\" class=\"dataframe\">\n",
       "  <thead>\n",
       "    <tr style=\"text-align: right;\">\n",
       "      <th></th>\n",
       "      <th>sepal_length</th>\n",
       "      <th>sepal_width</th>\n",
       "      <th>petal_length</th>\n",
       "      <th>petal_width</th>\n",
       "      <th>species</th>\n",
       "    </tr>\n",
       "  </thead>\n",
       "  <tbody>\n",
       "    <tr>\n",
       "      <th>50</th>\n",
       "      <td>7.0</td>\n",
       "      <td>3.2</td>\n",
       "      <td>4.7</td>\n",
       "      <td>1.4</td>\n",
       "      <td>versicolor</td>\n",
       "    </tr>\n",
       "    <tr>\n",
       "      <th>51</th>\n",
       "      <td>6.4</td>\n",
       "      <td>3.2</td>\n",
       "      <td>4.5</td>\n",
       "      <td>1.5</td>\n",
       "      <td>versicolor</td>\n",
       "    </tr>\n",
       "    <tr>\n",
       "      <th>52</th>\n",
       "      <td>6.9</td>\n",
       "      <td>3.1</td>\n",
       "      <td>4.9</td>\n",
       "      <td>1.5</td>\n",
       "      <td>versicolor</td>\n",
       "    </tr>\n",
       "    <tr>\n",
       "      <th>53</th>\n",
       "      <td>5.5</td>\n",
       "      <td>2.3</td>\n",
       "      <td>4.0</td>\n",
       "      <td>1.3</td>\n",
       "      <td>versicolor</td>\n",
       "    </tr>\n",
       "    <tr>\n",
       "      <th>54</th>\n",
       "      <td>6.5</td>\n",
       "      <td>2.8</td>\n",
       "      <td>4.6</td>\n",
       "      <td>1.5</td>\n",
       "      <td>versicolor</td>\n",
       "    </tr>\n",
       "    <tr>\n",
       "      <th>...</th>\n",
       "      <td>...</td>\n",
       "      <td>...</td>\n",
       "      <td>...</td>\n",
       "      <td>...</td>\n",
       "      <td>...</td>\n",
       "    </tr>\n",
       "    <tr>\n",
       "      <th>145</th>\n",
       "      <td>6.7</td>\n",
       "      <td>3.0</td>\n",
       "      <td>5.2</td>\n",
       "      <td>2.3</td>\n",
       "      <td>virginica</td>\n",
       "    </tr>\n",
       "    <tr>\n",
       "      <th>146</th>\n",
       "      <td>6.3</td>\n",
       "      <td>2.5</td>\n",
       "      <td>5.0</td>\n",
       "      <td>1.9</td>\n",
       "      <td>virginica</td>\n",
       "    </tr>\n",
       "    <tr>\n",
       "      <th>147</th>\n",
       "      <td>6.5</td>\n",
       "      <td>3.0</td>\n",
       "      <td>5.2</td>\n",
       "      <td>2.0</td>\n",
       "      <td>virginica</td>\n",
       "    </tr>\n",
       "    <tr>\n",
       "      <th>148</th>\n",
       "      <td>6.2</td>\n",
       "      <td>3.4</td>\n",
       "      <td>5.4</td>\n",
       "      <td>2.3</td>\n",
       "      <td>virginica</td>\n",
       "    </tr>\n",
       "    <tr>\n",
       "      <th>149</th>\n",
       "      <td>5.9</td>\n",
       "      <td>3.0</td>\n",
       "      <td>5.1</td>\n",
       "      <td>1.8</td>\n",
       "      <td>virginica</td>\n",
       "    </tr>\n",
       "  </tbody>\n",
       "</table>\n",
       "<p>100 rows × 5 columns</p>\n",
       "</div>"
      ],
      "text/plain": [
       "     sepal_length  sepal_width  petal_length  petal_width     species\n",
       "50            7.0          3.2           4.7          1.4  versicolor\n",
       "51            6.4          3.2           4.5          1.5  versicolor\n",
       "52            6.9          3.1           4.9          1.5  versicolor\n",
       "53            5.5          2.3           4.0          1.3  versicolor\n",
       "54            6.5          2.8           4.6          1.5  versicolor\n",
       "..            ...          ...           ...          ...         ...\n",
       "145           6.7          3.0           5.2          2.3   virginica\n",
       "146           6.3          2.5           5.0          1.9   virginica\n",
       "147           6.5          3.0           5.2          2.0   virginica\n",
       "148           6.2          3.4           5.4          2.3   virginica\n",
       "149           5.9          3.0           5.1          1.8   virginica\n",
       "\n",
       "[100 rows x 5 columns]"
      ]
     },
     "execution_count": 11,
     "metadata": {},
     "output_type": "execute_result"
    }
   ],
   "source": [
    "filter = data[data['petal_length'] >= 3]\n",
    "filter"
   ]
  },
  {
   "cell_type": "markdown",
   "id": "a06d06c6-2257-4fcc-9381-4b397e91c55e",
   "metadata": {},
   "source": [
    "### Q3. Using Matplotlib, plot a line graph showing the trend of a numerical dataset. Customize the plot with title, axis labels, and a legend."
   ]
  },
  {
   "cell_type": "code",
   "execution_count": 22,
   "id": "f95d5d42-cf58-430f-913e-7c5ecb7ffe1b",
   "metadata": {},
   "outputs": [],
   "source": [
    "import matplotlib.pyplot as plt\n",
    "df = pd.read_csv('Football[1].csv')\n",
    "df = df.head(5)"
   ]
  },
  {
   "cell_type": "code",
   "execution_count": 23,
   "id": "b5b64bec-351d-46ea-9965-84c7df81c9ee",
   "metadata": {},
   "outputs": [
    {
     "data": {
      "text/plain": [
       "Text(0, 0.5, 'Shots')"
      ]
     },
     "execution_count": 23,
     "metadata": {},
     "output_type": "execute_result"
    },
    {
     "data": {
      "image/png": "[encoded data removed]",
      "text/plain": [
       "<Figure size 640x480 with 1 Axes>"
      ]
     },
     "metadata": {},
     "output_type": "display_data"
    }
   ],
   "source": [
    "x = df['OnTarget']\n",
    "y = df['Shots']\n",
    "plt.plot(x,y,color = \"red\",marker = '*')\n",
    "plt.title(\"football\")\n",
    "plt.xlabel(\"OnTarget\")\n",
    "plt.ylabel(\"Shots\")"
   ]
  },
  {
   "cell_type": "markdown",
   "id": "07c5d8c6-ea71-4af9-a8f6-5bb7d9c1d1cc",
   "metadata": {},
   "source": [
    "### Q4.Create a Pandas DataFrame with random values with at least 3 columns and perform the following operations: (i) Replace NaN values with the mean of the column. (ii) Sort the DataFrame based on any two columns."
   ]
  },
  {
   "cell_type": "code",
   "execution_count": 51,
   "id": "d2d128c7-43f1-4c16-bf35-8a0dd3093b5e",
   "metadata": {},
   "outputs": [],
   "source": [
    "datafr = pd.DataFrame( {'a' : np.random.rand(10), 'b' : np.random.rand(10,), 'c' : np.random.rand(10)})"
   ]
  },
  {
   "cell_type": "code",
   "execution_count": 53,
   "id": "cc23f849-05f3-47d7-a8f0-831e9695ced2",
   "metadata": {},
   "outputs": [
    {
     "data": {
      "text/html": [
       "<div>\n",
       "<style scoped>\n",
       "    .dataframe tbody tr th:only-of-type {\n",
       "        vertical-align: middle;\n",
       "    }\n",
       "\n",
       "    .dataframe tbody tr th {\n",
       "        vertical-align: top;\n",
       "    }\n",
       "\n",
       "    .dataframe thead th {\n",
       "        text-align: right;\n",
       "    }\n",
       "</style>\n",
       "<table border=\"1\" class=\"dataframe\">\n",
       "  <thead>\n",
       "    <tr style=\"text-align: right;\">\n",
       "      <th></th>\n",
       "      <th>a</th>\n",
       "      <th>b</th>\n",
       "      <th>c</th>\n",
       "    </tr>\n",
       "  </thead>\n",
       "  <tbody>\n",
       "    <tr>\n",
       "      <th>0</th>\n",
       "      <td>0.630195</td>\n",
       "      <td>0.275786</td>\n",
       "      <td>0.501828</td>\n",
       "    </tr>\n",
       "    <tr>\n",
       "      <th>1</th>\n",
       "      <td>0.898062</td>\n",
       "      <td>0.851694</td>\n",
       "      <td>0.938220</td>\n",
       "    </tr>\n",
       "    <tr>\n",
       "      <th>2</th>\n",
       "      <td>0.683478</td>\n",
       "      <td>0.683071</td>\n",
       "      <td>0.665100</td>\n",
       "    </tr>\n",
       "    <tr>\n",
       "      <th>3</th>\n",
       "      <td>0.673411</td>\n",
       "      <td>0.312683</td>\n",
       "      <td>0.279679</td>\n",
       "    </tr>\n",
       "    <tr>\n",
       "      <th>4</th>\n",
       "      <td>0.625782</td>\n",
       "      <td>0.169258</td>\n",
       "      <td>0.652968</td>\n",
       "    </tr>\n",
       "    <tr>\n",
       "      <th>5</th>\n",
       "      <td>NaN</td>\n",
       "      <td>0.492146</td>\n",
       "      <td>0.498006</td>\n",
       "    </tr>\n",
       "    <tr>\n",
       "      <th>6</th>\n",
       "      <td>NaN</td>\n",
       "      <td>0.376255</td>\n",
       "      <td>0.544503</td>\n",
       "    </tr>\n",
       "    <tr>\n",
       "      <th>7</th>\n",
       "      <td>0.839357</td>\n",
       "      <td>0.385422</td>\n",
       "      <td>0.787579</td>\n",
       "    </tr>\n",
       "    <tr>\n",
       "      <th>8</th>\n",
       "      <td>0.427915</td>\n",
       "      <td>0.849558</td>\n",
       "      <td>0.908460</td>\n",
       "    </tr>\n",
       "    <tr>\n",
       "      <th>9</th>\n",
       "      <td>0.341070</td>\n",
       "      <td>0.179832</td>\n",
       "      <td>0.803767</td>\n",
       "    </tr>\n",
       "  </tbody>\n",
       "</table>\n",
       "</div>"
      ],
      "text/plain": [
       "          a         b         c\n",
       "0  0.630195  0.275786  0.501828\n",
       "1  0.898062  0.851694  0.938220\n",
       "2  0.683478  0.683071  0.665100\n",
       "3  0.673411  0.312683  0.279679\n",
       "4  0.625782  0.169258  0.652968\n",
       "5       NaN  0.492146  0.498006\n",
       "6       NaN  0.376255  0.544503\n",
       "7  0.839357  0.385422  0.787579\n",
       "8  0.427915  0.849558  0.908460\n",
       "9  0.341070  0.179832  0.803767"
      ]
     },
     "execution_count": 53,
     "metadata": {},
     "output_type": "execute_result"
    }
   ],
   "source": [
    "datafr.loc[[5,6],'a'] = np.nan\n",
    "datafr"
   ]
  },
  {
   "cell_type": "code",
   "execution_count": 55,
   "id": "0dd359d3-c8b5-4ecd-adc5-a183a281f01b",
   "metadata": {},
   "outputs": [
    {
     "data": {
      "text/html": [
       "<div>\n",
       "<style scoped>\n",
       "    .dataframe tbody tr th:only-of-type {\n",
       "        vertical-align: middle;\n",
       "    }\n",
       "\n",
       "    .dataframe tbody tr th {\n",
       "        vertical-align: top;\n",
       "    }\n",
       "\n",
       "    .dataframe thead th {\n",
       "        text-align: right;\n",
       "    }\n",
       "</style>\n",
       "<table border=\"1\" class=\"dataframe\">\n",
       "  <thead>\n",
       "    <tr style=\"text-align: right;\">\n",
       "      <th></th>\n",
       "      <th>a</th>\n",
       "      <th>b</th>\n",
       "      <th>c</th>\n",
       "    </tr>\n",
       "  </thead>\n",
       "  <tbody>\n",
       "    <tr>\n",
       "      <th>0</th>\n",
       "      <td>0.630195</td>\n",
       "      <td>0.275786</td>\n",
       "      <td>0.501828</td>\n",
       "    </tr>\n",
       "    <tr>\n",
       "      <th>1</th>\n",
       "      <td>0.898062</td>\n",
       "      <td>0.851694</td>\n",
       "      <td>0.938220</td>\n",
       "    </tr>\n",
       "    <tr>\n",
       "      <th>2</th>\n",
       "      <td>0.683478</td>\n",
       "      <td>0.683071</td>\n",
       "      <td>0.665100</td>\n",
       "    </tr>\n",
       "    <tr>\n",
       "      <th>3</th>\n",
       "      <td>0.673411</td>\n",
       "      <td>0.312683</td>\n",
       "      <td>0.279679</td>\n",
       "    </tr>\n",
       "    <tr>\n",
       "      <th>4</th>\n",
       "      <td>0.625782</td>\n",
       "      <td>0.169258</td>\n",
       "      <td>0.652968</td>\n",
       "    </tr>\n",
       "    <tr>\n",
       "      <th>5</th>\n",
       "      <td>0.639909</td>\n",
       "      <td>0.492146</td>\n",
       "      <td>0.498006</td>\n",
       "    </tr>\n",
       "    <tr>\n",
       "      <th>6</th>\n",
       "      <td>0.639909</td>\n",
       "      <td>0.376255</td>\n",
       "      <td>0.544503</td>\n",
       "    </tr>\n",
       "    <tr>\n",
       "      <th>7</th>\n",
       "      <td>0.839357</td>\n",
       "      <td>0.385422</td>\n",
       "      <td>0.787579</td>\n",
       "    </tr>\n",
       "    <tr>\n",
       "      <th>8</th>\n",
       "      <td>0.427915</td>\n",
       "      <td>0.849558</td>\n",
       "      <td>0.908460</td>\n",
       "    </tr>\n",
       "    <tr>\n",
       "      <th>9</th>\n",
       "      <td>0.341070</td>\n",
       "      <td>0.179832</td>\n",
       "      <td>0.803767</td>\n",
       "    </tr>\n",
       "  </tbody>\n",
       "</table>\n",
       "</div>"
      ],
      "text/plain": [
       "          a         b         c\n",
       "0  0.630195  0.275786  0.501828\n",
       "1  0.898062  0.851694  0.938220\n",
       "2  0.683478  0.683071  0.665100\n",
       "3  0.673411  0.312683  0.279679\n",
       "4  0.625782  0.169258  0.652968\n",
       "5  0.639909  0.492146  0.498006\n",
       "6  0.639909  0.376255  0.544503\n",
       "7  0.839357  0.385422  0.787579\n",
       "8  0.427915  0.849558  0.908460\n",
       "9  0.341070  0.179832  0.803767"
      ]
     },
     "execution_count": 55,
     "metadata": {},
     "output_type": "execute_result"
    }
   ],
   "source": [
    "datafr['a'] = datafr['a'].fillna(datafr['a'].mean())\n",
    "datafr"
   ]
  },
  {
   "cell_type": "code",
   "execution_count": 57,
   "id": "9abcb06a-829a-4f43-b9b0-5a83349aa29a",
   "metadata": {},
   "outputs": [
    {
     "data": {
      "text/html": [
       "<div>\n",
       "<style scoped>\n",
       "    .dataframe tbody tr th:only-of-type {\n",
       "        vertical-align: middle;\n",
       "    }\n",
       "\n",
       "    .dataframe tbody tr th {\n",
       "        vertical-align: top;\n",
       "    }\n",
       "\n",
       "    .dataframe thead th {\n",
       "        text-align: right;\n",
       "    }\n",
       "</style>\n",
       "<table border=\"1\" class=\"dataframe\">\n",
       "  <thead>\n",
       "    <tr style=\"text-align: right;\">\n",
       "      <th></th>\n",
       "      <th>a</th>\n",
       "      <th>b</th>\n",
       "      <th>c</th>\n",
       "    </tr>\n",
       "  </thead>\n",
       "  <tbody>\n",
       "    <tr>\n",
       "      <th>4</th>\n",
       "      <td>0.625782</td>\n",
       "      <td>0.169258</td>\n",
       "      <td>0.652968</td>\n",
       "    </tr>\n",
       "    <tr>\n",
       "      <th>9</th>\n",
       "      <td>0.341070</td>\n",
       "      <td>0.179832</td>\n",
       "      <td>0.803767</td>\n",
       "    </tr>\n",
       "    <tr>\n",
       "      <th>0</th>\n",
       "      <td>0.630195</td>\n",
       "      <td>0.275786</td>\n",
       "      <td>0.501828</td>\n",
       "    </tr>\n",
       "    <tr>\n",
       "      <th>3</th>\n",
       "      <td>0.673411</td>\n",
       "      <td>0.312683</td>\n",
       "      <td>0.279679</td>\n",
       "    </tr>\n",
       "    <tr>\n",
       "      <th>6</th>\n",
       "      <td>0.639909</td>\n",
       "      <td>0.376255</td>\n",
       "      <td>0.544503</td>\n",
       "    </tr>\n",
       "    <tr>\n",
       "      <th>7</th>\n",
       "      <td>0.839357</td>\n",
       "      <td>0.385422</td>\n",
       "      <td>0.787579</td>\n",
       "    </tr>\n",
       "    <tr>\n",
       "      <th>5</th>\n",
       "      <td>0.639909</td>\n",
       "      <td>0.492146</td>\n",
       "      <td>0.498006</td>\n",
       "    </tr>\n",
       "    <tr>\n",
       "      <th>2</th>\n",
       "      <td>0.683478</td>\n",
       "      <td>0.683071</td>\n",
       "      <td>0.665100</td>\n",
       "    </tr>\n",
       "    <tr>\n",
       "      <th>8</th>\n",
       "      <td>0.427915</td>\n",
       "      <td>0.849558</td>\n",
       "      <td>0.908460</td>\n",
       "    </tr>\n",
       "    <tr>\n",
       "      <th>1</th>\n",
       "      <td>0.898062</td>\n",
       "      <td>0.851694</td>\n",
       "      <td>0.938220</td>\n",
       "    </tr>\n",
       "  </tbody>\n",
       "</table>\n",
       "</div>"
      ],
      "text/plain": [
       "          a         b         c\n",
       "4  0.625782  0.169258  0.652968\n",
       "9  0.341070  0.179832  0.803767\n",
       "0  0.630195  0.275786  0.501828\n",
       "3  0.673411  0.312683  0.279679\n",
       "6  0.639909  0.376255  0.544503\n",
       "7  0.839357  0.385422  0.787579\n",
       "5  0.639909  0.492146  0.498006\n",
       "2  0.683478  0.683071  0.665100\n",
       "8  0.427915  0.849558  0.908460\n",
       "1  0.898062  0.851694  0.938220"
      ]
     },
     "execution_count": 57,
     "metadata": {},
     "output_type": "execute_result"
    }
   ],
   "source": [
    "sort = datafr.sort_values(by=['b', 'c'])\n",
    "sort"
   ]
  },
  {
   "cell_type": "markdown",
   "id": "f77a1ca7-1bd4-4e3b-b26b-3d87c715b56f",
   "metadata": {},
   "source": [
    "### Q5. Using NumPy, calculate the dot product of two matrices and find the determinant of the resulting matrix."
   ]
  },
  {
   "cell_type": "code",
   "execution_count": 62,
   "id": "f7265a80-a5e9-4f90-ac6e-0f9a79c9ac2a",
   "metadata": {},
   "outputs": [
    {
     "data": {
      "text/plain": [
       "(array([[0.82654289, 0.75483652],\n",
       "        [0.87975142, 0.6495869 ]]),\n",
       " array([[0.3059653 , 0.01635729],\n",
       "        [0.09817961, 0.01562813]]))"
      ]
     },
     "execution_count": 62,
     "metadata": {},
     "output_type": "execute_result"
    }
   ],
   "source": [
    "mat1 = np.random.rand(2,2)\n",
    "mat2 = np.random.rand(2,2)\n",
    "mat1,mat2"
   ]
  },
  {
   "cell_type": "code",
   "execution_count": 64,
   "id": "2c00ca76-6077-4a8f-abb6-ac7aaa1d6678",
   "metadata": {},
   "outputs": [
    {
     "data": {
      "text/plain": [
       "array([[0.327003  , 0.02531668],\n",
       "       [0.33294959, 0.02454217]])"
      ]
     },
     "execution_count": 64,
     "metadata": {},
     "output_type": "execute_result"
    }
   ],
   "source": [
    "dotprod = np.dot(mat1,mat2)\n",
    "dotprod"
   ]
  },
  {
   "cell_type": "code",
   "execution_count": 68,
   "id": "ee5f9a19-0ee5-44b7-9a2f-0f076385d893",
   "metadata": {},
   "outputs": [
    {
     "data": {
      "text/plain": [
       "-0.0004038142364034443"
      ]
     },
     "execution_count": 68,
     "metadata": {},
     "output_type": "execute_result"
    }
   ],
   "source": [
    "det = np.linalg.det(dotprod)\n",
    "det"
   ]
  },
  {
   "cell_type": "markdown",
   "id": "24481cb8-8289-46a4-9301-f987bc3321a2",
   "metadata": {},
   "source": [
    "### Q6. With Pandas, group a DataFrame by a categorical column and calculate the sum of another numerical column for each group."
   ]
  },
  {
   "cell_type": "code",
   "execution_count": 83,
   "id": "654d83c2-b36c-4064-998a-2fc06be7b539",
   "metadata": {},
   "outputs": [
    {
     "data": {
      "text/plain": [
       "(  Category  Values\n",
       " 0        A       5\n",
       " 1        B      10\n",
       " 2        C      25\n",
       " 3        A      27\n",
       " 4        C       9\n",
       " 5        B      13\n",
       " 6        A      19\n",
       " 7        D       1,\n",
       " Category\n",
       " A    51\n",
       " B    23\n",
       " C    34\n",
       " D     1\n",
       " Name: Values, dtype: int64)"
      ]
     },
     "execution_count": 83,
     "metadata": {},
     "output_type": "execute_result"
    }
   ],
   "source": [
    "data = {\n",
    "    'Category': ['A','B','C','A','C','B','A','D'],\n",
    "    'Values': [5,10,25,27,9,13,19,1]\n",
    "}\n",
    "df = pd.DataFrame(data)\n",
    "group = df.groupby('Category')['Values'].sum()\n",
    "df,group"
   ]
  },
  {
   "cell_type": "markdown",
   "id": "d1569c9c-044d-4263-9463-0cf90c5d151a",
   "metadata": {},
   "source": [
    "### Q7. Using Matplotlib, create a histogram to show the distribution of a numerical dataset. Customize the number of bins and add grid lines for better readability."
   ]
  },
  {
   "cell_type": "code",
   "execution_count": 95,
   "id": "68169ee9-9f80-4d71-8b42-f8c3c7000888",
   "metadata": {},
   "outputs": [
    {
     "data": {
      "image/png": "[encoded data removed]",
      "text/plain": [
       "<Figure size 640x480 with 1 Axes>"
      ]
     },
     "metadata": {},
     "output_type": "display_data"
    }
   ],
   "source": [
    "data = np.random.randn(1000)\n",
    "plt.hist(data, bins=20,)\n",
    "plt.title(\"histogram\")\n",
    "plt.grid(True)\n",
    "plt.show()\n"
   ]
  },
  {
   "cell_type": "code",
   "execution_count": 97,
   "id": "35a78c8e-0e6e-4167-b07a-00c1755bac3f",
   "metadata": {},
   "outputs": [
    {
     "data": {
      "image/png": "[encoded data removed]",
      "text/plain": [
       "<Figure size 640x480 with 1 Axes>"
      ]
     },
     "metadata": {},
     "output_type": "display_data"
    }
   ],
   "source": [
    "data = np.random.randn(100000)\n",
    "plt.hist(data, bins=200,)\n",
    "plt.title(\"Histogram\")\n",
    "plt.grid(True)\n",
    "plt.show()"
   ]
  },
  {
   "cell_type": "markdown",
   "id": "b1c467a5-bf00-4172-9c17-60e8b51b6700",
   "metadata": {},
   "source": [
    "### Q8. Using NumPy, create a 2D array and perform a slicing operation to extract a specific sub-array."
   ]
  },
  {
   "cell_type": "code",
   "execution_count": 102,
   "id": "d337918d-92d7-4b15-a6c5-94caffc477ca",
   "metadata": {},
   "outputs": [
    {
     "data": {
      "text/plain": [
       "array([[0.27254833, 0.56079911, 0.74664488, 0.32761432, 0.73638159],\n",
       "       [0.18323078, 0.3786095 , 0.8141385 , 0.69101616, 0.55379261],\n",
       "       [0.7133189 , 0.18355264, 0.13141427, 0.68013369, 0.81876287],\n",
       "       [0.73151077, 0.66817815, 0.88815209, 0.9114917 , 0.18947503],\n",
       "       [0.791593  , 0.80123482, 0.56693781, 0.98942334, 0.51375205]])"
      ]
     },
     "execution_count": 102,
     "metadata": {},
     "output_type": "execute_result"
    }
   ],
   "source": [
    "array = np.random.rand(5,5)\n",
    "array"
   ]
  },
  {
   "cell_type": "code",
   "execution_count": 110,
   "id": "aa5f139e-c205-4db7-80fd-fe7b8fea627d",
   "metadata": {},
   "outputs": [
    {
     "data": {
      "text/plain": [
       "array([[0.8141385 , 0.69101616],\n",
       "       [0.13141427, 0.68013369],\n",
       "       [0.88815209, 0.9114917 ]])"
      ]
     },
     "execution_count": 110,
     "metadata": {},
     "output_type": "execute_result"
    }
   ],
   "source": [
    "sub_array = array[1:4,2:4]\n",
    "sub_array"
   ]
  },
  {
   "cell_type": "markdown",
   "id": "885062c5-337a-43ea-b84d-c8091b470283",
   "metadata": {},
   "source": [
    "### Q9. Using Pandas, perform a merge operation between two DataFrames based on a common column for dataset of your choice."
   ]
  },
  {
   "cell_type": "code",
   "execution_count": 139,
   "id": "bcdc7c67-5787-4430-b48d-d5f27d4b127e",
   "metadata": {},
   "outputs": [],
   "source": [
    "df = pd.read_csv('Football[1].csv')\n",
    "df = df.head(6)"
   ]
  },
  {
   "cell_type": "code",
   "execution_count": 147,
   "id": "26a0755f-fc15-4cd2-94c4-db825e22b8ef",
   "metadata": {},
   "outputs": [
    {
     "data": {
      "text/html": [
       "<div>\n",
       "<style scoped>\n",
       "    .dataframe tbody tr th:only-of-type {\n",
       "        vertical-align: middle;\n",
       "    }\n",
       "\n",
       "    .dataframe tbody tr th {\n",
       "        vertical-align: top;\n",
       "    }\n",
       "\n",
       "    .dataframe thead th {\n",
       "        text-align: right;\n",
       "    }\n",
       "</style>\n",
       "<table border=\"1\" class=\"dataframe\">\n",
       "  <thead>\n",
       "    <tr style=\"text-align: right;\">\n",
       "      <th></th>\n",
       "      <th>Matches_Played</th>\n",
       "      <th>Mins</th>\n",
       "    </tr>\n",
       "  </thead>\n",
       "  <tbody>\n",
       "    <tr>\n",
       "      <th>0</th>\n",
       "      <td>19</td>\n",
       "      <td>1849</td>\n",
       "    </tr>\n",
       "    <tr>\n",
       "      <th>1</th>\n",
       "      <td>36</td>\n",
       "      <td>3129</td>\n",
       "    </tr>\n",
       "    <tr>\n",
       "      <th>2</th>\n",
       "      <td>34</td>\n",
       "      <td>2940</td>\n",
       "    </tr>\n",
       "    <tr>\n",
       "      <th>3</th>\n",
       "      <td>32</td>\n",
       "      <td>2842</td>\n",
       "    </tr>\n",
       "    <tr>\n",
       "      <th>4</th>\n",
       "      <td>21</td>\n",
       "      <td>1745</td>\n",
       "    </tr>\n",
       "    <tr>\n",
       "      <th>5</th>\n",
       "      <td>29</td>\n",
       "      <td>2634</td>\n",
       "    </tr>\n",
       "  </tbody>\n",
       "</table>\n",
       "</div>"
      ],
      "text/plain": [
       "   Matches_Played  Mins\n",
       "0              19  1849\n",
       "1              36  3129\n",
       "2              34  2940\n",
       "3              32  2842\n",
       "4              21  1745\n",
       "5              29  2634"
      ]
     },
     "execution_count": 147,
     "metadata": {},
     "output_type": "execute_result"
    }
   ],
   "source": [
    "df_1 = df.loc[:,['Matches_Played','Mins']]\n",
    "df_2 = df.loc[:,['Matches_Played','Shots']]\n",
    "df_1"
   ]
  },
  {
   "cell_type": "code",
   "execution_count": 155,
   "id": "a015ceff-9bc6-48c5-991d-f1646eded8c1",
   "metadata": {},
   "outputs": [
    {
     "data": {
      "text/html": [
       "<div>\n",
       "<style scoped>\n",
       "    .dataframe tbody tr th:only-of-type {\n",
       "        vertical-align: middle;\n",
       "    }\n",
       "\n",
       "    .dataframe tbody tr th {\n",
       "        vertical-align: top;\n",
       "    }\n",
       "\n",
       "    .dataframe thead th {\n",
       "        text-align: right;\n",
       "    }\n",
       "</style>\n",
       "<table border=\"1\" class=\"dataframe\">\n",
       "  <thead>\n",
       "    <tr style=\"text-align: right;\">\n",
       "      <th></th>\n",
       "      <th>Matches_Played</th>\n",
       "      <th>Mins</th>\n",
       "      <th>Shots</th>\n",
       "    </tr>\n",
       "  </thead>\n",
       "  <tbody>\n",
       "    <tr>\n",
       "      <th>0</th>\n",
       "      <td>19</td>\n",
       "      <td>1849</td>\n",
       "      <td>48</td>\n",
       "    </tr>\n",
       "    <tr>\n",
       "      <th>1</th>\n",
       "      <td>36</td>\n",
       "      <td>3129</td>\n",
       "      <td>88</td>\n",
       "    </tr>\n",
       "    <tr>\n",
       "      <th>2</th>\n",
       "      <td>34</td>\n",
       "      <td>2940</td>\n",
       "      <td>120</td>\n",
       "    </tr>\n",
       "    <tr>\n",
       "      <th>3</th>\n",
       "      <td>32</td>\n",
       "      <td>2842</td>\n",
       "      <td>117</td>\n",
       "    </tr>\n",
       "    <tr>\n",
       "      <th>4</th>\n",
       "      <td>21</td>\n",
       "      <td>1745</td>\n",
       "      <td>50</td>\n",
       "    </tr>\n",
       "    <tr>\n",
       "      <th>5</th>\n",
       "      <td>29</td>\n",
       "      <td>2634</td>\n",
       "      <td>162</td>\n",
       "    </tr>\n",
       "  </tbody>\n",
       "</table>\n",
       "</div>"
      ],
      "text/plain": [
       "   Matches_Played  Mins  Shots\n",
       "0              19  1849     48\n",
       "1              36  3129     88\n",
       "2              34  2940    120\n",
       "3              32  2842    117\n",
       "4              21  1745     50\n",
       "5              29  2634    162"
      ]
     },
     "execution_count": 155,
     "metadata": {},
     "output_type": "execute_result"
    }
   ],
   "source": [
    "merge = pd.merge(df_1,df_2,on='Matches_Played',how = 'inner')\n",
    "merge"
   ]
  },
  {
   "cell_type": "markdown",
   "id": "d43b1583-e46d-4bef-ab98-d68d5497cc12",
   "metadata": {},
   "source": [
    "### Q10. Using Matplotlib, create a scatter plot comparing two numerical variables in the dataset of your choice. Customize the plot by changing the color and shape of the data points."
   ]
  },
  {
   "cell_type": "code",
   "execution_count": 158,
   "id": "e2cd2085-bf96-45b3-b13c-10fbf64e9ec3",
   "metadata": {},
   "outputs": [],
   "source": [
    "df = pd.read_csv('Football[1].csv')\n",
    "df = df.head(50)\n",
    "x = df['OnTarget']\n",
    "y = df['Shots']"
   ]
  },
  {
   "cell_type": "code",
   "execution_count": 160,
   "id": "fef4efee-ebd3-4be0-8989-4c36d5d0367e",
   "metadata": {},
   "outputs": [
    {
     "data": {
      "image/png": "[encoded data removed]",
      "text/plain": [
       "<Figure size 640x480 with 1 Axes>"
      ]
     },
     "metadata": {},
     "output_type": "display_data"
    }
   ],
   "source": [
    "plt.scatter(x,y,marker ='*')\n",
    "plt.title(\"scatter_ plot\")\n",
    "plt.xlabel(\"OnTarget\")\n",
    "plt.ylabel(\"Shots\")\n",
    "plt.show()"
   ]
  }
 ],
 "metadata": {
  "kernelspec": {
   "display_name": "Python 3 (ipykernel)",
   "language": "python",
   "name": "python3"
  },
  "language_info": {
   "codemirror_mode": {
    "name": "ipython",
    "version": 3
   },
   "file_extension": ".py",
   "mimetype": "text/x-python",
   "name": "python",
   "nbconvert_exporter": "python",
   "pygments_lexer": "ipython3",
   "version": "3.11.7"
  }
 },
 "nbformat": 4,
 "nbformat_minor": 5
}
