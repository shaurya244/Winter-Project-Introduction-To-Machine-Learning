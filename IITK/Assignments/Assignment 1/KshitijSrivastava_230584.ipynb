{
 "cells": [
  {
   "cell_type": "raw",
   "id": "529d9252-5910-4947-8a26-418f1399cd4c",
   "metadata": {},
   "source": [
    "1.)Using NumPy, create a 3D array of shape (4, 4, 4) filled with random numbers between 1 and 100. Find the z score normalisation of each element of the array."
   ]
  },
  {
   "cell_type": "code",
   "execution_count": 248,
   "id": "579b0dd2-3a76-42df-b406-c510305dca8b",
   "metadata": {
    "collapsed": true,
    "jupyter": {
     "outputs_hidden": true,
     "source_hidden": true
    }
   },
   "outputs": [
    {
     "name": "stdout",
     "output_type": "stream",
     "text": [
      "[[[ 0.19570234 -1.67137093  0.31239442 -0.66003957]\n",
      "  [-1.16570525 -1.24349997  0.07901026 -0.77673165]\n",
      "  [-1.20460261 -1.43798677  0.31239442  1.47931521]\n",
      "  [-0.81562901  0.35129178  1.82939145  1.32372578]]\n",
      "\n",
      " [[ 0.19570234 -1.04901317  0.50688122 -0.66003957]\n",
      "  [ 1.98498089  0.66247066 -1.39908941 -0.85452637]\n",
      "  [-0.19327126 -0.97121845 -0.58224485  1.75159673]\n",
      "  [ 1.0125469   0.4290865   0.39018914  0.89585482]]\n",
      "\n",
      " [[-1.47688413 -0.23216862 -1.47688413 -0.58224485]\n",
      "  [-0.3488607   0.50688122 -1.08791053 -1.74916565]\n",
      "  [-0.73783429 -0.3488607   1.94608353  0.6235733 ]\n",
      "  [ 0.27349706  1.82939145 -0.23216862  0.50688122]]\n",
      "\n",
      " [[ 0.74026538 -0.85452637  1.71269937  0.07901026]\n",
      "  [ 0.27349706 -0.23216862  0.54577858 -1.12680789]\n",
      "  [ 0.6235733   0.66247066  0.11790762 -0.62114221]\n",
      "  [ 0.54577858  1.94608353 -0.89342373  0.0401129 ]]]\n"
     ]
    }
   ],
   "source": [
    "import numpy as np\n",
    "\n",
    "arr = np.random.randint(1,100,size=(4,4,4))\n",
    "\n",
    "mean = arr.mean()\n",
    "sd = arr.std()\n",
    "\n",
    "z = (arr - mean)/sd\n",
    "print(z)"
   ]
  },
  {
   "cell_type": "markdown",
   "id": "e22959e1-9ec6-4213-b0b8-3bb028bcc65d",
   "metadata": {},
   "source": [
    "2.)Using Pandas, filter the rows in the Iris dataset where the petal length is greater than 3.0, and display the filtered data"
   ]
  },
  {
   "cell_type": "code",
   "execution_count": 250,
   "id": "61afbb22-249e-42bc-8df9-f5b627617f1f",
   "metadata": {
    "collapsed": true,
    "jupyter": {
     "outputs_hidden": true,
     "source_hidden": true
    }
   },
   "outputs": [
    {
     "data": {
      "text/html": [
       "<div>\n",
       "<style scoped>\n",
       "    .dataframe tbody tr th:only-of-type {\n",
       "        vertical-align: middle;\n",
       "    }\n",
       "\n",
       "    .dataframe tbody tr th {\n",
       "        vertical-align: top;\n",
       "    }\n",
       "\n",
       "    .dataframe thead th {\n",
       "        text-align: right;\n",
       "    }\n",
       "</style>\n",
       "<table border=\"1\" class=\"dataframe\">\n",
       "  <thead>\n",
       "    <tr style=\"text-align: right;\">\n",
       "      <th></th>\n",
       "      <th>sepal length (cm)</th>\n",
       "      <th>sepal width (cm)</th>\n",
       "      <th>petal length (cm)</th>\n",
       "      <th>petal width (cm)</th>\n",
       "    </tr>\n",
       "  </thead>\n",
       "  <tbody>\n",
       "    <tr>\n",
       "      <th>50</th>\n",
       "      <td>7.0</td>\n",
       "      <td>3.2</td>\n",
       "      <td>4.7</td>\n",
       "      <td>1.4</td>\n",
       "    </tr>\n",
       "    <tr>\n",
       "      <th>51</th>\n",
       "      <td>6.4</td>\n",
       "      <td>3.2</td>\n",
       "      <td>4.5</td>\n",
       "      <td>1.5</td>\n",
       "    </tr>\n",
       "    <tr>\n",
       "      <th>52</th>\n",
       "      <td>6.9</td>\n",
       "      <td>3.1</td>\n",
       "      <td>4.9</td>\n",
       "      <td>1.5</td>\n",
       "    </tr>\n",
       "    <tr>\n",
       "      <th>53</th>\n",
       "      <td>5.5</td>\n",
       "      <td>2.3</td>\n",
       "      <td>4.0</td>\n",
       "      <td>1.3</td>\n",
       "    </tr>\n",
       "    <tr>\n",
       "      <th>54</th>\n",
       "      <td>6.5</td>\n",
       "      <td>2.8</td>\n",
       "      <td>4.6</td>\n",
       "      <td>1.5</td>\n",
       "    </tr>\n",
       "    <tr>\n",
       "      <th>...</th>\n",
       "      <td>...</td>\n",
       "      <td>...</td>\n",
       "      <td>...</td>\n",
       "      <td>...</td>\n",
       "    </tr>\n",
       "    <tr>\n",
       "      <th>145</th>\n",
       "      <td>6.7</td>\n",
       "      <td>3.0</td>\n",
       "      <td>5.2</td>\n",
       "      <td>2.3</td>\n",
       "    </tr>\n",
       "    <tr>\n",
       "      <th>146</th>\n",
       "      <td>6.3</td>\n",
       "      <td>2.5</td>\n",
       "      <td>5.0</td>\n",
       "      <td>1.9</td>\n",
       "    </tr>\n",
       "    <tr>\n",
       "      <th>147</th>\n",
       "      <td>6.5</td>\n",
       "      <td>3.0</td>\n",
       "      <td>5.2</td>\n",
       "      <td>2.0</td>\n",
       "    </tr>\n",
       "    <tr>\n",
       "      <th>148</th>\n",
       "      <td>6.2</td>\n",
       "      <td>3.4</td>\n",
       "      <td>5.4</td>\n",
       "      <td>2.3</td>\n",
       "    </tr>\n",
       "    <tr>\n",
       "      <th>149</th>\n",
       "      <td>5.9</td>\n",
       "      <td>3.0</td>\n",
       "      <td>5.1</td>\n",
       "      <td>1.8</td>\n",
       "    </tr>\n",
       "  </tbody>\n",
       "</table>\n",
       "<p>99 rows × 4 columns</p>\n",
       "</div>"
      ],
      "text/plain": [
       "     sepal length (cm)  sepal width (cm)  petal length (cm)  petal width (cm)\n",
       "50                 7.0               3.2                4.7               1.4\n",
       "51                 6.4               3.2                4.5               1.5\n",
       "52                 6.9               3.1                4.9               1.5\n",
       "53                 5.5               2.3                4.0               1.3\n",
       "54                 6.5               2.8                4.6               1.5\n",
       "..                 ...               ...                ...               ...\n",
       "145                6.7               3.0                5.2               2.3\n",
       "146                6.3               2.5                5.0               1.9\n",
       "147                6.5               3.0                5.2               2.0\n",
       "148                6.2               3.4                5.4               2.3\n",
       "149                5.9               3.0                5.1               1.8\n",
       "\n",
       "[99 rows x 4 columns]"
      ]
     },
     "execution_count": 250,
     "metadata": {},
     "output_type": "execute_result"
    }
   ],
   "source": [
    "import pandas as pd\n",
    "from sklearn.datasets import load_iris\n",
    "\n",
    "iris = load_iris()\n",
    "iris_data = pd.DataFrame(data=iris.data, columns=iris.feature_names)\n",
    "\n",
    "result = iris_data[iris_data['petal length (cm)'] > 3.0]\n",
    "result"
   ]
  },
  {
   "cell_type": "markdown",
   "id": "f2fb5010-f3d6-4a94-96a7-448feb53df9e",
   "metadata": {},
   "source": [
    "3.)Using Matplotlib, plot a line graph showing the trend of a numerical dataset. Customize the plot with title, axis labels, and a legend."
   ]
  },
  {
   "cell_type": "code",
   "execution_count": 252,
   "id": "98175e8d-6dfb-47a5-896f-8624c1f14d5f",
   "metadata": {
    "collapsed": true,
    "jupyter": {
     "outputs_hidden": true,
     "source_hidden": true
    }
   },
   "outputs": [
    {
     "data": {
      "image/png": "[encoded data removed]",
      "text/plain": [
       "<Figure size 640x480 with 1 Axes>"
      ]
     },
     "metadata": {},
     "output_type": "display_data"
    }
   ],
   "source": [
    "import numpy as np\n",
    "import matplotlib as mp\n",
    "import matplotlib.pyplot as plt\n",
    "from sklearn.datasets import load_iris #iris dataset used as the numerical dataset\n",
    "\n",
    "iris = load_iris()\n",
    "iris_data = pd.DataFrame(data=iris.data, columns=iris.feature_names)\n",
    "X = np.linspace(0,101,100)\n",
    "Y1 = iris_data.loc[0:99,'sepal length (cm)']\n",
    "Y2 = iris_data.loc[0:99,'petal length (cm)']\n",
    "\n",
    "plt.plot(X,Y1,label = 'Sepal')\n",
    "plt.plot(X,Y2,label = 'Petal')\n",
    "plt.legend()\n",
    "plt.xlabel('Number of Observation')\n",
    "plt.title('Sepal and Petal Length Trend')\n",
    "plt.show()"
   ]
  },
  {
   "cell_type": "markdown",
   "id": "2b51c394-0641-4f9f-99d2-8e63525ca8a0",
   "metadata": {},
   "source": [
    "4.)Create a Pandas DataFrame with random values with at least 3 columns and perform the following operations: (i) Replace NaN values with the mean of the column. (ii) Sort the DataFrame based on any two columns."
   ]
  },
  {
   "cell_type": "code",
   "execution_count": 254,
   "id": "d4aaea1d-47a1-404a-97a9-b4dce3f24797",
   "metadata": {
    "collapsed": true,
    "jupyter": {
     "outputs_hidden": true,
     "source_hidden": true
    }
   },
   "outputs": [
    {
     "name": "stdout",
     "output_type": "stream",
     "text": [
      "    Day 1  Day 2  Day 3  Day 4  Day 5\n",
      "0      27     30     91     47     70\n",
      "1      16     76     94     17     28\n",
      "2      22     50     29     15     96\n",
      "3      11     24     23     38     30\n",
      "4      56     32     16     78     40\n",
      "5      15     23     99     29     46\n",
      "6       7     77     83     67     64\n",
      "7      58     61     23     75     45\n",
      "8      46     79     76     70     36\n",
      "9      37     33     96     62     72\n",
      "10     25      5      5     48     14\n",
      "    Day 1  Day 2  Day 3  Day 4  Day 5\n",
      "0      27     30     91     47     70\n",
      "1      16     76     94     17     28\n",
      "2      22     50     29     15     96\n",
      "3      11     24     23     38     30\n",
      "4      56     32     16     78     40\n",
      "5      15     23     99     29     46\n",
      "6       7     77     83     67     64\n",
      "7      58     61     23     75     45\n",
      "8      46     79     76     70     36\n",
      "9      37     33     96     62     72\n",
      "10     25      5      5     48     14\n",
      "    Day 1  Day 2  Day 3  Day 4  Day 5\n",
      "10     25      5      5     48     14\n",
      "5      15     23     99     29     46\n",
      "3      11     24     23     38     30\n",
      "0      27     30     91     47     70\n",
      "4      56     32     16     78     40\n",
      "9      37     33     96     62     72\n",
      "2      22     50     29     15     96\n",
      "7      58     61     23     75     45\n",
      "1      16     76     94     17     28\n",
      "6       7     77     83     67     64\n",
      "8      46     79     76     70     36\n"
     ]
    }
   ],
   "source": [
    "import pandas as pd\n",
    "import numpy as np\n",
    "\n",
    "data = {'Day 1' : pd.Series(np.random.randint(0,100,11)), \n",
    "        'Day 2' : pd.Series(np.random.randint(0,100,11)), \n",
    "        'Day 3' : pd.Series(np.random.randint(0,100,11)), \n",
    "        'Day 4' : pd.Series(np.random.randint(0,100,11)), \n",
    "        'Day 5' : pd.Series(np.random.randint(0,100,11))}\n",
    "\n",
    "df = pd.DataFrame(data)\n",
    "print(df)\n",
    "new_df = df.fillna(df.mean())#(i) part\n",
    "print(new_df)\n",
    "sorted_df = df.sort_values(by = ['Day 2','Day 5'])#(ii) part\n",
    "print(sorted_df)"
   ]
  },
  {
   "cell_type": "markdown",
   "id": "0099fdcd-ebeb-46fa-a57a-8f79e6ecd863",
   "metadata": {},
   "source": [
    "5.)Using NumPy, calculate the dot product of two matrices and find the determinant of the resulting matrix."
   ]
  },
  {
   "cell_type": "code",
   "execution_count": 163,
   "id": "e69d0fb2-274e-4c56-abb2-81cdb9e3048c",
   "metadata": {
    "collapsed": true,
    "jupyter": {
     "outputs_hidden": true,
     "source_hidden": true
    },
    "scrolled": true
   },
   "outputs": [
    {
     "name": "stdout",
     "output_type": "stream",
     "text": [
      "[[6 6 5 8 3]\n",
      " [6 2 4 8 8]\n",
      " [2 2 4 3 3]]\n",
      "[[5 5]\n",
      " [7 1]\n",
      " [7 1]\n",
      " [8 5]\n",
      " [3 2]]\n",
      "[[180  87]\n",
      " [160  92]\n",
      " [ 85  37]]\n",
      "Not a square matrix\n"
     ]
    }
   ],
   "source": [
    "import numpy as np\n",
    "\n",
    "np.random.seed(30)\n",
    "arr1 = np.random.randint(1,10,(3,5))\n",
    "arr2 = np.random.randint(1,10,(5,2))\n",
    "print(arr1)\n",
    "print(arr2)\n",
    "\n",
    "dot_product = np.dot(arr1,arr2)\n",
    "print(dot_product)\n",
    "\n",
    "if np.size(dot_product, 0) == np.size(dot_product,1):\n",
    "    determinant = np.linalg.det(dot_product)\n",
    "    print(determinant)\n",
    "else:print(\"Not a square matrix\")"
   ]
  },
  {
   "cell_type": "markdown",
   "id": "0891f4c0-d944-45d6-b8b9-c3d7ce04cc74",
   "metadata": {},
   "source": [
    "6.)With Pandas, group a DataFrame by a categorical column and calculate the sum of another numerical column for each group."
   ]
  },
  {
   "cell_type": "code",
   "execution_count": 171,
   "id": "3c2df7d2-bf56-4a02-b7b0-37333236f760",
   "metadata": {
    "collapsed": true,
    "jupyter": {
     "outputs_hidden": true,
     "source_hidden": true
    }
   },
   "outputs": [
    {
     "name": "stdout",
     "output_type": "stream",
     "text": [
      "Names\n",
      "Harry    200\n",
      "Jenny    150\n",
      "Ken      200\n",
      "Name: Scores, dtype: int64\n"
     ]
    }
   ],
   "source": [
    "import pandas as pd\n",
    "\n",
    "# Step 1: Create a sample DataFrame\n",
    "data = {\n",
    "    'Names': ['Ken', 'Jenny', 'Ken', 'Harry', 'Jenny', 'Ken', 'Harry', 'Jenny', 'Harry', 'Ken'],\n",
    "    'Scores': [10, 20, 30, 40, 50, 60, 70, 80, 90, 100],\n",
    "}\n",
    "df = pd.DataFrame(data)\n",
    "\n",
    "grouped_sum = df.groupby('Names').sum()['Scores']\n",
    "print(grouped_sum)"
   ]
  },
  {
   "cell_type": "markdown",
   "id": "b8526548-9a56-4ccb-96c2-77b6dbbbcf4c",
   "metadata": {},
   "source": [
    "7.)Using Matplotlib, create a histogram to show the distribution of a numerical dataset. Customize the number of bins and add grid lines for better readability."
   ]
  },
  {
   "cell_type": "code",
   "execution_count": 208,
   "id": "fc987da8-ad7d-49d7-9a3f-421aa7f161fa",
   "metadata": {
    "collapsed": true,
    "jupyter": {
     "outputs_hidden": true,
     "source_hidden": true
    }
   },
   "outputs": [
    {
     "data": {
      "image/png": "[encoded data removed]",
      "text/plain": [
       "<Figure size 640x480 with 1 Axes>"
      ]
     },
     "metadata": {},
     "output_type": "display_data"
    }
   ],
   "source": [
    "import matplotlib as mp\n",
    "import matplotlib.pyplot as plt\n",
    "from sklearn.datasets import load_iris\n",
    "\n",
    "iris = load_iris()\n",
    "x = iris.data\n",
    "plt.hist(x, bins = 7)\n",
    "plt.grid(axis = 'both')\n",
    "plt.show()"
   ]
  },
  {
   "cell_type": "markdown",
   "id": "3dd818f4-e4d1-4cc4-bd74-5ae1cf6b7eb2",
   "metadata": {},
   "source": [
    "8.)Using NumPy, create a 2D array and perform a slicing operation to extract a specific sub-array."
   ]
  },
  {
   "cell_type": "code",
   "execution_count": 226,
   "id": "54a9a69a-9ea7-438a-b148-6e53d8977656",
   "metadata": {
    "collapsed": true,
    "jupyter": {
     "outputs_hidden": true,
     "source_hidden": true
    }
   },
   "outputs": [
    {
     "name": "stdout",
     "output_type": "stream",
     "text": [
      "[[4 9 2 1 3 2 4 4 5]\n",
      " [4 4 2 7 2 1 4 3 8]\n",
      " [4 4 4 2 6 2 6 5 1]\n",
      " [6 8 7 5 2 8 7 1 5]\n",
      " [4 3 7 8 1 1 1 3 8]\n",
      " [2 3 7 5 4 9 3 2 9]\n",
      " [3 4 4 3 6 9 1 6 4]\n",
      " [3 3 2 9 7 7 3 1 1]]\n",
      "[[1 4 3 8]\n",
      " [2 6 5 1]]\n"
     ]
    }
   ],
   "source": [
    "import numpy as np\n",
    "\n",
    "arr = np.random.randint(1,10,(8,9))\n",
    "sub_arr = arr[1:3,5:]\n",
    "\n",
    "print(arr)\n",
    "print(sub_arr)"
   ]
  },
  {
   "cell_type": "markdown",
   "id": "9bb5c9f0-946f-4eb7-96ab-94010e42d7ec",
   "metadata": {},
   "source": [
    "9.)Using Pandas, perform a merge operation between two DataFrames based on a common column for dataset of your choice."
   ]
  },
  {
   "cell_type": "code",
   "execution_count": 266,
   "id": "75963a08-b3e5-4a10-8ed9-bfdce9bee020",
   "metadata": {
    "collapsed": true,
    "jupyter": {
     "outputs_hidden": true,
     "source_hidden": true
    }
   },
   "outputs": [
    {
     "name": "stdout",
     "output_type": "stream",
     "text": [
      "        Name  Marks\n",
      "0        Ken     80\n",
      "1      Jenny     90\n",
      "2  Sebastian     75\n",
      "3       Sita     88\n",
      "4        Ram     59\n",
      "        Name Grade  Gender\n",
      "0        Ken     A    Male\n",
      "1     Harley     A  Female\n",
      "2  Sebastian     B  Female\n",
      "3       Sita     A  Female\n",
      "        Name  Marks Grade  Gender\n",
      "0     Harley    NaN     A  Female\n",
      "1      Jenny   90.0   NaN     NaN\n",
      "2        Ken   80.0     A    Male\n",
      "3        Ram   59.0   NaN     NaN\n",
      "4  Sebastian   75.0     B  Female\n",
      "5       Sita   88.0     A  Female\n"
     ]
    }
   ],
   "source": [
    "import pandas as pd\n",
    "\n",
    "df1 = pd.DataFrame({'Name': ['Ken', 'Jenny', 'Sebastian', 'Sita', 'Ram'],\n",
    "    'Marks': [80, 90, 75, 88, 59]})\n",
    "\n",
    "df2 = pd.DataFrame({'Name': ['Ken', 'Harley', 'Sebastian', 'Sita'],\n",
    "    'Grade': ['A', 'A', 'B', 'A'],\n",
    "    'Gender': ['Male', 'Female', 'Female', 'Female']})\n",
    "\n",
    "print(df1)\n",
    "print(df2)\n",
    " \n",
    "merged = df1.merge(df2[['Name', 'Grade', 'Gender']], on='Name', how='outer')\n",
    "print(merged)\n"
   ]
  },
  {
   "cell_type": "markdown",
   "id": "67e339b4-723b-4739-a6c4-fb004db40a2f",
   "metadata": {},
   "source": [
    "10.)Using Matplotlib, create a scatter plot comparing two numerical variables in the dataset of your choice. Customize the plot by changing the color and shape of the data points."
   ]
  },
  {
   "cell_type": "code",
   "execution_count": 242,
   "id": "d057b83f-6625-416c-a4ad-c8dcf03f3137",
   "metadata": {
    "collapsed": true,
    "jupyter": {
     "outputs_hidden": true,
     "source_hidden": true
    }
   },
   "outputs": [
    {
     "data": {
      "image/png": "[encoded data removed]",
      "text/plain": [
       "<Figure size 640x480 with 1 Axes>"
      ]
     },
     "metadata": {},
     "output_type": "display_data"
    }
   ],
   "source": [
    "import matplotlib as mp\n",
    "import matplotlib.pyplot as plt\n",
    "from sklearn.datasets import load_iris\n",
    "\n",
    "iris = load_iris()\n",
    "x = iris.data\n",
    "\n",
    "plt.scatter(x[:,1],x[:,0], c = 'violet', s = 19)\n",
    "plt.xlabel(iris['feature_names'][1])\n",
    "plt.ylabel(iris['feature_names'][0])\n",
    "\n",
    "plt.show()"
   ]
  }
 ],
 "metadata": {
  "kernelspec": {
   "display_name": "Python [conda env:base] *",
   "language": "python",
   "name": "conda-base-py"
  },
  "language_info": {
   "codemirror_mode": {
    "name": "ipython",
    "version": 3
   },
   "file_extension": ".py",
   "mimetype": "text/x-python",
   "name": "python",
   "nbconvert_exporter": "python",
   "pygments_lexer": "ipython3",
   "version": "3.12.7"
  }
 },
 "nbformat": 4,
 "nbformat_minor": 5
}
