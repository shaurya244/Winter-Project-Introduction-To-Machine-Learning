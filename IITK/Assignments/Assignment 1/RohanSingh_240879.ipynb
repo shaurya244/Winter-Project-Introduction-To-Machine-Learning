{
 "cells": [
  {
   "cell_type": "markdown",
   "id": "8091472a-6981-439a-847b-2ddc7070e79c",
   "metadata": {},
   "source": [
    "Q1. Using NumPy, create a 3D array of shape (4, 4, 4) filled with random numbers between 1 and 100. Find the z score normalisation of each element of the array."
   ]
  },
  {
   "cell_type": "code",
   "execution_count": 1,
   "id": "08dcbdfb-dccc-4f75-9525-a4ac2ea15c08",
   "metadata": {},
   "outputs": [
    {
     "name": "stdout",
     "output_type": "stream",
     "text": [
      "[[[ 67  48  79  23]\n",
      "  [ 55  94  65  76]\n",
      "  [ 20  82  50  37]\n",
      "  [ 38  73  51  95]]\n",
      "\n",
      " [[ 99  17  24  36]\n",
      "  [  5  53  10  75]\n",
      "  [ 18 100  81  21]\n",
      "  [ 93  87  25  64]]\n",
      "\n",
      " [[ 39  99  56  49]\n",
      "  [ 74  68  47  58]\n",
      "  [  7  63  42  30]\n",
      "  [  8  51  22  79]]\n",
      "\n",
      " [[ 12  18   8  55]\n",
      "  [ 29   2  96  58]\n",
      "  [ 59  47  84  59]\n",
      "  [ 98  70  14   6]]]\n"
     ]
    }
   ],
   "source": [
    "import numpy as np\n",
    "arr = np.random.randint(1,101,(4,4,4))\n",
    "print(arr)"
   ]
  },
  {
   "cell_type": "code",
   "execution_count": 2,
   "id": "11d93ffc-ba32-4471-8290-a8946cf1f679",
   "metadata": {},
   "outputs": [],
   "source": [
    "mean = np.mean(arr)\n",
    "std = np.std(arr)"
   ]
  },
  {
   "cell_type": "code",
   "execution_count": 3,
   "id": "270a7c7c-10cb-4d7e-a26e-0d5d82caf389",
   "metadata": {},
   "outputs": [
    {
     "name": "stdout",
     "output_type": "stream",
     "text": [
      "[[[ 0.55236874 -0.10614144  0.96826992 -0.97260222]\n",
      "  [ 0.13646757  1.48814638  0.48305188  0.86429462]\n",
      "  [-1.07657751  1.07224521 -0.03682458 -0.48738419]\n",
      "  [-0.45272575  0.76031933 -0.00216615  1.52280481]]\n",
      "\n",
      " [[ 1.66143853 -1.18055281 -0.93794379 -0.52204262]\n",
      "  [-1.59645398  0.06715071 -1.42316182  0.82963619]\n",
      "  [-1.14589437  1.69609697  1.03758678 -1.04191908]\n",
      "  [ 1.45348795  1.24553736 -0.90328536  0.44839345]]\n",
      "\n",
      " [[-0.41806732  1.66143853  0.171126   -0.07148301]\n",
      "  [ 0.79497776  0.58702717 -0.14079988  0.24044286]\n",
      "  [-1.52713711  0.41373502 -0.31409203 -0.7299932 ]\n",
      "  [-1.49247868 -0.00216615 -1.00726065  0.96826992]]\n",
      "\n",
      " [[-1.35384496 -1.14589437 -1.49247868  0.13646757]\n",
      "  [-0.76465163 -1.70042927  1.55746324  0.24044286]\n",
      "  [ 0.2751013  -0.14079988  1.14156207  0.2751013 ]\n",
      "  [ 1.6267801   0.65634404 -1.2845281  -1.56179555]]]\n"
     ]
    }
   ],
   "source": [
    "z_score_norm = (arr-mean)/std\n",
    "print(z_score_norm)"
   ]
  },
  {
   "cell_type": "markdown",
   "id": "dc9a0fd1-4380-4e58-9b4f-4f3923d362fc",
   "metadata": {},
   "source": [
    "Q2. Using Pandas, filter the rows in the Iris dataset where the petal length is greater than 3.0, and display the filtered data "
   ]
  },
  {
   "cell_type": "code",
   "execution_count": 4,
   "id": "892470d5-48fd-432b-a406-553c1b03c0d7",
   "metadata": {},
   "outputs": [],
   "source": [
    "import pandas as pd\n",
    "from sklearn.datasets import load_iris"
   ]
  },
  {
   "cell_type": "code",
   "execution_count": 13,
   "id": "d5603e57-c6fa-459f-8fbd-bb888f0b7f3d",
   "metadata": {},
   "outputs": [
    {
     "name": "stdout",
     "output_type": "stream",
     "text": [
      "Filtered Data:\n"
     ]
    },
    {
     "data": {
      "text/html": [
       "<div>\n",
       "<style scoped>\n",
       "    .dataframe tbody tr th:only-of-type {\n",
       "        vertical-align: middle;\n",
       "    }\n",
       "\n",
       "    .dataframe tbody tr th {\n",
       "        vertical-align: top;\n",
       "    }\n",
       "\n",
       "    .dataframe thead th {\n",
       "        text-align: right;\n",
       "    }\n",
       "</style>\n",
       "<table border=\"1\" class=\"dataframe\">\n",
       "  <thead>\n",
       "    <tr style=\"text-align: right;\">\n",
       "      <th></th>\n",
       "      <th>sepal length (cm)</th>\n",
       "      <th>sepal width (cm)</th>\n",
       "      <th>petal length (cm)</th>\n",
       "      <th>petal width (cm)</th>\n",
       "      <th>species</th>\n",
       "    </tr>\n",
       "  </thead>\n",
       "  <tbody>\n",
       "    <tr>\n",
       "      <th>50</th>\n",
       "      <td>7.0</td>\n",
       "      <td>3.2</td>\n",
       "      <td>4.7</td>\n",
       "      <td>1.4</td>\n",
       "      <td>1</td>\n",
       "    </tr>\n",
       "    <tr>\n",
       "      <th>51</th>\n",
       "      <td>6.4</td>\n",
       "      <td>3.2</td>\n",
       "      <td>4.5</td>\n",
       "      <td>1.5</td>\n",
       "      <td>1</td>\n",
       "    </tr>\n",
       "    <tr>\n",
       "      <th>52</th>\n",
       "      <td>6.9</td>\n",
       "      <td>3.1</td>\n",
       "      <td>4.9</td>\n",
       "      <td>1.5</td>\n",
       "      <td>1</td>\n",
       "    </tr>\n",
       "    <tr>\n",
       "      <th>53</th>\n",
       "      <td>5.5</td>\n",
       "      <td>2.3</td>\n",
       "      <td>4.0</td>\n",
       "      <td>1.3</td>\n",
       "      <td>1</td>\n",
       "    </tr>\n",
       "    <tr>\n",
       "      <th>54</th>\n",
       "      <td>6.5</td>\n",
       "      <td>2.8</td>\n",
       "      <td>4.6</td>\n",
       "      <td>1.5</td>\n",
       "      <td>1</td>\n",
       "    </tr>\n",
       "    <tr>\n",
       "      <th>...</th>\n",
       "      <td>...</td>\n",
       "      <td>...</td>\n",
       "      <td>...</td>\n",
       "      <td>...</td>\n",
       "      <td>...</td>\n",
       "    </tr>\n",
       "    <tr>\n",
       "      <th>145</th>\n",
       "      <td>6.7</td>\n",
       "      <td>3.0</td>\n",
       "      <td>5.2</td>\n",
       "      <td>2.3</td>\n",
       "      <td>2</td>\n",
       "    </tr>\n",
       "    <tr>\n",
       "      <th>146</th>\n",
       "      <td>6.3</td>\n",
       "      <td>2.5</td>\n",
       "      <td>5.0</td>\n",
       "      <td>1.9</td>\n",
       "      <td>2</td>\n",
       "    </tr>\n",
       "    <tr>\n",
       "      <th>147</th>\n",
       "      <td>6.5</td>\n",
       "      <td>3.0</td>\n",
       "      <td>5.2</td>\n",
       "      <td>2.0</td>\n",
       "      <td>2</td>\n",
       "    </tr>\n",
       "    <tr>\n",
       "      <th>148</th>\n",
       "      <td>6.2</td>\n",
       "      <td>3.4</td>\n",
       "      <td>5.4</td>\n",
       "      <td>2.3</td>\n",
       "      <td>2</td>\n",
       "    </tr>\n",
       "    <tr>\n",
       "      <th>149</th>\n",
       "      <td>5.9</td>\n",
       "      <td>3.0</td>\n",
       "      <td>5.1</td>\n",
       "      <td>1.8</td>\n",
       "      <td>2</td>\n",
       "    </tr>\n",
       "  </tbody>\n",
       "</table>\n",
       "<p>99 rows × 5 columns</p>\n",
       "</div>"
      ],
      "text/plain": [
       "     sepal length (cm)  sepal width (cm)  petal length (cm)  petal width (cm)  \\\n",
       "50                 7.0               3.2                4.7               1.4   \n",
       "51                 6.4               3.2                4.5               1.5   \n",
       "52                 6.9               3.1                4.9               1.5   \n",
       "53                 5.5               2.3                4.0               1.3   \n",
       "54                 6.5               2.8                4.6               1.5   \n",
       "..                 ...               ...                ...               ...   \n",
       "145                6.7               3.0                5.2               2.3   \n",
       "146                6.3               2.5                5.0               1.9   \n",
       "147                6.5               3.0                5.2               2.0   \n",
       "148                6.2               3.4                5.4               2.3   \n",
       "149                5.9               3.0                5.1               1.8   \n",
       "\n",
       "     species  \n",
       "50         1  \n",
       "51         1  \n",
       "52         1  \n",
       "53         1  \n",
       "54         1  \n",
       "..       ...  \n",
       "145        2  \n",
       "146        2  \n",
       "147        2  \n",
       "148        2  \n",
       "149        2  \n",
       "\n",
       "[99 rows x 5 columns]"
      ]
     },
     "execution_count": 13,
     "metadata": {},
     "output_type": "execute_result"
    }
   ],
   "source": [
    "iris = load_iris()\n",
    "X = iris.data \n",
    "y = iris.target\n",
    "\n",
    "df = pd.DataFrame(X, columns=iris.feature_names)\n",
    "df['species'] = y \n",
    "df1 = df.loc[df['petal length (cm)']>3,]\n",
    "print(\"Filtered Data:\")\n",
    "df1"
   ]
  },
  {
   "cell_type": "markdown",
   "id": "5a4c348e-249e-415a-bc4f-e7fdfa5e4991",
   "metadata": {},
   "source": [
    "Q3. Using Matplotlib, plot a line graph showing the trend of a numerical dataset. Customize the plot with title, axis labels, and a legend"
   ]
  },
  {
   "cell_type": "code",
   "execution_count": 12,
   "id": "2ad060b3-b672-4627-bf80-dc1d972842fb",
   "metadata": {},
   "outputs": [],
   "source": [
    "import matplotlib.pyplot as plt"
   ]
  },
  {
   "cell_type": "code",
   "execution_count": 14,
   "id": "59bb9c78-a3d8-4d6d-b1ff-dbacdcbbc17c",
   "metadata": {},
   "outputs": [
    {
     "data": {
      "image/png": "[encoded data removed]",
      "text/plain": [
       "<Figure size 1000x600 with 1 Axes>"
      ]
     },
     "metadata": {},
     "output_type": "display_data"
    }
   ],
   "source": [
    "data1 = df['petal length (cm)'].to_list()\n",
    "\n",
    "plt.figure(figsize=(10,6))\n",
    "plt.plot(data1,label='petal length')\n",
    "plt.title('Petal Length Trend')\n",
    "plt.xlabel('Index')\n",
    "plt.ylabel('Values')\n",
    "plt.legend(fontsize = 15,loc = 'upper left')\n",
    "plt.show()"
   ]
  },
  {
   "cell_type": "code",
   "execution_count": 15,
   "id": "633d1965-155d-41f3-a7c5-aff05c0a268f",
   "metadata": {},
   "outputs": [
    {
     "data": {
      "image/png": "[encoded data removed]",
      "text/plain": [
       "<Figure size 1000x600 with 1 Axes>"
      ]
     },
     "metadata": {},
     "output_type": "display_data"
    }
   ],
   "source": [
    "num_data = [5,10,15,28,39,41,46,55,63,72,90,95]\n",
    "plt.figure(figsize=(10,6))\n",
    "plt.plot(num_data,'-o',label='Data Trend')\n",
    "plt.title('Numerical Trend')\n",
    "plt.xlabel('Index',fontsize=20)\n",
    "plt.ylabel('Numerical Data',fontsize=20)\n",
    "plt.legend(fontsize=20)\n",
    "plt.show()"
   ]
  },
  {
   "cell_type": "markdown",
   "id": "ec10041e-3fee-478f-a1db-74fb19fb698f",
   "metadata": {},
   "source": [
    "Q4. Create a Pandas DataFrame with random values with at least 3 columns and perform the following operations: (i) Replace NaN values with the mean of the column. (ii) Sort the DataFrame based on any two columns."
   ]
  },
  {
   "cell_type": "code",
   "execution_count": 17,
   "id": "1f0a091a-7544-4256-aabf-645838ef0c06",
   "metadata": {},
   "outputs": [
    {
     "name": "stdout",
     "output_type": "stream",
     "text": [
      "Original DataFrame:\n"
     ]
    },
    {
     "data": {
      "text/html": [
       "<div>\n",
       "<style scoped>\n",
       "    .dataframe tbody tr th:only-of-type {\n",
       "        vertical-align: middle;\n",
       "    }\n",
       "\n",
       "    .dataframe tbody tr th {\n",
       "        vertical-align: top;\n",
       "    }\n",
       "\n",
       "    .dataframe thead th {\n",
       "        text-align: right;\n",
       "    }\n",
       "</style>\n",
       "<table border=\"1\" class=\"dataframe\">\n",
       "  <thead>\n",
       "    <tr style=\"text-align: right;\">\n",
       "      <th></th>\n",
       "      <th>Column1</th>\n",
       "      <th>Column2</th>\n",
       "      <th>Column3</th>\n",
       "    </tr>\n",
       "  </thead>\n",
       "  <tbody>\n",
       "    <tr>\n",
       "      <th>0</th>\n",
       "      <td>52</td>\n",
       "      <td>88</td>\n",
       "      <td>NaN</td>\n",
       "    </tr>\n",
       "    <tr>\n",
       "      <th>1</th>\n",
       "      <td>93</td>\n",
       "      <td>24</td>\n",
       "      <td>64.0</td>\n",
       "    </tr>\n",
       "    <tr>\n",
       "      <th>2</th>\n",
       "      <td>15</td>\n",
       "      <td>3</td>\n",
       "      <td>60.0</td>\n",
       "    </tr>\n",
       "    <tr>\n",
       "      <th>3</th>\n",
       "      <td>72</td>\n",
       "      <td>22</td>\n",
       "      <td>21.0</td>\n",
       "    </tr>\n",
       "    <tr>\n",
       "      <th>4</th>\n",
       "      <td>61</td>\n",
       "      <td>53</td>\n",
       "      <td>NaN</td>\n",
       "    </tr>\n",
       "    <tr>\n",
       "      <th>5</th>\n",
       "      <td>21</td>\n",
       "      <td>2</td>\n",
       "      <td>33.0</td>\n",
       "    </tr>\n",
       "    <tr>\n",
       "      <th>6</th>\n",
       "      <td>83</td>\n",
       "      <td>88</td>\n",
       "      <td>76.0</td>\n",
       "    </tr>\n",
       "    <tr>\n",
       "      <th>7</th>\n",
       "      <td>87</td>\n",
       "      <td>30</td>\n",
       "      <td>58.0</td>\n",
       "    </tr>\n",
       "    <tr>\n",
       "      <th>8</th>\n",
       "      <td>75</td>\n",
       "      <td>38</td>\n",
       "      <td>NaN</td>\n",
       "    </tr>\n",
       "    <tr>\n",
       "      <th>9</th>\n",
       "      <td>75</td>\n",
       "      <td>2</td>\n",
       "      <td>22.0</td>\n",
       "    </tr>\n",
       "  </tbody>\n",
       "</table>\n",
       "</div>"
      ],
      "text/plain": [
       "   Column1  Column2  Column3\n",
       "0       52       88      NaN\n",
       "1       93       24     64.0\n",
       "2       15        3     60.0\n",
       "3       72       22     21.0\n",
       "4       61       53      NaN\n",
       "5       21        2     33.0\n",
       "6       83       88     76.0\n",
       "7       87       30     58.0\n",
       "8       75       38      NaN\n",
       "9       75        2     22.0"
      ]
     },
     "execution_count": 17,
     "metadata": {},
     "output_type": "execute_result"
    }
   ],
   "source": [
    "import pandas as pd\n",
    "import numpy as np\n",
    "\n",
    "np.random.seed(42)\n",
    "data = {\n",
    "    \"Column1\": np.random.randint(1, 100, 10),\n",
    "    \"Column2\": np.random.randint(1, 100, 10),\n",
    "    \"Column3\": [np.nan if i % 4 == 0 else np.random.randint(1, 100) for i in range(10)] #making value NaN for every 4th element in column 3\n",
    "}\n",
    "df = pd.DataFrame(data)\n",
    "\n",
    "print(\"Original DataFrame:\")\n",
    "df\n"
   ]
  },
  {
   "cell_type": "code",
   "execution_count": 19,
   "id": "75fdb82b-c58c-44e6-b0fb-887553792d1d",
   "metadata": {},
   "outputs": [
    {
     "name": "stdout",
     "output_type": "stream",
     "text": [
      "\n",
      "DataFrame after replacing NaN values with column means:\n",
      "   Column1  Column2  Column3\n",
      "0       52       88    47.71\n",
      "1       93       24    64.00\n",
      "2       15        3    60.00\n",
      "3       72       22    21.00\n",
      "4       61       53    47.71\n",
      "5       21        2    33.00\n",
      "6       83       88    76.00\n",
      "7       87       30    58.00\n",
      "8       75       38    47.71\n",
      "9       75        2    22.00\n"
     ]
    }
   ],
   "source": [
    "#Replacing NaN values with the mean of the column\n",
    "df.fillna(df.mean(), inplace=True)\n",
    "df = df.round(2)\n",
    "print(\"\\nDataFrame after replacing NaN values with column means:\")\n",
    "print(df)\n"
   ]
  },
  {
   "cell_type": "code",
   "execution_count": 21,
   "id": "c58ff9af-2a3d-4769-917b-e1c1f143d9e0",
   "metadata": {},
   "outputs": [
    {
     "data": {
      "text/html": [
       "<div>\n",
       "<style scoped>\n",
       "    .dataframe tbody tr th:only-of-type {\n",
       "        vertical-align: middle;\n",
       "    }\n",
       "\n",
       "    .dataframe tbody tr th {\n",
       "        vertical-align: top;\n",
       "    }\n",
       "\n",
       "    .dataframe thead th {\n",
       "        text-align: right;\n",
       "    }\n",
       "</style>\n",
       "<table border=\"1\" class=\"dataframe\">\n",
       "  <thead>\n",
       "    <tr style=\"text-align: right;\">\n",
       "      <th></th>\n",
       "      <th>Column1</th>\n",
       "      <th>Column2</th>\n",
       "      <th>Column3</th>\n",
       "    </tr>\n",
       "  </thead>\n",
       "  <tbody>\n",
       "    <tr>\n",
       "      <th>2</th>\n",
       "      <td>15</td>\n",
       "      <td>3</td>\n",
       "      <td>60.00</td>\n",
       "    </tr>\n",
       "    <tr>\n",
       "      <th>5</th>\n",
       "      <td>21</td>\n",
       "      <td>2</td>\n",
       "      <td>33.00</td>\n",
       "    </tr>\n",
       "    <tr>\n",
       "      <th>0</th>\n",
       "      <td>52</td>\n",
       "      <td>88</td>\n",
       "      <td>47.71</td>\n",
       "    </tr>\n",
       "    <tr>\n",
       "      <th>4</th>\n",
       "      <td>61</td>\n",
       "      <td>53</td>\n",
       "      <td>47.71</td>\n",
       "    </tr>\n",
       "    <tr>\n",
       "      <th>3</th>\n",
       "      <td>72</td>\n",
       "      <td>22</td>\n",
       "      <td>21.00</td>\n",
       "    </tr>\n",
       "    <tr>\n",
       "      <th>9</th>\n",
       "      <td>75</td>\n",
       "      <td>2</td>\n",
       "      <td>22.00</td>\n",
       "    </tr>\n",
       "    <tr>\n",
       "      <th>8</th>\n",
       "      <td>75</td>\n",
       "      <td>38</td>\n",
       "      <td>47.71</td>\n",
       "    </tr>\n",
       "    <tr>\n",
       "      <th>6</th>\n",
       "      <td>83</td>\n",
       "      <td>88</td>\n",
       "      <td>76.00</td>\n",
       "    </tr>\n",
       "    <tr>\n",
       "      <th>7</th>\n",
       "      <td>87</td>\n",
       "      <td>30</td>\n",
       "      <td>58.00</td>\n",
       "    </tr>\n",
       "    <tr>\n",
       "      <th>1</th>\n",
       "      <td>93</td>\n",
       "      <td>24</td>\n",
       "      <td>64.00</td>\n",
       "    </tr>\n",
       "  </tbody>\n",
       "</table>\n",
       "</div>"
      ],
      "text/plain": [
       "   Column1  Column2  Column3\n",
       "2       15        3    60.00\n",
       "5       21        2    33.00\n",
       "0       52       88    47.71\n",
       "4       61       53    47.71\n",
       "3       72       22    21.00\n",
       "9       75        2    22.00\n",
       "8       75       38    47.71\n",
       "6       83       88    76.00\n",
       "7       87       30    58.00\n",
       "1       93       24    64.00"
      ]
     },
     "execution_count": 21,
     "metadata": {},
     "output_type": "execute_result"
    }
   ],
   "source": [
    "#Sorting the DataFrame based on 'Column1' and 'Column2'\n",
    "sorted_df = df.sort_values(by=['Column1', 'Column2'])\n",
    "sorted_df"
   ]
  },
  {
   "cell_type": "markdown",
   "id": "61e115df-4245-4377-ab84-79e754822cc1",
   "metadata": {},
   "source": [
    "Q5. Using NumPy, calculate the dot product of two matrices and find the determinant of the resulting matrix."
   ]
  },
  {
   "cell_type": "code",
   "execution_count": 23,
   "id": "702a423d-7fa8-48f9-a762-e26c6c2439c5",
   "metadata": {},
   "outputs": [
    {
     "data": {
      "text/plain": [
       "array([[4, 7, 7, 1],\n",
       "       [9, 5, 8, 1],\n",
       "       [1, 8, 2, 6],\n",
       "       [8, 1, 2, 5]])"
      ]
     },
     "execution_count": 23,
     "metadata": {},
     "output_type": "execute_result"
    }
   ],
   "source": [
    "np.random.seed(5)\n",
    "A = np.random.randint(1,10,(4,4))\n",
    "A"
   ]
  },
  {
   "cell_type": "code",
   "execution_count": 24,
   "id": "667a7fe4-e5cd-4273-940d-3941301c086e",
   "metadata": {},
   "outputs": [
    {
     "data": {
      "text/plain": [
       "array([[19, 10, 11, 10],\n",
       "       [10,  2, 19,  8],\n",
       "       [17, 15,  6,  1],\n",
       "       [17,  5, 15,  5]])"
      ]
     },
     "execution_count": 24,
     "metadata": {},
     "output_type": "execute_result"
    }
   ],
   "source": [
    "B = np.random.randint(1,20,(4,4))\n",
    "B"
   ]
  },
  {
   "cell_type": "code",
   "execution_count": 25,
   "id": "4b1ecf57-f2c1-4e01-a376-368e33a62019",
   "metadata": {},
   "outputs": [
    {
     "data": {
      "text/plain": [
       "array([[282, 164, 234, 108],\n",
       "       [374, 225, 257, 143],\n",
       "       [235,  86, 265, 106],\n",
       "       [281, 137, 194, 115]])"
      ]
     },
     "execution_count": 25,
     "metadata": {},
     "output_type": "execute_result"
    }
   ],
   "source": [
    "dot_product = np.dot(A, B)\n",
    "dot_product"
   ]
  },
  {
   "cell_type": "code",
   "execution_count": 28,
   "id": "585ba95d-7648-4527-8785-959ebad7a178",
   "metadata": {},
   "outputs": [],
   "source": [
    "det = np.linalg.det(dot_product)"
   ]
  },
  {
   "cell_type": "code",
   "execution_count": 30,
   "id": "9663e31d-68c4-4f97-ba4d-496409c58180",
   "metadata": {},
   "outputs": [
    {
     "data": {
      "text/plain": [
       "2895791.9999999856"
      ]
     },
     "execution_count": 30,
     "metadata": {},
     "output_type": "execute_result"
    }
   ],
   "source": [
    "det #determinant"
   ]
  },
  {
   "cell_type": "markdown",
   "id": "86e091e1-1a2c-479d-a7ff-6aface9e2393",
   "metadata": {},
   "source": [
    "Q6. With Pandas, group a DataFrame by a categorical column and calculate the sum of another numerical column for each group."
   ]
  },
  {
   "cell_type": "code",
   "execution_count": 41,
   "id": "2b2a651b-b1f0-44d7-b40a-94a7315f1ad0",
   "metadata": {},
   "outputs": [
    {
     "data": {
      "text/html": [
       "<div>\n",
       "<style scoped>\n",
       "    .dataframe tbody tr th:only-of-type {\n",
       "        vertical-align: middle;\n",
       "    }\n",
       "\n",
       "    .dataframe tbody tr th {\n",
       "        vertical-align: top;\n",
       "    }\n",
       "\n",
       "    .dataframe thead th {\n",
       "        text-align: right;\n",
       "    }\n",
       "</style>\n",
       "<table border=\"1\" class=\"dataframe\">\n",
       "  <thead>\n",
       "    <tr style=\"text-align: right;\">\n",
       "      <th></th>\n",
       "      <th>Name</th>\n",
       "      <th>Month</th>\n",
       "      <th>Bill</th>\n",
       "    </tr>\n",
       "  </thead>\n",
       "  <tbody>\n",
       "    <tr>\n",
       "      <th>0</th>\n",
       "      <td>Rohan</td>\n",
       "      <td>Aug</td>\n",
       "      <td>3921</td>\n",
       "    </tr>\n",
       "    <tr>\n",
       "      <th>1</th>\n",
       "      <td>Manant</td>\n",
       "      <td>Aug</td>\n",
       "      <td>3800</td>\n",
       "    </tr>\n",
       "    <tr>\n",
       "      <th>2</th>\n",
       "      <td>Nishant</td>\n",
       "      <td>Aug</td>\n",
       "      <td>4214</td>\n",
       "    </tr>\n",
       "    <tr>\n",
       "      <th>3</th>\n",
       "      <td>Manant</td>\n",
       "      <td>Sept</td>\n",
       "      <td>3691</td>\n",
       "    </tr>\n",
       "    <tr>\n",
       "      <th>4</th>\n",
       "      <td>Rohan</td>\n",
       "      <td>Sept</td>\n",
       "      <td>4332</td>\n",
       "    </tr>\n",
       "    <tr>\n",
       "      <th>5</th>\n",
       "      <td>Manant</td>\n",
       "      <td>Nov</td>\n",
       "      <td>3901</td>\n",
       "    </tr>\n",
       "  </tbody>\n",
       "</table>\n",
       "</div>"
      ],
      "text/plain": [
       "      Name Month  Bill\n",
       "0    Rohan   Aug  3921\n",
       "1   Manant   Aug  3800\n",
       "2  Nishant   Aug  4214\n",
       "3   Manant  Sept  3691\n",
       "4    Rohan  Sept  4332\n",
       "5   Manant   Nov  3901"
      ]
     },
     "execution_count": 41,
     "metadata": {},
     "output_type": "execute_result"
    }
   ],
   "source": [
    "data = {\"Name\":[\"Rohan\",\"Manant\",\"Nishant\",\"Manant\",\"Rohan\",\"Manant\"],\n",
    "        \"Month\":[\"Aug\", \"Aug\", \"Aug\", \"Sept\", \"Sept\", \"Nov\"],\n",
    "        \"Bill\":[3921, 3800, 4214, 3691, 4332, 3901]}\n",
    "\n",
    "df = pd.DataFrame(data)\n",
    "df"
   ]
  },
  {
   "cell_type": "code",
   "execution_count": 42,
   "id": "6cc95e29-0715-48ff-983f-5d4c2c6eb91c",
   "metadata": {},
   "outputs": [
    {
     "data": {
      "text/plain": [
       "Name\n",
       "Manant     11392\n",
       "Nishant     4214\n",
       "Rohan       8253\n",
       "Name: Bill, dtype: int64"
      ]
     },
     "execution_count": 42,
     "metadata": {},
     "output_type": "execute_result"
    }
   ],
   "source": [
    "grp_scores = df.groupby(\"Name\")[\"Bill\"].sum()\n",
    "grp_scores"
   ]
  },
  {
   "cell_type": "markdown",
   "id": "6e271705-079c-4859-b338-b2ce5c86c70d",
   "metadata": {},
   "source": [
    "Q7. Using Matplotlib, create a histogram to show the distribution of a numerical dataset. Customize the number of bins and add grid lines for better readability."
   ]
  },
  {
   "cell_type": "code",
   "execution_count": 66,
   "id": "99ae31f5-ad0e-4a36-9fb6-f7a54330ca1b",
   "metadata": {},
   "outputs": [],
   "source": [
    "data = np.random.normal(loc=50, scale=15, size=1000)  # Generate random data with a normal distribution"
   ]
  },
  {
   "cell_type": "code",
   "execution_count": 67,
   "id": "c47166f5-62ca-473c-ae4c-22b1733e46ea",
   "metadata": {},
   "outputs": [
    {
     "data": {
      "text/plain": [
       "array([46.36224532, 39.93012833, 54.6348304 , 61.35641848, 74.95955376,\n",
       "       46.62869105, 65.44146648, 61.435826  , 35.87613765, 66.83152869,\n",
       "       24.32372301, 64.20547237, 68.82897467, 42.93560599, 37.4290957 ,\n",
       "       50.51245122, 64.22140629, 50.87916308, 50.54157216, 53.26588331,\n",
       "       40.03048765, 35.234366  , 64.38431818, 44.5410565 , 78.12902441,\n",
       "       52.25872716, 39.4392225 , 63.15032956, 36.3867693 , 69.05246065,\n",
       "       44.39732649, 39.03337292, 36.7365002 , 22.0767177 , 81.90824709,\n",
       "       44.44341034, 60.50669044, 62.26463327, 72.88529546, 61.34305858,\n",
       "       69.74434895, 54.0101466 , 44.77724104, 84.45879839, 83.09410918,\n",
       "       43.5476955 , 43.04756433, 31.98151365, 44.07346743, 41.28469136,\n",
       "       66.71454722, 61.99758488, 45.57721085, 58.63741232, 42.46691725,\n",
       "       45.21632518, 63.90397086, 74.34886385, 80.18450236, 32.57826993,\n",
       "       73.8596411 , 46.33977497, 53.74265133, 88.28639219, 51.85911891,\n",
       "       52.42024185, 15.73041402, 62.64546937, 61.74434016, 76.54166475,\n",
       "       38.18887639, 48.1862693 , 35.9369078 , 73.22468539, 61.77564844,\n",
       "       69.01893033, 44.21891518, 42.03764798, 35.11702016, 60.8804623 ,\n",
       "       44.43730583, 58.58807747, 58.13337306, 57.83841416, 64.91503881,\n",
       "       47.70645972, 52.77566641, 47.47256951, 39.53618533, 52.55689062,\n",
       "       49.78404259, 54.69116404, 64.06657991, 35.54608432, 40.08675693,\n",
       "       49.14992562, 71.94356411, 35.10075759, 40.09722828, 43.22075643,\n",
       "       55.82462519, 55.2754635 , 38.09730946, 37.08068306, 52.79861079,\n",
       "       60.006645  , 58.64255806, 50.25193212, 19.91655779, 65.93850347,\n",
       "       47.13414387, 48.02081297, 37.61605808, 38.67928434, 63.93755457,\n",
       "       38.30792143, 67.02388272, 72.00709651, 64.17708551, 36.5616067 ,\n",
       "       70.73848618, 40.62755854, 52.6665183 , 73.92815523, 52.24395372,\n",
       "       46.11181514, 37.98057087, 51.21657133, 44.22572057, 45.60141252,\n",
       "       68.31212084, 38.11222183, 43.93629984, 44.62285   , 48.99142054,\n",
       "       61.80534972, 82.19169766, 20.30594333, 48.14637327, 68.63662189,\n",
       "       58.56434379, 63.34047141, 50.47793529, 55.39170572, 28.15107203,\n",
       "       42.20876297, 88.66909291, 36.92232615, 52.82573695, 37.93140658,\n",
       "       43.57748264, 51.98684756, 53.42439524, 56.94668085, 55.5709554 ,\n",
       "       37.15351159, 44.33074918, 49.51798855, 42.74389806, 60.11585517,\n",
       "       77.56086986, 67.45991059, 73.71416646, 48.28373194, 69.20577264,\n",
       "       55.60634267, 55.45217226, 57.05146328, 41.52068411, 50.96583008,\n",
       "       35.01365213, 22.31898339, 54.44858358, 67.8665028 , 69.2621107 ,\n",
       "       72.66856763, 54.68221533, 52.60666171, 64.84734507, 43.2359904 ,\n",
       "       71.72728947, 75.51464572, 66.40116076, 37.75816085, 49.09542115,\n",
       "       34.5458318 , 30.84357479, 61.88413907, 47.70053876, 42.34503264,\n",
       "       21.97055025, 56.00440466, 41.57624135, 57.884211  , 44.74317136,\n",
       "       60.06378151, 43.00697337, 76.89095811, 37.64855773, 48.10331468,\n",
       "       52.77466579, 70.59507886, 43.02120461, 48.32221011, 59.95236409,\n",
       "       39.52483172, 29.63894564, 52.75552175, 48.07513162, 32.40445799,\n",
       "       65.10813017, 81.81859633,  6.16955259, 47.22249319, 35.65975962,\n",
       "       56.70500799, 38.2604553 , 70.44722737, 63.76509026, 55.91132444,\n",
       "       40.1010091 , 19.64387243, 35.54318586, 44.20197977, 32.47328305,\n",
       "       63.58404742, 55.95374801, 40.13624623, 67.99099762, 54.56872019,\n",
       "       10.39670612, 48.69836635, 29.94752695, 75.56538467, 40.62825743,\n",
       "       53.85652763, 21.45051701, 68.04216073, 48.66021827,  0.69680933,\n",
       "       32.53869683, 50.43464975, 69.7690862 , 35.86814543, 51.15274131,\n",
       "       51.28625198, 61.19044609, 57.46283219, 56.05940262, 76.33956325,\n",
       "       56.57851443, 73.70561855, 70.88624832, 28.05495815, 40.89941431,\n",
       "       53.56954465, 44.83342661, 60.88975505, 50.22664716, 39.27745005,\n",
       "       68.86039374, 72.4604062 , 38.97060957, 60.589826  , 36.58301456,\n",
       "       22.92712404, 42.44863054, 60.01571487, 53.78383948, 46.62058948,\n",
       "       40.77981308, 43.35811595, 57.55670511, 27.08113914, 49.04148447,\n",
       "       69.96336392, 53.42206577, 71.76477381, 48.86061451, 28.02253797,\n",
       "       37.63579124, 40.80681106, 46.61599708, 73.40744867, 65.5896511 ,\n",
       "       50.26394214, 82.17538297, 21.07919018, 50.73676442, 37.78625464,\n",
       "       35.82506733, 46.71028646, 28.58691346, 36.76936161, 46.9402904 ,\n",
       "       40.97983767, 57.79777996, 45.7137831 , 48.09428102, 54.73194824,\n",
       "       57.94857469, 70.23685025, 33.96168903, 30.67244276, 59.88010442,\n",
       "       22.82138724, 86.56614438, 43.59802478, 42.15397045, 61.9120321 ,\n",
       "       43.32648975, 34.85773934, 49.68969692, 40.95524679, 57.65067694,\n",
       "       47.38485053, 39.45432856, 40.65095624, 63.10558698, 63.27447245,\n",
       "       61.49131822, 38.6440579 , 25.96096856, 29.60476674, 35.7378443 ,\n",
       "       62.53234298, 78.06191682, 62.17024301, 88.80656591, 55.59589177,\n",
       "       46.76101307, 23.21628346, 51.69890407, 74.05762625, 52.23677304,\n",
       "       46.72344781, 54.78811881, 67.75728835, 46.7344266 , 62.6127533 ,\n",
       "       36.92151341, 66.28500821, 43.69735615, 20.23631236, 71.68896489,\n",
       "       57.932569  , 41.74283345, 31.3346678 , 56.36109556, 44.71243261,\n",
       "       44.94815919, 60.41219525, 71.25352313, 74.19533265, 43.21035639,\n",
       "       58.47666346, 55.18397308, 60.48469405, 57.81757537, 82.00085208,\n",
       "       72.25997831, 43.28792792, 57.07447046, 50.92629864, 46.2306911 ,\n",
       "       63.78468908, 26.35720823, 65.99565395, 41.40282003, 69.2646982 ,\n",
       "       85.29502009, 26.63472954, 14.21642062, 45.57291556, 37.06605893,\n",
       "       40.03776364, 49.60932126, 42.88707871, 45.3470549 , 45.60150154,\n",
       "       33.81357196, 65.89952152, 18.19184213, 73.02345183, 58.99455466,\n",
       "       28.0965881 , 46.05757338, 19.42867961, 46.69351582, 45.75975295,\n",
       "       48.98468987, 78.16287811, 69.61638934, 27.9191775 , 29.42834144,\n",
       "       58.49591929, 65.55481858, 52.08273514, 60.65935353, 48.90079405,\n",
       "       57.87476664, 58.68511454, 60.15841139, 49.69729896, 45.86976033,\n",
       "       52.68122151, 29.41749596, 36.8516297 , 29.82046934, 55.29457435,\n",
       "       65.68118058, 41.89704394, 66.92777117, 68.20958515, 56.51315348,\n",
       "       73.91727312, 52.61002283, 43.31000071, 65.07778657, 32.51971571,\n",
       "       16.50084103, 36.60612207, 38.13016859, 55.11160076, 42.13589796,\n",
       "       44.71017105, 62.63742488, 49.73483642, 56.07025154, 42.17990719,\n",
       "       54.02671753, 48.9556939 , 35.65150005, 47.38065461, 45.86511483,\n",
       "       44.1703469 , 51.80827958, 30.74629425, 48.45687056, 77.64008654,\n",
       "       78.26344669, 35.03465961, 53.86419412, 52.77192877, 39.77763516,\n",
       "       63.75116762, 44.30106783, 40.08599945, 64.38610607, 73.20257256,\n",
       "       49.32147088, 54.12755751, 41.6030949 , 40.84398789, 34.05160559,\n",
       "       62.55537938, 37.76785381, 63.3303564 , 41.37493875, 73.78844249,\n",
       "       51.53736178, 30.03261756, 61.11163315, 30.31340127, 49.36156763,\n",
       "       49.70480749, 34.77176452, 45.69031774, 57.8076599 , 35.4581269 ,\n",
       "       22.51586042, 55.69365383, 45.85094855, 33.74591151, 36.63343854,\n",
       "       47.67949662, 50.47467255, 27.18848011, 46.27286626, 48.02555113,\n",
       "       50.57911156, 62.1064631 , 48.91335906, 50.48208013, 48.71139791,\n",
       "       40.61644027, 45.58451262, 17.61293746, 80.67937547, 59.90913645,\n",
       "       61.21662057, 38.0833119 , 53.11785924, 68.40120723,  9.86737037,\n",
       "       49.86371248, 39.43312437, 43.80439806, 44.93641978, 54.33430849,\n",
       "       59.03618505, 38.40209478, 56.80995904, 41.12607518, 60.82835681,\n",
       "       60.17640144, 74.9103636 , 39.38821996, 65.36267361, 62.42019386,\n",
       "       52.31718902, 46.45515685, 40.22386431, 19.22684046, 59.07412685,\n",
       "       13.77812828, 66.69878558, 41.4198919 , 60.76388848, 38.85150512,\n",
       "       34.48864046, 57.67333255, 41.01162854, 41.50845617, 31.85026981,\n",
       "       50.20337165, 73.35420975, 57.39913079, 80.18490674, 58.79201024,\n",
       "       38.55424336, 27.90603712, 39.58104598, 64.60638434, 53.68550173,\n",
       "       36.63639315, 38.54761701, 64.90953245, 51.28719244, 60.76260963,\n",
       "       52.93318426, 42.56694237, 32.73370025, 72.7734979 , 62.40539516,\n",
       "       37.09352388, 23.23313908, 70.80159752, 76.01490441, 71.68517937,\n",
       "       48.43116339, 49.7774328 , 63.37457098, 21.23442457, 59.52654575,\n",
       "       53.01509954, 68.90670596, 73.39837287, 29.90497712, 33.88252839,\n",
       "       53.06693342, 47.36896239, 63.16626974, 81.11902737, 27.70803219,\n",
       "       54.16836112, 61.02618159, 53.10450629, 51.76157865, 45.96079032,\n",
       "       28.64994941, 52.43122516, 47.83693107, 37.92177646, 28.07703279,\n",
       "       59.44483589, 74.07580916, 44.02514942, 48.62646761, 74.91050291,\n",
       "       49.79120763, 55.44753121, 61.99152388, 56.28903114, 32.70720479,\n",
       "       61.80317856, 42.09930953, 59.71557387, 63.11465382, 46.92436783,\n",
       "       48.25591515, 39.28737988, 74.61892107, 35.58768951, 63.40148243,\n",
       "       63.72217561, 46.63517417, 26.70435043, 51.83633522, 34.00822455,\n",
       "       44.83074365, 24.50263699, 25.4201784 , 37.17526551, 37.56307439,\n",
       "       38.68886064, 64.63373827, 28.54752287, 40.26044403, 44.35484713,\n",
       "       63.12918593, 74.87163995, 43.98907928, 81.75309874, 18.10425397,\n",
       "       38.97479315, 54.89341974, 53.63269702, 62.2359024 , 56.62843263,\n",
       "       26.15494712, 37.20902063, 58.0145315 , 37.46856558, 53.26204414,\n",
       "       59.43647738, 42.71114322, 54.23947771, 41.03115808, 38.39956015,\n",
       "       45.4131194 , 82.09921484, 64.5332433 , 36.18755946, 58.41310533,\n",
       "       67.10107502, 67.55414608, 62.09583907, 45.9920874 , 31.77691779,\n",
       "       38.39738851, 53.05968097, 44.94699738, 52.98504476, 55.95836718,\n",
       "       50.07184699, 40.82108183, 69.94153061, 51.96145038, 72.45975325,\n",
       "       41.72464018, 64.46954515, 13.7426805 , 15.50440395, 57.32516118,\n",
       "       52.6868038 , 82.75844678, 63.71859577, 53.93270022, 58.12955914,\n",
       "       56.53883906, 64.6570936 , 65.34090715, 40.41492979, 53.79972243,\n",
       "       30.53511464, 44.10116773, 22.86140563, 61.79172799, 45.00879703,\n",
       "       29.18755147, 57.68495637, 51.98365266, 35.07530327, 60.4961787 ,\n",
       "       76.67266784, 28.04429474, 40.16876895, 52.77084656, 23.20732854,\n",
       "       15.61681865, 33.7369136 , 62.47253906, 42.2656908 , 31.01778723,\n",
       "       38.14931629, 52.60799325, 44.60072935, 52.24889098, 75.17851149,\n",
       "       62.74932594, 33.15312752, 43.12066718, 55.53709796, 30.79652907,\n",
       "       68.20168251, 65.44964749, 57.61226398, 55.12245566, 51.13709427,\n",
       "       60.53171162, 56.05887405, 42.84930526, 67.09936064, 49.92295994,\n",
       "       43.19385229, 69.48491297, 36.34428557, 54.56145926, 13.66558123,\n",
       "       30.0944359 , 45.39865219, 20.81863085, 50.6735538 , 50.00681391,\n",
       "       25.0106331 , 41.36182311, 54.30192536, 30.75925586, 38.50628318,\n",
       "       48.14346484, 75.71149153, 50.69223455, 48.71651233, 36.94509303,\n",
       "       25.33261775, 22.72261799, 63.14073662, 62.33519567, 31.27526974,\n",
       "       22.32483795, 40.23298939, 25.02116678, 45.69697196, 74.42802714,\n",
       "       52.89516434, 73.66830866, 18.26241788, 59.97173702, 56.48783589,\n",
       "       63.81246653, 34.7614161 , 42.45703139, 43.05193284, 49.45433387,\n",
       "       66.29559726, 83.51853914, 67.36705959, 35.02710141, 71.0357477 ,\n",
       "       66.6508678 , 74.21802085, 56.17317691, 18.23634133, 52.81691944,\n",
       "       67.30100622, 66.47814339, 75.194888  , 55.21723061, 39.13947559,\n",
       "       47.20595207, 49.66622052, 16.9830137 , 69.97110879, 42.11231854,\n",
       "       49.79186275, 49.40125903, 16.24753511, 25.85112239, 44.51709668,\n",
       "       53.84459301, 51.13492704, 51.29309728, 21.31238915, 79.63781992,\n",
       "       40.81132799, 58.82414291, 50.99218219, 75.80595792, 41.01043952,\n",
       "       35.8045147 , 26.18528361, 37.64340078, 44.79535257, 65.41348901,\n",
       "       62.00761101, 48.26658897, 44.42087445, 58.09898437, 42.91585021,\n",
       "       75.6166131 , 53.59270711, 51.59178227, 43.28587869, 41.53219492,\n",
       "       63.34118575, 66.13062224, 25.82747793, 71.25675845, 70.31531678,\n",
       "       64.55395966, 51.89672881, 58.19494585, 53.75797953, 37.92405204,\n",
       "       16.50561564, 53.60343129, 29.53368381, 61.36503152, 39.2118648 ,\n",
       "       59.16779743, 33.26491858, 52.03101016, 25.05863374, 45.82806445,\n",
       "       60.1855791 , 38.43961689, 45.31933664, 24.46692646, 33.68952583,\n",
       "       36.87016883, 58.52286651, 55.0978043 , 64.97899699, 64.88912877,\n",
       "       25.15104945, 62.26056634, 61.77263789, 52.50796364, 35.28586981,\n",
       "       21.47846389, 52.21271731, 58.54686207, 45.43335668, 74.93376044,\n",
       "       58.5355119 , 57.09280263, 30.03523024, 58.22929784, 46.69634966,\n",
       "       69.69203953, 58.43218341, 44.71680932, 51.01021259, 72.38392409,\n",
       "       54.29685476, 55.54052087, 42.57969439, 56.23268859, 55.86961266,\n",
       "       67.78920767, 41.75336898, 51.95434329, 55.08076902, 50.39888421,\n",
       "       46.28898341, 56.75423869, 31.51182156, 46.50646932, 72.23551356,\n",
       "       55.42468193, 42.26652597, 81.46054884, 62.70171066, 37.11434571,\n",
       "       77.21497534, 82.37483238, 35.79479054, 74.47792643, 39.82040204,\n",
       "       40.43780728, 47.84588211, 37.89767511, 45.88366939, 41.03481497,\n",
       "       74.20912382, 61.45218963, 68.6578794 , 42.88015721,  9.00378396,\n",
       "       53.51442513, 40.87550212, 35.12848078, 66.63944714, 45.63683663,\n",
       "       57.16042892, 66.07498786, 34.40946885, 56.11579987, 70.89353522,\n",
       "       49.6480935 , 63.8255829 , 42.99565721, 57.72485291, 65.49289004,\n",
       "       73.14303759, 47.05829915, 46.40239774, 71.28262519, 53.353466  ,\n",
       "       54.48240232, 60.48973504, 59.36045421, 51.27120927, 47.3815047 ,\n",
       "       43.57947522, 62.03035415, 40.49354867, 53.87544466, 48.377274  ,\n",
       "       58.4786959 , 44.13555768, 53.00776334, 36.29931437, 54.45785002,\n",
       "       45.36895263, 52.84874313, 30.2104755 , 36.02900488, 63.34760679,\n",
       "       19.71019549, 25.06283829, 49.06982208, 66.11633403, 59.94683379,\n",
       "       67.48240537, 52.12356345, 47.37185317, 46.57852337, 37.00939764,\n",
       "       58.49181802, 42.67350641, 49.86525688, 26.37813062, 54.45171151,\n",
       "       55.47596154, 60.48159713, 47.31323614, 57.81229803, 56.80040263,\n",
       "       61.24030076, 54.36648853, 56.65045571, 67.96267136, 43.18785362,\n",
       "       55.07366216, 40.18438429, 51.16081939, 61.75125503, 38.21987735,\n",
       "       32.07209945, 50.38762992, 45.79929397, 61.72015347, 78.76147219,\n",
       "       60.58457984, 64.10725355, 55.59823785, 74.30680801, 43.38654533,\n",
       "       24.96412253, 75.23748169, 58.25773518, 54.44803917, 42.76346887,\n",
       "       27.84715737, 38.97701222, 37.97366051, 65.5294618 , 50.7980065 ,\n",
       "       49.78850635, 72.36623493, 59.40145495, 56.32455252, 72.83542636,\n",
       "       55.7861276 , 42.35484595, 86.39739836, 45.04694786, 58.54543026,\n",
       "       82.90551038, 51.75145901, 33.09454317, 61.83694038, 35.00053354,\n",
       "       56.6585141 , 80.86188297, 69.68264731, 50.3844461 , 37.33712917,\n",
       "       72.63855269, 47.92721589, 60.31237058, 20.15144467, 31.36409229,\n",
       "       57.52696887, 58.36037588, 35.83458345, 73.62344748, 61.70287228])"
      ]
     },
     "execution_count": 67,
     "metadata": {},
     "output_type": "execute_result"
    }
   ],
   "source": [
    "data"
   ]
  },
  {
   "cell_type": "code",
   "execution_count": 68,
   "id": "16bb7a2c-7d03-42c7-a63d-d96be4add89d",
   "metadata": {},
   "outputs": [
    {
     "data": {
      "image/png": "[encoded data removed]",
      "text/plain": [
       "<Figure size 1000x600 with 1 Axes>"
      ]
     },
     "metadata": {},
     "output_type": "display_data"
    }
   ],
   "source": [
    "plt.figure(figsize=(10,6))\n",
    "plt.hist(data, bins=50)\n",
    "plt.title(\"Histogram\",fontsize = 20)\n",
    "plt.grid(color = 'gray', linewidth = 0.5)\n",
    "plt.show()"
   ]
  },
  {
   "cell_type": "markdown",
   "id": "f0d21f52-1058-4990-ae7d-5db3270bbc23",
   "metadata": {},
   "source": [
    "Q8. Using NumPy, create a 2D array and perform a slicing operation to extract a specific sub-array."
   ]
  },
  {
   "cell_type": "code",
   "execution_count": 69,
   "id": "f2daa5dd-6669-4169-ae9f-d186658ec7b2",
   "metadata": {},
   "outputs": [
    {
     "data": {
      "text/plain": [
       "array([[10,  1,  4,  6],\n",
       "       [ 8,  4,  5,  7],\n",
       "       [ 4,  4,  2,  8]])"
      ]
     },
     "execution_count": 69,
     "metadata": {},
     "output_type": "execute_result"
    }
   ],
   "source": [
    "arr = np.random.randint(1,11,(3,4))\n",
    "arr"
   ]
  },
  {
   "cell_type": "code",
   "execution_count": 70,
   "id": "372e01ba-3241-41a2-92b1-d2249579b8f8",
   "metadata": {},
   "outputs": [
    {
     "data": {
      "text/plain": [
       "array([[4, 5, 7],\n",
       "       [4, 2, 8]])"
      ]
     },
     "execution_count": 70,
     "metadata": {},
     "output_type": "execute_result"
    }
   ],
   "source": [
    "arr[1:,1:4] # submatrix of order 2*3 from right end"
   ]
  },
  {
   "cell_type": "markdown",
   "id": "779c744d-1afa-4027-ad7a-f04a7e7fe1c3",
   "metadata": {},
   "source": [
    "Q9. Using Pandas, perform a merge operation between two DataFrames based on a common column for dataset of your choice."
   ]
  },
  {
   "cell_type": "code",
   "execution_count": 71,
   "id": "50b2a8c4-f947-498f-992d-18d850c5c88d",
   "metadata": {},
   "outputs": [
    {
     "name": "stdout",
     "output_type": "stream",
     "text": [
      "   StudentID StudentName  Age       City  Subject  Score\n",
      "0        101        Amit   20      Delhi     Math   85.0\n",
      "1        102       Priya   22     Mumbai  Science   90.0\n",
      "2        103       Rahul   21  Bangalore  English   88.0\n",
      "3        104        Sita   23    Chennai      NaN    NaN\n"
     ]
    }
   ],
   "source": [
    "import pandas as pd\n",
    "\n",
    "# Creating the first DataFrame with student details\n",
    "students_data = {\n",
    "    'StudentID': [101, 102, 103, 104],\n",
    "    'StudentName': ['Amit', 'Priya', 'Rahul', 'Sita'],\n",
    "    'Age': [20, 22, 21, 23],\n",
    "    'City': ['Delhi', 'Mumbai', 'Bangalore', 'Chennai']\n",
    "}\n",
    "\n",
    "students_df = pd.DataFrame(students_data)\n",
    "\n",
    "# Creating the second DataFrame with exam scores\n",
    "exam_scores_data = {\n",
    "    'StudentID': [101, 102, 103, 105],\n",
    "    'Subject': ['Math', 'Science', 'English', 'Math'],\n",
    "    'Score': [85, 90, 88, 92]\n",
    "}\n",
    "\n",
    "exam_scores_df = pd.DataFrame(exam_scores_data)\n",
    "\n",
    "# Merging the two DataFrames on 'StudentID'\n",
    "merged_df = pd.merge(students_df, exam_scores_df, on='StudentID', how='left')\n",
    "\n",
    "# Displaying the merged DataFrame\n",
    "print(merged_df)"
   ]
  },
  {
   "cell_type": "markdown",
   "id": "4b6ea2be-c4ab-4aaf-8a4b-4fdf941e909c",
   "metadata": {},
   "source": [
    "Q10. Using Matplotlib, create a scatter plot comparing two numerical variables in the dataset of your choice. Customize the plot by changing the color and shape of the data points."
   ]
  },
  {
   "cell_type": "code",
   "execution_count": 72,
   "id": "ce4901f1-b1c3-46e0-916e-af941b3baae9",
   "metadata": {},
   "outputs": [
    {
     "data": {
      "text/html": [
       "<div>\n",
       "<style scoped>\n",
       "    .dataframe tbody tr th:only-of-type {\n",
       "        vertical-align: middle;\n",
       "    }\n",
       "\n",
       "    .dataframe tbody tr th {\n",
       "        vertical-align: top;\n",
       "    }\n",
       "\n",
       "    .dataframe thead th {\n",
       "        text-align: right;\n",
       "    }\n",
       "</style>\n",
       "<table border=\"1\" class=\"dataframe\">\n",
       "  <thead>\n",
       "    <tr style=\"text-align: right;\">\n",
       "      <th></th>\n",
       "      <th>Class</th>\n",
       "      <th>Score</th>\n",
       "    </tr>\n",
       "  </thead>\n",
       "  <tbody>\n",
       "    <tr>\n",
       "      <th>0</th>\n",
       "      <td>VI</td>\n",
       "      <td>97</td>\n",
       "    </tr>\n",
       "    <tr>\n",
       "      <th>1</th>\n",
       "      <td>VII</td>\n",
       "      <td>87</td>\n",
       "    </tr>\n",
       "    <tr>\n",
       "      <th>2</th>\n",
       "      <td>VIII</td>\n",
       "      <td>94</td>\n",
       "    </tr>\n",
       "    <tr>\n",
       "      <th>3</th>\n",
       "      <td>IX</td>\n",
       "      <td>88</td>\n",
       "    </tr>\n",
       "    <tr>\n",
       "      <th>4</th>\n",
       "      <td>X</td>\n",
       "      <td>95</td>\n",
       "    </tr>\n",
       "    <tr>\n",
       "      <th>5</th>\n",
       "      <td>XI</td>\n",
       "      <td>91</td>\n",
       "    </tr>\n",
       "    <tr>\n",
       "      <th>6</th>\n",
       "      <td>XII</td>\n",
       "      <td>93</td>\n",
       "    </tr>\n",
       "  </tbody>\n",
       "</table>\n",
       "</div>"
      ],
      "text/plain": [
       "  Class  Score\n",
       "0    VI     97\n",
       "1   VII     87\n",
       "2  VIII     94\n",
       "3    IX     88\n",
       "4     X     95\n",
       "5    XI     91\n",
       "6   XII     93"
      ]
     },
     "execution_count": 72,
     "metadata": {},
     "output_type": "execute_result"
    }
   ],
   "source": [
    "data = {\n",
    "    'Class': [\"VI\", \"VII\", \"VIII\", \"IX\", \"X\", \"XI\", \"XII\"],\n",
    "    'Score': [97, 87, 94, 88, 95, 91, 93]\n",
    "}\n",
    "\n",
    "df = pd.DataFrame(data)\n",
    "df"
   ]
  },
  {
   "cell_type": "code",
   "execution_count": 73,
   "id": "4ac98ce3-f30d-4e5c-89fa-b4715bfdc200",
   "metadata": {},
   "outputs": [
    {
     "data": {
      "image/png": "[encoded data removed]",
      "text/plain": [
       "<Figure size 800x600 with 1 Axes>"
      ]
     },
     "metadata": {},
     "output_type": "display_data"
    }
   ],
   "source": [
    "plt.figure(figsize=(8,6))\n",
    "plt.scatter(df['Class'],df['Score'],color='blue', marker='*', s=150, label='Data Points')\n",
    "\n",
    "plt.title('Scatter Plot: Class vs Score')\n",
    "plt.xlabel('Class')\n",
    "plt.ylabel('Score')\n",
    "plt.legend()\n",
    "plt.grid(alpha=0.5)\n",
    "\n",
    "plt.show()"
   ]
  },
  {
   "cell_type": "code",
   "execution_count": null,
   "id": "716017ea-0a25-4cc3-839d-108ef89ef439",
   "metadata": {},
   "outputs": [],
   "source": []
  },
  {
   "cell_type": "code",
   "execution_count": null,
   "id": "da620f01-ea2f-4f70-b75e-fac8c8c7fb66",
   "metadata": {},
   "outputs": [],
   "source": []
  }
 ],
 "metadata": {
  "kernelspec": {
   "display_name": "Python 3 (ipykernel)",
   "language": "python",
   "name": "python3"
  },
  "language_info": {
   "codemirror_mode": {
    "name": "ipython",
    "version": 3
   },
   "file_extension": ".py",
   "mimetype": "text/x-python",
   "name": "python",
   "nbconvert_exporter": "python",
   "pygments_lexer": "ipython3",
   "version": "3.12.7"
  }
 },
 "nbformat": 4,
 "nbformat_minor": 5
}
