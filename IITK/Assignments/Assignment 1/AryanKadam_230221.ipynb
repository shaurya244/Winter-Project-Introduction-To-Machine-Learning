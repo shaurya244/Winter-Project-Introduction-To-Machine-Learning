{
 "cells": [
  {
   "cell_type": "code",
   "execution_count": 3,
   "id": "a1601838",
   "metadata": {
    "vscode": {
     "languageId": "plaintext"
    }
   },
   "outputs": [],
   "source": [
    "import numpy as np  ; \n",
    "import matplotlib.pyplot as plt ; \n",
    "import pandas as pd \n",
    "from sklearn.datasets import load_iris"
   ]
  },
  {
   "cell_type": "markdown",
   "id": "497da1a4",
   "metadata": {},
   "source": [
    "### QUESTION 1"
   ]
  },
  {
   "cell_type": "code",
   "execution_count": 4,
   "id": "c1c20375",
   "metadata": {
    "vscode": {
     "languageId": "plaintext"
    }
   },
   "outputs": [
    {
     "name": "stdout",
     "output_type": "stream",
     "text": [
      "Original Array\n",
      "\n",
      " [[[ 57  12  12  44]\n",
      "  [ 96  56  25  61]\n",
      "  [ 34  45  55  70]\n",
      "  [ 12  22  67 100]]\n",
      "\n",
      " [[ 39  57   4  21]\n",
      "  [ 79  35  43  36]\n",
      "  [ 93  40   5  75]\n",
      "  [ 31  36  83  66]]\n",
      "\n",
      " [[ 10  76  44  13]\n",
      "  [ 26  14  25  23]\n",
      "  [ 71  61  93  27]\n",
      "  [ 48  70  54  85]]\n",
      "\n",
      " [[ 42  66  63   3]\n",
      "  [ 87  87  28  47]\n",
      "  [ 41  87  43  35]\n",
      "  [ 85  56  65  19]]]\n",
      "\n",
      "Z_Score normalized Array\n",
      "\n",
      " [[[ 0.32364027 -1.39290482 -1.39290482 -0.17225053]\n",
      "  [ 1.81131269  0.28549483 -0.89701402  0.47622206]\n",
      "  [-0.553705   -0.13410509  0.24734938  0.81953108]\n",
      "  [-1.39290482 -1.01145036  0.70509474  1.96389447]]\n",
      "\n",
      " [[-0.36297776  0.32364027 -1.69806839 -1.0495958 ]\n",
      "  [ 1.1628401  -0.51555955 -0.21039598 -0.4774141 ]\n",
      "  [ 1.69687635 -0.32483232 -1.65992295  1.01025831]\n",
      "  [-0.66814134 -0.4774141   1.31542188  0.66694929]]\n",
      "\n",
      " [[-1.46919571  1.04840376 -0.17225053 -1.35475937]\n",
      "  [-0.85886857 -1.31661393 -0.89701402 -0.97330491]\n",
      "  [ 0.85767652  0.47622206  1.69687635 -0.82072312]\n",
      "  [-0.01966875  0.81953108  0.20920393  1.39171278]]\n",
      "\n",
      " [[-0.24854142  0.66694929  0.55251295 -1.73621384]\n",
      "  [ 1.46800367  1.46800367 -0.78257768 -0.05781419]\n",
      "  [-0.28668687  1.46800367 -0.21039598 -0.51555955]\n",
      "  [ 1.39171278  0.28549483  0.62880384 -1.12588669]]]\n"
     ]
    }
   ],
   "source": [
    "# Created a 3D array of size 4*4*4 with values in the range 1 - 100\n",
    "a = np.random.randint(1,101,size=(4,4,4)) ; \n",
    "\n",
    "# Z-Score of an element =  (element - mean)/(standard_deviation)\n",
    "\n",
    "# Calculating the mean and standard deviation of the array\n",
    "mean = np.mean(a) ; \n",
    "st_dev = np.std(a) ;\n",
    "\n",
    "z_score = (a - mean)/st_dev ;  # z_score array with the normalized values of each element\n",
    "\n",
    "print(\"Original Array\\n\\n\",a) ; \n",
    "print(\"\\nZ_Score normalized Array\\n\\n\",z_score) ; "
   ]
  },
  {
   "cell_type": "markdown",
   "id": "28542e3a",
   "metadata": {},
   "source": [
    "### QUESTION 2"
   ]
  },
  {
   "cell_type": "code",
   "execution_count": 5,
   "id": "491bcc92",
   "metadata": {
    "vscode": {
     "languageId": "plaintext"
    }
   },
   "outputs": [
    {
     "name": "stdout",
     "output_type": "stream",
     "text": [
      "Index(['sepal length (cm)', 'sepal width (cm)', 'petal length (cm)',\n",
      "       'petal width (cm)'],\n",
      "      dtype='object') \n",
      "\n",
      "\n",
      "      sepal length (cm)  sepal width (cm)  petal length (cm)  petal width (cm)\n",
      "50                 7.0               3.2                4.7               1.4\n",
      "51                 6.4               3.2                4.5               1.5\n",
      "52                 6.9               3.1                4.9               1.5\n",
      "53                 5.5               2.3                4.0               1.3\n",
      "54                 6.5               2.8                4.6               1.5\n",
      "..                 ...               ...                ...               ...\n",
      "145                6.7               3.0                5.2               2.3\n",
      "146                6.3               2.5                5.0               1.9\n",
      "147                6.5               3.0                5.2               2.0\n",
      "148                6.2               3.4                5.4               2.3\n",
      "149                5.9               3.0                5.1               1.8\n",
      "\n",
      "[99 rows x 4 columns]\n"
     ]
    }
   ],
   "source": [
    "# Loading the Iris dataset\n",
    "iris = load_iris() ; \n",
    "iris_df = pd.DataFrame(data=iris.data, columns=iris.feature_names) ; \n",
    "print(iris_df.columns,\"\\n\") ; # To check what are the names of the columns in the dataset\n",
    "\n",
    "# Filtering the rows where petal length is greater than 3\n",
    "filtered_data = iris_df[iris_df['petal length (cm)']>3] ; \n",
    "\n",
    "# Filtered Data\n",
    "print(\"\\n\",filtered_data) ; "
   ]
  },
  {
   "cell_type": "markdown",
   "id": "d0bcd6c8",
   "metadata": {},
   "source": [
    "### QUESTION 3"
   ]
  },
  {
   "cell_type": "code",
   "execution_count": 6,
   "id": "fe94de76",
   "metadata": {
    "vscode": {
     "languageId": "plaintext"
    }
   },
   "outputs": [
    {
     "data": {
      "image/png": "[encoded data removed]",
      "text/plain": [
       "<Figure size 640x480 with 1 Axes>"
      ]
     },
     "metadata": {},
     "output_type": "display_data"
    }
   ],
   "source": [
    "# Dataset a and b having x and y axis data respectively\n",
    "a = [1,2,3,4,5,6,7] ; \n",
    "b = [3,11,23,12,112,90,52] ; \n",
    "\n",
    "# Create the plot\n",
    "plt.plot(a,b,label='Graph',color = \"red\",marker = 'o') ; \n",
    "\n",
    "# Title, axis labels and legend \n",
    "plt.title('Trend of Numerical Dataset')\n",
    "plt.xlabel('a') ; \n",
    "plt.ylabel('b') ; \n",
    "plt.legend() \n",
    "\n",
    "# Final graph\n",
    "plt.show() ; \n"
   ]
  },
  {
   "cell_type": "markdown",
   "id": "f4e7736a",
   "metadata": {},
   "source": [
    "### QUESTION 4"
   ]
  },
  {
   "cell_type": "code",
   "execution_count": 7,
   "id": "c2d2e70e",
   "metadata": {
    "vscode": {
     "languageId": "plaintext"
    }
   },
   "outputs": [
    {
     "name": "stdout",
     "output_type": "stream",
     "text": [
      "           1         2         3         4         5\n",
      "0   0.394190  0.468394  0.779019  0.339235  0.059285\n",
      "1   0.175485  0.950459  0.094503  0.479950  0.651949\n",
      "2   0.834266  0.819345  0.218687  0.362061  0.718741\n",
      "3   0.752027  0.184915  0.131237  0.291094  0.618573\n",
      "4   0.456058  0.668019  0.256010  0.015226  0.607650\n",
      "5   0.491509  0.295262  0.357550  0.499570  0.642929\n",
      "6   0.971025  0.452826  0.288944  0.387930       NaN\n",
      "7   0.946401  0.377250  0.168540  0.213614  0.471188\n",
      "8   0.128334  0.526535  0.353351       NaN  0.440458\n",
      "9   0.243647  0.435321  0.161882  0.709830  0.365669\n",
      "10  0.985079  0.481970  0.235204  0.870467  0.139782\n",
      "11  0.182709  0.908690  0.617701  0.080188  0.370494\n",
      "12  0.526306  0.442594  0.882639  0.402673  0.441459\n",
      "13  0.141115  0.814572  0.330635  0.599134  0.219941\n",
      "14  0.410151  0.403791  0.366381  0.132637  0.283113 \n",
      "\n",
      "           1         2         3         4         5\n",
      "0   0.394190  0.468394  0.779019  0.339235  0.059285\n",
      "1   0.175485  0.950459  0.094503  0.479950  0.651949\n",
      "2   0.834266  0.819345  0.218687  0.362061  0.718741\n",
      "3   0.752027  0.184915  0.131237  0.291094  0.618573\n",
      "4   0.456058  0.668019  0.256010  0.015226  0.607650\n",
      "5   0.491509  0.295262  0.357550  0.499570  0.642929\n",
      "6   0.971025  0.452826  0.288944  0.387930  0.430802\n",
      "7   0.946401  0.377250  0.168540  0.213614  0.471188\n",
      "8   0.128334  0.526535  0.353351  0.384544  0.440458\n",
      "9   0.243647  0.435321  0.161882  0.709830  0.365669\n",
      "10  0.985079  0.481970  0.235204  0.870467  0.139782\n",
      "11  0.182709  0.908690  0.617701  0.080188  0.370494\n",
      "12  0.526306  0.442594  0.882639  0.402673  0.441459\n",
      "13  0.141115  0.814572  0.330635  0.599134  0.219941\n",
      "14  0.410151  0.403791  0.366381  0.132637  0.283113 \n",
      "\n",
      "           1         2         3         4         5\n",
      "3   0.752027  0.184915  0.131237  0.291094  0.618573\n",
      "5   0.491509  0.295262  0.357550  0.499570  0.642929\n",
      "7   0.946401  0.377250  0.168540  0.213614  0.471188\n",
      "14  0.410151  0.403791  0.366381  0.132637  0.283113\n",
      "9   0.243647  0.435321  0.161882  0.709830  0.365669\n",
      "12  0.526306  0.442594  0.882639  0.402673  0.441459\n",
      "6   0.971025  0.452826  0.288944  0.387930  0.430802\n",
      "0   0.394190  0.468394  0.779019  0.339235  0.059285\n",
      "10  0.985079  0.481970  0.235204  0.870467  0.139782\n",
      "8   0.128334  0.526535  0.353351  0.384544  0.440458\n",
      "4   0.456058  0.668019  0.256010  0.015226  0.607650\n",
      "13  0.141115  0.814572  0.330635  0.599134  0.219941\n",
      "2   0.834266  0.819345  0.218687  0.362061  0.718741\n",
      "11  0.182709  0.908690  0.617701  0.080188  0.370494\n",
      "1   0.175485  0.950459  0.094503  0.479950  0.651949\n"
     ]
    }
   ],
   "source": [
    "# Creating a data frame with random values and NaN values\n",
    "data = np.random.rand(15,5)   ; \n",
    "data[8,3] = np.nan ;\n",
    "data[6,4] = np.nan ;\n",
    "\n",
    "df = pd.DataFrame(data,columns=['1','2','3','4','5']) ; \n",
    "print(df,\"\\n\") ; \n",
    "\n",
    "# Filling the mean of the column instead of NaN values\n",
    "df.fillna(df.mean(),inplace=True) ; \n",
    "print(df,\"\\n\") ; \n",
    "\n",
    "# Sorting the dataframe based on columns 2 and 4  \n",
    "df_sorted = df.sort_values(by=['2','4']) ; \n",
    "\n",
    "# Final dataframe\n",
    "print(df_sorted) ; \n"
   ]
  },
  {
   "cell_type": "markdown",
   "id": "eac1fd59",
   "metadata": {},
   "source": [
    "### QUESTION 5"
   ]
  },
  {
   "cell_type": "code",
   "execution_count": 8,
   "id": "76365c35",
   "metadata": {
    "vscode": {
     "languageId": "plaintext"
    }
   },
   "outputs": [
    {
     "name": "stdout",
     "output_type": "stream",
     "text": [
      "Matrix a\n",
      " [[ 5  6  1]\n",
      " [ 3 10  1]\n",
      " [ 8  9  4]]\n",
      "\n",
      "Matrix b\n",
      " [[ 1  9  6]\n",
      " [10  7  5]\n",
      " [ 2 10  6]]\n",
      "\n",
      "The dot product of two matrices a and b is\n",
      " [[ 67  97  66]\n",
      " [105 107  74]\n",
      " [106 175 117]]\n",
      "\n",
      "The determiner of the resulting matrix is  4523.999999999999\n"
     ]
    }
   ],
   "source": [
    "# Inorder to calculate the determinant the resulting matrix should be square\n",
    "# Thus I took square matrices to begin with to make life easy\n",
    "# Creating two random matrices a and b \n",
    "a = np.random.randint(1,11,size=(3,3)) ; \n",
    "b = np.random.randint(1,11,size=(3,3)) ;\n",
    "print(\"Matrix a\\n\",a) ; \n",
    "print(\"\\nMatrix b\\n\",b) ; \n",
    "c = np.dot(a, b) ; \n",
    "print(\"\\nThe dot product of two matrices a and b is\\n\",c) ; \n",
    "\n",
    "# Determiner of c\n",
    "det_c = np.linalg.det(c) ; \n",
    "print(\"\\nThe determiner of the resulting matrix is \",det_c) ; "
   ]
  },
  {
   "cell_type": "markdown",
   "id": "cf2f89e1",
   "metadata": {},
   "source": [
    "### QUESTION 6"
   ]
  },
  {
   "cell_type": "code",
   "execution_count": 12,
   "id": "1a6ae7c3",
   "metadata": {
    "vscode": {
     "languageId": "plaintext"
    }
   },
   "outputs": [
    {
     "name": "stdout",
     "output_type": "stream",
     "text": [
      "Category\n",
      "1    130\n",
      "2    250\n",
      "3     90\n",
      "4    210\n",
      "5     80\n",
      "Name: Value, dtype: int64\n"
     ]
    }
   ],
   "source": [
    "# Creating a random dataset\n",
    "dataset = {\n",
    "    'Category': ['1','2','3','1','2','3','2','1','5','4','4','2'],\n",
    "    'Value': [10,20,30,40,50,60,70,80,80,100,110,110] \n",
    "}\n",
    "# Converting the dataset to a dataframe\n",
    "df = pd.DataFrame(dataset) ; \n",
    "\n",
    "# Grouping based on category and value and calculation of the sum of each category\n",
    "groupiwse_data = df.groupby('Category')['Value'].sum()\n",
    "\n",
    "# Final categorical data\n",
    "print(groupiwse_data) \n"
   ]
  },
  {
   "cell_type": "markdown",
   "id": "39b93083",
   "metadata": {},
   "source": [
    "### QUESTION 7"
   ]
  },
  {
   "cell_type": "code",
   "execution_count": 9,
   "id": "b10f513b",
   "metadata": {
    "vscode": {
     "languageId": "plaintext"
    }
   },
   "outputs": [
    {
     "name": "stdout",
     "output_type": "stream",
     "text": [
      "Matrix a\n",
      " [[8 6 5 5 1 4]\n",
      " [9 2 8 4 8 7]\n",
      " [4 3 5 9 8 8]\n",
      " [9 4 1 6 8 6]\n",
      " [6 4 4 5 3 1]\n",
      " [9 6 7 1 1 6]]\n",
      "\n",
      "The extracted subarray\n",
      " [[8 4 8 7]\n",
      " [5 9 8 8]\n",
      " [1 6 8 6]\n",
      " [4 5 3 1]]\n"
     ]
    }
   ],
   "source": [
    "# Creating a 2D array of size 6*6\n",
    "a = np.random.randint(1,10,size=(6,6)) ; \n",
    "print(\"Matrix a\\n\",a) ; \n",
    "\n",
    "#Slicing operation\n",
    "# extracting the subarray with rows from 2 to 5 and columns from 3 to 6 ; \n",
    "b = a[1:5,2:6] ;  # indexing is zero based in python the range of rows and columns is [x,y) where y is exclusive and x is inclusive\n",
    "\n",
    "print(\"\\nThe extracted subarray\\n\",b) ;\n",
    "\n"
   ]
  },
  {
   "cell_type": "markdown",
   "id": "00a379e3",
   "metadata": {},
   "source": [
    "### QUESTION 8"
   ]
  },
  {
   "cell_type": "code",
   "execution_count": 14,
   "id": "0412ccd9",
   "metadata": {
    "vscode": {
     "languageId": "plaintext"
    }
   },
   "outputs": [
    {
     "data": {
      "image/png": "[encoded data removed]",
      "text/plain": [
       "<Figure size 640x480 with 1 Axes>"
      ]
     },
     "metadata": {},
     "output_type": "display_data"
    }
   ],
   "source": [
    "# Dataset\n",
    "a = np.random.randint(1,50,500) ;\n",
    "\n",
    "# Create the histogram\n",
    "plt.hist(a,bins=20,edgecolor='black') ; \n",
    "\n",
    "# Add a title and axis labels\n",
    "plt.title('Histogram') ; \n",
    "plt.xlabel('Value') ; \n",
    "plt.ylabel('Frequency') ; \n",
    "\n",
    "# Adding grid lines\n",
    "plt.grid(True,linestyle='--') ; \n",
    "\n",
    "# Final Histogram\n",
    "plt.show() ; \n"
   ]
  },
  {
   "cell_type": "markdown",
   "id": "ce89f0fd",
   "metadata": {},
   "source": [
    "## QUESTION 9"
   ]
  },
  {
   "cell_type": "code",
   "execution_count": 13,
   "id": "e16dc6f3",
   "metadata": {
    "vscode": {
     "languageId": "plaintext"
    }
   },
   "outputs": [
    {
     "name": "stdout",
     "output_type": "stream",
     "text": [
      "   Roll.No     Name Branch  Code\n",
      "0   230221    Aryan    CHE    11\n",
      "1   230103   Akshat     ME    23\n",
      "2   230123   Chetan     MS    21\n",
      "3   231123  Utkarsh    ECO    42\n"
     ]
    }
   ],
   "source": [
    "# Dataset containing student information\n",
    "student_info = {\n",
    "    'Roll.No': [230221,230103,230123,231123,],\n",
    "    'Name': ['Aryan', 'Akshat', 'Chetan', 'Utkarsh'],\n",
    "    'Branch' : ['CHE','ME','MS','ECO']\n",
    "}\n",
    "\n",
    "# Converting to dataframe\n",
    "students = pd.DataFrame(student_info) ; \n",
    "\n",
    "# dataset containing branch information\n",
    "branch_info = {\n",
    "    'Branch' : ['CHE','ME','MS','ECO'] , \n",
    "    'Code': [11,23,21,42] \n",
    "}\n",
    "\n",
    "# Converting to dataframe\n",
    "branch = pd.DataFrame(branch_info) ; \n",
    "\n",
    "# merge operation based on common column 'Branch'\n",
    "merged = pd.merge(students,branch, on='Branch') ; \n",
    "\n",
    "# Merged dataset\n",
    "print(merged) ;"
   ]
  },
  {
   "cell_type": "markdown",
   "id": "d8f4c9b0",
   "metadata": {},
   "source": [
    "### QUESTION 10"
   ]
  },
  {
   "cell_type": "code",
   "execution_count": 11,
   "id": "5423a3a5",
   "metadata": {
    "vscode": {
     "languageId": "plaintext"
    }
   },
   "outputs": [
    {
     "data": {
      "image/png": "[encoded data removed]",
      "text/plain": [
       "<Figure size 640x480 with 1 Axes>"
      ]
     },
     "metadata": {},
     "output_type": "display_data"
    }
   ],
   "source": [
    "# Creating the datasets to be represented by the scatter plot \n",
    "a = np.random.randint(1,101,100) ; # value on the x-axis\n",
    "b = np.random.randint(1,51,100) ; # value on the y-axis\n",
    "\n",
    "# Create the scatter plot\n",
    "plt.scatter(a,b, color='blue',marker='*',label='Scatter Plot')\n",
    "\n",
    "# Title , axis labels \n",
    "plt.title(\"Scatter Plot\") ; \n",
    "plt.xlabel('a') ; \n",
    "plt.ylabel('b')\n",
    "\n",
    "# Final Plot\n",
    "plt.show() ; \n",
    "\n"
   ]
  }
 ],
 "metadata": {
  "kernelspec": {
   "display_name": "Python 3 (ipykernel)",
   "language": "python",
   "name": "python3"
  },
  "language_info": {
   "codemirror_mode": {
    "name": "ipython",
    "version": 3
   },
   "file_extension": ".py",
   "mimetype": "text/x-python",
   "name": "python",
   "nbconvert_exporter": "python",
   "pygments_lexer": "ipython3",
   "version": "3.12.7"
  }
 },
 "nbformat": 4,
 "nbformat_minor": 5
}
