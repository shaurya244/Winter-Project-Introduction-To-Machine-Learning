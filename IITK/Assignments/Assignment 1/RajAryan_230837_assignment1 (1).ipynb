{
 "cells": [
  {
   "cell_type": "code",
   "execution_count": 2,
   "id": "74a930a0-9313-4373-914b-469db55d5bf5",
   "metadata": {},
   "outputs": [],
   "source": [
    "import numpy as np  ; \n",
    "import matplotlib.pyplot as plt ; \n",
    "import pandas as pd \n",
    "from sklearn.datasets import load_iris"
   ]
  },
  {
   "cell_type": "markdown",
   "id": "b06db01c-ac3b-4c96-bfe9-cee58e1a74ef",
   "metadata": {},
   "source": [
    "**Question 1. Using NumPy, create a 3D array of shape (4, 4, 4) filled with random numbers between 1 and 100. Find the z score normalisation of each element of the array.**"
   ]
  },
  {
   "cell_type": "code",
   "execution_count": 4,
   "id": "c39af8e7-23de-4d60-9c8c-b29764edcef0",
   "metadata": {},
   "outputs": [
    {
     "name": "stdout",
     "output_type": "stream",
     "text": [
      "3D Array: \n",
      " [[[ 73  55  78  57]\n",
      "  [ 86  67  93 100]\n",
      "  [ 34  41   3  98]\n",
      "  [100  32  70 100]]\n",
      "\n",
      " [[ 48  58  42  77]\n",
      "  [ 38  16  92  79]\n",
      "  [ 96  88   1  65]\n",
      "  [ 35  48  63  48]]\n",
      "\n",
      " [[ 97  47  76   0]\n",
      "  [ 67   7  98  94]\n",
      "  [100  85  63  19]\n",
      "  [ 20  95  97  47]]\n",
      "\n",
      " [[ 93  67  84  12]\n",
      "  [ 15  16  41  39]\n",
      "  [ 22   8  15  84]\n",
      "  [ 84  78  93  13]]]\n",
      "\n",
      "Z score normalisation:\n",
      " [[[ 0.45359999 -0.11748983  0.61223605 -0.05403541]\n",
      "  [ 0.86605375  0.26323671  1.08814423  1.31023472]\n",
      "  [-0.78376129 -0.5616708  -1.76730487  1.24678029]\n",
      "  [ 1.31023472 -0.84721571  0.35841835  1.31023472]]\n",
      "\n",
      " [[-0.33958032 -0.0223082  -0.52994359  0.58050884]\n",
      "  [-0.65685244 -1.35485111  1.05641702  0.64396326]\n",
      "  [ 1.18332587  0.92950817 -1.83075929  0.19978229]\n",
      "  [-0.75203408 -0.33958032  0.13632786 -0.33958032]]\n",
      "\n",
      " [[ 1.21505308 -0.37130753  0.54878162 -1.8624865 ]\n",
      "  [ 0.26323671 -1.64039602  1.24678029  1.11987144]\n",
      "  [ 1.31023472  0.83432653  0.13632786 -1.25966947]\n",
      "  [-1.22794226  1.15159866  1.21505308 -0.37130753]]\n",
      "\n",
      " [[ 1.08814423  0.26323671  0.80259932 -1.48175996]\n",
      "  [-1.38657832 -1.35485111 -0.5616708  -0.62512523]\n",
      "  [-1.16448783 -1.60866881 -1.38657832  0.80259932]\n",
      "  [ 0.80259932  0.61223605  1.08814423 -1.45003274]]]\n"
     ]
    }
   ],
   "source": [
    "# 3d array\n",
    "arr_3d = np.random.randint(0,101,(4,4,4))\n",
    "# Z score normalisation\n",
    "mean = np.mean(arr_3d)\n",
    "std_dev = np.std(arr_3d)\n",
    "\n",
    "z_score = (arr_3d-mean)/std_dev\n",
    "print(\"3D Array: \\n\", arr_3d)\n",
    "print(\"\\nZ score normalisation:\\n\",z_score)"
   ]
  },
  {
   "cell_type": "markdown",
   "id": "1642379f-6b0d-4683-a273-d4984e3d1758",
   "metadata": {},
   "source": [
    "**Question 2. Using Pandas, filter the rows in the Iris dataset where the petal length is greater than 3.0, and display the filtered data** "
   ]
  },
  {
   "cell_type": "code",
   "execution_count": 7,
   "id": "ccf5d1a3-c248-41bf-bd99-5ffcd7966977",
   "metadata": {},
   "outputs": [
    {
     "name": "stdout",
     "output_type": "stream",
     "text": [
      "     sepal length (cm)  sepal width (cm)  petal length (cm)  petal width (cm)  \\\n",
      "50                 7.0               3.2                4.7               1.4   \n",
      "51                 6.4               3.2                4.5               1.5   \n",
      "52                 6.9               3.1                4.9               1.5   \n",
      "53                 5.5               2.3                4.0               1.3   \n",
      "54                 6.5               2.8                4.6               1.5   \n",
      "..                 ...               ...                ...               ...   \n",
      "145                6.7               3.0                5.2               2.3   \n",
      "146                6.3               2.5                5.0               1.9   \n",
      "147                6.5               3.0                5.2               2.0   \n",
      "148                6.2               3.4                5.4               2.3   \n",
      "149                5.9               3.0                5.1               1.8   \n",
      "\n",
      "     target  \n",
      "50        1  \n",
      "51        1  \n",
      "52        1  \n",
      "53        1  \n",
      "54        1  \n",
      "..      ...  \n",
      "145       2  \n",
      "146       2  \n",
      "147       2  \n",
      "148       2  \n",
      "149       2  \n",
      "\n",
      "[99 rows x 5 columns]\n"
     ]
    }
   ],
   "source": [
    "iris = load_iris(as_frame=True)\n",
    "iris_data = iris.frame\n",
    "\n",
    "filtered_data = iris_data[iris_data[\"petal length (cm)\"]>3.0]\n",
    "print(filtered_data)"
   ]
  },
  {
   "cell_type": "markdown",
   "id": "3e400988-e650-45ad-9d77-6322fce7a1db",
   "metadata": {},
   "source": [
    "**Question 3. Using Matplotlib, plot a line graph showing the trend of a numerical dataset. Customize the plot with title, axis labels, and a legend.**"
   ]
  },
  {
   "cell_type": "code",
   "execution_count": 11,
   "id": "7b18a3b1-2479-45c5-a0bc-b9a3c462d24e",
   "metadata": {},
   "outputs": [
    {
     "data": {
      "image/png": "[encoded data removed]",
      "text/plain": [
       "<Figure size 640x480 with 1 Axes>"
      ]
     },
     "metadata": {},
     "output_type": "display_data"
    }
   ],
   "source": [
    "# Dataset a and b having x and y axis data respectively\n",
    "a = [1,2,3,4,5,6,7] ; \n",
    "b = [10,12,28,34,98,115,134] ; \n",
    "\n",
    "# Create the plot\n",
    "plt.plot(a,b,label='Data Trend',color = \"blue\",marker = 'o') ; \n",
    "\n",
    "# Title, axis labels and legend \n",
    "plt.title('Trend of Numerical Dataset')\n",
    "plt.xlabel('a') ; \n",
    "plt.ylabel('b') ; \n",
    "plt.legend() \n",
    "\n",
    "# Final graph\n",
    "plt.show() ; "
   ]
  },
  {
   "cell_type": "markdown",
   "id": "c8e26a9c-7626-40c9-acd8-a76bf60377f5",
   "metadata": {},
   "source": [
    "**Question 4.Create a Pandas DataFrame with random values with at least 3 columns and perform the following operations: (i) Replace NaN values with the mean of the column. (ii) Sort the DataFrame based on any two columns.**"
   ]
  },
  {
   "cell_type": "code",
   "execution_count": 12,
   "id": "2474e8de-1c59-483c-9a83-863a962b7b0f",
   "metadata": {},
   "outputs": [
    {
     "name": "stdout",
     "output_type": "stream",
     "text": [
      "Original DataFrame:\n",
      "          A         B         C\n",
      "0  0.496714 -0.463418  1.465649\n",
      "1 -0.138264 -0.465730       NaN\n",
      "2  0.647689       NaN  0.067528\n",
      "3       NaN -1.913280       NaN\n",
      "4 -0.234153 -1.724918 -0.544383\n",
      "5 -0.234137       NaN  0.110923\n",
      "6       NaN -1.012831 -1.150994\n",
      "7  0.767435  0.314247       NaN\n",
      "8       NaN -0.908024 -0.600639\n",
      "9  0.542560 -1.412304 -0.291694\n",
      "\n",
      "DataFrame after replacing NaN with column means:\n",
      "          A         B         C\n",
      "0  0.496714 -0.463418  1.465649\n",
      "1 -0.138264 -0.465730 -0.134801\n",
      "2  0.647689 -0.948282  0.067528\n",
      "3  0.263978 -1.913280 -0.134801\n",
      "4 -0.234153 -1.724918 -0.544383\n",
      "5 -0.234137 -0.948282  0.110923\n",
      "6  0.263978 -1.012831 -1.150994\n",
      "7  0.767435  0.314247 -0.134801\n",
      "8  0.263978 -0.908024 -0.600639\n",
      "9  0.542560 -1.412304 -0.291694\n",
      "\n",
      "Sorted DataFrame (by 'A' and 'B'):\n",
      "          A         B         C\n",
      "0 -0.234153 -1.724918 -0.544383\n",
      "1 -0.234137 -0.948282  0.110923\n",
      "2 -0.138264 -0.465730 -0.134801\n",
      "3  0.263978 -1.913280 -0.134801\n",
      "4  0.263978 -1.012831 -1.150994\n",
      "5  0.263978 -0.908024 -0.600639\n",
      "6  0.496714 -0.463418  1.465649\n",
      "7  0.542560 -1.412304 -0.291694\n",
      "8  0.647689 -0.948282  0.067528\n",
      "9  0.767435  0.314247 -0.134801\n"
     ]
    }
   ],
   "source": [
    "# random values and some NaN\n",
    "np.random.seed(42)  # For reproducibility\n",
    "data = {\n",
    "    'A': np.random.randn(10),\n",
    "    'B': np.random.randn(10),\n",
    "    'C': np.random.randn(10)\n",
    "}\n",
    "df = pd.DataFrame(data)\n",
    "\n",
    "# Introducing some NaN values\n",
    "df.loc[[3, 6, 8], 'A'] = np.nan\n",
    "df.loc[[2, 5], 'B'] = np.nan\n",
    "df.loc[[1, 3, 7], 'C'] = np.nan\n",
    "\n",
    "print(\"Original DataFrame:\")\n",
    "print(df)\n",
    "\n",
    "# Replacing NaN values with the mean of their respective columns\n",
    "df.fillna(df.mean(), inplace=True)\n",
    "\n",
    "#DataFrame after replacing NaN\n",
    "print(\"\\nDataFrame after replacing NaN with column means:\")\n",
    "print(df)\n",
    "# Sorting the DataFrame based on columns 'A' and 'B'\n",
    "df_sorted = df.sort_values(by=['A', 'B']).reset_index(drop=True)\n",
    "\n",
    "# Display sorted DataFrame\n",
    "print(\"\\nSorted DataFrame (by 'A' and 'B'):\")\n",
    "print(df_sorted)"
   ]
  },
  {
   "cell_type": "markdown",
   "id": "eba34cce-e909-4b29-b2c4-f9334489a744",
   "metadata": {},
   "source": [
    "**Question 5. Using NumPy, calculate the dot product of two matrices and find the determinant of the resulting matrix.**"
   ]
  },
  {
   "cell_type": "code",
   "execution_count": 13,
   "id": "01e266f4-014b-42f5-9682-b50d91ed8cbe",
   "metadata": {},
   "outputs": [
    {
     "name": "stdout",
     "output_type": "stream",
     "text": [
      "Matrix 1:\n",
      "[[4 7 8]\n",
      " [3 1 4]\n",
      " [2 8 4]]\n",
      "\n",
      "Matrix 2:\n",
      "[[2 6 6]\n",
      " [4 6 2]\n",
      " [2 4 8]]\n",
      "\n",
      "Product Matrix:\n",
      "[[ 52  98 102]\n",
      " [ 18  40  52]\n",
      " [ 44  76  60]]\n",
      "\n",
      "Determinant of the Product Matrix:\n",
      "-2303.999999999995\n"
     ]
    }
   ],
   "source": [
    "matrix1 = np.random.randint(1, 10, size=(3, 3))\n",
    "matrix2 = np.random.randint(1, 10, size=(3, 3))\n",
    "\n",
    "product_matrix = np.dot(matrix1, matrix2)\n",
    "\n",
    "determinant = np.linalg.det(product_matrix)\n",
    "\n",
    "print(\"Matrix 1:\")\n",
    "print(matrix1)\n",
    "print(\"\\nMatrix 2:\")\n",
    "print(matrix2)\n",
    "print(\"\\nProduct Matrix:\")\n",
    "print(product_matrix)\n",
    "print(\"\\nDeterminant of the Product Matrix:\")\n",
    "print(determinant)"
   ]
  },
  {
   "cell_type": "markdown",
   "id": "76c543a0-702e-4733-adae-3d802f387414",
   "metadata": {},
   "source": [
    "**Question 6. With Pandas, group a DataFrame by a categorical column and calculate the sum of another numerical column for each group.**"
   ]
  },
  {
   "cell_type": "code",
   "execution_count": 18,
   "id": "d2d55092-99d7-4836-ae06-3ac159906b4a",
   "metadata": {},
   "outputs": [
    {
     "name": "stdout",
     "output_type": "stream",
     "text": [
      "Column\n",
      "A    110\n",
      "B    150\n",
      "C    100\n",
      "Name: Values, dtype: int64\n"
     ]
    }
   ],
   "source": [
    "# Create a dataframe\n",
    "data = {\n",
    "    'Column':['A', 'B', 'A', 'C', 'B', 'C', 'A','B'],\n",
    "    'Values': [10, 20, 30, 40, 50, 60, 70, 80]\n",
    "}\n",
    "\n",
    "df = pd.DataFrame(data)\n",
    "\n",
    "\n",
    "grouped = df.groupby('Column')['Values'].sum()\n",
    "\n",
    "#result\n",
    "print(grouped)"
   ]
  },
  {
   "cell_type": "markdown",
   "id": "88e95fe7-0ec9-482a-bc98-57d27026f96d",
   "metadata": {},
   "source": [
    "**Question 7. Using Matplotlib, create a histogram to show the distribution of a numerical dataset. Customize the number of bins and add grid lines for better readability.**"
   ]
  },
  {
   "cell_type": "code",
   "execution_count": 25,
   "id": "f7f52dd9-fb01-4df1-a6ac-14122b04fb6d",
   "metadata": {},
   "outputs": [
    {
     "data": {
      "image/png": "[encoded data removed]",
      "text/plain": [
       "<Figure size 640x480 with 1 Axes>"
      ]
     },
     "metadata": {},
     "output_type": "display_data"
    }
   ],
   "source": [
    "#a random numerical dataset\n",
    "data = np.random.randn(1000)\n",
    "\n",
    "#a histogram\n",
    "plt.hist(data, bins=16, color='orange')\n",
    "\n",
    "# Add grid lines\n",
    "plt.grid(True)\n",
    "\n",
    "# Add labels and title\n",
    "plt.xlabel('Scores')\n",
    "plt.ylabel('Frequency')\n",
    "plt.title('Histogram of Random Data')\n",
    "\n",
    "#plot\n",
    "plt.show()"
   ]
  },
  {
   "cell_type": "markdown",
   "id": "52609eab-52ac-404d-93b1-d2439d3a95e1",
   "metadata": {},
   "source": [
    "**Question 8. Using NumPy, create a 2D array and perform a slicing operation to extract a specific sub-array.**"
   ]
  },
  {
   "cell_type": "code",
   "execution_count": 26,
   "id": "0e30cac7-58e4-44bf-a56d-ec19534d5f60",
   "metadata": {},
   "outputs": [
    {
     "name": "stdout",
     "output_type": "stream",
     "text": [
      "[[6 6 2]\n",
      " [4 8 8]\n",
      " [8 8 1]]\n",
      "[[8 8]\n",
      " [8 1]]\n"
     ]
    }
   ],
   "source": [
    "arr = np.random.randint(1, 10, size=(3, 3))\n",
    "# Extract a sub-array\n",
    "sub_arr = arr[1:, 1:]\n",
    "\n",
    "print(arr)\n",
    "print(sub_arr)"
   ]
  },
  {
   "cell_type": "markdown",
   "id": "58dc00f6-4198-4ff8-80dc-518cd36e1634",
   "metadata": {},
   "source": [
    "**Question 9. Using Pandas, perform a merge operation between two DataFrames based on a common column for dataset of your choice.**"
   ]
  },
  {
   "cell_type": "code",
   "execution_count": 31,
   "id": "51244950-a29c-4b23-aaf9-3dc4c0be7fbf",
   "metadata": {},
   "outputs": [
    {
     "name": "stdout",
     "output_type": "stream",
     "text": [
      "   ID    Name  Age\n",
      "0   1     Raj   22\n",
      "1   2   Aryan   20\n",
      "2   3  Aditya   19\n"
     ]
    }
   ],
   "source": [
    "df1 = pd.DataFrame({'ID': [1, 2, 3],\n",
    "                    'Name': ['Raj', 'Aryan', 'Aditya']})\n",
    "\n",
    "df2 = pd.DataFrame({'ID': [2, 3, 1],\n",
    "                    'Age': [20, 19, 22]})\n",
    "\n",
    "# Merging on basis of ID\n",
    "merged_df = pd.merge(df1, df2, on='ID')\n",
    "\n",
    "print(merged_df)"
   ]
  },
  {
   "cell_type": "markdown",
   "id": "5b5028cc-ccaa-4146-a17b-6bb8c3ce9d3f",
   "metadata": {},
   "source": [
    "**Q10. Using Matplotlib, create a scatter plot comparing two numerical variables in the dataset of your choice. Customize the plot by changing the color and shape of the data points.**"
   ]
  },
  {
   "cell_type": "code",
   "execution_count": 29,
   "id": "27c00e56-c4ec-431b-93e2-1b94c48e3aa3",
   "metadata": {},
   "outputs": [
    {
     "data": {
      "image/png": "[encoded data removed]",
      "text/plain": [
       "<Figure size 640x480 with 1 Axes>"
      ]
     },
     "metadata": {},
     "output_type": "display_data"
    }
   ],
   "source": [
    "#10\n",
    "import matplotlib.pyplot as plt\n",
    "import numpy as np\n",
    "\n",
    "x = np.random.rand(333)\n",
    "y = np.random.rand(333)\n",
    "\n",
    "plt.scatter(x, y, c='orange', marker='*')  # Red triangles\n",
    "\n",
    "plt.title('Scatter Plot')\n",
    "plt.xlabel('X-axis')\n",
    "plt.ylabel('Y-axis')\n",
    "\n",
    "#the plot\n",
    "plt.show()"
   ]
  },
  {
   "cell_type": "code",
   "execution_count": null,
   "id": "f0b0b034-f286-40e9-a23e-17002186b6e9",
   "metadata": {},
   "outputs": [],
   "source": []
  }
 ],
 "metadata": {
  "kernelspec": {
   "display_name": "Python 3 (ipykernel)",
   "language": "python",
   "name": "python3"
  },
  "language_info": {
   "codemirror_mode": {
    "name": "ipython",
    "version": 3
   },
   "file_extension": ".py",
   "mimetype": "text/x-python",
   "name": "python",
   "nbconvert_exporter": "python",
   "pygments_lexer": "ipython3",
   "version": "3.11.7"
  }
 },
 "nbformat": 4,
 "nbformat_minor": 5
}
