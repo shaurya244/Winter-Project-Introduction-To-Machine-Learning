{
 "cells": [
  {
   "cell_type": "markdown",
   "id": "7e0bc365-510b-406d-b716-2e959d30ba9b",
   "metadata": {},
   "source": [
    "Importing all the libraries\n"
   ]
  },
  {
   "cell_type": "code",
   "execution_count": 1,
   "id": "e186fb86-766b-49e6-abcf-998e65ebc82c",
   "metadata": {},
   "outputs": [],
   "source": [
    "import numpy as np\n",
    "import pandas as pd\n",
    "import matplotlib.pyplot as plt\n"
   ]
  },
  {
   "cell_type": "markdown",
   "id": "26e14502-074d-4a49-91fc-8a8b41e79a56",
   "metadata": {},
   "source": [
    "Question_1) Z-score normalization of a 3-D numpy array\n"
   ]
  },
  {
   "cell_type": "code",
   "execution_count": 2,
   "id": "1ea61946-2545-4d21-87d9-145bd2b92f88",
   "metadata": {},
   "outputs": [
    {
     "name": "stdout",
     "output_type": "stream",
     "text": [
      "Original Array:\n",
      " [[[ 15  21  27  96]\n",
      "  [ 41  94  19  70]\n",
      "  [ 24  86  66  22]\n",
      "  [ 80  80  20  16]]\n",
      "\n",
      " [[ 14  97  65  61]\n",
      "  [ 62  49  53  14]\n",
      "  [ 99  42  82  22]\n",
      "  [ 62   2 100  43]]\n",
      "\n",
      " [[ 41  30  26  49]\n",
      "  [  5  38  53  90]\n",
      "  [ 54  45  15  84]\n",
      "  [ 98  23  65  39]]\n",
      "\n",
      " [[  5  31  49  55]\n",
      "  [ 18  77  31  35]\n",
      "  [ 11  59  54  45]\n",
      "  [ 74  17  73  70]]]\n",
      "\n",
      "Z-Score Normalized Array:\n",
      " [[[-1.21006201 -0.99323335 -0.77640469  1.71712485]\n",
      "  [-0.27047116  1.64484864 -1.06550957  0.77753401]\n",
      "  [-0.88481902  1.35574376  0.63298157 -0.95709524]\n",
      "  [ 1.1389151   1.1389151  -1.02937146 -1.1739239 ]]\n",
      "\n",
      " [[-1.24620012  1.75326296  0.59684346  0.45229103]\n",
      "  [ 0.48842913  0.01863371  0.16318615 -1.24620012]\n",
      "  [ 1.82553918 -0.23433305  1.21119132 -0.95709524]\n",
      "  [ 0.48842913 -1.67985743  1.86167729 -0.19819494]]\n",
      "\n",
      " [[-0.27047116 -0.66799037 -0.8125428   0.01863371]\n",
      "  [-1.5714431  -0.37888549  0.16318615  1.5002962 ]\n",
      "  [ 0.19932426 -0.12591872 -1.21006201  1.28346754]\n",
      "  [ 1.78940107 -0.92095713  0.59684346 -0.34274738]]\n",
      "\n",
      " [[-1.5714431  -0.63185226  0.01863371  0.23546237]\n",
      "  [-1.10164768  1.03050078 -0.63185226 -0.48729982]\n",
      "  [-1.35461444  0.38001481  0.19932426 -0.12591872]\n",
      "  [ 0.92208645 -1.13778579  0.88594834  0.77753401]]]\n"
     ]
    }
   ],
   "source": [
    "array = np.random.randint(1, 101, (4, 4, 4))\n",
    "mean = np.mean(array)\n",
    "std_dev = np.std(array)\n",
    "z_score_normalized_array = (array - mean) / std_dev\n",
    "print(\"Original Array:\\n\", array)\n",
    "print(\"\\nZ-Score Normalized Array:\\n\", z_score_normalized_array)"
   ]
  },
  {
   "cell_type": "markdown",
   "id": "db8b4e9b-841d-42e8-bbf8-dbf531398863",
   "metadata": {},
   "source": [
    "Question_2)Filter rows in the iris dataset"
   ]
  },
  {
   "cell_type": "code",
   "execution_count": 3,
   "id": "8dece5d6-200d-4e8e-bb52-5edec9404c21",
   "metadata": {},
   "outputs": [
    {
     "name": "stdout",
     "output_type": "stream",
     "text": [
      "Filtered Data (Petal Length > 3.0):\n",
      "      sepal_length  sepal_width  petal_length  petal_width            class\n",
      "50            7.0          3.2           4.7          1.4  Iris-versicolor\n",
      "51            6.4          3.2           4.5          1.5  Iris-versicolor\n",
      "52            6.9          3.1           4.9          1.5  Iris-versicolor\n",
      "53            5.5          2.3           4.0          1.3  Iris-versicolor\n",
      "54            6.5          2.8           4.6          1.5  Iris-versicolor\n",
      "..            ...          ...           ...          ...              ...\n",
      "145           6.7          3.0           5.2          2.3   Iris-virginica\n",
      "146           6.3          2.5           5.0          1.9   Iris-virginica\n",
      "147           6.5          3.0           5.2          2.0   Iris-virginica\n",
      "148           6.2          3.4           5.4          2.3   Iris-virginica\n",
      "149           5.9          3.0           5.1          1.8   Iris-virginica\n",
      "\n",
      "[99 rows x 5 columns]\n"
     ]
    }
   ],
   "source": [
    "url = \"https://archive.ics.uci.edu/ml/machine-learning-databases/iris/iris.data\"\n",
    "columns = ['sepal_length', 'sepal_width', 'petal_length', 'petal_width', 'class']\n",
    "iris = pd.read_csv(url, header=None, names=columns)\n",
    "filtered_data = iris[iris['petal_length'] > 3.0]\n",
    "print(\"Filtered Data (Petal Length > 3.0):\\n\", filtered_data)\n"
   ]
  },
  {
   "cell_type": "markdown",
   "id": "cd54c4bc-8290-4f3d-a33c-494e96e2c086",
   "metadata": {},
   "source": [
    "Question_3) linr-Grpah"
   ]
  },
  {
   "cell_type": "code",
   "execution_count": 4,
   "id": "9df0fd72-aa56-4799-a279-9f3d1079cf5c",
   "metadata": {},
   "outputs": [
    {
     "data": {
      "image/png": "[encoded data removed]",
      "text/plain": [
       "<Figure size 640x480 with 1 Axes>"
      ]
     },
     "metadata": {},
     "output_type": "display_data"
    }
   ],
   "source": [
    "x = range(10)\n",
    "y = [2 * i + 1 for i in x]\n",
    "plt.plot(x, y, label='y = 2x + 1', color='blue', linestyle='--')\n",
    "plt.title(\"Line Graph Example\")\n",
    "plt.xlabel(\"X-axis (Numbers)\")\n",
    "plt.ylabel(\"Y-axis (Values)\")\n",
    "plt.legend()\n",
    "plt.show()"
   ]
  },
  {
   "cell_type": "markdown",
   "id": "bd8aaec3-5b96-4258-9364-7a6876839926",
   "metadata": {},
   "source": [
    "Question_4) DataFrame operation"
   ]
  },
  {
   "cell_type": "code",
   "execution_count": 5,
   "id": "206fc7f5-604b-47bb-91b9-5d61a68083b7",
   "metadata": {},
   "outputs": [
    {
     "name": "stdout",
     "output_type": "stream",
     "text": [
      "Original DataFrame:\n",
      "       A   B   C\n",
      "0  26.0  10  16\n",
      "1  44.0  49  21\n",
      "2  35.0   4   5\n",
      "3  26.0   2  28\n",
      "4  27.0  28   9\n",
      "5   6.0   6  49\n",
      "6  26.0  33  45\n",
      "7  34.0  18  38\n",
      "8  10.0  18   3\n",
      "9  26.0  42  19\n",
      "\n",
      "Sorted DataFrame:\n",
      "       A   B   C\n",
      "5   6.0   6  49\n",
      "8  10.0  18   3\n",
      "3  26.0   2  28\n",
      "0  26.0  10  16\n",
      "6  26.0  33  45\n",
      "9  26.0  42  19\n",
      "4  27.0  28   9\n",
      "7  34.0  18  38\n",
      "2  35.0   4   5\n",
      "1  44.0  49  21\n"
     ]
    }
   ],
   "source": [
    "data = {'A': [np.random.randint(1, 50) if i % 3 != 0 else np.nan for i in range(10)],\n",
    "        'B': np.random.randint(1, 50, 10),\n",
    "        'C': np.random.randint(1, 50, 10)}\n",
    "df = pd.DataFrame(data)\n",
    "df['A'].fillna(df['A'].mean(), inplace=True)\n",
    "df_sorted = df.sort_values(by=['A', 'B'])\n",
    "print(\"Original DataFrame:\\n\", df)\n",
    "print(\"\\nSorted DataFrame:\\n\", df_sorted)"
   ]
  },
  {
   "cell_type": "markdown",
   "id": "75d9d104-7291-4703-9763-2244a53270d4",
   "metadata": {},
   "source": [
    "Question_5) Matrix Operation"
   ]
  },
  {
   "cell_type": "code",
   "execution_count": 6,
   "id": "40e1d0d7-c1c1-469b-9ba3-975e49461a79",
   "metadata": {},
   "outputs": [
    {
     "name": "stdout",
     "output_type": "stream",
     "text": [
      "Matrix 1:\n",
      " [[5 4 2]\n",
      " [2 4 9]\n",
      " [9 2 1]]\n",
      "\n",
      "Matrix 2:\n",
      " [[9 7 5]\n",
      " [3 6 2]\n",
      " [8 3 7]]\n",
      "\n",
      "Dot Product:\n",
      " [[ 73  65  47]\n",
      " [102  65  81]\n",
      " [ 95  78  56]]\n",
      "\n",
      "Determinant of Dot Product Matrix: 17107.99999999998\n"
     ]
    }
   ],
   "source": [
    "matrix1 = np.random.randint(1, 10, (3, 3))\n",
    "matrix2 = np.random.randint(1, 10, (3, 3))\n",
    "dot_product = np.dot(matrix1, matrix2)\n",
    "determinant = np.linalg.det(dot_product)\n",
    "print(\"Matrix 1:\\n\", matrix1)\n",
    "print(\"\\nMatrix 2:\\n\", matrix2)\n",
    "print(\"\\nDot Product:\\n\", dot_product)\n",
    "print(\"\\nDeterminant of Dot Product Matrix:\", determinant)"
   ]
  },
  {
   "cell_type": "markdown",
   "id": "5a3ce977-334f-4714-bccf-d90009bfc356",
   "metadata": {},
   "source": [
    "Question_6) Sum calculation and grp by"
   ]
  },
  {
   "cell_type": "code",
   "execution_count": 7,
   "id": "397cd1fa-8300-47d3-916f-39b198a9c77b",
   "metadata": {},
   "outputs": [
    {
     "name": "stdout",
     "output_type": "stream",
     "text": [
      "Grouped Sum by Category:\n",
      " Category\n",
      "A    100\n",
      "B    150\n",
      "C    110\n",
      "Name: Values, dtype: int64\n"
     ]
    }
   ],
   "source": [
    "data = {'Category': ['A', 'B', 'A', 'C', 'B', 'A', 'C', 'B'],\n",
    "        'Values': [10, 20, 30, 40, 50, 60, 70, 80]}\n",
    "df = pd.DataFrame(data)\n",
    "grouped_sum = df.groupby('Category')['Values'].sum()\n",
    "print(\"Grouped Sum by Category:\\n\", grouped_sum)"
   ]
  },
  {
   "cell_type": "markdown",
   "id": "1a5a7c13-5b2d-42a1-9b04-76f94427ee44",
   "metadata": {},
   "source": [
    "Question_7) Histogram"
   ]
  },
  {
   "cell_type": "code",
   "execution_count": 8,
   "id": "0a806fd1-db82-4dc5-9042-4075d46d9069",
   "metadata": {},
   "outputs": [
    {
     "data": {
      "image/png": "[encoded data removed]",
      "text/plain": [
       "<Figure size 640x480 with 1 Axes>"
      ]
     },
     "metadata": {},
     "output_type": "display_data"
    }
   ],
   "source": [
    "data = np.random.normal(50, 10, 100)\n",
    "plt.hist(data, bins=15, color='skyblue', edgecolor='black')\n",
    "plt.title(\"Histogram of Numerical Data\")\n",
    "plt.xlabel(\"Data Values\")\n",
    "plt.ylabel(\"Frequency\")\n",
    "plt.grid(True)\n",
    "plt.show()"
   ]
  },
  {
   "cell_type": "markdown",
   "id": "c2757baf-38c2-4223-9c8d-bedd2c95656a",
   "metadata": {},
   "source": [
    "Question_8) Slicing"
   ]
  },
  {
   "cell_type": "code",
   "execution_count": 9,
   "id": "980b6daf-5b1c-4b0b-b241-eca121a33755",
   "metadata": {},
   "outputs": [
    {
     "name": "stdout",
     "output_type": "stream",
     "text": [
      "Original Array:\n",
      " [[ 3 12  6  7  3]\n",
      " [10 17 13  1 15]\n",
      " [12 14 13 16  3]\n",
      " [ 7 17 18  2  9]\n",
      " [19  4 19 13 19]]\n",
      "\n",
      "Sub-Array:\n",
      " [[13  1]\n",
      " [13 16]]\n"
     ]
    }
   ],
   "source": [
    "array_2d = np.random.randint(1, 20, (5, 5))\n",
    "sub_array = array_2d[1:3, 2:4]\n",
    "print(\"Original Array:\\n\", array_2d)\n",
    "print(\"\\nSub-Array:\\n\", sub_array)"
   ]
  },
  {
   "cell_type": "markdown",
   "id": "986260e1-d9f9-414f-be43-0caee0ce335d",
   "metadata": {},
   "source": [
    "Question_9) Merging data frames"
   ]
  },
  {
   "cell_type": "code",
   "execution_count": 10,
   "id": "d20d3a2d-5114-4fcb-b791-bdc2cf085923",
   "metadata": {},
   "outputs": [
    {
     "name": "stdout",
     "output_type": "stream",
     "text": [
      "Merged DataFrame:\n",
      "    ID   Name  Score\n",
      "0   1  Alice     85\n",
      "1   2    Bob     90\n"
     ]
    }
   ],
   "source": [
    "df1 = pd.DataFrame({'ID': [1, 2, 3], 'Name': ['Alice', 'Bob', 'Charlie']})\n",
    "df2 = pd.DataFrame({'ID': [1, 2, 4], 'Score': [85, 90, 95]})\n",
    "merged_df = pd.merge(df1, df2, on='ID', how='inner')\n",
    "print(\"Merged DataFrame:\\n\", merged_df)"
   ]
  },
  {
   "cell_type": "markdown",
   "id": "5621c038-a0e1-4864-b8fe-e94a166dc175",
   "metadata": {},
   "source": [
    "Question_10) Scater plot with matplot lib "
   ]
  },
  {
   "cell_type": "code",
   "execution_count": 11,
   "id": "7034d9e5-aca9-45d2-ae77-6ac3dd7a5061",
   "metadata": {},
   "outputs": [
    {
     "data": {
      "image/png": "[encoded data removed]",
      "text/plain": [
       "<Figure size 640x480 with 1 Axes>"
      ]
     },
     "metadata": {},
     "output_type": "display_data"
    }
   ],
   "source": [
    "x = np.random.randint(1, 100, 50)\n",
    "y = np.random.randint(1, 100, 50)\n",
    "plt.scatter(x, y, color='red', marker='^', label='Data Points')\n",
    "plt.title(\"Scatter Plot Example\")\n",
    "plt.xlabel(\"X-axis\")\n",
    "plt.ylabel(\"Y-axis\")\n",
    "plt.legend()\n",
    "plt.show()"
   ]
  },
  {
   "cell_type": "code",
   "execution_count": null,
   "id": "2d4a0d6f-d919-4671-aace-c0437aa1bdf9",
   "metadata": {},
   "outputs": [],
   "source": []
  }
 ],
 "metadata": {
  "kernelspec": {
   "display_name": "Python 3 (ipykernel)",
   "language": "python",
   "name": "python3"
  },
  "language_info": {
   "codemirror_mode": {
    "name": "ipython",
    "version": 3
   },
   "file_extension": ".py",
   "mimetype": "text/x-python",
   "name": "python",
   "nbconvert_exporter": "python",
   "pygments_lexer": "ipython3",
   "version": "3.12.1"
  }
 },
 "nbformat": 4,
 "nbformat_minor": 5
}
