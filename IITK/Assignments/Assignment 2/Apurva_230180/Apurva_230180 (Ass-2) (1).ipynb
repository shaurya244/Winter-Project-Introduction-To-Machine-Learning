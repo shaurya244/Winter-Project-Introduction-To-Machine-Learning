{
 "cells": [
  {
   "cell_type": "markdown",
   "id": "b18e0ec8",
   "metadata": {},
   "source": [
    "# Assignment-2"
   ]
  },
  {
   "cell_type": "markdown",
   "id": "748d386f",
   "metadata": {},
   "source": [
    "#### (i) Perform data pre-processing steps on the dataset. Handle missing values (if any), explore the correlation between variables, and identify any potential outliers."
   ]
  },
  {
   "cell_type": "code",
   "execution_count": 1,
   "id": "9dadb406",
   "metadata": {},
   "outputs": [],
   "source": [
    "import numpy as np\n",
    "import pandas as pd\n",
    "import seaborn as sns\n",
    "import matplotlib.pyplot as plt\n",
    "import warnings\n",
    "warnings.filterwarnings('ignore')"
   ]
  },
  {
   "cell_type": "markdown",
   "id": "fb5f77f8",
   "metadata": {},
   "source": [
    "## Data Pre-Processing"
   ]
  },
  {
   "cell_type": "code",
   "execution_count": 2,
   "id": "d1f7fd4a",
   "metadata": {},
   "outputs": [
    {
     "name": "stdout",
     "output_type": "stream",
     "text": [
      "<class 'pandas.core.frame.DataFrame'>\n",
      "RangeIndex: 1296 entries, 0 to 1295\n",
      "Data columns (total 10 columns):\n",
      " #   Column  Non-Null Count  Dtype  \n",
      "---  ------  --------------  -----  \n",
      " 0   X1      768 non-null    float64\n",
      " 1   X2      768 non-null    float64\n",
      " 2   X3      768 non-null    float64\n",
      " 3   X4      768 non-null    float64\n",
      " 4   X5      768 non-null    float64\n",
      " 5   X6      768 non-null    float64\n",
      " 6   X7      768 non-null    float64\n",
      " 7   X8      768 non-null    float64\n",
      " 8   Y1      768 non-null    float64\n",
      " 9   Y2      768 non-null    float64\n",
      "dtypes: float64(10)\n",
      "memory usage: 101.4 KB\n",
      "\n",
      "Number of Null Values in each column:\n"
     ]
    },
    {
     "data": {
      "text/plain": [
       "X1    528\n",
       "X2    528\n",
       "X3    528\n",
       "X4    528\n",
       "X5    528\n",
       "X6    528\n",
       "X7    528\n",
       "X8    528\n",
       "Y1    528\n",
       "Y2    528\n",
       "dtype: int64"
      ]
     },
     "execution_count": 2,
     "metadata": {},
     "output_type": "execute_result"
    }
   ],
   "source": [
    "data = pd.read_csv('ENB2012_data.csv')\n",
    "df = pd.DataFrame(data)\n",
    "df.info()\n",
    "print('\\nNumber of Null Values in each column:')\n",
    "df.isna().sum()"
   ]
  },
  {
   "cell_type": "markdown",
   "id": "3f1db17f",
   "metadata": {},
   "source": [
    "### a) Dropping the NaN Values"
   ]
  },
  {
   "cell_type": "code",
   "execution_count": 3,
   "id": "0575132a",
   "metadata": {},
   "outputs": [
    {
     "name": "stdout",
     "output_type": "stream",
     "text": [
      "       X1     X2     X3      X4   X5   X6   X7   X8     Y1     Y2\n",
      "0    0.98  514.5  294.0  110.25  7.0  2.0  0.0  0.0  15.55  21.33\n",
      "1    0.98  514.5  294.0  110.25  7.0  3.0  0.0  0.0  15.55  21.33\n",
      "2    0.98  514.5  294.0  110.25  7.0  4.0  0.0  0.0  15.55  21.33\n",
      "3    0.98  514.5  294.0  110.25  7.0  5.0  0.0  0.0  15.55  21.33\n",
      "4    0.90  563.5  318.5  122.50  7.0  2.0  0.0  0.0  20.84  28.28\n",
      "..    ...    ...    ...     ...  ...  ...  ...  ...    ...    ...\n",
      "763  0.64  784.0  343.0  220.50  3.5  5.0  0.4  5.0  17.88  21.40\n",
      "764  0.62  808.5  367.5  220.50  3.5  2.0  0.4  5.0  16.54  16.88\n",
      "765  0.62  808.5  367.5  220.50  3.5  3.0  0.4  5.0  16.44  17.11\n",
      "766  0.62  808.5  367.5  220.50  3.5  4.0  0.4  5.0  16.48  16.61\n",
      "767  0.62  808.5  367.5  220.50  3.5  5.0  0.4  5.0  16.64  16.03\n",
      "\n",
      "[768 rows x 10 columns]\n",
      "\n",
      "\n",
      "Number of Null Values in each column:\n"
     ]
    },
    {
     "data": {
      "text/plain": [
       "X1    0\n",
       "X2    0\n",
       "X3    0\n",
       "X4    0\n",
       "X5    0\n",
       "X6    0\n",
       "X7    0\n",
       "X8    0\n",
       "Y1    0\n",
       "Y2    0\n",
       "dtype: int64"
      ]
     },
     "execution_count": 3,
     "metadata": {},
     "output_type": "execute_result"
    }
   ],
   "source": [
    "#Dropping the Null Values\n",
    "df2 = df.dropna()\n",
    "print(df2)\n",
    "print('\\n\\nNumber of Null Values in each column:') \n",
    "df2.isna().sum()"
   ]
  },
  {
   "cell_type": "markdown",
   "id": "f11a57f0",
   "metadata": {},
   "source": [
    "### b) Correlations"
   ]
  },
  {
   "cell_type": "code",
   "execution_count": 4,
   "id": "9728cca3",
   "metadata": {
    "scrolled": true
   },
   "outputs": [
    {
     "name": "stdout",
     "output_type": "stream",
     "text": [
      "The correlation Matrix :\n"
     ]
    },
    {
     "data": {
      "text/html": [
       "<div>\n",
       "<style scoped>\n",
       "    .dataframe tbody tr th:only-of-type {\n",
       "        vertical-align: middle;\n",
       "    }\n",
       "\n",
       "    .dataframe tbody tr th {\n",
       "        vertical-align: top;\n",
       "    }\n",
       "\n",
       "    .dataframe thead th {\n",
       "        text-align: right;\n",
       "    }\n",
       "</style>\n",
       "<table border=\"1\" class=\"dataframe\">\n",
       "  <thead>\n",
       "    <tr style=\"text-align: right;\">\n",
       "      <th></th>\n",
       "      <th>X1</th>\n",
       "      <th>X2</th>\n",
       "      <th>X3</th>\n",
       "      <th>X4</th>\n",
       "      <th>X5</th>\n",
       "      <th>X6</th>\n",
       "      <th>X7</th>\n",
       "      <th>X8</th>\n",
       "      <th>Y1</th>\n",
       "      <th>Y2</th>\n",
       "    </tr>\n",
       "  </thead>\n",
       "  <tbody>\n",
       "    <tr>\n",
       "      <th>X1</th>\n",
       "      <td>1.000000e+00</td>\n",
       "      <td>-9.919015e-01</td>\n",
       "      <td>-2.037817e-01</td>\n",
       "      <td>-8.688234e-01</td>\n",
       "      <td>8.277473e-01</td>\n",
       "      <td>4.678592e-17</td>\n",
       "      <td>-2.960552e-15</td>\n",
       "      <td>-7.107006e-16</td>\n",
       "      <td>0.622272</td>\n",
       "      <td>0.634339</td>\n",
       "    </tr>\n",
       "    <tr>\n",
       "      <th>X2</th>\n",
       "      <td>-9.919015e-01</td>\n",
       "      <td>1.000000e+00</td>\n",
       "      <td>1.955016e-01</td>\n",
       "      <td>8.807195e-01</td>\n",
       "      <td>-8.581477e-01</td>\n",
       "      <td>-3.459372e-17</td>\n",
       "      <td>3.636925e-15</td>\n",
       "      <td>2.438409e-15</td>\n",
       "      <td>-0.658120</td>\n",
       "      <td>-0.672999</td>\n",
       "    </tr>\n",
       "    <tr>\n",
       "      <th>X3</th>\n",
       "      <td>-2.037817e-01</td>\n",
       "      <td>1.955016e-01</td>\n",
       "      <td>1.000000e+00</td>\n",
       "      <td>-2.923165e-01</td>\n",
       "      <td>2.809757e-01</td>\n",
       "      <td>-2.429499e-17</td>\n",
       "      <td>-8.567455e-17</td>\n",
       "      <td>2.067384e-16</td>\n",
       "      <td>0.455671</td>\n",
       "      <td>0.427117</td>\n",
       "    </tr>\n",
       "    <tr>\n",
       "      <th>X4</th>\n",
       "      <td>-8.688234e-01</td>\n",
       "      <td>8.807195e-01</td>\n",
       "      <td>-2.923165e-01</td>\n",
       "      <td>1.000000e+00</td>\n",
       "      <td>-9.725122e-01</td>\n",
       "      <td>-5.830058e-17</td>\n",
       "      <td>-1.759011e-15</td>\n",
       "      <td>-1.078071e-15</td>\n",
       "      <td>-0.861828</td>\n",
       "      <td>-0.862547</td>\n",
       "    </tr>\n",
       "    <tr>\n",
       "      <th>X5</th>\n",
       "      <td>8.277473e-01</td>\n",
       "      <td>-8.581477e-01</td>\n",
       "      <td>2.809757e-01</td>\n",
       "      <td>-9.725122e-01</td>\n",
       "      <td>1.000000e+00</td>\n",
       "      <td>4.492205e-17</td>\n",
       "      <td>1.489134e-17</td>\n",
       "      <td>-2.920613e-17</td>\n",
       "      <td>0.889431</td>\n",
       "      <td>0.895785</td>\n",
       "    </tr>\n",
       "    <tr>\n",
       "      <th>X6</th>\n",
       "      <td>4.678592e-17</td>\n",
       "      <td>-3.459372e-17</td>\n",
       "      <td>-2.429499e-17</td>\n",
       "      <td>-5.830058e-17</td>\n",
       "      <td>4.492205e-17</td>\n",
       "      <td>1.000000e+00</td>\n",
       "      <td>-9.406007e-16</td>\n",
       "      <td>-2.549352e-16</td>\n",
       "      <td>-0.002587</td>\n",
       "      <td>0.014290</td>\n",
       "    </tr>\n",
       "    <tr>\n",
       "      <th>X7</th>\n",
       "      <td>-2.960552e-15</td>\n",
       "      <td>3.636925e-15</td>\n",
       "      <td>-8.567455e-17</td>\n",
       "      <td>-1.759011e-15</td>\n",
       "      <td>1.489134e-17</td>\n",
       "      <td>-9.406007e-16</td>\n",
       "      <td>1.000000e+00</td>\n",
       "      <td>2.129642e-01</td>\n",
       "      <td>0.269841</td>\n",
       "      <td>0.207505</td>\n",
       "    </tr>\n",
       "    <tr>\n",
       "      <th>X8</th>\n",
       "      <td>-7.107006e-16</td>\n",
       "      <td>2.438409e-15</td>\n",
       "      <td>2.067384e-16</td>\n",
       "      <td>-1.078071e-15</td>\n",
       "      <td>-2.920613e-17</td>\n",
       "      <td>-2.549352e-16</td>\n",
       "      <td>2.129642e-01</td>\n",
       "      <td>1.000000e+00</td>\n",
       "      <td>0.087368</td>\n",
       "      <td>0.050525</td>\n",
       "    </tr>\n",
       "    <tr>\n",
       "      <th>Y1</th>\n",
       "      <td>6.222722e-01</td>\n",
       "      <td>-6.581202e-01</td>\n",
       "      <td>4.556712e-01</td>\n",
       "      <td>-8.618283e-01</td>\n",
       "      <td>8.894307e-01</td>\n",
       "      <td>-2.586534e-03</td>\n",
       "      <td>2.698410e-01</td>\n",
       "      <td>8.736759e-02</td>\n",
       "      <td>1.000000</td>\n",
       "      <td>0.975862</td>\n",
       "    </tr>\n",
       "    <tr>\n",
       "      <th>Y2</th>\n",
       "      <td>6.343391e-01</td>\n",
       "      <td>-6.729989e-01</td>\n",
       "      <td>4.271170e-01</td>\n",
       "      <td>-8.625466e-01</td>\n",
       "      <td>8.957852e-01</td>\n",
       "      <td>1.428960e-02</td>\n",
       "      <td>2.075050e-01</td>\n",
       "      <td>5.052512e-02</td>\n",
       "      <td>0.975862</td>\n",
       "      <td>1.000000</td>\n",
       "    </tr>\n",
       "  </tbody>\n",
       "</table>\n",
       "</div>"
      ],
      "text/plain": [
       "              X1            X2            X3            X4            X5  \\\n",
       "X1  1.000000e+00 -9.919015e-01 -2.037817e-01 -8.688234e-01  8.277473e-01   \n",
       "X2 -9.919015e-01  1.000000e+00  1.955016e-01  8.807195e-01 -8.581477e-01   \n",
       "X3 -2.037817e-01  1.955016e-01  1.000000e+00 -2.923165e-01  2.809757e-01   \n",
       "X4 -8.688234e-01  8.807195e-01 -2.923165e-01  1.000000e+00 -9.725122e-01   \n",
       "X5  8.277473e-01 -8.581477e-01  2.809757e-01 -9.725122e-01  1.000000e+00   \n",
       "X6  4.678592e-17 -3.459372e-17 -2.429499e-17 -5.830058e-17  4.492205e-17   \n",
       "X7 -2.960552e-15  3.636925e-15 -8.567455e-17 -1.759011e-15  1.489134e-17   \n",
       "X8 -7.107006e-16  2.438409e-15  2.067384e-16 -1.078071e-15 -2.920613e-17   \n",
       "Y1  6.222722e-01 -6.581202e-01  4.556712e-01 -8.618283e-01  8.894307e-01   \n",
       "Y2  6.343391e-01 -6.729989e-01  4.271170e-01 -8.625466e-01  8.957852e-01   \n",
       "\n",
       "              X6            X7            X8        Y1        Y2  \n",
       "X1  4.678592e-17 -2.960552e-15 -7.107006e-16  0.622272  0.634339  \n",
       "X2 -3.459372e-17  3.636925e-15  2.438409e-15 -0.658120 -0.672999  \n",
       "X3 -2.429499e-17 -8.567455e-17  2.067384e-16  0.455671  0.427117  \n",
       "X4 -5.830058e-17 -1.759011e-15 -1.078071e-15 -0.861828 -0.862547  \n",
       "X5  4.492205e-17  1.489134e-17 -2.920613e-17  0.889431  0.895785  \n",
       "X6  1.000000e+00 -9.406007e-16 -2.549352e-16 -0.002587  0.014290  \n",
       "X7 -9.406007e-16  1.000000e+00  2.129642e-01  0.269841  0.207505  \n",
       "X8 -2.549352e-16  2.129642e-01  1.000000e+00  0.087368  0.050525  \n",
       "Y1 -2.586534e-03  2.698410e-01  8.736759e-02  1.000000  0.975862  \n",
       "Y2  1.428960e-02  2.075050e-01  5.052512e-02  0.975862  1.000000  "
      ]
     },
     "execution_count": 4,
     "metadata": {},
     "output_type": "execute_result"
    }
   ],
   "source": [
    "#Correlation Matrix\n",
    "print(\"The correlation Matrix :\")\n",
    "df2[df2.columns].corr()"
   ]
  },
  {
   "cell_type": "markdown",
   "id": "5b75073a",
   "metadata": {},
   "source": [
    "This shows that Y1 has strong correlation with X1, X2, X4, X5 and weak/no correlation with X6 & X8."
   ]
  },
  {
   "cell_type": "code",
   "execution_count": 5,
   "id": "dd1ce95a",
   "metadata": {},
   "outputs": [
    {
     "data": {
      "text/plain": [
       "<Axes: >"
      ]
     },
     "execution_count": 5,
     "metadata": {},
     "output_type": "execute_result"
    },
    {
     "data": {
      "image/png": "[encoded data removed]",
      "text/plain": [
       "<Figure size 640x480 with 2 Axes>"
      ]
     },
     "metadata": {},
     "output_type": "display_data"
    }
   ],
   "source": [
    "#Plotting Heatmap\n",
    "sns.heatmap(data=df2[df2.columns].corr(), annot = True, fmt = \".2f\")"
   ]
  },
  {
   "cell_type": "markdown",
   "id": "741f0cd3",
   "metadata": {},
   "source": [
    "### c) Outliners"
   ]
  },
  {
   "cell_type": "code",
   "execution_count": 6,
   "id": "88cfe718",
   "metadata": {},
   "outputs": [
    {
     "name": "stdout",
     "output_type": "stream",
     "text": [
      "Mean : 22.307200520833334 \n",
      "Std : 10.090195732006162\n"
     ]
    }
   ],
   "source": [
    "#Finding the outliners with respect to Heating Load(Y1)\n",
    "mean = df2[\"Y1\"].mean()\n",
    "std = df2[\"Y1\"].std()\n",
    "print(\"Mean :\", mean , \"\\nStd :\", std)"
   ]
  },
  {
   "cell_type": "code",
   "execution_count": 7,
   "id": "c1e89d0f",
   "metadata": {},
   "outputs": [
    {
     "data": {
      "text/html": [
       "<div>\n",
       "<style scoped>\n",
       "    .dataframe tbody tr th:only-of-type {\n",
       "        vertical-align: middle;\n",
       "    }\n",
       "\n",
       "    .dataframe tbody tr th {\n",
       "        vertical-align: top;\n",
       "    }\n",
       "\n",
       "    .dataframe thead th {\n",
       "        text-align: right;\n",
       "    }\n",
       "</style>\n",
       "<table border=\"1\" class=\"dataframe\">\n",
       "  <thead>\n",
       "    <tr style=\"text-align: right;\">\n",
       "      <th></th>\n",
       "      <th>X1</th>\n",
       "      <th>X2</th>\n",
       "      <th>X3</th>\n",
       "      <th>X4</th>\n",
       "      <th>X5</th>\n",
       "      <th>X6</th>\n",
       "      <th>X7</th>\n",
       "      <th>X8</th>\n",
       "      <th>Y1</th>\n",
       "      <th>Y2</th>\n",
       "    </tr>\n",
       "  </thead>\n",
       "  <tbody>\n",
       "  </tbody>\n",
       "</table>\n",
       "</div>"
      ],
      "text/plain": [
       "Empty DataFrame\n",
       "Columns: [X1, X2, X3, X4, X5, X6, X7, X8, Y1, Y2]\n",
       "Index: []"
      ]
     },
     "execution_count": 7,
     "metadata": {},
     "output_type": "execute_result"
    }
   ],
   "source": [
    "upper_limit = mean + 3*std\n",
    "lower_limit = mean - 3*std\n",
    "\n",
    "#Finding the outliners\n",
    "df2[(df2[\"Y1\"]<lower_limit) | (df2[\"Y1\"]>upper_limit)]"
   ]
  },
  {
   "cell_type": "markdown",
   "id": "4831b887",
   "metadata": {},
   "source": [
    "This shows that there are no outliners for this dataset."
   ]
  },
  {
   "cell_type": "markdown",
   "id": "83d56328",
   "metadata": {},
   "source": [
    "  "
   ]
  },
  {
   "cell_type": "markdown",
   "id": "0721568c",
   "metadata": {},
   "source": [
    "#### (ii) Split the dataset into an 80:20 ratio for training and testing using the sklearn library."
   ]
  },
  {
   "cell_type": "markdown",
   "id": "d617a12c",
   "metadata": {},
   "source": [
    "### Splitting Data"
   ]
  },
  {
   "cell_type": "code",
   "execution_count": 8,
   "id": "1822db35",
   "metadata": {},
   "outputs": [
    {
     "name": "stdout",
     "output_type": "stream",
     "text": [
      "X Train :\n",
      "        X1     X2     X4   X5    X7\n",
      "588  0.82  612.5  147.0  7.0  0.40\n",
      "128  0.69  735.0  220.5  3.5  0.10\n",
      "443  0.86  588.0  147.0  7.0  0.25\n",
      "644  0.76  661.5  122.5  7.0  0.40\n",
      "127  0.71  710.5  220.5  3.5  0.10\n",
      "\n",
      "Y Train :\n",
      "         Y1\n",
      "588  28.95\n",
      "128  11.45\n",
      "443  29.88\n",
      "644  39.32\n",
      "127  10.68\n",
      "\n",
      "X Test :\n",
      "        X1     X2     X4   X5    X7\n",
      "270  0.71  710.5  220.5  3.5  0.10\n",
      "445  0.82  612.5  147.0  7.0  0.25\n",
      "93   0.62  808.5  220.5  3.5  0.10\n",
      "670  0.62  808.5  220.5  3.5  0.40\n",
      "236  0.62  808.5  220.5  3.5  0.10\n",
      "\n",
      "Y Test :\n",
      "         Y1\n",
      "270  10.67\n",
      "445  24.96\n",
      "93   12.97\n",
      "670  16.55\n",
      "236  12.85 \n",
      "\n",
      "Shape of x_train : (614, 5)\n",
      "Shape of y_train : (614, 1)\n",
      "Shape of x_test : (154, 5)\n",
      "Shape of y_test : (154, 1)\n"
     ]
    }
   ],
   "source": [
    "from sklearn.model_selection import train_test_split\n",
    "#Ignoring the features having weak/no correlation.\n",
    "features_col = ['X1','X2','X4','X5','X7']\n",
    "target_col = ['Y1']\n",
    "x = df2[features_col]\n",
    "y = df2[target_col]\n",
    "\n",
    "x_train, x_test, y_train, y_test = train_test_split(x, y, random_state=64, test_size=0.2)\n",
    "print('X Train :\\n', x_train.head())\n",
    "print('\\nY Train :\\n', y_train.head())\n",
    "print('\\nX Test :\\n', x_test.head())\n",
    "print('\\nY Test :\\n', y_test.head() ,'\\n')\n",
    "\n",
    "\n",
    "x_train = x_train.to_numpy()\n",
    "y_train = y_train.to_numpy()\n",
    "x_test = x_test.to_numpy()\n",
    "y_test = y_test.to_numpy()\n",
    "\n",
    "print('Shape of x_train :', x_train.shape)\n",
    "print('Shape of y_train :', y_train.shape)\n",
    "print('Shape of x_test :', x_test.shape)\n",
    "print('Shape of y_test :', y_test.shape)"
   ]
  },
  {
   "cell_type": "markdown",
   "id": "47530cfc",
   "metadata": {},
   "source": [
    "  "
   ]
  },
  {
   "cell_type": "markdown",
   "id": "6f6d9ce1",
   "metadata": {},
   "source": [
    "####  (iii) Train a multivariate linear regression model from scratch using numpy, pandas, and matplotlib. Additionally, train a linear regression model using the sklearn library on the training dataset. Also train ridge and lasso regression model using the sklearn library on the training dataset."
   ]
  },
  {
   "cell_type": "markdown",
   "id": "4eb1bb37",
   "metadata": {},
   "source": [
    "## Multiple Linear Regression from Scratch"
   ]
  },
  {
   "cell_type": "markdown",
   "id": "25e7f2d7",
   "metadata": {},
   "source": [
    "Equation : Y1 = b0 + b1*X1 + b2*X2 + b4*X4 + b5*X5 + b7*X7"
   ]
  },
  {
   "cell_type": "code",
   "execution_count": 9,
   "id": "c041f9f3",
   "metadata": {},
   "outputs": [],
   "source": [
    "def multilinear_regression(x, y):\n",
    "    b0 = np.ones(x.shape[0])\n",
    "    new_x = np.concatenate((b0.reshape(-1,1), x), axis = 1)\n",
    "    beta = np.linalg.inv(new_x.T @ new_x) @ new_x.T @ y\n",
    "    return beta"
   ]
  },
  {
   "cell_type": "code",
   "execution_count": 10,
   "id": "b1c28d66",
   "metadata": {},
   "outputs": [
    {
     "data": {
      "text/plain": [
       "array([[ 8.95972515e+01],\n",
       "       [-6.77112116e+01],\n",
       "       [-2.94865202e-02],\n",
       "       [-1.25763893e-01],\n",
       "       [ 4.11173822e+00],\n",
       "       [ 2.08258918e+01]])"
      ]
     },
     "execution_count": 10,
     "metadata": {},
     "output_type": "execute_result"
    }
   ],
   "source": [
    "beta = multilinear_regression(x_train, y_train)\n",
    "beta"
   ]
  },
  {
   "cell_type": "code",
   "execution_count": 11,
   "id": "9b384ef2",
   "metadata": {},
   "outputs": [],
   "source": [
    "def prediction(x, beta):\n",
    "    b0 = np.ones(x.shape[0])\n",
    "    new_x = np.concatenate((b0.reshape(-1,1), x), axis = 1)\n",
    "    predicted_value = new_x @ beta\n",
    "    return predicted_value"
   ]
  },
  {
   "cell_type": "code",
   "execution_count": 12,
   "id": "c2c6f4bc",
   "metadata": {},
   "outputs": [],
   "source": [
    "#Testing the model\n",
    "predicted_y1 = prediction(x_test, beta)"
   ]
  },
  {
   "cell_type": "code",
   "execution_count": 13,
   "id": "50cc21d4",
   "metadata": {},
   "outputs": [
    {
     "name": "stdout",
     "output_type": "stream",
     "text": [
      "R-squared Value = 0.8910827380057149\n"
     ]
    }
   ],
   "source": [
    "#Finding the goodness of fit\n",
    "ss_res = np.sum((predicted_y1 - y_test)**2)\n",
    "ss_tot = np.sum((predicted_y1 - y_test.mean())**2)\n",
    "R_sq = 1 - (ss_res/ss_tot)\n",
    "mse = np.mean((predicted_y1 - y_test)**2)\n",
    "print('R-squared Value =', R_sq)"
   ]
  },
  {
   "cell_type": "markdown",
   "id": "b4c925bf",
   "metadata": {},
   "source": [
    "## Linear Regression using sklearn Library"
   ]
  },
  {
   "cell_type": "code",
   "execution_count": 14,
   "id": "2e4fc7e1",
   "metadata": {},
   "outputs": [],
   "source": [
    "from sklearn.linear_model import LinearRegression\n",
    "from sklearn.metrics import mean_squared_error, r2_score"
   ]
  },
  {
   "cell_type": "code",
   "execution_count": 15,
   "id": "6bfc30d5",
   "metadata": {},
   "outputs": [
    {
     "name": "stdout",
     "output_type": "stream",
     "text": [
      "Mean-squared Error = 10.93387280093624\n",
      "R-squared Value = 0.8955414260738253\n"
     ]
    }
   ],
   "source": [
    "LR = LinearRegression()\n",
    "#Training\n",
    "LR.fit(x_train, y_train)\n",
    "#Predicting\n",
    "y_pred_linear = LR.predict(x_test)\n",
    "\n",
    "#Finding the goodness of fit\n",
    "mse_linear = mean_squared_error(y_test, y_pred_linear)\n",
    "R_sq_linear = r2_score(y_test, y_pred_linear)\n",
    "print('Mean-squared Error =', mse_linear)\n",
    "print('R-squared Value =', R_sq_linear)"
   ]
  },
  {
   "cell_type": "markdown",
   "id": "e02c3848",
   "metadata": {},
   "source": [
    "## Ridge Regression using sklearn"
   ]
  },
  {
   "cell_type": "code",
   "execution_count": 16,
   "id": "b2741be2",
   "metadata": {},
   "outputs": [
    {
     "name": "stdout",
     "output_type": "stream",
     "text": [
      "Mean-squared Error = 11.018525340139341\n",
      "R-squared Value = 0.8947326839487451\n"
     ]
    }
   ],
   "source": [
    "from sklearn.linear_model import Ridge\n",
    "ridge = Ridge(alpha = 0.2)\n",
    "#Training\n",
    "ridge.fit(x_train, y_train)\n",
    "#Predicting\n",
    "y_pred_ridge = ridge.predict(x_test)\n",
    "\n",
    "#Finding the goodness of fit\n",
    "mse_ridge = mean_squared_error(y_test, y_pred_ridge)\n",
    "R_sq_ridge = r2_score(y_test, y_pred_ridge)\n",
    "print('Mean-squared Error =', mse_ridge)\n",
    "print('R-squared Value =', R_sq_ridge)"
   ]
  },
  {
   "cell_type": "markdown",
   "id": "b873130c",
   "metadata": {},
   "source": [
    "## Lasso Regression using sklearn"
   ]
  },
  {
   "cell_type": "code",
   "execution_count": 17,
   "id": "70a7295f",
   "metadata": {},
   "outputs": [
    {
     "name": "stdout",
     "output_type": "stream",
     "text": [
      "Mean-squared Error = 12.648379826779284\n",
      "R-squared Value = 0.8791615977946233\n"
     ]
    }
   ],
   "source": [
    "from sklearn.linear_model import Lasso\n",
    "lasso = Lasso(alpha = 0.2)\n",
    "#Training\n",
    "lasso.fit(x_train, y_train)\n",
    "#Predicting\n",
    "y_pred_lasso = lasso.predict(x_test)\n",
    "\n",
    "#Finding the goodness of fit\n",
    "mse_lasso = mean_squared_error(y_test, y_pred_lasso)\n",
    "R_sq_lasso = r2_score(y_test, y_pred_lasso)\n",
    "print('Mean-squared Error =', mse_lasso)\n",
    "print('R-squared Value =', R_sq_lasso)"
   ]
  },
  {
   "cell_type": "markdown",
   "id": "8ec7721f",
   "metadata": {},
   "source": [
    "  "
   ]
  },
  {
   "cell_type": "markdown",
   "id": "2ba0b27d",
   "metadata": {},
   "source": [
    "#### (iv) Evaluate the performance for each model on the test dataset using following metrics: R2 score, Mean Squared Error (MSE) and Root Mean Squared Error(RMSE). Compare the performance of the manual model and the sklearn model and plot the predicted vs actual values for both models."
   ]
  },
  {
   "cell_type": "code",
   "execution_count": 18,
   "id": "a27992de",
   "metadata": {},
   "outputs": [
    {
     "data": {
      "text/html": [
       "<div>\n",
       "<style scoped>\n",
       "    .dataframe tbody tr th:only-of-type {\n",
       "        vertical-align: middle;\n",
       "    }\n",
       "\n",
       "    .dataframe tbody tr th {\n",
       "        vertical-align: top;\n",
       "    }\n",
       "\n",
       "    .dataframe thead th {\n",
       "        text-align: right;\n",
       "    }\n",
       "</style>\n",
       "<table border=\"1\" class=\"dataframe\">\n",
       "  <thead>\n",
       "    <tr style=\"text-align: right;\">\n",
       "      <th></th>\n",
       "      <th>Scratch</th>\n",
       "      <th>sklearn</th>\n",
       "      <th>Ridge</th>\n",
       "      <th>Lasso</th>\n",
       "    </tr>\n",
       "    <tr>\n",
       "      <th>Metrics</th>\n",
       "      <th></th>\n",
       "      <th></th>\n",
       "      <th></th>\n",
       "      <th></th>\n",
       "    </tr>\n",
       "  </thead>\n",
       "  <tbody>\n",
       "    <tr>\n",
       "      <th>R2 Score</th>\n",
       "      <td>0.891083</td>\n",
       "      <td>0.895541</td>\n",
       "      <td>0.894733</td>\n",
       "      <td>0.879162</td>\n",
       "    </tr>\n",
       "    <tr>\n",
       "      <th>MSE</th>\n",
       "      <td>10.933873</td>\n",
       "      <td>10.933873</td>\n",
       "      <td>11.018525</td>\n",
       "      <td>11.018525</td>\n",
       "    </tr>\n",
       "    <tr>\n",
       "      <th>RMSE</th>\n",
       "      <td>3.306641</td>\n",
       "      <td>3.306641</td>\n",
       "      <td>3.319416</td>\n",
       "      <td>3.556456</td>\n",
       "    </tr>\n",
       "  </tbody>\n",
       "</table>\n",
       "</div>"
      ],
      "text/plain": [
       "            Scratch    sklearn      Ridge      Lasso\n",
       "Metrics                                             \n",
       "R2 Score   0.891083   0.895541   0.894733   0.879162\n",
       "MSE       10.933873  10.933873  11.018525  11.018525\n",
       "RMSE       3.306641   3.306641   3.319416   3.556456"
      ]
     },
     "execution_count": 18,
     "metadata": {},
     "output_type": "execute_result"
    }
   ],
   "source": [
    "# Metrics Comparison\n",
    "data = {\n",
    "    'Metrics' : ['R2 Score', 'MSE', 'RMSE'],\n",
    "    'Scratch' : [R_sq, mse, (mse)**0.5],\n",
    "    'sklearn' : [R_sq_linear, mse_linear, (mse_linear)**0.5],\n",
    "    'Ridge' : [R_sq_ridge, mse_ridge, (mse_ridge)**0.5],\n",
    "    'Lasso' : [R_sq_lasso, mse_ridge, (mse_lasso)**0.5]\n",
    "}\n",
    "data = pd.DataFrame(data)\n",
    "data = data.set_index('Metrics')\n",
    "data"
   ]
  },
  {
   "cell_type": "code",
   "execution_count": 19,
   "id": "a8439c5c",
   "metadata": {},
   "outputs": [
    {
     "data": {
      "text/plain": [
       "[<matplotlib.lines.Line2D at 0x14042413910>]"
      ]
     },
     "execution_count": 19,
     "metadata": {},
     "output_type": "execute_result"
    },
    {
     "data": {
      "image/png": "[encoded data removed]",
      "text/plain": [
       "<Figure size 1200x600 with 2 Axes>"
      ]
     },
     "metadata": {},
     "output_type": "display_data"
    }
   ],
   "source": [
    "plt.figure(figsize=(12, 6))\n",
    "\n",
    "# Manual Model\n",
    "plt.subplot(1,2,1)\n",
    "plt.scatter(y_test, predicted_y1, alpha = 0.4, marker = 'o')\n",
    "plt.title('Manual Model')\n",
    "plt.xlabel('Actual Values')\n",
    "plt.ylabel('Predicted Values')\n",
    "plt.plot([y_test.min(), y_test.max()], [y_test.min(), y_test.max()], 'k--', lw=0.8)\n",
    "\n",
    "\n",
    "# sklearn Model\n",
    "plt.subplot(1,2,2)\n",
    "plt.scatter(y_test, y_pred_linear, alpha = 0.4, marker = 'o', c='green')\n",
    "plt.title('sklearn Model')\n",
    "plt.xlabel('Actual Values')\n",
    "plt.ylabel('Predicted Values')\n",
    "plt.plot([y_test.min(), y_test.max()], [y_test.min(), y_test.max()], 'k--', lw=0.8)\n"
   ]
  },
  {
   "cell_type": "markdown",
   "id": "76e7e021",
   "metadata": {},
   "source": [
    "  "
   ]
  },
  {
   "cell_type": "markdown",
   "id": "b8108dab",
   "metadata": {},
   "source": [
    "#### (v) Propose energy efficiency improvement suggestions based on the insights from the model results, focusing on building design elements that most significantly impact heating load."
   ]
  },
  {
   "cell_type": "code",
   "execution_count": 20,
   "id": "28eb751c",
   "metadata": {},
   "outputs": [
    {
     "data": {
      "text/plain": [
       "X1    0.622272\n",
       "X2   -0.658120\n",
       "X3    0.455671\n",
       "X4   -0.861828\n",
       "X5    0.889431\n",
       "X6   -0.002587\n",
       "X7    0.269841\n",
       "X8    0.087368\n",
       "Y1    1.000000\n",
       "Y2    0.975862\n",
       "dtype: float64"
      ]
     },
     "execution_count": 20,
     "metadata": {},
     "output_type": "execute_result"
    }
   ],
   "source": [
    "correlation = df2.corrwith(df2['Y1'])\n",
    "correlation"
   ]
  },
  {
   "cell_type": "markdown",
   "id": "4b211171",
   "metadata": {},
   "source": [
    "~ Since X1, X5 has positive strong correlation with Y1.\n",
    "  So, By decreasing the Relative Compactness(X1) and Overall Height(X5) of the building results in decrease in the  heating load(Y1). Hence the energy efficiency increases."
   ]
  },
  {
   "cell_type": "markdown",
   "id": "0cb5dc15",
   "metadata": {},
   "source": [
    "~ Since X2, X4 has negative strong correlation with Y1.\n",
    "  So, By increasing the Surface Area(X2) and Overall Height(X4) of the building results in decrease in the heating load(Y1). Hence the energy efficiency increases."
   ]
  }
 ],
 "metadata": {
  "kernelspec": {
   "display_name": "Python 3 (ipykernel)",
   "language": "python",
   "name": "python3"
  },
  "language_info": {
   "codemirror_mode": {
    "name": "ipython",
    "version": 3
   },
   "file_extension": ".py",
   "mimetype": "text/x-python",
   "name": "python",
   "nbconvert_exporter": "python",
   "pygments_lexer": "ipython3",
   "version": "3.11.5"
  }
 },
 "nbformat": 4,
 "nbformat_minor": 5
}
